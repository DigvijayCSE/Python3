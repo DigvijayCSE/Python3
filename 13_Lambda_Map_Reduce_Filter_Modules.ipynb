{
 "cells": [
  {
   "cell_type": "markdown",
   "id": "35cbd35b",
   "metadata": {},
   "source": [
    "# Lambda \n",
    "\n",
    "- an anonymous function (A function without a name)"
   ]
  },
  {
   "cell_type": "code",
   "execution_count": null,
   "id": "6e498fee",
   "metadata": {},
   "outputs": [],
   "source": [
    "def function(parameters):\n",
    "    stat1\n",
    "    stat2\n",
    "    return stat3\n",
    "\n",
    "function(arguments)\n",
    "\n",
    "\n",
    "lambda parameters: expression\n",
    "\n",
    "lambda can accept n number of parameters but only 1 expression"
   ]
  },
  {
   "cell_type": "code",
   "execution_count": 1,
   "id": "c6201c16",
   "metadata": {},
   "outputs": [],
   "source": [
    "def adder(a,b):\n",
    "    c = a+b\n",
    "    return c"
   ]
  },
  {
   "cell_type": "code",
   "execution_count": 2,
   "id": "a36fb34b",
   "metadata": {},
   "outputs": [
    {
     "data": {
      "text/plain": [
       "30"
      ]
     },
     "execution_count": 2,
     "metadata": {},
     "output_type": "execute_result"
    }
   ],
   "source": [
    "adder(10 , 20)"
   ]
  },
  {
   "cell_type": "code",
   "execution_count": 3,
   "id": "18eafbd4",
   "metadata": {},
   "outputs": [
    {
     "data": {
      "text/plain": [
       "<function __main__.<lambda>(a, b)>"
      ]
     },
     "execution_count": 3,
     "metadata": {},
     "output_type": "execute_result"
    }
   ],
   "source": [
    "lambda a,b: a+b"
   ]
  },
  {
   "cell_type": "code",
   "execution_count": 4,
   "id": "316f05ae",
   "metadata": {},
   "outputs": [
    {
     "data": {
      "text/plain": [
       "30"
      ]
     },
     "execution_count": 4,
     "metadata": {},
     "output_type": "execute_result"
    }
   ],
   "source": [
    "# Syantax 1\n",
    "\n",
    "x = lambda a,b: a+b\n",
    "\n",
    "x(10,20)"
   ]
  },
  {
   "cell_type": "code",
   "execution_count": 5,
   "id": "22932420",
   "metadata": {},
   "outputs": [
    {
     "data": {
      "text/plain": [
       "30"
      ]
     },
     "execution_count": 5,
     "metadata": {},
     "output_type": "execute_result"
    }
   ],
   "source": [
    "# Syantax 2\n",
    "\n",
    "(lambda a,b: a+b)(10,20)"
   ]
  },
  {
   "cell_type": "code",
   "execution_count": 7,
   "id": "4f936f81",
   "metadata": {},
   "outputs": [
    {
     "data": {
      "text/plain": [
       "25.0"
      ]
     },
     "execution_count": 7,
     "metadata": {},
     "output_type": "execute_result"
    }
   ],
   "source": [
    "n = 50\n",
    "\n",
    "\n",
    "(lambda x: x/2)(n)"
   ]
  },
  {
   "cell_type": "code",
   "execution_count": 8,
   "id": "25088357",
   "metadata": {},
   "outputs": [
    {
     "data": {
      "text/plain": [
       "(30, -10)"
      ]
     },
     "execution_count": 8,
     "metadata": {},
     "output_type": "execute_result"
    }
   ],
   "source": [
    "def adder(a,b):\n",
    "    c = a+b\n",
    "    d = a-b\n",
    "    return c,d\n",
    "\n",
    "adder(10 , 20)"
   ]
  },
  {
   "cell_type": "code",
   "execution_count": 9,
   "id": "04a67545",
   "metadata": {},
   "outputs": [
    {
     "name": "stderr",
     "output_type": "stream",
     "text": [
      "<>:1: SyntaxWarning: 'tuple' object is not callable; perhaps you missed a comma?\n",
      "<>:1: SyntaxWarning: 'tuple' object is not callable; perhaps you missed a comma?\n",
      "C:\\Users\\Mohammed Israr\\AppData\\Local\\Temp\\ipykernel_13284\\282179602.py:1: SyntaxWarning: 'tuple' object is not callable; perhaps you missed a comma?\n",
      "  (lambda a,b: a+b , a-b)(10,20)\n",
      "C:\\Users\\Mohammed Israr\\AppData\\Local\\Temp\\ipykernel_13284\\282179602.py:1: SyntaxWarning: 'tuple' object is not callable; perhaps you missed a comma?\n",
      "  (lambda a,b: a+b , a-b)(10,20)\n",
      "C:\\Users\\Mohammed Israr\\AppData\\Local\\Temp\\ipykernel_13284\\282179602.py:1: SyntaxWarning: 'tuple' object is not callable; perhaps you missed a comma?\n",
      "  (lambda a,b: a+b , a-b)(10,20)\n",
      "C:\\Users\\Mohammed Israr\\AppData\\Local\\Temp\\ipykernel_13284\\282179602.py:1: SyntaxWarning: 'tuple' object is not callable; perhaps you missed a comma?\n",
      "  (lambda a,b: a+b , a-b)(10,20)\n",
      "C:\\Users\\Mohammed Israr\\AppData\\Local\\Temp\\ipykernel_13284\\282179602.py:1: SyntaxWarning: 'tuple' object is not callable; perhaps you missed a comma?\n",
      "  (lambda a,b: a+b , a-b)(10,20)\n",
      "C:\\Users\\Mohammed Israr\\AppData\\Local\\Temp\\ipykernel_13284\\282179602.py:1: SyntaxWarning: 'tuple' object is not callable; perhaps you missed a comma?\n",
      "  (lambda a,b: a+b , a-b)(10,20)\n",
      "C:\\Users\\Mohammed Israr\\AppData\\Local\\Temp\\ipykernel_13284\\282179602.py:1: SyntaxWarning: 'tuple' object is not callable; perhaps you missed a comma?\n",
      "  (lambda a,b: a+b , a-b)(10,20)\n"
     ]
    },
    {
     "ename": "NameError",
     "evalue": "name 'a' is not defined",
     "output_type": "error",
     "traceback": [
      "\u001b[1;31m---------------------------------------------------------------------------\u001b[0m",
      "\u001b[1;31mNameError\u001b[0m                                 Traceback (most recent call last)",
      "Cell \u001b[1;32mIn[9], line 1\u001b[0m\n\u001b[1;32m----> 1\u001b[0m (\u001b[38;5;28;01mlambda\u001b[39;00m a,b: a\u001b[38;5;241m+\u001b[39mb , a\u001b[38;5;241m-\u001b[39mb)(\u001b[38;5;241m10\u001b[39m,\u001b[38;5;241m20\u001b[39m)\n",
      "\u001b[1;31mNameError\u001b[0m: name 'a' is not defined"
     ]
    }
   ],
   "source": [
    "(lambda a,b: a+b , a-b)(10,20)"
   ]
  },
  {
   "cell_type": "code",
   "execution_count": 10,
   "id": "bb4a620b",
   "metadata": {},
   "outputs": [
    {
     "data": {
      "text/plain": [
       "'Not a palindrom'"
      ]
     },
     "execution_count": 10,
     "metadata": {},
     "output_type": "execute_result"
    }
   ],
   "source": [
    "def palindrom(x):\n",
    "    if x == x[::-1]:\n",
    "        return ('Palindrom')\n",
    "    else:\n",
    "        return ('Not a palindrom')\n",
    "    \n",
    "palindrom('python')"
   ]
  },
  {
   "cell_type": "code",
   "execution_count": 12,
   "id": "08b68fbf",
   "metadata": {},
   "outputs": [
    {
     "data": {
      "text/plain": [
       "'palindrom'"
      ]
     },
     "execution_count": 12,
     "metadata": {},
     "output_type": "execute_result"
    }
   ],
   "source": [
    "(lambda x : 'palindrom' if  x == x[::-1] else 'not a palindrom')('level')"
   ]
  },
  {
   "cell_type": "code",
   "execution_count": 13,
   "id": "3c34e792",
   "metadata": {},
   "outputs": [
    {
     "data": {
      "text/plain": [
       "'not a palindrom'"
      ]
     },
     "execution_count": 13,
     "metadata": {},
     "output_type": "execute_result"
    }
   ],
   "source": [
    "(lambda x : 'palindrom' if  x == x[::-1] else 'not a palindrom')('python')"
   ]
  },
  {
   "cell_type": "code",
   "execution_count": 15,
   "id": "dcc39ad7",
   "metadata": {},
   "outputs": [
    {
     "data": {
      "text/plain": [
       "'odd'"
      ]
     },
     "execution_count": 15,
     "metadata": {},
     "output_type": "execute_result"
    }
   ],
   "source": [
    "n = 35\n",
    "\n",
    "(lambda x : 'even' if x%2==0 else 'odd')(n)"
   ]
  },
  {
   "cell_type": "code",
   "execution_count": 16,
   "id": "a93d9ecd",
   "metadata": {},
   "outputs": [
    {
     "data": {
      "text/plain": [
       "91.4"
      ]
     },
     "execution_count": 16,
     "metadata": {},
     "output_type": "execute_result"
    }
   ],
   "source": [
    "t = 33\n",
    "\n",
    "# ((9/5)* T) +32\n",
    "\n",
    "(lambda T: ((9/5)* T) +32)(t)"
   ]
  },
  {
   "cell_type": "code",
   "execution_count": null,
   "id": "cd92293e",
   "metadata": {},
   "outputs": [],
   "source": [
    "temp_cel = [32,29,33,36,40]"
   ]
  },
  {
   "cell_type": "markdown",
   "id": "37004892",
   "metadata": {},
   "source": [
    "# Map\n",
    "\n",
    "1. function\n",
    "\n",
    "2. seq"
   ]
  },
  {
   "cell_type": "code",
   "execution_count": 18,
   "id": "bbde2db6",
   "metadata": {},
   "outputs": [
    {
     "data": {
      "text/plain": [
       "[89.6, 84.2, 91.4, 96.8, 104.0]"
      ]
     },
     "execution_count": 18,
     "metadata": {},
     "output_type": "execute_result"
    }
   ],
   "source": [
    "temp_cel = [32,29,33,36,40]\n",
    "\n",
    "\n",
    "list(map((lambda T: ((9/5)* T) +32) , temp_cel))"
   ]
  },
  {
   "cell_type": "code",
   "execution_count": 20,
   "id": "84f6150a",
   "metadata": {},
   "outputs": [
    {
     "data": {
      "text/plain": [
       "'Palindrom'"
      ]
     },
     "execution_count": 20,
     "metadata": {},
     "output_type": "execute_result"
    }
   ],
   "source": [
    "def palindrom(x):\n",
    "    if x == x[::-1]:\n",
    "        return ('Palindrom')\n",
    "    else:\n",
    "        return ('Not a palindrom')\n",
    "    \n",
    "palindrom('level')"
   ]
  },
  {
   "cell_type": "code",
   "execution_count": 21,
   "id": "15a6cf58",
   "metadata": {},
   "outputs": [],
   "source": [
    "lst = ['level' , 'rotor' , 'hello' , 'madam']"
   ]
  },
  {
   "cell_type": "code",
   "execution_count": 22,
   "id": "1a8bd6ba",
   "metadata": {},
   "outputs": [
    {
     "data": {
      "text/plain": [
       "['Palindrom', 'Palindrom', 'Not a palindrom', 'Palindrom']"
      ]
     },
     "execution_count": 22,
     "metadata": {},
     "output_type": "execute_result"
    }
   ],
   "source": [
    "list(map(palindrom , lst))"
   ]
  },
  {
   "cell_type": "code",
   "execution_count": 24,
   "id": "3d3d2b19",
   "metadata": {},
   "outputs": [
    {
     "data": {
      "text/plain": [
       "['akzelxw',\n",
       " 'elum',\n",
       " 'akbar.caakaterasu',\n",
       " 'akarui.kibuno',\n",
       " 'ajsparkchick',\n",
       " 'ajmeia',\n",
       " 'ajhnstn87',\n",
       " 'ailuvzhoko4',\n",
       " 'ailuvzhoko3',\n",
       " 'ailuvzhoko2',\n",
       " 'ailuvzhoko',\n",
       " 'aillensiquioco',\n",
       " 'ahmovic_ines',\n",
       " 'ahmed_g300',\n",
       " 'ahmadjazlan',\n",
       " 'ahmad_ridho19']"
      ]
     },
     "execution_count": 24,
     "metadata": {},
     "output_type": "execute_result"
    }
   ],
   "source": [
    "lst = ['akzelxw@hotmail.com',\n",
    "'elum@gmail.com',\n",
    "'akbar.caakaterasu@gmail.com',\n",
    "'akarui.kibuno@gmail.com',\n",
    "'ajsparkchick@hotmail.com',\n",
    "'ajmeia@yahoo.com',\n",
    "'ajhnstn87@gmail.com',\n",
    "'ailuvzhoko4@hotmail.com',\n",
    "'ailuvzhoko3@hotmail.com',\n",
    "'ailuvzhoko2@hotmail.com',\n",
    "'ailuvzhoko@hotmail.com',\n",
    "'aillensiquioco@aol.com',\n",
    "'ahmovic_ines@hotmail.com',\n",
    "'ahmed_g300@yahoo.com',\n",
    "'ahmadjazlan@gmail.com',\n",
    "'ahmad_ridho19@yahoo.com']\n",
    "\n",
    "# Extract all the usernames\n",
    "\n",
    "list(map((lambda x: x.split('@')[0]) , lst))"
   ]
  },
  {
   "cell_type": "code",
   "execution_count": 26,
   "id": "b12460e2",
   "metadata": {},
   "outputs": [],
   "source": [
    "def function(x):\n",
    "    return x.split('@')[0]"
   ]
  },
  {
   "cell_type": "code",
   "execution_count": 27,
   "id": "bf6011c2",
   "metadata": {},
   "outputs": [
    {
     "data": {
      "text/plain": [
       "'xyz'"
      ]
     },
     "execution_count": 27,
     "metadata": {},
     "output_type": "execute_result"
    }
   ],
   "source": [
    "function('xyz@gmail.com')"
   ]
  },
  {
   "cell_type": "code",
   "execution_count": 28,
   "id": "343dcfa2",
   "metadata": {},
   "outputs": [
    {
     "data": {
      "text/plain": [
       "['akzelxw',\n",
       " 'elum',\n",
       " 'akbar.caakaterasu',\n",
       " 'akarui.kibuno',\n",
       " 'ajsparkchick',\n",
       " 'ajmeia',\n",
       " 'ajhnstn87',\n",
       " 'ailuvzhoko4',\n",
       " 'ailuvzhoko3',\n",
       " 'ailuvzhoko2',\n",
       " 'ailuvzhoko',\n",
       " 'aillensiquioco',\n",
       " 'ahmovic_ines',\n",
       " 'ahmed_g300',\n",
       " 'ahmadjazlan',\n",
       " 'ahmad_ridho19']"
      ]
     },
     "execution_count": 28,
     "metadata": {},
     "output_type": "execute_result"
    }
   ],
   "source": [
    "list(map(function , lst))"
   ]
  },
  {
   "cell_type": "code",
   "execution_count": 39,
   "id": "5b6be6cc",
   "metadata": {},
   "outputs": [
    {
     "data": {
      "text/plain": [
       "[6, 14, 24, 36, 50]"
      ]
     },
     "execution_count": 39,
     "metadata": {},
     "output_type": "execute_result"
    }
   ],
   "source": [
    "a = [1,2,3,4,5]\n",
    "b = [6,7,8,9,10]\n",
    "\n",
    "list(map((lambda x,y:x*y) , a,b))"
   ]
  },
  {
   "cell_type": "code",
   "execution_count": 47,
   "id": "1d856540",
   "metadata": {},
   "outputs": [
    {
     "data": {
      "text/html": [
       "<div>\n",
       "<style scoped>\n",
       "    .dataframe tbody tr th:only-of-type {\n",
       "        vertical-align: middle;\n",
       "    }\n",
       "\n",
       "    .dataframe tbody tr th {\n",
       "        vertical-align: top;\n",
       "    }\n",
       "\n",
       "    .dataframe thead th {\n",
       "        text-align: right;\n",
       "    }\n",
       "</style>\n",
       "<table border=\"1\" class=\"dataframe\">\n",
       "  <thead>\n",
       "    <tr style=\"text-align: right;\">\n",
       "      <th></th>\n",
       "      <th>day</th>\n",
       "      <th>temperature</th>\n",
       "      <th>windspeed</th>\n",
       "      <th>event</th>\n",
       "    </tr>\n",
       "  </thead>\n",
       "  <tbody>\n",
       "    <tr>\n",
       "      <th>0</th>\n",
       "      <td>1/1/2017</td>\n",
       "      <td>32</td>\n",
       "      <td>35</td>\n",
       "      <td>Rain</td>\n",
       "    </tr>\n",
       "    <tr>\n",
       "      <th>1</th>\n",
       "      <td>1/2/2017</td>\n",
       "      <td>35</td>\n",
       "      <td>99</td>\n",
       "      <td>Sunny</td>\n",
       "    </tr>\n",
       "    <tr>\n",
       "      <th>2</th>\n",
       "      <td>1/3/2017</td>\n",
       "      <td>28</td>\n",
       "      <td>19</td>\n",
       "      <td>Snow</td>\n",
       "    </tr>\n",
       "    <tr>\n",
       "      <th>3</th>\n",
       "      <td>1/4/2017</td>\n",
       "      <td>24</td>\n",
       "      <td>7</td>\n",
       "      <td>Snow</td>\n",
       "    </tr>\n",
       "    <tr>\n",
       "      <th>4</th>\n",
       "      <td>1/5/2017</td>\n",
       "      <td>32</td>\n",
       "      <td>44</td>\n",
       "      <td>Rain</td>\n",
       "    </tr>\n",
       "    <tr>\n",
       "      <th>5</th>\n",
       "      <td>1/6/2017</td>\n",
       "      <td>31</td>\n",
       "      <td>68</td>\n",
       "      <td>Sunny</td>\n",
       "    </tr>\n",
       "  </tbody>\n",
       "</table>\n",
       "</div>"
      ],
      "text/plain": [
       "        day  temperature  windspeed  event\n",
       "0  1/1/2017           32         35   Rain\n",
       "1  1/2/2017           35         99  Sunny\n",
       "2  1/3/2017           28         19   Snow\n",
       "3  1/4/2017           24          7   Snow\n",
       "4  1/5/2017           32         44   Rain\n",
       "5  1/6/2017           31         68  Sunny"
      ]
     },
     "execution_count": 47,
     "metadata": {},
     "output_type": "execute_result"
    }
   ],
   "source": [
    "import pandas as pd\n",
    "\n",
    "\n",
    "df = pd.DataFrame({'day': {0: '1/1/2017',\n",
    "  1: '1/2/2017',\n",
    "  2: '1/3/2017',\n",
    "  3: '1/4/2017',\n",
    "  4: '1/5/2017',\n",
    "  5: '1/6/2017'},\n",
    " 'temperature': {0: 32, 1: 35, 2: 28, 3: 24, 4: 32, 5: 31},\n",
    " 'windspeed': {0: 35, 1: 99, 2: 19, 3: 7, 4: 44, 5: 68},\n",
    " 'event': {0: 'Rain', 1: 'Sunny', 2: 'Snow', 3: 'Snow', 4: 'Rain', 5: 'Sunny'}})\n",
    "\n",
    "df"
   ]
  },
  {
   "cell_type": "code",
   "execution_count": 46,
   "id": "7b1798a6",
   "metadata": {},
   "outputs": [
    {
     "data": {
      "text/plain": [
       "[1, 2, 3, 4, 5, 6]"
      ]
     },
     "execution_count": 46,
     "metadata": {},
     "output_type": "execute_result"
    }
   ],
   "source": [
    "# M/D/YYYY\n",
    "\n",
    "list(map((lambda x: int(x.split('/')[1])) , df['day']))"
   ]
  },
  {
   "cell_type": "code",
   "execution_count": 48,
   "id": "4a10c97c",
   "metadata": {},
   "outputs": [
    {
     "data": {
      "text/plain": [
       "['R', 'S', 'S', 'S', 'R', 'S']"
      ]
     },
     "execution_count": 48,
     "metadata": {},
     "output_type": "execute_result"
    }
   ],
   "source": [
    "list(map((lambda x: x[0]) , df['event']))"
   ]
  },
  {
   "cell_type": "code",
   "execution_count": 49,
   "id": "0be47f26",
   "metadata": {},
   "outputs": [
    {
     "data": {
      "text/plain": [
       "[35, 99, 28, 24, 44, 68]"
      ]
     },
     "execution_count": 49,
     "metadata": {},
     "output_type": "execute_result"
    }
   ],
   "source": [
    "list(map((lambda x,y : x if x>y else y) , df['temperature'] , df['windspeed']))"
   ]
  },
  {
   "cell_type": "markdown",
   "id": "b8757dfb",
   "metadata": {},
   "source": [
    "# Filter\n",
    "\n",
    "1. function\n",
    "2. seq\n",
    "\n",
    "A function should be prepared in such a manner that it returns bool"
   ]
  },
  {
   "cell_type": "code",
   "execution_count": 54,
   "id": "0edd4e63",
   "metadata": {},
   "outputs": [
    {
     "data": {
      "text/plain": [
       "[34, 4, 54, 56, 324, 34, 56]"
      ]
     },
     "execution_count": 54,
     "metadata": {},
     "output_type": "execute_result"
    }
   ],
   "source": [
    "lst = [3,34,5,4,23,54,56,67,867,324,34,45,56]\n",
    "\n",
    "list(filter((lambda x: x %2==0) , lst))"
   ]
  },
  {
   "cell_type": "code",
   "execution_count": 56,
   "id": "270ff4d1",
   "metadata": {},
   "outputs": [],
   "source": [
    "lst = ['akzelxw@hotmail.com',\n",
    "'elum@gmail.com',\n",
    "'akbar.caakaterasu@gmail.com',\n",
    "'akarui.kibuno@gmail.com',\n",
    "'ajsparkchick@hotmail.com',\n",
    "'ajmeia@yahoo.com',\n",
    "'ajhnstn87@gmail.com',\n",
    "'ailuvzhoko4@hotmail.com',\n",
    "'ailuvzhoko3@hotmail.com',\n",
    "'ailuvzhoko2@hotmail.com',\n",
    "'ailuvzhoko@hotmail.com',\n",
    "'aillensiquioco@aol.com',\n",
    "'ahmovic_ines@hotmail.com',\n",
    "'ahmed_g300@yahoo.com',\n",
    "'ahmadjazlan@gmail.com',\n",
    "'ahmad_ridho19@yahoo.com']\n"
   ]
  },
  {
   "cell_type": "code",
   "execution_count": 57,
   "id": "7f835a50",
   "metadata": {},
   "outputs": [
    {
     "data": {
      "text/plain": [
       "['elum@gmail.com',\n",
       " 'akbar.caakaterasu@gmail.com',\n",
       " 'akarui.kibuno@gmail.com',\n",
       " 'ajhnstn87@gmail.com',\n",
       " 'ahmadjazlan@gmail.com']"
      ]
     },
     "execution_count": 57,
     "metadata": {},
     "output_type": "execute_result"
    }
   ],
   "source": [
    "list(filter(lambda x: x.endswith('gmail.com'), lst))"
   ]
  },
  {
   "cell_type": "code",
   "execution_count": 58,
   "id": "fff4ec0a",
   "metadata": {},
   "outputs": [
    {
     "data": {
      "text/plain": [
       "['elum@gmail.com',\n",
       " 'akbar.caakaterasu@gmail.com',\n",
       " 'akarui.kibuno@gmail.com',\n",
       " 'ajhnstn87@gmail.com',\n",
       " 'ahmadjazlan@gmail.com']"
      ]
     },
     "execution_count": 58,
     "metadata": {},
     "output_type": "execute_result"
    }
   ],
   "source": [
    "list(filter((lambda x: x.find('gmail') != -1),lst))"
   ]
  },
  {
   "cell_type": "code",
   "execution_count": 59,
   "id": "191dfb66",
   "metadata": {},
   "outputs": [
    {
     "data": {
      "text/plain": [
       "['elum@gmail.com',\n",
       " 'akbar.caakaterasu@gmail.com',\n",
       " 'akarui.kibuno@gmail.com',\n",
       " 'ajhnstn87@gmail.com',\n",
       " 'ahmadjazlan@gmail.com']"
      ]
     },
     "execution_count": 59,
     "metadata": {},
     "output_type": "execute_result"
    }
   ],
   "source": [
    "list(filter(lambda x:  x.split('@')[1]=='gmail.com' ,lst))"
   ]
  },
  {
   "cell_type": "code",
   "execution_count": 60,
   "id": "6cd8b746",
   "metadata": {},
   "outputs": [
    {
     "data": {
      "text/plain": [
       "['elum@gmail.com',\n",
       " 'akbar.caakaterasu@gmail.com',\n",
       " 'akarui.kibuno@gmail.com',\n",
       " 'ajhnstn87@gmail.com',\n",
       " 'ahmadjazlan@gmail.com']"
      ]
     },
     "execution_count": 60,
     "metadata": {},
     "output_type": "execute_result"
    }
   ],
   "source": [
    "list(filter(lambda mail : 'gmail' in mail, lst))"
   ]
  },
  {
   "cell_type": "markdown",
   "id": "908f4559",
   "metadata": {},
   "source": [
    "# Reduce\n",
    "\n",
    "1. function\n",
    "2. seq"
   ]
  },
  {
   "cell_type": "code",
   "execution_count": 61,
   "id": "55d8655d",
   "metadata": {},
   "outputs": [
    {
     "data": {
      "text/plain": [
       "20"
      ]
     },
     "execution_count": 61,
     "metadata": {},
     "output_type": "execute_result"
    }
   ],
   "source": [
    "a = [2,3,4,5,6]\n",
    "\n",
    "sum(a)"
   ]
  },
  {
   "cell_type": "code",
   "execution_count": 62,
   "id": "d48d212d",
   "metadata": {},
   "outputs": [
    {
     "data": {
      "text/plain": [
       "2"
      ]
     },
     "execution_count": 62,
     "metadata": {},
     "output_type": "execute_result"
    }
   ],
   "source": [
    "min(a)"
   ]
  },
  {
   "cell_type": "code",
   "execution_count": 63,
   "id": "55fb3c99",
   "metadata": {},
   "outputs": [
    {
     "data": {
      "text/plain": [
       "6"
      ]
     },
     "execution_count": 63,
     "metadata": {},
     "output_type": "execute_result"
    }
   ],
   "source": [
    "max(a)"
   ]
  },
  {
   "cell_type": "code",
   "execution_count": 64,
   "id": "06947721",
   "metadata": {},
   "outputs": [],
   "source": [
    "from functools import reduce"
   ]
  },
  {
   "cell_type": "code",
   "execution_count": 65,
   "id": "9fe1d3eb",
   "metadata": {},
   "outputs": [
    {
     "data": {
      "text/plain": [
       "20"
      ]
     },
     "execution_count": 65,
     "metadata": {},
     "output_type": "execute_result"
    }
   ],
   "source": [
    "a = [2,3,4,5,6]\n",
    "\n",
    "sum(a)"
   ]
  },
  {
   "cell_type": "code",
   "execution_count": 66,
   "id": "926b6782",
   "metadata": {},
   "outputs": [
    {
     "data": {
      "text/plain": [
       "20"
      ]
     },
     "execution_count": 66,
     "metadata": {},
     "output_type": "execute_result"
    }
   ],
   "source": [
    "reduce((lambda x,y: x+y) , a)"
   ]
  },
  {
   "cell_type": "code",
   "execution_count": 67,
   "id": "9b2d4806",
   "metadata": {},
   "outputs": [
    {
     "data": {
      "text/plain": [
       "720"
      ]
     },
     "execution_count": 67,
     "metadata": {},
     "output_type": "execute_result"
    }
   ],
   "source": [
    "reduce((lambda x,y: x*y) , a)"
   ]
  },
  {
   "cell_type": "code",
   "execution_count": 68,
   "id": "e61235a4",
   "metadata": {},
   "outputs": [
    {
     "data": {
      "text/plain": [
       "0"
      ]
     },
     "execution_count": 68,
     "metadata": {},
     "output_type": "execute_result"
    }
   ],
   "source": [
    "a = [2,3,1,5,6,0]\n",
    "\n",
    "min(a)"
   ]
  },
  {
   "cell_type": "code",
   "execution_count": 69,
   "id": "8f59ee97",
   "metadata": {},
   "outputs": [
    {
     "data": {
      "text/plain": [
       "0"
      ]
     },
     "execution_count": 69,
     "metadata": {},
     "output_type": "execute_result"
    }
   ],
   "source": [
    "reduce((lambda x,y: x if x<y else y) , a)"
   ]
  },
  {
   "cell_type": "code",
   "execution_count": 70,
   "id": "c912a992",
   "metadata": {},
   "outputs": [
    {
     "data": {
      "text/plain": [
       "6"
      ]
     },
     "execution_count": 70,
     "metadata": {},
     "output_type": "execute_result"
    }
   ],
   "source": [
    "reduce((lambda x,y: x if x>y else y) , a)"
   ]
  },
  {
   "cell_type": "markdown",
   "id": "a5c78b1a",
   "metadata": {},
   "source": [
    "# Modules\n",
    "\n",
    "\n",
    "AMZN\n",
    "\n",
    "payment\n",
    "\n",
    "COD\n",
    "debit\n",
    "credit\n",
    "UPI"
   ]
  },
  {
   "cell_type": "markdown",
   "id": "8db2c320",
   "metadata": {},
   "source": [
    "# Different methods to import a module"
   ]
  },
  {
   "cell_type": "code",
   "execution_count": 1,
   "id": "9e5cd5f1",
   "metadata": {},
   "outputs": [
    {
     "name": "stdout",
     "output_type": "stream",
     "text": [
      "['In', 'Out', '_', '__', '___', '__builtin__', '__builtins__', '__doc__', '__loader__', '__name__', '__package__', '__spec__', '_dh', '_i', '_i1', '_ih', '_ii', '_iii', '_oh', 'exit', 'get_ipython', 'open', 'quit']\n",
      "\n",
      "\n",
      "['In', 'Out', '_', '__', '___', '__builtin__', '__builtins__', '__doc__', '__loader__', '__name__', '__package__', '__spec__', '_dh', '_i', '_i1', '_ih', '_ii', '_iii', '_oh', 'exit', 'get_ipython', 'math', 'open', 'quit']\n"
     ]
    }
   ],
   "source": [
    "# 1st method\n",
    "\n",
    "print(dir() , end = '\\n\\n\\n')\n",
    "\n",
    "import math\n",
    "\n",
    "print(dir())"
   ]
  },
  {
   "cell_type": "code",
   "execution_count": 2,
   "id": "17430d8e",
   "metadata": {},
   "outputs": [
    {
     "name": "stdout",
     "output_type": "stream",
     "text": [
      "['__doc__', '__loader__', '__name__', '__package__', '__spec__', 'acos', 'acosh', 'asin', 'asinh', 'atan', 'atan2', 'atanh', 'cbrt', 'ceil', 'comb', 'copysign', 'cos', 'cosh', 'degrees', 'dist', 'e', 'erf', 'erfc', 'exp', 'exp2', 'expm1', 'fabs', 'factorial', 'floor', 'fmod', 'frexp', 'fsum', 'gamma', 'gcd', 'hypot', 'inf', 'isclose', 'isfinite', 'isinf', 'isnan', 'isqrt', 'lcm', 'ldexp', 'lgamma', 'log', 'log10', 'log1p', 'log2', 'modf', 'nan', 'nextafter', 'perm', 'pi', 'pow', 'prod', 'radians', 'remainder', 'sin', 'sinh', 'sqrt', 'tan', 'tanh', 'tau', 'trunc', 'ulp']\n"
     ]
    }
   ],
   "source": [
    "print(dir(math))"
   ]
  },
  {
   "cell_type": "code",
   "execution_count": 3,
   "id": "028ed627",
   "metadata": {},
   "outputs": [
    {
     "data": {
      "text/plain": [
       "3.0"
      ]
     },
     "execution_count": 3,
     "metadata": {},
     "output_type": "execute_result"
    }
   ],
   "source": [
    "math.sqrt(9)"
   ]
  },
  {
   "cell_type": "code",
   "execution_count": 4,
   "id": "cd3513e6",
   "metadata": {},
   "outputs": [
    {
     "ename": "NameError",
     "evalue": "name 'sqrt' is not defined",
     "output_type": "error",
     "traceback": [
      "\u001b[1;31m---------------------------------------------------------------------------\u001b[0m",
      "\u001b[1;31mNameError\u001b[0m                                 Traceback (most recent call last)",
      "Cell \u001b[1;32mIn[4], line 1\u001b[0m\n\u001b[1;32m----> 1\u001b[0m sqrt(\u001b[38;5;241m9\u001b[39m)\n",
      "\u001b[1;31mNameError\u001b[0m: name 'sqrt' is not defined"
     ]
    }
   ],
   "source": [
    "sqrt(9)"
   ]
  },
  {
   "cell_type": "code",
   "execution_count": 1,
   "id": "67ff6cef",
   "metadata": {},
   "outputs": [
    {
     "name": "stdout",
     "output_type": "stream",
     "text": [
      "['In', 'Out', '_', '__', '___', '__builtin__', '__builtins__', '__doc__', '__loader__', '__name__', '__package__', '__spec__', '_dh', '_i', '_i1', '_ih', '_ii', '_iii', '_oh', 'exit', 'get_ipython', 'open', 'quit']\n",
      "\n",
      "\n",
      "['In', 'Out', '_', '__', '___', '__builtin__', '__builtins__', '__doc__', '__loader__', '__name__', '__package__', '__spec__', '_dh', '_i', '_i1', '_ih', '_ii', '_iii', '_oh', 'acos', 'acosh', 'asin', 'asinh', 'atan', 'atan2', 'atanh', 'cbrt', 'ceil', 'comb', 'copysign', 'cos', 'cosh', 'degrees', 'dist', 'e', 'erf', 'erfc', 'exit', 'exp', 'exp2', 'expm1', 'fabs', 'factorial', 'floor', 'fmod', 'frexp', 'fsum', 'gamma', 'gcd', 'get_ipython', 'hypot', 'inf', 'isclose', 'isfinite', 'isinf', 'isnan', 'isqrt', 'lcm', 'ldexp', 'lgamma', 'log', 'log10', 'log1p', 'log2', 'modf', 'nan', 'nextafter', 'open', 'perm', 'pi', 'pow', 'prod', 'quit', 'radians', 'remainder', 'sin', 'sinh', 'sqrt', 'tan', 'tanh', 'tau', 'trunc', 'ulp']\n"
     ]
    }
   ],
   "source": [
    "# 2nd method\n",
    "\n",
    "print(dir() , end = '\\n\\n\\n')\n",
    "\n",
    "from math import *\n",
    "\n",
    "print(dir())"
   ]
  },
  {
   "cell_type": "code",
   "execution_count": 2,
   "id": "cd0ac7f2",
   "metadata": {},
   "outputs": [
    {
     "ename": "NameError",
     "evalue": "name 'math' is not defined",
     "output_type": "error",
     "traceback": [
      "\u001b[1;31m---------------------------------------------------------------------------\u001b[0m",
      "\u001b[1;31mNameError\u001b[0m                                 Traceback (most recent call last)",
      "Cell \u001b[1;32mIn[2], line 1\u001b[0m\n\u001b[1;32m----> 1\u001b[0m math\u001b[38;5;241m.\u001b[39msqrt(\u001b[38;5;241m9\u001b[39m)\n",
      "\u001b[1;31mNameError\u001b[0m: name 'math' is not defined"
     ]
    }
   ],
   "source": [
    "math.sqrt(9)"
   ]
  },
  {
   "cell_type": "code",
   "execution_count": 3,
   "id": "b3019fed",
   "metadata": {},
   "outputs": [
    {
     "data": {
      "text/plain": [
       "3.0"
      ]
     },
     "execution_count": 3,
     "metadata": {},
     "output_type": "execute_result"
    }
   ],
   "source": [
    "sqrt(9)"
   ]
  },
  {
   "cell_type": "code",
   "execution_count": 1,
   "id": "994228fa",
   "metadata": {},
   "outputs": [
    {
     "name": "stdout",
     "output_type": "stream",
     "text": [
      "['In', 'Out', '_', '__', '___', '__builtin__', '__builtins__', '__doc__', '__loader__', '__name__', '__package__', '__spec__', '_dh', '_i', '_i1', '_ih', '_ii', '_iii', '_oh', 'exit', 'get_ipython', 'open', 'quit']\n",
      "\n",
      "\n",
      "['In', 'Out', '_', '__', '___', '__builtin__', '__builtins__', '__doc__', '__loader__', '__name__', '__package__', '__spec__', '_dh', '_i', '_i1', '_ih', '_ii', '_iii', '_oh', 'exit', 'get_ipython', 'open', 'quit', 'sqrt']\n"
     ]
    }
   ],
   "source": [
    "# 3rd method\n",
    "\n",
    "print(dir() , end = '\\n\\n\\n')\n",
    "\n",
    "from math import sqrt\n",
    "\n",
    "print(dir())"
   ]
  },
  {
   "cell_type": "code",
   "execution_count": 2,
   "id": "c76b6925",
   "metadata": {},
   "outputs": [
    {
     "data": {
      "text/plain": [
       "3.0"
      ]
     },
     "execution_count": 2,
     "metadata": {},
     "output_type": "execute_result"
    }
   ],
   "source": [
    "sqrt(9)"
   ]
  },
  {
   "cell_type": "code",
   "execution_count": 1,
   "id": "35994b4e",
   "metadata": {},
   "outputs": [
    {
     "name": "stdout",
     "output_type": "stream",
     "text": [
      "['In', 'Out', '_', '__', '___', '__builtin__', '__builtins__', '__doc__', '__loader__', '__name__', '__package__', '__spec__', '_dh', '_i', '_i1', '_ih', '_ii', '_iii', '_oh', 'exit', 'get_ipython', 'open', 'quit']\n",
      "\n",
      "\n",
      "['In', 'Out', '_', '__', '___', '__builtin__', '__builtins__', '__doc__', '__loader__', '__name__', '__package__', '__spec__', '_dh', '_i', '_i1', '_ih', '_ii', '_iii', '_oh', 'exit', 'get_ipython', 'open', 'quit', 'sin', 'sqrt', 'tan']\n"
     ]
    }
   ],
   "source": [
    "\n",
    "print(dir() , end = '\\n\\n\\n')\n",
    "\n",
    "from math import sqrt,sin,tan\n",
    "\n",
    "print(dir())"
   ]
  },
  {
   "cell_type": "code",
   "execution_count": 1,
   "id": "2e287baf",
   "metadata": {},
   "outputs": [
    {
     "name": "stdout",
     "output_type": "stream",
     "text": [
      "['In', 'Out', '_', '__', '___', '__builtin__', '__builtins__', '__doc__', '__loader__', '__name__', '__package__', '__spec__', '_dh', '_i', '_i1', '_ih', '_ii', '_iii', '_oh', 'exit', 'get_ipython', 'open', 'quit']\n",
      "\n",
      "\n",
      "['In', 'Out', '_', '__', '___', '__builtin__', '__builtins__', '__doc__', '__loader__', '__name__', '__package__', '__spec__', '_dh', '_i', '_i1', '_ih', '_ii', '_iii', '_oh', 'exit', 'get_ipython', 'mt', 'open', 'quit']\n"
     ]
    }
   ],
   "source": [
    "# 4th method alias\n",
    "\n",
    "\n",
    "print(dir() , end = '\\n\\n\\n')\n",
    "\n",
    "import math as mt\n",
    "\n",
    "print(dir())"
   ]
  },
  {
   "cell_type": "code",
   "execution_count": 3,
   "id": "97595506",
   "metadata": {},
   "outputs": [
    {
     "ename": "NameError",
     "evalue": "name 'math' is not defined",
     "output_type": "error",
     "traceback": [
      "\u001b[1;31m---------------------------------------------------------------------------\u001b[0m",
      "\u001b[1;31mNameError\u001b[0m                                 Traceback (most recent call last)",
      "Cell \u001b[1;32mIn[3], line 1\u001b[0m\n\u001b[1;32m----> 1\u001b[0m math\u001b[38;5;241m.\u001b[39msqrt(\u001b[38;5;241m9\u001b[39m)\n",
      "\u001b[1;31mNameError\u001b[0m: name 'math' is not defined"
     ]
    }
   ],
   "source": [
    "math.sqrt(9)"
   ]
  },
  {
   "cell_type": "code",
   "execution_count": 4,
   "id": "59daacc4",
   "metadata": {},
   "outputs": [
    {
     "data": {
      "text/plain": [
       "3.0"
      ]
     },
     "execution_count": 4,
     "metadata": {},
     "output_type": "execute_result"
    }
   ],
   "source": [
    "mt.sqrt(9)"
   ]
  },
  {
   "cell_type": "markdown",
   "id": "dea11e80",
   "metadata": {},
   "source": [
    "# Create an user defined module"
   ]
  },
  {
   "cell_type": "code",
   "execution_count": 1,
   "id": "2779c074",
   "metadata": {},
   "outputs": [
    {
     "name": "stdout",
     "output_type": "stream",
     "text": [
      "['In', 'Out', '_', '__', '___', '__builtin__', '__builtins__', '__doc__', '__loader__', '__name__', '__package__', '__spec__', '_dh', '_i', '_i1', '_ih', '_ii', '_iii', '_oh', 'exit', 'get_ipython', 'open', 'quit']\n",
      "\n",
      "\n",
      "['In', 'Out', '_', '__', '___', '__builtin__', '__builtins__', '__doc__', '__loader__', '__name__', '__package__', '__spec__', '_dh', '_i', '_i1', '_ih', '_ii', '_iii', '_oh', 'ccm', 'exit', 'get_ipython', 'open', 'quit']\n"
     ]
    }
   ],
   "source": [
    "\n",
    "print(dir() , end = '\\n\\n\\n')\n",
    "\n",
    "import cred_card_module as ccm\n",
    "\n",
    "print(dir())"
   ]
  },
  {
   "cell_type": "code",
   "execution_count": 2,
   "id": "3a7a734c",
   "metadata": {},
   "outputs": [
    {
     "name": "stdout",
     "output_type": "stream",
     "text": [
      "['__builtins__', '__cached__', '__doc__', '__file__', '__loader__', '__name__', '__package__', '__spec__', 'adder', 'palindrom']\n"
     ]
    }
   ],
   "source": [
    "print(dir(ccm))"
   ]
  },
  {
   "cell_type": "code",
   "execution_count": 3,
   "id": "b85c6fe2",
   "metadata": {},
   "outputs": [
    {
     "data": {
      "text/plain": [
       "'Palindrom'"
      ]
     },
     "execution_count": 3,
     "metadata": {},
     "output_type": "execute_result"
    }
   ],
   "source": [
    "ccm.palindrom('level')"
   ]
  },
  {
   "cell_type": "code",
   "execution_count": 4,
   "id": "c7d1a86f",
   "metadata": {},
   "outputs": [
    {
     "name": "stdout",
     "output_type": "stream",
     "text": [
      "['C:\\\\Users\\\\Mohammed Israr\\\\Desktop\\\\Classes\\\\24_Feb_weekend_2024', 'C:\\\\Users\\\\Mohammed Israr\\\\anaconda3\\\\python311.zip', 'C:\\\\Users\\\\Mohammed Israr\\\\anaconda3\\\\DLLs', 'C:\\\\Users\\\\Mohammed Israr\\\\anaconda3\\\\Lib', 'C:\\\\Users\\\\Mohammed Israr\\\\anaconda3', '', 'C:\\\\Users\\\\Mohammed Israr\\\\anaconda3\\\\Lib\\\\site-packages', 'C:\\\\Users\\\\Mohammed Israr\\\\anaconda3\\\\Lib\\\\site-packages\\\\win32', 'C:\\\\Users\\\\Mohammed Israr\\\\anaconda3\\\\Lib\\\\site-packages\\\\win32\\\\lib', 'C:\\\\Users\\\\Mohammed Israr\\\\anaconda3\\\\Lib\\\\site-packages\\\\Pythonwin']\n"
     ]
    }
   ],
   "source": [
    "import sys\n",
    "\n",
    "print(sys.path)"
   ]
  },
  {
   "cell_type": "code",
   "execution_count": 1,
   "id": "2ac1e1e3",
   "metadata": {},
   "outputs": [
    {
     "name": "stdout",
     "output_type": "stream",
     "text": [
      "['In', 'Out', '_', '__', '___', '__builtin__', '__builtins__', '__doc__', '__loader__', '__name__', '__package__', '__spec__', '_dh', '_i', '_i1', '_ih', '_ii', '_iii', '_oh', 'exit', 'get_ipython', 'open', 'quit']\n",
      "\n",
      "\n"
     ]
    },
    {
     "ename": "ModuleNotFoundError",
     "evalue": "No module named 'cred_card_module'",
     "output_type": "error",
     "traceback": [
      "\u001b[1;31m---------------------------------------------------------------------------\u001b[0m",
      "\u001b[1;31mModuleNotFoundError\u001b[0m                       Traceback (most recent call last)",
      "Cell \u001b[1;32mIn[1], line 3\u001b[0m\n\u001b[0;32m      1\u001b[0m \u001b[38;5;28mprint\u001b[39m(\u001b[38;5;28mdir\u001b[39m() , end \u001b[38;5;241m=\u001b[39m \u001b[38;5;124m'\u001b[39m\u001b[38;5;130;01m\\n\u001b[39;00m\u001b[38;5;130;01m\\n\u001b[39;00m\u001b[38;5;130;01m\\n\u001b[39;00m\u001b[38;5;124m'\u001b[39m)\n\u001b[1;32m----> 3\u001b[0m \u001b[38;5;28;01mimport\u001b[39;00m \u001b[38;5;21;01mcred_card_module\u001b[39;00m \u001b[38;5;28;01mas\u001b[39;00m \u001b[38;5;21;01mccm\u001b[39;00m\n\u001b[0;32m      5\u001b[0m \u001b[38;5;28mprint\u001b[39m(\u001b[38;5;28mdir\u001b[39m())\n",
      "\u001b[1;31mModuleNotFoundError\u001b[0m: No module named 'cred_card_module'"
     ]
    }
   ],
   "source": [
    "print(dir() , end = '\\n\\n\\n')\n",
    "\n",
    "import cred_card_module as ccm\n",
    "\n",
    "print(dir())"
   ]
  },
  {
   "cell_type": "code",
   "execution_count": 2,
   "id": "b77959e5",
   "metadata": {},
   "outputs": [
    {
     "name": "stdout",
     "output_type": "stream",
     "text": [
      "['C:\\\\Users\\\\Mohammed Israr\\\\Desktop\\\\Classes\\\\24_Feb_weekend_2024', 'C:\\\\Users\\\\Mohammed Israr\\\\anaconda3\\\\python311.zip', 'C:\\\\Users\\\\Mohammed Israr\\\\anaconda3\\\\DLLs', 'C:\\\\Users\\\\Mohammed Israr\\\\anaconda3\\\\Lib', 'C:\\\\Users\\\\Mohammed Israr\\\\anaconda3', '', 'C:\\\\Users\\\\Mohammed Israr\\\\anaconda3\\\\Lib\\\\site-packages', 'C:\\\\Users\\\\Mohammed Israr\\\\anaconda3\\\\Lib\\\\site-packages\\\\win32', 'C:\\\\Users\\\\Mohammed Israr\\\\anaconda3\\\\Lib\\\\site-packages\\\\win32\\\\lib', 'C:\\\\Users\\\\Mohammed Israr\\\\anaconda3\\\\Lib\\\\site-packages\\\\Pythonwin']\n"
     ]
    }
   ],
   "source": [
    "import sys\n",
    "\n",
    "print(sys.path)"
   ]
  },
  {
   "cell_type": "code",
   "execution_count": 3,
   "id": "440f5f98",
   "metadata": {},
   "outputs": [],
   "source": [
    "sys.path.append('C:\\\\Users\\\\Mohammed Israr\\\\Desktop\\\\filpkart_modules')"
   ]
  },
  {
   "cell_type": "code",
   "execution_count": 4,
   "id": "20c327d9",
   "metadata": {},
   "outputs": [
    {
     "name": "stdout",
     "output_type": "stream",
     "text": [
      "['C:\\\\Users\\\\Mohammed Israr\\\\Desktop\\\\Classes\\\\24_Feb_weekend_2024', 'C:\\\\Users\\\\Mohammed Israr\\\\anaconda3\\\\python311.zip', 'C:\\\\Users\\\\Mohammed Israr\\\\anaconda3\\\\DLLs', 'C:\\\\Users\\\\Mohammed Israr\\\\anaconda3\\\\Lib', 'C:\\\\Users\\\\Mohammed Israr\\\\anaconda3', '', 'C:\\\\Users\\\\Mohammed Israr\\\\anaconda3\\\\Lib\\\\site-packages', 'C:\\\\Users\\\\Mohammed Israr\\\\anaconda3\\\\Lib\\\\site-packages\\\\win32', 'C:\\\\Users\\\\Mohammed Israr\\\\anaconda3\\\\Lib\\\\site-packages\\\\win32\\\\lib', 'C:\\\\Users\\\\Mohammed Israr\\\\anaconda3\\\\Lib\\\\site-packages\\\\Pythonwin', 'C:\\\\Users\\\\Mohammed Israr\\\\Desktop\\\\filpkart_modules']\n"
     ]
    }
   ],
   "source": [
    "print(sys.path)"
   ]
  },
  {
   "cell_type": "code",
   "execution_count": 5,
   "id": "44c6adc5",
   "metadata": {},
   "outputs": [
    {
     "name": "stdout",
     "output_type": "stream",
     "text": [
      "['In', 'Out', '_', '__', '___', '__builtin__', '__builtins__', '__doc__', '__loader__', '__name__', '__package__', '__spec__', '_dh', '_i', '_i1', '_i2', '_i3', '_i4', '_i5', '_ih', '_ii', '_iii', '_oh', 'exit', 'get_ipython', 'open', 'quit', 'sys']\n",
      "\n",
      "\n",
      "['In', 'Out', '_', '__', '___', '__builtin__', '__builtins__', '__doc__', '__loader__', '__name__', '__package__', '__spec__', '_dh', '_i', '_i1', '_i2', '_i3', '_i4', '_i5', '_ih', '_ii', '_iii', '_oh', 'ccm', 'exit', 'get_ipython', 'open', 'quit', 'sys']\n"
     ]
    }
   ],
   "source": [
    "print(dir() , end = '\\n\\n\\n')\n",
    "\n",
    "import cred_card_module as ccm\n",
    "\n",
    "print(dir())"
   ]
  },
  {
   "cell_type": "code",
   "execution_count": null,
   "id": "90c88f2f",
   "metadata": {},
   "outputs": [],
   "source": [
    "# __name__"
   ]
  },
  {
   "cell_type": "code",
   "execution_count": 1,
   "id": "0c1fea66",
   "metadata": {},
   "outputs": [
    {
     "name": "stdout",
     "output_type": "stream",
     "text": [
      "30\n",
      "hello world\n"
     ]
    }
   ],
   "source": [
    "import my_module"
   ]
  },
  {
   "cell_type": "code",
   "execution_count": 2,
   "id": "cbf90004",
   "metadata": {},
   "outputs": [
    {
     "name": "stdout",
     "output_type": "stream",
     "text": [
      "30\n",
      "hello world\n"
     ]
    }
   ],
   "source": [
    "a = 10\n",
    "b = 20\n",
    "\n",
    "print(a+b)\n",
    "print('hello world')\n"
   ]
  },
  {
   "cell_type": "code",
   "execution_count": 1,
   "id": "1280f412",
   "metadata": {},
   "outputs": [],
   "source": [
    "import my_module"
   ]
  },
  {
   "cell_type": "code",
   "execution_count": 3,
   "id": "2a9ac71a",
   "metadata": {},
   "outputs": [
    {
     "name": "stdout",
     "output_type": "stream",
     "text": [
      "30\n",
      "hello world\n"
     ]
    }
   ],
   "source": [
    "def palindrom(x):\n",
    "    if x == x[::-1]:\n",
    "        return ('Palindrom')\n",
    "    else:\n",
    "        return ('Not a palindrom')\n",
    "    \n",
    "    \n",
    "def adder(a,b):\n",
    "    c = a+b\n",
    "    return c\n",
    "\n",
    "\n",
    "if __name__ == '__main__':\n",
    "    a = 10\n",
    "    b = 20\n",
    "    print(a+b)\n",
    "    print('hello world')\n"
   ]
  },
  {
   "cell_type": "code",
   "execution_count": null,
   "id": "43b662a3",
   "metadata": {},
   "outputs": [],
   "source": []
  }
 ],
 "metadata": {
  "kernelspec": {
   "display_name": "Python 3 (ipykernel)",
   "language": "python",
   "name": "python3"
  },
  "language_info": {
   "codemirror_mode": {
    "name": "ipython",
    "version": 3
   },
   "file_extension": ".py",
   "mimetype": "text/x-python",
   "name": "python",
   "nbconvert_exporter": "python",
   "pygments_lexer": "ipython3",
   "version": "3.11.4"
  }
 },
 "nbformat": 4,
 "nbformat_minor": 5
}
