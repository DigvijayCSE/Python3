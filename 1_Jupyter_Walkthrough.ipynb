{
 "cells": [
  {
   "cell_type": "code",
   "execution_count": 1,
   "id": "1c78e587",
   "metadata": {},
   "outputs": [
    {
     "name": "stdout",
     "output_type": "stream",
     "text": [
      "30\n"
     ]
    }
   ],
   "source": [
    "a = 10\n",
    "b = 20\n",
    "\n",
    "\n",
    "print(a + b)"
   ]
  },
  {
   "cell_type": "code",
   "execution_count": 2,
   "id": "3728f770",
   "metadata": {},
   "outputs": [
    {
     "name": "stdout",
     "output_type": "stream",
     "text": [
      "30\n"
     ]
    }
   ],
   "source": [
    "a = 10\n",
    "b = 20\n",
    "\n",
    "print(a + b)"
   ]
  },
  {
   "cell_type": "code",
   "execution_count": null,
   "id": "276c9e8d",
   "metadata": {},
   "outputs": [],
   "source": [
    "# There are 2 types of cells\n",
    "\n",
    "1. coding cell :- Where you can only write python\n",
    "    \n",
    "2. markdown cell :- Write it'll consider it a simple plain text"
   ]
  },
  {
   "cell_type": "code",
   "execution_count": 11,
   "id": "bc62ce1a",
   "metadata": {},
   "outputs": [
    {
     "name": "stdout",
     "output_type": "stream",
     "text": [
      "30\n"
     ]
    }
   ],
   "source": [
    "a = 10\n",
    "b = 20\n",
    "\n",
    "print(a + b)"
   ]
  },
  {
   "cell_type": "markdown",
   "id": "6129fef1",
   "metadata": {},
   "source": [
    "a = 10\n",
    "b = 20\n",
    "\n",
    "print(a + b)"
   ]
  },
  {
   "cell_type": "markdown",
   "id": "d6fd73b5",
   "metadata": {},
   "source": [
    "# <center>Heading 1</center>\n",
    "\n",
    "## Heading 2\n",
    "\n",
    "### Heading 3\n",
    "\n",
    "#### Heading 4\n",
    "\n",
    "##### Heading 5\n",
    "\n",
    "###### Heading 6\n",
    "\n",
    "1. Point 1\n",
    "2. Point 2\n",
    "\n",
    "- point 3\n",
    "- point 4\n",
    "* point 5\n",
    "* point 6"
   ]
  },
  {
   "cell_type": "code",
   "execution_count": null,
   "id": "de0299dc",
   "metadata": {},
   "outputs": [],
   "source": [
    "# What is an operating system ?\n",
    "- A system software that maintain you hardwars , system resouces\n",
    "\n",
    "eg : windows , mac , linux"
   ]
  },
  {
   "cell_type": "code",
   "execution_count": null,
   "id": "e833220a",
   "metadata": {},
   "outputs": [],
   "source": [
    "# What is an programing language ? \n",
    "\n",
    "\n",
    "- A set of instruction given to system to perform a specific task\n",
    "\n",
    "# Types of languages\n",
    "\n",
    "- HLL (High level language)\n",
    "- user friendly \n",
    "eg java , c ,c++ , python\n",
    "\n",
    "- LLL (Low level language)\n",
    "- system \n",
    "eg : essembly lang"
   ]
  },
  {
   "cell_type": "code",
   "execution_count": 14,
   "id": "1445a3ac",
   "metadata": {},
   "outputs": [],
   "source": [
    "a = 10 # HLL"
   ]
  },
  {
   "cell_type": "code",
   "execution_count": null,
   "id": "0a9f160e",
   "metadata": {},
   "outputs": [],
   "source": [
    "110001 111101 1010 # LLL"
   ]
  },
  {
   "cell_type": "code",
   "execution_count": null,
   "id": "096554b7",
   "metadata": {},
   "outputs": [],
   "source": [
    "a ---> 97 ----> 110001\n",
    "= ---> 61 ----> 111101\n",
    "10   ---------> 1010"
   ]
  },
  {
   "cell_type": "code",
   "execution_count": null,
   "id": "5b8c33a7",
   "metadata": {},
   "outputs": [],
   "source": [
    "2    97      1\n",
    "2    48      0\n",
    "2    24      0\n",
    "2    12      0\n",
    "2     6      0\n",
    "2     3      1\n",
    "      1"
   ]
  },
  {
   "cell_type": "code",
   "execution_count": 21,
   "id": "f6f3f96f",
   "metadata": {},
   "outputs": [
    {
     "data": {
      "text/plain": [
       "'0b1010'"
      ]
     },
     "execution_count": 21,
     "metadata": {},
     "output_type": "execute_result"
    }
   ],
   "source": [
    "bin(10)"
   ]
  },
  {
   "cell_type": "code",
   "execution_count": null,
   "id": "cf750760",
   "metadata": {},
   "outputs": [],
   "source": [
    "# HLL \n",
    "\n",
    " are further classified into\n",
    "    \n",
    "    1. compiler\n",
    "    - faster\n",
    "    - difficult\n",
    "    java , c , c++\n",
    "    \n",
    "    2. interpretor\n",
    "    - slower\n",
    "    - easy to debug\n",
    "    python"
   ]
  },
  {
   "cell_type": "code",
   "execution_count": 24,
   "id": "b340d8f0",
   "metadata": {},
   "outputs": [
    {
     "name": "stdout",
     "output_type": "stream",
     "text": [
      "10\n",
      "20\n"
     ]
    },
    {
     "ename": "NameError",
     "evalue": "name 'd' is not defined",
     "output_type": "error",
     "traceback": [
      "\u001b[1;31m---------------------------------------------------------------------------\u001b[0m",
      "\u001b[1;31mNameError\u001b[0m                                 Traceback (most recent call last)",
      "Cell \u001b[1;32mIn[24], line 8\u001b[0m\n\u001b[0;32m      6\u001b[0m \u001b[38;5;28mprint\u001b[39m(a)\n\u001b[0;32m      7\u001b[0m \u001b[38;5;28mprint\u001b[39m(b)\n\u001b[1;32m----> 8\u001b[0m \u001b[38;5;28mprint\u001b[39m(d)\n\u001b[0;32m      9\u001b[0m \u001b[38;5;28mprint\u001b[39m(c)\n",
      "\u001b[1;31mNameError\u001b[0m: name 'd' is not defined"
     ]
    }
   ],
   "source": [
    "a = 10\n",
    "b = 20\n",
    "c = 30\n",
    "\n",
    "\n",
    "print(a)\n",
    "print(b)\n",
    "print(d)\n",
    "print(c)"
   ]
  },
  {
   "cell_type": "markdown",
   "id": "1c9494bb",
   "metadata": {},
   "source": [
    "# Why python ?\n",
    "\n",
    "- It support many libraries\n",
    "- Easy sysntax\n",
    "- Python is dynamically typed language\n",
    "- open source\n",
    "- cross platform"
   ]
  },
  {
   "cell_type": "code",
   "execution_count": 25,
   "id": "fed9f2c2",
   "metadata": {},
   "outputs": [
    {
     "data": {
      "text/plain": [
       "3.0"
      ]
     },
     "execution_count": 25,
     "metadata": {},
     "output_type": "execute_result"
    }
   ],
   "source": [
    "(9) ** (1/2)"
   ]
  },
  {
   "cell_type": "code",
   "execution_count": 28,
   "id": "9ef060f5",
   "metadata": {},
   "outputs": [
    {
     "data": {
      "text/plain": [
       "3.0"
      ]
     },
     "execution_count": 28,
     "metadata": {},
     "output_type": "execute_result"
    }
   ],
   "source": [
    "import math\n",
    "\n",
    "math.sqrt(9)"
   ]
  },
  {
   "cell_type": "code",
   "execution_count": null,
   "id": "87713164",
   "metadata": {},
   "outputs": [],
   "source": [
    "# C \n",
    "\n",
    "# include <stdio.h>\n",
    "void main()\n",
    "{\n",
    "    printf(\"Hello world\");\n",
    "}\n",
    "\n",
    "\n",
    "# Java\n",
    "\n",
    "class hello_world\n",
    "{\n",
    "    public static void main(string[] args)\n",
    "    {\n",
    "        System.out.println(\"Hello world\");\n",
    "    }\n",
    "}\n",
    "\n",
    "\n",
    "# python\n",
    "\n",
    "print('Hello world')"
   ]
  },
  {
   "cell_type": "code",
   "execution_count": 32,
   "id": "78213626",
   "metadata": {},
   "outputs": [
    {
     "name": "stdout",
     "output_type": "stream",
     "text": [
      "[43, 345, 345, 534] <class 'list'>\n"
     ]
    }
   ],
   "source": [
    "a = [43,345,345,534]\n",
    "\n",
    "print(a , type(a))"
   ]
  },
  {
   "cell_type": "code",
   "execution_count": 35,
   "id": "85a4419f",
   "metadata": {},
   "outputs": [
    {
     "name": "stdout",
     "output_type": "stream",
     "text": [
      "4325345345 <class 'int'>\n"
     ]
    }
   ],
   "source": [
    "a = 4325345345\n",
    "\n",
    "print(a , type(a))"
   ]
  },
  {
   "cell_type": "code",
   "execution_count": null,
   "id": "6e3d1469",
   "metadata": {},
   "outputs": [],
   "source": []
  },
  {
   "cell_type": "code",
   "execution_count": null,
   "id": "50865747",
   "metadata": {},
   "outputs": [],
   "source": []
  }
 ],
 "metadata": {
  "kernelspec": {
   "display_name": "Python 3 (ipykernel)",
   "language": "python",
   "name": "python3"
  },
  "language_info": {
   "codemirror_mode": {
    "name": "ipython",
    "version": 3
   },
   "file_extension": ".py",
   "mimetype": "text/x-python",
   "name": "python",
   "nbconvert_exporter": "python",
   "pygments_lexer": "ipython3",
   "version": "3.11.4"
  }
 },
 "nbformat": 4,
 "nbformat_minor": 5
}
