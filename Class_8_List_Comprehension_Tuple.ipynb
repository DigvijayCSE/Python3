{
 "cells": [
  {
   "cell_type": "markdown",
   "id": "ea3acfde",
   "metadata": {},
   "source": [
    "# For loop\n",
    "\n",
    "\n",
    "sytax \n",
    "\n",
    "\n",
    "for var in iterable:\n",
    "    stat1\n",
    "    stat2\n",
    "    stat3\n"
   ]
  },
  {
   "cell_type": "markdown",
   "id": "3d59bc3d",
   "metadata": {},
   "source": [
    "# How to identify any data type is iterable or not\n",
    "\n",
    "\n",
    "1. len() --> Should work\n",
    "\n",
    "2. print(dir(object)) --> __iter__"
   ]
  },
  {
   "cell_type": "code",
   "execution_count": 3,
   "id": "f8ed4ee4",
   "metadata": {},
   "outputs": [
    {
     "ename": "TypeError",
     "evalue": "object of type 'int' has no len()",
     "output_type": "error",
     "traceback": [
      "\u001b[1;31m---------------------------------------------------------------------------\u001b[0m",
      "\u001b[1;31mTypeError\u001b[0m                                 Traceback (most recent call last)",
      "Cell \u001b[1;32mIn[3], line 1\u001b[0m\n\u001b[1;32m----> 1\u001b[0m \u001b[38;5;28mlen\u001b[39m(\u001b[38;5;241m34343\u001b[39m)\n",
      "\u001b[1;31mTypeError\u001b[0m: object of type 'int' has no len()"
     ]
    }
   ],
   "source": [
    "len(34343)"
   ]
  },
  {
   "cell_type": "code",
   "execution_count": 7,
   "id": "3ae26d5f",
   "metadata": {},
   "outputs": [
    {
     "name": "stdout",
     "output_type": "stream",
     "text": [
      "['__class__', '__class_getitem__', '__contains__', '__delattr__', '__delitem__', '__dir__', '__doc__', '__eq__', '__format__', '__ge__', '__getattribute__', '__getitem__', '__getstate__', '__gt__', '__hash__', '__init__', '__init_subclass__', '__ior__', '__iter__', '__le__', '__len__', '__lt__', '__ne__', '__new__', '__or__', '__reduce__', '__reduce_ex__', '__repr__', '__reversed__', '__ror__', '__setattr__', '__setitem__', '__sizeof__', '__str__', '__subclasshook__', 'clear', 'copy', 'fromkeys', 'get', 'items', 'keys', 'pop', 'popitem', 'setdefault', 'update', 'values']\n"
     ]
    }
   ],
   "source": [
    "print(dir(dict))"
   ]
  },
  {
   "cell_type": "code",
   "execution_count": 8,
   "id": "9c40e74a",
   "metadata": {},
   "outputs": [
    {
     "name": "stdout",
     "output_type": "stream",
     "text": [
      "x hello world\n",
      "y hello world\n",
      "z hello world\n"
     ]
    }
   ],
   "source": [
    "a = 'xyz'\n",
    "\n",
    "\n",
    "for char in a:\n",
    "    print(char , 'hello world')"
   ]
  },
  {
   "cell_type": "code",
   "execution_count": null,
   "id": "cbcd7d55",
   "metadata": {},
   "outputs": [],
   "source": [
    "for iteration 1 char = x\n",
    "x , hello world\n",
    "\n",
    "\n",
    "for iteration 2 char y\n",
    "y , hello world\n",
    "\n",
    "\n",
    "for iteration  3"
   ]
  },
  {
   "cell_type": "code",
   "execution_count": 9,
   "id": "82eaa37c",
   "metadata": {},
   "outputs": [
    {
     "name": "stdout",
     "output_type": "stream",
     "text": [
      "xyz hello world\n",
      "abc hello world\n"
     ]
    }
   ],
   "source": [
    "a = ['xyz' , 'abc']\n",
    "\n",
    "\n",
    "for char in a:\n",
    "    print(char , 'hello world')"
   ]
  },
  {
   "cell_type": "code",
   "execution_count": 11,
   "id": "c29c03ee",
   "metadata": {},
   "outputs": [
    {
     "name": "stdout",
     "output_type": "stream",
     "text": [
      "p hello world\n",
      "y hello world\n",
      "t hello world\n",
      "h hello world\n",
      "o hello world\n",
      "n hello world\n",
      "  hello world\n",
      "j hello world\n",
      "a hello world\n",
      "v hello world\n",
      "a hello world\n"
     ]
    }
   ],
   "source": [
    "a = 'python java'\n",
    "\n",
    "\n",
    "for char in a:\n",
    "    print(char , 'hello world')\n"
   ]
  },
  {
   "cell_type": "code",
   "execution_count": 12,
   "id": "700fe70e",
   "metadata": {},
   "outputs": [
    {
     "name": "stdout",
     "output_type": "stream",
     "text": [
      "python hello world\n",
      "java hello world\n"
     ]
    }
   ],
   "source": [
    "a = 'python java'\n",
    "\n",
    "\n",
    "for char in a.split():\n",
    "    print(char , 'hello world')\n"
   ]
  },
  {
   "cell_type": "code",
   "execution_count": 15,
   "id": "988f392e",
   "metadata": {},
   "outputs": [
    {
     "name": "stdout",
     "output_type": "stream",
     "text": [
      "1\n",
      "2\n",
      "3\n",
      "4\n",
      "5\n",
      "6\n",
      "7\n",
      "8\n",
      "9\n",
      "10\n"
     ]
    }
   ],
   "source": [
    "for i in range(1,11):\n",
    "    print(i)"
   ]
  },
  {
   "cell_type": "code",
   "execution_count": 16,
   "id": "064373d8",
   "metadata": {},
   "outputs": [
    {
     "name": "stdout",
     "output_type": "stream",
     "text": [
      "2\n",
      "4\n",
      "6\n",
      "8\n",
      "10\n",
      "12\n",
      "14\n",
      "16\n",
      "18\n",
      "20\n"
     ]
    }
   ],
   "source": [
    "for i in range(1,11):\n",
    "    print(i * 2)"
   ]
  },
  {
   "cell_type": "code",
   "execution_count": null,
   "id": "4e505e17",
   "metadata": {},
   "outputs": [],
   "source": [
    "2      *        1      =        2\n",
    "2      *        2      =        4\n",
    ".\n",
    ".\n",
    "2      *        10     =       20"
   ]
  },
  {
   "cell_type": "code",
   "execution_count": 20,
   "id": "28cb7157",
   "metadata": {},
   "outputs": [
    {
     "name": "stdout",
     "output_type": "stream",
     "text": [
      "2  * 1 = 2\n",
      "2  * 2 = 4\n",
      "2  * 3 = 6\n",
      "2  * 4 = 8\n",
      "2  * 5 = 10\n",
      "2  * 6 = 12\n",
      "2  * 7 = 14\n",
      "2  * 8 = 16\n",
      "2  * 9 = 18\n",
      "2  * 10 = 20\n"
     ]
    }
   ],
   "source": [
    "for i in range(1,11):\n",
    "    print('2  * '+ str(i)+' = '+str(i*2))"
   ]
  },
  {
   "cell_type": "code",
   "execution_count": 18,
   "id": "98120aa4",
   "metadata": {},
   "outputs": [
    {
     "name": "stdout",
     "output_type": "stream",
     "text": [
      "2  *  1  =  2\n",
      "2  *  2  =  4\n",
      "2  *  3  =  6\n",
      "2  *  4  =  8\n",
      "2  *  5  =  10\n",
      "2  *  6  =  12\n",
      "2  *  7  =  14\n",
      "2  *  8  =  16\n",
      "2  *  9  =  18\n",
      "2  *  10  =  20\n"
     ]
    }
   ],
   "source": [
    "for i in range(1,11):\n",
    "    print('2  * ',i,' = ',i *2)"
   ]
  },
  {
   "cell_type": "code",
   "execution_count": 21,
   "id": "5c89b75a",
   "metadata": {},
   "outputs": [
    {
     "name": "stdout",
     "output_type": "stream",
     "text": [
      "2  * 1 = 2\n",
      "2  * 2 = 4\n",
      "2  * 3 = 6\n",
      "2  * 4 = 8\n",
      "2  * 5 = 10\n",
      "2  * 6 = 12\n",
      "2  * 7 = 14\n",
      "2  * 8 = 16\n",
      "2  * 9 = 18\n",
      "2  * 10 = 20\n"
     ]
    }
   ],
   "source": [
    "for i in range(1,11):\n",
    "    print(f'2  * {i} = {i*2}')"
   ]
  },
  {
   "cell_type": "code",
   "execution_count": 29,
   "id": "c8aac8d0",
   "metadata": {},
   "outputs": [
    {
     "name": "stdout",
     "output_type": "stream",
     "text": [
      "Enter a number : 55\n",
      "55  * 1 = 55\n",
      "55  * 2 = 110\n",
      "55  * 3 = 165\n",
      "55  * 4 = 220\n",
      "55  * 5 = 275\n",
      "55  * 6 = 330\n",
      "55  * 7 = 385\n",
      "55  * 8 = 440\n",
      "55  * 9 = 495\n",
      "55  * 10 = 550\n"
     ]
    }
   ],
   "source": [
    "n = int(input('Enter a number : '))\n",
    "\n",
    "for i in range(1,11):\n",
    "    print(f'{n}  * {i} = {i*n}')"
   ]
  },
  {
   "cell_type": "code",
   "execution_count": 32,
   "id": "147d4014",
   "metadata": {},
   "outputs": [
    {
     "name": "stdout",
     "output_type": "stream",
     "text": [
      "Enter the first name : abc\n",
      "Enter the second name  : xyz\n"
     ]
    },
    {
     "data": {
      "text/plain": [
       "'My first name is abc and secnd name is xyz'"
      ]
     },
     "execution_count": 32,
     "metadata": {},
     "output_type": "execute_result"
    }
   ],
   "source": [
    "a = input('Enter the first name : ')\n",
    "b = input('Enter the second name  : ')\n",
    "\n",
    "c = f'My first name is {a} and secnd name is {b}'\n",
    "\n",
    "\n",
    "c"
   ]
  },
  {
   "cell_type": "code",
   "execution_count": 34,
   "id": "3522cdde",
   "metadata": {},
   "outputs": [
    {
     "name": "stdout",
     "output_type": "stream",
     "text": [
      "11.5\n",
      "17.0\n",
      "28.0\n",
      "17.0\n",
      "32.5\n",
      "438.0\n"
     ]
    }
   ],
   "source": [
    "l = [23,34,56,34,65,876]\n",
    "\n",
    "for i in l:\n",
    "    print(i / 2)"
   ]
  },
  {
   "cell_type": "code",
   "execution_count": 36,
   "id": "6ff664a9",
   "metadata": {},
   "outputs": [
    {
     "name": "stdout",
     "output_type": "stream",
     "text": [
      "[11.5]\n",
      "[11.5, 17.0]\n",
      "[11.5, 17.0, 28.0]\n",
      "[11.5, 17.0, 28.0, 17.0]\n",
      "[11.5, 17.0, 28.0, 17.0, 32.5]\n",
      "[11.5, 17.0, 28.0, 17.0, 32.5, 438.0]\n"
     ]
    }
   ],
   "source": [
    "l = [23,34,56,34,65,876]\n",
    "\n",
    "e_list = []\n",
    "\n",
    "for i in l:\n",
    "    e_list.append(i / 2)  \n",
    "    print(e_list)"
   ]
  },
  {
   "cell_type": "code",
   "execution_count": 37,
   "id": "897a924c",
   "metadata": {},
   "outputs": [
    {
     "data": {
      "text/plain": [
       "[11.5, 17.0, 28.0, 17.0, 32.5, 438.0]"
      ]
     },
     "execution_count": 37,
     "metadata": {},
     "output_type": "execute_result"
    }
   ],
   "source": [
    "e_list"
   ]
  },
  {
   "cell_type": "code",
   "execution_count": 38,
   "id": "2c97caf6",
   "metadata": {},
   "outputs": [
    {
     "data": {
      "text/plain": [
       "[1, 2, 3, 4, 5, 6, 7, 8]"
      ]
     },
     "execution_count": 38,
     "metadata": {},
     "output_type": "execute_result"
    }
   ],
   "source": [
    "col_1 = [1,2,3,4]\n",
    "col_2 = [5,6,7,8]\n",
    "\n",
    "\n",
    "col_1 + col_2"
   ]
  },
  {
   "cell_type": "code",
   "execution_count": 44,
   "id": "6c48e61e",
   "metadata": {},
   "outputs": [],
   "source": [
    "col_1 = [1,2,3,4]\n",
    "col_2 = [5,6,7,8]\n",
    "\n",
    "l = []\n",
    "\n",
    "for i in range(len(col_1)):\n",
    "    l.append(col_1[i] + col_2[i])"
   ]
  },
  {
   "cell_type": "code",
   "execution_count": 45,
   "id": "3e9658ad",
   "metadata": {},
   "outputs": [
    {
     "data": {
      "text/plain": [
       "[6, 8, 10, 12]"
      ]
     },
     "execution_count": 45,
     "metadata": {},
     "output_type": "execute_result"
    }
   ],
   "source": [
    "l"
   ]
  },
  {
   "cell_type": "code",
   "execution_count": 52,
   "id": "b5df78fc",
   "metadata": {},
   "outputs": [
    {
     "data": {
      "text/plain": [
       "['Israr@gmail.com',\n",
       " 'Balraj@yahoo.com',\n",
       " 'Tania@gmail.com',\n",
       " 'Bini@hotmail.com',\n",
       " 'Meena@yahoo.com']"
      ]
     },
     "execution_count": 52,
     "metadata": {},
     "output_type": "execute_result"
    }
   ],
   "source": [
    "a= ['Israr' , 'Balraj' , 'Tania' , 'Bini' , 'Meena']\n",
    "\n",
    "\n",
    "b = ['gmail.com' , 'yahoo.com' , 'gmail.com' , 'hotmail.com' , 'yahoo.com']\n",
    "\n",
    "l = []\n",
    "\n",
    "for i in range(len(a)):\n",
    "    l.append(a[i] + '@'+ b[i])\n",
    "    \n",
    "l"
   ]
  },
  {
   "cell_type": "code",
   "execution_count": 54,
   "id": "82ca49bd",
   "metadata": {},
   "outputs": [
    {
     "data": {
      "text/plain": [
       "['Israr@gmail.com', 'Tania@gmail.com']"
      ]
     },
     "execution_count": 54,
     "metadata": {},
     "output_type": "execute_result"
    }
   ],
   "source": [
    "a= ['Israr' , 'Balraj' , 'Tania' , 'Bini' , 'Meena']\n",
    "\n",
    "\n",
    "b = ['gmail.com' , 'yahoo.com' , 'gmail.com' , 'hotmail.com' , 'yahoo.com']\n",
    "\n",
    "l = []\n",
    "\n",
    "for i in range(len(a)):\n",
    "    if b[i] == 'gmail.com':\n",
    "        l.append(a[i] + '@'+ b[i])\n",
    "    \n",
    "l"
   ]
  },
  {
   "cell_type": "markdown",
   "id": "fa6ae654",
   "metadata": {},
   "source": [
    "# List comprehension\n",
    "\n",
    "\n",
    "[expression for var in iterable if condition]"
   ]
  },
  {
   "cell_type": "code",
   "execution_count": 56,
   "id": "f532968c",
   "metadata": {},
   "outputs": [
    {
     "name": "stdout",
     "output_type": "stream",
     "text": [
      "[11.5, 17.0, 28.0, 17.0, 32.5, 438.0]\n"
     ]
    }
   ],
   "source": [
    "l = [23,34,56,34,65,876]\n",
    "\n",
    "e_list = []\n",
    "\n",
    "for i in l:\n",
    "    e_list.append(i / 2)  \n",
    "    \n",
    "print(e_list)"
   ]
  },
  {
   "cell_type": "code",
   "execution_count": 57,
   "id": "c3c98f73",
   "metadata": {},
   "outputs": [
    {
     "name": "stdout",
     "output_type": "stream",
     "text": [
      "[11.5, 17.0, 28.0, 17.0, 32.5, 438.0]\n"
     ]
    }
   ],
   "source": [
    "l = [23,34,56,34,65,876]\n",
    "\n",
    "e_list = [i / 2 for i in l]\n",
    "    \n",
    "print(e_list)"
   ]
  },
  {
   "cell_type": "code",
   "execution_count": 58,
   "id": "0e468fbb",
   "metadata": {},
   "outputs": [
    {
     "name": "stdout",
     "output_type": "stream",
     "text": [
      "[34, 56, 34, 876]\n"
     ]
    }
   ],
   "source": [
    "l = [23,34,56,34,65,876]\n",
    "\n",
    "e_list = []\n",
    "\n",
    "for i in l:\n",
    "    if i%2==0:\n",
    "        e_list.append(i)  \n",
    "    \n",
    "print(e_list)"
   ]
  },
  {
   "cell_type": "code",
   "execution_count": 59,
   "id": "d9d2917c",
   "metadata": {},
   "outputs": [
    {
     "name": "stdout",
     "output_type": "stream",
     "text": [
      "[34, 56, 34, 876]\n"
     ]
    }
   ],
   "source": [
    "l = [23,34,56,34,65,876]\n",
    "\n",
    "e_list = [i for i in l if i%2 ==0]\n",
    "\n",
    "   \n",
    "print(e_list)"
   ]
  },
  {
   "cell_type": "code",
   "execution_count": 62,
   "id": "2915138b",
   "metadata": {},
   "outputs": [
    {
     "data": {
      "text/plain": [
       "['Israr', 'Abhishek', 'Balraj', 'Dipali', 'Dona', 'dinesh', 'dom']"
      ]
     },
     "execution_count": 62,
     "metadata": {},
     "output_type": "execute_result"
    }
   ],
   "source": [
    "a = ['Israr@gmail.com' , 'Abhishek@yahoo.com' , 'Balraj@gmail.com' , 'Dipali@yahoo.com',\n",
    "    'Dona@gmail.com' , 'dinesh@gmail.com' , 'dom@gmail.com']\n",
    "\n",
    "b = [i.split('@')[0] for i in a]\n",
    "\n",
    "b"
   ]
  },
  {
   "cell_type": "code",
   "execution_count": 63,
   "id": "3f1d7612",
   "metadata": {},
   "outputs": [
    {
     "data": {
      "text/plain": [
       "['Israr', 'Balraj', 'Dona', 'dinesh', 'dom']"
      ]
     },
     "execution_count": 63,
     "metadata": {},
     "output_type": "execute_result"
    }
   ],
   "source": [
    "a = ['Israr@gmail.com' , 'Abhishek@yahoo.com' , 'Balraj@gmail.com' , 'Dipali@yahoo.com',\n",
    "    'Dona@gmail.com' , 'dinesh@gmail.com' , 'dom@gmail.com']\n",
    "\n",
    "b = [i.split('@')[0] for i in a if 'gmail.com' in i]\n",
    "\n",
    "b"
   ]
  },
  {
   "cell_type": "code",
   "execution_count": 64,
   "id": "9f017816",
   "metadata": {},
   "outputs": [
    {
     "data": {
      "text/plain": [
       "['Israr', 'Balraj', 'Dona', 'dinesh', 'dom']"
      ]
     },
     "execution_count": 64,
     "metadata": {},
     "output_type": "execute_result"
    }
   ],
   "source": [
    "a = ['Israr@gmail.com' , 'Abhishek@yahoo.com' , 'Balraj@gmail.com' , 'Dipali@yahoo.com',\n",
    "    'Dona@gmail.com' , 'dinesh@gmail.com' , 'dom@gmail.com']\n",
    "\n",
    "b = [i.split('@')[0] for i in a if i.split('@')[1] =='gmail.com']\n",
    "\n",
    "b"
   ]
  },
  {
   "cell_type": "code",
   "execution_count": 65,
   "id": "e15680a5",
   "metadata": {},
   "outputs": [
    {
     "data": {
      "text/plain": [
       "['Israr', 'Balraj', 'Dona', 'dinesh', 'dom']"
      ]
     },
     "execution_count": 65,
     "metadata": {},
     "output_type": "execute_result"
    }
   ],
   "source": [
    "a = ['Israr@gmail.com' , 'Abhishek@yahoo.com' , 'Balraj@gmail.com' , 'Dipali@yahoo.com',\n",
    "    'Dona@gmail.com' , 'dinesh@gmail.com' , 'dom@gmail.com']\n",
    "\n",
    "b = [i.split('@')[0] for i in a if i.endswith('gmail.com')]\n",
    "\n",
    "b"
   ]
  },
  {
   "cell_type": "code",
   "execution_count": 68,
   "id": "54f0f0d4",
   "metadata": {},
   "outputs": [
    {
     "data": {
      "text/plain": [
       "[6, 8, 10, 12]"
      ]
     },
     "execution_count": 68,
     "metadata": {},
     "output_type": "execute_result"
    }
   ],
   "source": [
    "col_1 = [1,2,3,4]\n",
    "col_2 = [5,6,7,8]\n",
    "\n",
    "l = [col_1[i] + col_2[i] for i in range(len(col_1)) ]\n",
    "\n",
    "    \n",
    "l"
   ]
  },
  {
   "cell_type": "code",
   "execution_count": 74,
   "id": "5fe382b7",
   "metadata": {},
   "outputs": [
    {
     "data": {
      "text/plain": [
       "[64.17, 60.8, 89.0, 66.67, 25.0, 78.57]"
      ]
     },
     "execution_count": 74,
     "metadata": {},
     "output_type": "execute_result"
    }
   ],
   "source": [
    "marks_scored = [77 ,76 , 89 , 90 , 20 , 55]\n",
    "total_marks = [120 , 125 , 100 , 135 , 80 , 70]\n",
    "\n",
    "\n",
    "percentage = [round((marks_scored[i] / total_marks[i]) * 100 , 2) for i in range(len(marks_scored))]\n",
    "\n",
    "percentage"
   ]
  },
  {
   "cell_type": "code",
   "execution_count": 72,
   "id": "96586bc1",
   "metadata": {},
   "outputs": [
    {
     "data": {
      "text/plain": [
       "[64.16666666666667, 60.8, 89.0, 66.66666666666666, 25.0, 78.57142857142857]"
      ]
     },
     "execution_count": 72,
     "metadata": {},
     "output_type": "execute_result"
    }
   ],
   "source": [
    "marks_scored = [77 ,76 , 89 , 90 , 20 , 55]\n",
    "total_marks = [120 , 125 , 100 , 135 , 80 , 70]\n",
    "\n",
    "\n",
    "percentage = []\n",
    "\n",
    "for i in range(len(marks_scored)):\n",
    "    percentage.append((marks_scored[i] / total_marks[i]) * 100)\n",
    "    \n",
    "    \n",
    "percentage"
   ]
  },
  {
   "cell_type": "code",
   "execution_count": 77,
   "id": "e331ea18",
   "metadata": {},
   "outputs": [
    {
     "data": {
      "text/plain": [
       "[64.16666666666667, 60.8, 89.0, 66.66666666666666, 25.0, 78.57142857142857]"
      ]
     },
     "execution_count": 77,
     "metadata": {},
     "output_type": "execute_result"
    }
   ],
   "source": [
    "marks_scored = [77 ,76 , 89 , 90 , 20 , 55]\n",
    "total_marks = [120 , 125 , 100 , 135 , 80 , 70]\n",
    "\n",
    "\n",
    "percentage = []\n",
    "\n",
    "for i,j in zip(marks_scored , total_marks):\n",
    "    percentage.append((i/j) * 100)\n",
    "    \n",
    "    \n",
    "percentage"
   ]
  },
  {
   "cell_type": "code",
   "execution_count": 76,
   "id": "830ebe16",
   "metadata": {},
   "outputs": [
    {
     "data": {
      "text/plain": [
       "[(77, 120), (76, 125), (89, 100), (90, 135), (20, 80), (55, 70)]"
      ]
     },
     "execution_count": 76,
     "metadata": {},
     "output_type": "execute_result"
    }
   ],
   "source": [
    "list(zip(marks_scored , total_marks))"
   ]
  },
  {
   "cell_type": "markdown",
   "id": "7cdbe850",
   "metadata": {},
   "source": [
    "# Tuple "
   ]
  },
  {
   "cell_type": "code",
   "execution_count": 78,
   "id": "24ae861a",
   "metadata": {},
   "outputs": [
    {
     "name": "stdout",
     "output_type": "stream",
     "text": [
      "(23, 34, 34, 546, 5) <class 'tuple'>\n"
     ]
    }
   ],
   "source": [
    "# If you already know elements\n",
    "\n",
    "\n",
    "a = (23,34,34,546,5)\n",
    "\n",
    "\n",
    "print(a , type(a))"
   ]
  },
  {
   "cell_type": "code",
   "execution_count": 79,
   "id": "55aef757",
   "metadata": {},
   "outputs": [
    {
     "name": "stdout",
     "output_type": "stream",
     "text": [
      "Enter a tuple : 23,34,45,56,65\n",
      "(23, 34, 45, 56, 65) <class 'tuple'>\n"
     ]
    }
   ],
   "source": [
    "\n",
    "a = eval(input('Enter a tuple : '))\n",
    "\n",
    "\n",
    "print(a , type(a))"
   ]
  },
  {
   "cell_type": "code",
   "execution_count": 80,
   "id": "21a65aeb",
   "metadata": {},
   "outputs": [
    {
     "name": "stdout",
     "output_type": "stream",
     "text": [
      "('x', 'y', 'z')\n",
      "(12, 23, 23)\n"
     ]
    }
   ],
   "source": [
    "a = 'xyz'\n",
    "b = [12,23,23]\n",
    "\n",
    "\n",
    "print(tuple(a))\n",
    "print(tuple(b))"
   ]
  },
  {
   "cell_type": "markdown",
   "id": "8f9eae05",
   "metadata": {},
   "source": [
    "# Tuple packing and unpacking "
   ]
  },
  {
   "cell_type": "markdown",
   "id": "971da416",
   "metadata": {},
   "source": [
    "# Tuple packing\n",
    "\n",
    "- Assigni multiple values to a single variable"
   ]
  },
  {
   "cell_type": "code",
   "execution_count": 81,
   "id": "0c7a111b",
   "metadata": {},
   "outputs": [
    {
     "name": "stdout",
     "output_type": "stream",
     "text": [
      "(23, 34, 34, 546, 5) <class 'tuple'>\n"
     ]
    }
   ],
   "source": [
    "a = (23,34,34,546,5)\n",
    "\n",
    "\n",
    "print(a , type(a))"
   ]
  },
  {
   "cell_type": "code",
   "execution_count": 82,
   "id": "1414016f",
   "metadata": {},
   "outputs": [
    {
     "name": "stdout",
     "output_type": "stream",
     "text": [
      "(23, 43, 534, 23) <class 'tuple'>\n"
     ]
    }
   ],
   "source": [
    "a = 23,43,534,23\n",
    "\n",
    "\n",
    "print(a , type(a))"
   ]
  },
  {
   "cell_type": "code",
   "execution_count": 84,
   "id": "082b1313",
   "metadata": {},
   "outputs": [
    {
     "name": "stdout",
     "output_type": "stream",
     "text": [
      "(23, 'xyz', 45345.345) <class 'tuple'>\n"
     ]
    }
   ],
   "source": [
    "a = 23,'xyz' , 45345.345\n",
    "\n",
    "\n",
    "print(a , type(a))"
   ]
  },
  {
   "cell_type": "markdown",
   "id": "a0d1b658",
   "metadata": {},
   "source": [
    "# Tuple unpacking\n",
    "\n",
    "- Assigni multiple values to a multiple variable\n",
    "\n",
    "\n",
    "LHS == RHS"
   ]
  },
  {
   "cell_type": "code",
   "execution_count": 86,
   "id": "0ace5737",
   "metadata": {},
   "outputs": [
    {
     "name": "stdout",
     "output_type": "stream",
     "text": [
      "23 <class 'int'>\n",
      "xyz <class 'str'>\n",
      "45345.345 <class 'float'>\n"
     ]
    }
   ],
   "source": [
    "a,b,c = 23,'xyz' , 45345.345\n",
    "\n",
    "\n",
    "print(a , type(a))\n",
    "print(b , type(b))\n",
    "print(c , type(c))"
   ]
  },
  {
   "cell_type": "code",
   "execution_count": 91,
   "id": "dc4a89a0",
   "metadata": {},
   "outputs": [
    {
     "ename": "ValueError",
     "evalue": "not enough values to unpack (expected 4, got 3)",
     "output_type": "error",
     "traceback": [
      "\u001b[1;31m---------------------------------------------------------------------------\u001b[0m",
      "\u001b[1;31mValueError\u001b[0m                                Traceback (most recent call last)",
      "Cell \u001b[1;32mIn[91], line 1\u001b[0m\n\u001b[1;32m----> 1\u001b[0m a,b,c,d \u001b[38;5;241m=\u001b[39m \u001b[38;5;241m23\u001b[39m,\u001b[38;5;124m'\u001b[39m\u001b[38;5;124mxyz\u001b[39m\u001b[38;5;124m'\u001b[39m , \u001b[38;5;241m45345.345\u001b[39m\n",
      "\u001b[1;31mValueError\u001b[0m: not enough values to unpack (expected 4, got 3)"
     ]
    }
   ],
   "source": [
    "a,b,c,d = 23,'xyz' , 45345.345"
   ]
  },
  {
   "cell_type": "code",
   "execution_count": 90,
   "id": "9b078ac8",
   "metadata": {},
   "outputs": [
    {
     "ename": "ValueError",
     "evalue": "too many values to unpack (expected 3)",
     "output_type": "error",
     "traceback": [
      "\u001b[1;31m---------------------------------------------------------------------------\u001b[0m",
      "\u001b[1;31mValueError\u001b[0m                                Traceback (most recent call last)",
      "Cell \u001b[1;32mIn[90], line 1\u001b[0m\n\u001b[1;32m----> 1\u001b[0m a,b,c \u001b[38;5;241m=\u001b[39m \u001b[38;5;241m23\u001b[39m,\u001b[38;5;124m'\u001b[39m\u001b[38;5;124mxyz\u001b[39m\u001b[38;5;124m'\u001b[39m , \u001b[38;5;241m45345.345\u001b[39m, \u001b[38;5;124m'\u001b[39m\u001b[38;5;124mabc\u001b[39m\u001b[38;5;124m'\u001b[39m\n",
      "\u001b[1;31mValueError\u001b[0m: too many values to unpack (expected 3)"
     ]
    }
   ],
   "source": [
    "a,b,c = 23,'xyz' , 45345.345, 'abc'"
   ]
  },
  {
   "cell_type": "code",
   "execution_count": 92,
   "id": "08f5a174",
   "metadata": {},
   "outputs": [
    {
     "data": {
      "text/plain": [
       "[('Israr', 'gmail.com'),\n",
       " ('Balraj', 'yahoo.com'),\n",
       " ('Tania', 'gmail.com'),\n",
       " ('Bini', 'hotmail.com'),\n",
       " ('Meena', 'yahoo.com')]"
      ]
     },
     "execution_count": 92,
     "metadata": {},
     "output_type": "execute_result"
    }
   ],
   "source": [
    "a= ['Israr' , 'Balraj' , 'Tania' , 'Bini' , 'Meena']\n",
    "\n",
    "\n",
    "b = ['gmail.com' , 'yahoo.com' , 'gmail.com' , 'hotmail.com' , 'yahoo.com']\n",
    "\n",
    "\n",
    "list(zip(a,b))"
   ]
  },
  {
   "cell_type": "code",
   "execution_count": 98,
   "id": "bb61d28b",
   "metadata": {},
   "outputs": [
    {
     "name": "stdout",
     "output_type": "stream",
     "text": [
      "Israr gmail.com\n",
      "Balraj yahoo.com\n",
      "Tania gmail.com\n",
      "Bini hotmail.com\n",
      "Meena yahoo.com\n"
     ]
    }
   ],
   "source": [
    "for i,j in zip(a,b):\n",
    "    print(i,j)"
   ]
  },
  {
   "cell_type": "code",
   "execution_count": 99,
   "id": "c1cfd3cb",
   "metadata": {},
   "outputs": [
    {
     "ename": "ValueError",
     "evalue": "not enough values to unpack (expected 3, got 2)",
     "output_type": "error",
     "traceback": [
      "\u001b[1;31m---------------------------------------------------------------------------\u001b[0m",
      "\u001b[1;31mValueError\u001b[0m                                Traceback (most recent call last)",
      "Cell \u001b[1;32mIn[99], line 1\u001b[0m\n\u001b[1;32m----> 1\u001b[0m \u001b[38;5;28;01mfor\u001b[39;00m i,j,k \u001b[38;5;129;01min\u001b[39;00m \u001b[38;5;28mzip\u001b[39m(a,b):\n\u001b[0;32m      2\u001b[0m     \u001b[38;5;28mprint\u001b[39m(i,j)\n",
      "\u001b[1;31mValueError\u001b[0m: not enough values to unpack (expected 3, got 2)"
     ]
    }
   ],
   "source": [
    "for i,j,k in zip(a,b):\n",
    "    print(i,j)"
   ]
  },
  {
   "cell_type": "code",
   "execution_count": 102,
   "id": "6fb4d535",
   "metadata": {},
   "outputs": [
    {
     "data": {
      "text/plain": [
       "[(0, 't'),\n",
       " (1, 'h'),\n",
       " (2, 'i'),\n",
       " (3, 's'),\n",
       " (4, ' '),\n",
       " (5, 'i'),\n",
       " (6, 's'),\n",
       " (7, ' '),\n",
       " (8, 'p'),\n",
       " (9, 'y'),\n",
       " (10, 't'),\n",
       " (11, 'h'),\n",
       " (12, 'o'),\n",
       " (13, 'n'),\n",
       " (14, 's'),\n",
       " (15, ' '),\n",
       " (16, 'c'),\n",
       " (17, 'l'),\n",
       " (18, 'a'),\n",
       " (19, 's'),\n",
       " (20, 's')]"
      ]
     },
     "execution_count": 102,
     "metadata": {},
     "output_type": "execute_result"
    }
   ],
   "source": [
    "a = 'this is pythons class'\n",
    "\n",
    "\n",
    "list(enumerate(a))"
   ]
  },
  {
   "cell_type": "code",
   "execution_count": 103,
   "id": "0420ff2d",
   "metadata": {},
   "outputs": [
    {
     "data": {
      "text/plain": [
       "[(100, 't'),\n",
       " (101, 'h'),\n",
       " (102, 'i'),\n",
       " (103, 's'),\n",
       " (104, ' '),\n",
       " (105, 'i'),\n",
       " (106, 's'),\n",
       " (107, ' '),\n",
       " (108, 'p'),\n",
       " (109, 'y'),\n",
       " (110, 't'),\n",
       " (111, 'h'),\n",
       " (112, 'o'),\n",
       " (113, 'n'),\n",
       " (114, 's'),\n",
       " (115, ' '),\n",
       " (116, 'c'),\n",
       " (117, 'l'),\n",
       " (118, 'a'),\n",
       " (119, 's'),\n",
       " (120, 's')]"
      ]
     },
     "execution_count": 103,
     "metadata": {},
     "output_type": "execute_result"
    }
   ],
   "source": [
    "a = 'this is pythons class'\n",
    "\n",
    "\n",
    "list(enumerate(a , start= 100))"
   ]
  },
  {
   "cell_type": "code",
   "execution_count": 107,
   "id": "05149cf0",
   "metadata": {},
   "outputs": [
    {
     "name": "stdout",
     "output_type": "stream",
     "text": [
      "3\n",
      "6\n",
      "14\n",
      "19\n",
      "20\n"
     ]
    }
   ],
   "source": [
    "a = 'this is pythons class'\n",
    "\n",
    "for i,j in enumerate(a):\n",
    "    if j == 's':\n",
    "        print(i)"
   ]
  },
  {
   "cell_type": "code",
   "execution_count": 115,
   "id": "c0085fba",
   "metadata": {},
   "outputs": [
    {
     "name": "stdout",
     "output_type": "stream",
     "text": [
      "3\n",
      "6\n",
      "14\n",
      "19\n",
      "20\n"
     ]
    }
   ],
   "source": [
    "a = 'this is pythons class'\n",
    "\n",
    "for i in enumerate(a):\n",
    "    if 's' in i:\n",
    "        print(i[0])"
   ]
  },
  {
   "cell_type": "markdown",
   "id": "ff3744bc",
   "metadata": {},
   "source": [
    "# Dictionary"
   ]
  },
  {
   "cell_type": "code",
   "execution_count": 116,
   "id": "08e6066a",
   "metadata": {},
   "outputs": [
    {
     "name": "stdout",
     "output_type": "stream",
     "text": [
      "{'a': 34, 'b': 54} <class 'dict'>\n"
     ]
    }
   ],
   "source": [
    "a = {'a' : 34 , 'b':54}\n",
    "\n",
    "\n",
    "print(a , type(a))"
   ]
  },
  {
   "cell_type": "code",
   "execution_count": 117,
   "id": "42f92cda",
   "metadata": {},
   "outputs": [
    {
     "ename": "KeyError",
     "evalue": "0",
     "output_type": "error",
     "traceback": [
      "\u001b[1;31m---------------------------------------------------------------------------\u001b[0m",
      "\u001b[1;31mKeyError\u001b[0m                                  Traceback (most recent call last)",
      "Cell \u001b[1;32mIn[117], line 3\u001b[0m\n\u001b[0;32m      1\u001b[0m a \u001b[38;5;241m=\u001b[39m {\u001b[38;5;124m'\u001b[39m\u001b[38;5;124mname\u001b[39m\u001b[38;5;124m'\u001b[39m : \u001b[38;5;124m'\u001b[39m\u001b[38;5;124mxyz\u001b[39m\u001b[38;5;124m'\u001b[39m , \u001b[38;5;124m'\u001b[39m\u001b[38;5;124mage\u001b[39m\u001b[38;5;124m'\u001b[39m:\u001b[38;5;241m34\u001b[39m , \u001b[38;5;124m'\u001b[39m\u001b[38;5;124msalary\u001b[39m\u001b[38;5;124m'\u001b[39m:\u001b[38;5;241m434234324\u001b[39m}\n\u001b[1;32m----> 3\u001b[0m a[\u001b[38;5;241m0\u001b[39m]\n",
      "\u001b[1;31mKeyError\u001b[0m: 0"
     ]
    }
   ],
   "source": [
    "a = {'name' : 'xyz' , 'age':34 , 'salary':434234324}\n",
    "\n",
    "a[0]"
   ]
  },
  {
   "cell_type": "code",
   "execution_count": 118,
   "id": "65d32989",
   "metadata": {},
   "outputs": [
    {
     "data": {
      "text/plain": [
       "'xyz'"
      ]
     },
     "execution_count": 118,
     "metadata": {},
     "output_type": "execute_result"
    }
   ],
   "source": [
    "a = {'name' : 'xyz' , 'age':34 , 'salary':434234324}\n",
    "\n",
    "a['name']"
   ]
  },
  {
   "cell_type": "markdown",
   "id": "eeac4a92",
   "metadata": {},
   "source": [
    "# Creating a dic"
   ]
  },
  {
   "cell_type": "code",
   "execution_count": 120,
   "id": "ade6939c",
   "metadata": {},
   "outputs": [
    {
     "name": "stdout",
     "output_type": "stream",
     "text": [
      "{'name': 'xyz', 'age': 34, 'salary': 434234324} <class 'dict'>\n"
     ]
    }
   ],
   "source": [
    "# If you already know the elements\n",
    "\n",
    "a = {'name' : 'xyz' , 'age':34 , 'salary':434234324}\n",
    "\n",
    "print(a , type(a))"
   ]
  },
  {
   "cell_type": "markdown",
   "id": "438f57c5",
   "metadata": {},
   "source": [
    "#### Taking user input"
   ]
  },
  {
   "cell_type": "code",
   "execution_count": 121,
   "id": "65cf1394",
   "metadata": {},
   "outputs": [
    {
     "name": "stdout",
     "output_type": "stream",
     "text": [
      "{'a' : 34 , 'b':564}\n",
      "{'a': 34, 'b': 564} <class 'dict'>\n"
     ]
    }
   ],
   "source": [
    "a = eval(input())\n",
    "\n",
    "print(a , type(a))"
   ]
  },
  {
   "cell_type": "markdown",
   "id": "caf6562f",
   "metadata": {},
   "source": [
    "### Type casting"
   ]
  },
  {
   "cell_type": "code",
   "execution_count": 123,
   "id": "d7b32abd",
   "metadata": {},
   "outputs": [
    {
     "ename": "ValueError",
     "evalue": "dictionary update sequence element #0 has length 1; 2 is required",
     "output_type": "error",
     "traceback": [
      "\u001b[1;31m---------------------------------------------------------------------------\u001b[0m",
      "\u001b[1;31mValueError\u001b[0m                                Traceback (most recent call last)",
      "Cell \u001b[1;32mIn[123], line 4\u001b[0m\n\u001b[0;32m      1\u001b[0m a \u001b[38;5;241m=\u001b[39m \u001b[38;5;124m'\u001b[39m\u001b[38;5;124mxyz\u001b[39m\u001b[38;5;124m'\u001b[39m\n\u001b[1;32m----> 4\u001b[0m \u001b[38;5;28mdict\u001b[39m(a)\n",
      "\u001b[1;31mValueError\u001b[0m: dictionary update sequence element #0 has length 1; 2 is required"
     ]
    }
   ],
   "source": [
    "a = 'xyz'\n",
    "\n",
    "dict(a)"
   ]
  },
  {
   "cell_type": "code",
   "execution_count": 124,
   "id": "df705630",
   "metadata": {},
   "outputs": [
    {
     "ename": "ValueError",
     "evalue": "dictionary update sequence element #0 has length 3; 2 is required",
     "output_type": "error",
     "traceback": [
      "\u001b[1;31m---------------------------------------------------------------------------\u001b[0m",
      "\u001b[1;31mValueError\u001b[0m                                Traceback (most recent call last)",
      "Cell \u001b[1;32mIn[124], line 4\u001b[0m\n\u001b[0;32m      1\u001b[0m a \u001b[38;5;241m=\u001b[39m [\u001b[38;5;124m'\u001b[39m\u001b[38;5;124mxyz\u001b[39m\u001b[38;5;124m'\u001b[39m , \u001b[38;5;124m'\u001b[39m\u001b[38;5;124mabc\u001b[39m\u001b[38;5;124m'\u001b[39m]\n\u001b[1;32m----> 4\u001b[0m \u001b[38;5;28mdict\u001b[39m(a)\n",
      "\u001b[1;31mValueError\u001b[0m: dictionary update sequence element #0 has length 3; 2 is required"
     ]
    }
   ],
   "source": [
    "a = ['xyz' , 'abc']\n",
    "\n",
    "dict(a)"
   ]
  },
  {
   "cell_type": "code",
   "execution_count": 126,
   "id": "1e1fe94b",
   "metadata": {},
   "outputs": [
    {
     "data": {
      "text/plain": [
       "{1: 'a', 2: 'b', 3: 'c'}"
      ]
     },
     "execution_count": 126,
     "metadata": {},
     "output_type": "execute_result"
    }
   ],
   "source": [
    "# A seq inside a seq\n",
    "\n",
    "\n",
    "a = ([1,'a'] , (2 , 'b') , [3 , 'c'])\n",
    "\n",
    "dict(a)"
   ]
  },
  {
   "cell_type": "code",
   "execution_count": 130,
   "id": "ade20e7f",
   "metadata": {},
   "outputs": [
    {
     "data": {
      "text/plain": [
       "[('xyz', 32), ('abc', 34), ('pqr', 54)]"
      ]
     },
     "execution_count": 130,
     "metadata": {},
     "output_type": "execute_result"
    }
   ],
   "source": [
    "a = ['xyz' , 'abc' , 'pqr']\n",
    "\n",
    "b = [32,34,54]\n",
    "\n",
    "\n",
    "list(zip(a,b))"
   ]
  },
  {
   "cell_type": "code",
   "execution_count": 131,
   "id": "7ae42074",
   "metadata": {},
   "outputs": [
    {
     "data": {
      "text/plain": [
       "{'xyz': 32, 'abc': 34, 'pqr': 54}"
      ]
     },
     "execution_count": 131,
     "metadata": {},
     "output_type": "execute_result"
    }
   ],
   "source": [
    "a = ['xyz' , 'abc' , 'pqr']\n",
    "\n",
    "b = [32,34,54]\n",
    "\n",
    "\n",
    "dict(zip(a,b))"
   ]
  },
  {
   "cell_type": "markdown",
   "id": "b438568c",
   "metadata": {},
   "source": [
    "# Properties\n",
    "\n",
    "\n",
    "- It is a collection of key and a value pair\n",
    "- A key and a value together is considered as an item\n",
    "- each items are sepreated by ,\n",
    "- a key and a value is seperated by :\n",
    "- a key cannot be duplicated - it'll update the latest value\n",
    "- Whereas value duplicated\n",
    "- A key cannot be an mutable data type\n",
    "- A value can be anything mutable / immutable\n",
    "- It is not a seq hence no concatination , repetation , indexing , sling\n",
    "- membership op are possible on keys not on values\n",
    "- It is an mutable data type"
   ]
  },
  {
   "cell_type": "code",
   "execution_count": null,
   "id": "8b8559b2",
   "metadata": {},
   "outputs": [],
   "source": [
    "a = {'name' : 'xyz' , 'age':34 , 'salary':434234324}\n",
    "\n",
    "\n"
   ]
  },
  {
   "cell_type": "code",
   "execution_count": 132,
   "id": "a86ee3a0",
   "metadata": {},
   "outputs": [
    {
     "data": {
      "text/plain": [
       "{'name': 'abc', 'age': 34, 'salary': 434234324}"
      ]
     },
     "execution_count": 132,
     "metadata": {},
     "output_type": "execute_result"
    }
   ],
   "source": [
    "# a key cannot be duplicated - it'll update the latest value\n",
    "\n",
    "a = {'name' : 'xyz' , 'age':34 , 'salary':434234324 , 'name' :'abc'}\n",
    "\n",
    "a"
   ]
  },
  {
   "cell_type": "code",
   "execution_count": 133,
   "id": "00539d66",
   "metadata": {},
   "outputs": [
    {
     "data": {
      "text/plain": [
       "{'name': 'xyz', 'age': 'xyz', 'salary': 434234324}"
      ]
     },
     "execution_count": 133,
     "metadata": {},
     "output_type": "execute_result"
    }
   ],
   "source": [
    "a = {'name' : 'xyz' , 'age': 'xyz' , 'salary':434234324 }\n",
    "\n",
    "a"
   ]
  },
  {
   "cell_type": "code",
   "execution_count": 139,
   "id": "727069f8",
   "metadata": {},
   "outputs": [
    {
     "ename": "TypeError",
     "evalue": "unhashable type: 'list'",
     "output_type": "error",
     "traceback": [
      "\u001b[1;31m---------------------------------------------------------------------------\u001b[0m",
      "\u001b[1;31mTypeError\u001b[0m                                 Traceback (most recent call last)",
      "Cell \u001b[1;32mIn[139], line 1\u001b[0m\n\u001b[1;32m----> 1\u001b[0m a \u001b[38;5;241m=\u001b[39m {[\u001b[38;5;241m2\u001b[39m,\u001b[38;5;241m3\u001b[39m,\u001b[38;5;241m4\u001b[39m]: \u001b[38;5;124m'\u001b[39m\u001b[38;5;124mxyz\u001b[39m\u001b[38;5;124m'\u001b[39m , \u001b[38;5;124m'\u001b[39m\u001b[38;5;124mage\u001b[39m\u001b[38;5;124m'\u001b[39m:\u001b[38;5;241m34\u001b[39m , \u001b[38;5;124m'\u001b[39m\u001b[38;5;124msalary\u001b[39m\u001b[38;5;124m'\u001b[39m:\u001b[38;5;241m434234324\u001b[39m}\n\u001b[0;32m      4\u001b[0m a\n",
      "\u001b[1;31mTypeError\u001b[0m: unhashable type: 'list'"
     ]
    }
   ],
   "source": [
    "a = {[2,3,4]: 'xyz' , 'age':34 , 'salary':434234324}\n",
    "\n",
    "\n",
    "a"
   ]
  },
  {
   "cell_type": "code",
   "execution_count": 140,
   "id": "08f6e7f6",
   "metadata": {},
   "outputs": [
    {
     "ename": "TypeError",
     "evalue": "unhashable type: 'dict'",
     "output_type": "error",
     "traceback": [
      "\u001b[1;31m---------------------------------------------------------------------------\u001b[0m",
      "\u001b[1;31mTypeError\u001b[0m                                 Traceback (most recent call last)",
      "Cell \u001b[1;32mIn[140], line 1\u001b[0m\n\u001b[1;32m----> 1\u001b[0m a \u001b[38;5;241m=\u001b[39m {{\u001b[38;5;124m'\u001b[39m\u001b[38;5;124ma\u001b[39m\u001b[38;5;124m'\u001b[39m : \u001b[38;5;241m32\u001b[39m}: \u001b[38;5;124m'\u001b[39m\u001b[38;5;124mxyz\u001b[39m\u001b[38;5;124m'\u001b[39m , \u001b[38;5;124m'\u001b[39m\u001b[38;5;124mage\u001b[39m\u001b[38;5;124m'\u001b[39m:\u001b[38;5;241m34\u001b[39m , \u001b[38;5;124m'\u001b[39m\u001b[38;5;124msalary\u001b[39m\u001b[38;5;124m'\u001b[39m:\u001b[38;5;241m434234324\u001b[39m}\n\u001b[0;32m      4\u001b[0m a\n",
      "\u001b[1;31mTypeError\u001b[0m: unhashable type: 'dict'"
     ]
    }
   ],
   "source": [
    "a = {{'a' : 32}: 'xyz' , 'age':34 , 'salary':434234324}\n",
    "\n",
    "\n",
    "a"
   ]
  },
  {
   "cell_type": "code",
   "execution_count": 141,
   "id": "b7eac87b",
   "metadata": {},
   "outputs": [
    {
     "ename": "TypeError",
     "evalue": "unhashable type: 'set'",
     "output_type": "error",
     "traceback": [
      "\u001b[1;31m---------------------------------------------------------------------------\u001b[0m",
      "\u001b[1;31mTypeError\u001b[0m                                 Traceback (most recent call last)",
      "Cell \u001b[1;32mIn[141], line 1\u001b[0m\n\u001b[1;32m----> 1\u001b[0m a \u001b[38;5;241m=\u001b[39m {{\u001b[38;5;241m23\u001b[39m,\u001b[38;5;241m43\u001b[39m,\u001b[38;5;241m4\u001b[39m}: \u001b[38;5;124m'\u001b[39m\u001b[38;5;124mxyz\u001b[39m\u001b[38;5;124m'\u001b[39m , \u001b[38;5;124m'\u001b[39m\u001b[38;5;124mage\u001b[39m\u001b[38;5;124m'\u001b[39m:\u001b[38;5;241m34\u001b[39m , \u001b[38;5;124m'\u001b[39m\u001b[38;5;124msalary\u001b[39m\u001b[38;5;124m'\u001b[39m:\u001b[38;5;241m434234324\u001b[39m}\n\u001b[0;32m      4\u001b[0m a\n",
      "\u001b[1;31mTypeError\u001b[0m: unhashable type: 'set'"
     ]
    }
   ],
   "source": [
    "a = {{23,43,4}: 'xyz' , 'age':34 , 'salary':434234324}\n",
    "\n",
    "\n",
    "a"
   ]
  },
  {
   "cell_type": "code",
   "execution_count": 142,
   "id": "d8618808",
   "metadata": {},
   "outputs": [
    {
     "data": {
      "text/plain": [
       "{(23, 43, 4): 'xyz', 'age': 34, 'salary': 434234324}"
      ]
     },
     "execution_count": 142,
     "metadata": {},
     "output_type": "execute_result"
    }
   ],
   "source": [
    "a = {(23,43,4): 'xyz' , 'age':34 , 'salary':434234324}\n",
    "\n",
    "\n",
    "a"
   ]
  },
  {
   "cell_type": "code",
   "execution_count": null,
   "id": "91cef14c",
   "metadata": {},
   "outputs": [],
   "source": [
    "# A key can be\n",
    "\n",
    "- str\n",
    "- int\n",
    "- float\n",
    "- complex\n",
    "- bool\n",
    "- None\n",
    "- tuple\n",
    "\n",
    "# A key cannot be\n",
    "- list\n",
    "- dict\n",
    "- set"
   ]
  },
  {
   "cell_type": "code",
   "execution_count": 144,
   "id": "ec7f7db2",
   "metadata": {},
   "outputs": [
    {
     "data": {
      "text/plain": [
       "{'name': ['xyz', 'abc'], 'age': 34, 'salary': {'a': 324}}"
      ]
     },
     "execution_count": 144,
     "metadata": {},
     "output_type": "execute_result"
    }
   ],
   "source": [
    "a = {'name': ['xyz' , 'abc'] , 'age':34 , 'salary':{'a' :324}}\n",
    "\n",
    "\n",
    "a"
   ]
  },
  {
   "cell_type": "code",
   "execution_count": 145,
   "id": "d6ca699b",
   "metadata": {},
   "outputs": [
    {
     "ename": "TypeError",
     "evalue": "unsupported operand type(s) for +: 'dict' and 'dict'",
     "output_type": "error",
     "traceback": [
      "\u001b[1;31m---------------------------------------------------------------------------\u001b[0m",
      "\u001b[1;31mTypeError\u001b[0m                                 Traceback (most recent call last)",
      "Cell \u001b[1;32mIn[145], line 6\u001b[0m\n\u001b[0;32m      1\u001b[0m a \u001b[38;5;241m=\u001b[39m {\u001b[38;5;124m'\u001b[39m\u001b[38;5;124mname\u001b[39m\u001b[38;5;124m'\u001b[39m : \u001b[38;5;124m'\u001b[39m\u001b[38;5;124mxyz\u001b[39m\u001b[38;5;124m'\u001b[39m , \u001b[38;5;124m'\u001b[39m\u001b[38;5;124mage\u001b[39m\u001b[38;5;124m'\u001b[39m: \u001b[38;5;124m'\u001b[39m\u001b[38;5;124mxyz\u001b[39m\u001b[38;5;124m'\u001b[39m , \u001b[38;5;124m'\u001b[39m\u001b[38;5;124msalary\u001b[39m\u001b[38;5;124m'\u001b[39m:\u001b[38;5;241m434234324\u001b[39m }\n\u001b[0;32m      3\u001b[0m b \u001b[38;5;241m=\u001b[39m {\u001b[38;5;124m'\u001b[39m\u001b[38;5;124mpan\u001b[39m\u001b[38;5;124m'\u001b[39m :\u001b[38;5;241m43434\u001b[39m , \u001b[38;5;124m'\u001b[39m\u001b[38;5;124madhar\u001b[39m\u001b[38;5;124m'\u001b[39m:\u001b[38;5;241m654654566\u001b[39m}\n\u001b[1;32m----> 6\u001b[0m a\u001b[38;5;241m+\u001b[39mb\n",
      "\u001b[1;31mTypeError\u001b[0m: unsupported operand type(s) for +: 'dict' and 'dict'"
     ]
    }
   ],
   "source": [
    "# Concatination\n",
    "\n",
    "a = {'name' : 'xyz' , 'age': 'xyz' , 'salary':434234324 }\n",
    "\n",
    "b = {'pan' :43434 , 'adhar':654654566}\n",
    "\n",
    "\n",
    "a+b"
   ]
  },
  {
   "cell_type": "code",
   "execution_count": 146,
   "id": "b8ea6462",
   "metadata": {},
   "outputs": [
    {
     "ename": "TypeError",
     "evalue": "unsupported operand type(s) for *: 'dict' and 'int'",
     "output_type": "error",
     "traceback": [
      "\u001b[1;31m---------------------------------------------------------------------------\u001b[0m",
      "\u001b[1;31mTypeError\u001b[0m                                 Traceback (most recent call last)",
      "Cell \u001b[1;32mIn[146], line 8\u001b[0m\n\u001b[0;32m      3\u001b[0m a \u001b[38;5;241m=\u001b[39m {\u001b[38;5;124m'\u001b[39m\u001b[38;5;124mname\u001b[39m\u001b[38;5;124m'\u001b[39m : \u001b[38;5;124m'\u001b[39m\u001b[38;5;124mxyz\u001b[39m\u001b[38;5;124m'\u001b[39m , \u001b[38;5;124m'\u001b[39m\u001b[38;5;124mage\u001b[39m\u001b[38;5;124m'\u001b[39m: \u001b[38;5;124m'\u001b[39m\u001b[38;5;124mxyz\u001b[39m\u001b[38;5;124m'\u001b[39m , \u001b[38;5;124m'\u001b[39m\u001b[38;5;124msalary\u001b[39m\u001b[38;5;124m'\u001b[39m:\u001b[38;5;241m434234324\u001b[39m }\n\u001b[0;32m      5\u001b[0m b \u001b[38;5;241m=\u001b[39m {\u001b[38;5;124m'\u001b[39m\u001b[38;5;124mpan\u001b[39m\u001b[38;5;124m'\u001b[39m :\u001b[38;5;241m43434\u001b[39m , \u001b[38;5;124m'\u001b[39m\u001b[38;5;124madhar\u001b[39m\u001b[38;5;124m'\u001b[39m:\u001b[38;5;241m654654566\u001b[39m}\n\u001b[1;32m----> 8\u001b[0m a \u001b[38;5;241m*\u001b[39m \u001b[38;5;241m2\u001b[39m\n",
      "\u001b[1;31mTypeError\u001b[0m: unsupported operand type(s) for *: 'dict' and 'int'"
     ]
    }
   ],
   "source": [
    "# repetation\n",
    "\n",
    "a = {'name' : 'xyz' , 'age': 'xyz' , 'salary':434234324 }\n",
    "\n",
    "\n",
    "\n",
    "a * 2"
   ]
  },
  {
   "cell_type": "code",
   "execution_count": 148,
   "id": "58eed4f0",
   "metadata": {},
   "outputs": [
    {
     "ename": "TypeError",
     "evalue": "unhashable type: 'slice'",
     "output_type": "error",
     "traceback": [
      "\u001b[1;31m---------------------------------------------------------------------------\u001b[0m",
      "\u001b[1;31mTypeError\u001b[0m                                 Traceback (most recent call last)",
      "Cell \u001b[1;32mIn[148], line 4\u001b[0m\n\u001b[0;32m      1\u001b[0m a \u001b[38;5;241m=\u001b[39m {\u001b[38;5;124m'\u001b[39m\u001b[38;5;124mname\u001b[39m\u001b[38;5;124m'\u001b[39m : \u001b[38;5;124m'\u001b[39m\u001b[38;5;124mxyz\u001b[39m\u001b[38;5;124m'\u001b[39m , \u001b[38;5;124m'\u001b[39m\u001b[38;5;124mage\u001b[39m\u001b[38;5;124m'\u001b[39m: \u001b[38;5;124m'\u001b[39m\u001b[38;5;124mxyz\u001b[39m\u001b[38;5;124m'\u001b[39m , \u001b[38;5;124m'\u001b[39m\u001b[38;5;124msalary\u001b[39m\u001b[38;5;124m'\u001b[39m:\u001b[38;5;241m434234324\u001b[39m }\n\u001b[1;32m----> 4\u001b[0m a[\u001b[38;5;241m0\u001b[39m:\u001b[38;5;241m3\u001b[39m]\n",
      "\u001b[1;31mTypeError\u001b[0m: unhashable type: 'slice'"
     ]
    }
   ],
   "source": [
    "a = {'name' : 'xyz' , 'age': 'xyz' , 'salary':434234324 }\n",
    "\n",
    "\n",
    "a[0:3]"
   ]
  },
  {
   "cell_type": "code",
   "execution_count": 149,
   "id": "95f3ee69",
   "metadata": {},
   "outputs": [
    {
     "data": {
      "text/plain": [
       "True"
      ]
     },
     "execution_count": 149,
     "metadata": {},
     "output_type": "execute_result"
    }
   ],
   "source": [
    "a = {'name' : 'xyz' , 'age': 23 , 'salary':434234324 }\n",
    "\n",
    "\n",
    "'age' in a"
   ]
  },
  {
   "cell_type": "code",
   "execution_count": 150,
   "id": "e9947bc1",
   "metadata": {},
   "outputs": [
    {
     "data": {
      "text/plain": [
       "False"
      ]
     },
     "execution_count": 150,
     "metadata": {},
     "output_type": "execute_result"
    }
   ],
   "source": [
    "a = {'name' : 'xyz' , 'age': 23 , 'salary':434234324 }\n",
    "\n",
    "\n",
    "'xyz' in a"
   ]
  },
  {
   "cell_type": "code",
   "execution_count": 152,
   "id": "de06c541",
   "metadata": {},
   "outputs": [
    {
     "data": {
      "text/plain": [
       "{'name': 'xyz', 'age': 99, 'salary': 434234324}"
      ]
     },
     "execution_count": 152,
     "metadata": {},
     "output_type": "execute_result"
    }
   ],
   "source": [
    "a = {'name' : 'xyz' , 'age':34 , 'salary':434234324}\n",
    "\n",
    "\n",
    "a['age'] = 99\n",
    "\n",
    "a"
   ]
  },
  {
   "cell_type": "code",
   "execution_count": 153,
   "id": "957556ca",
   "metadata": {},
   "outputs": [
    {
     "data": {
      "text/plain": [
       "{'emp_1': {'name': 'Madhumita', 'age': 28, 'salary': 456456}}"
      ]
     },
     "execution_count": 153,
     "metadata": {},
     "output_type": "execute_result"
    }
   ],
   "source": [
    "a = {'emp_1' : {'name' : 'Israr' , 'age':44 , 'salary':434234324} ,\n",
    "    'emp_1' : {'name' : 'Abhishek' , 'age':33 , 'salary':545345} ,\n",
    "    'emp_1' : {'name' : 'Dona' , 'age':23 , 'salary':5346546} ,\n",
    "    'emp_1' : {'name' : 'Madhumita' , 'age':28 , 'salary':456456} }\n",
    "\n",
    "\n",
    "a"
   ]
  },
  {
   "cell_type": "code",
   "execution_count": 154,
   "id": "f653fe86",
   "metadata": {},
   "outputs": [
    {
     "data": {
      "text/plain": [
       "{'emp_1': {'name': 'Israr', 'age': 44, 'salary': 434234324},\n",
       " 'emp_2': {'name': 'Abhishek', 'age': 33, 'salary': 545345},\n",
       " 'emp_3': {'name': 'Dona', 'age': 23, 'salary': 5346546},\n",
       " 'emp_4': {'name': 'Madhumita', 'age': 28, 'salary': 456456}}"
      ]
     },
     "execution_count": 154,
     "metadata": {},
     "output_type": "execute_result"
    }
   ],
   "source": [
    "a = {'emp_1' : {'name' : 'Israr' , 'age':44 , 'salary':434234324} ,\n",
    "    'emp_2' : {'name' : 'Abhishek' , 'age':33 , 'salary':545345} ,\n",
    "    'emp_3' : {'name' : 'Dona' , 'age':23 , 'salary':5346546} ,\n",
    "    'emp_4' : {'name' : 'Madhumita' , 'age':28 , 'salary':456456} }\n",
    "\n",
    "\n",
    "a"
   ]
  },
  {
   "cell_type": "code",
   "execution_count": 156,
   "id": "2518f62a",
   "metadata": {},
   "outputs": [
    {
     "data": {
      "text/plain": [
       "{'name': 'Dona', 'age': 23, 'salary': 5346546}"
      ]
     },
     "execution_count": 156,
     "metadata": {},
     "output_type": "execute_result"
    }
   ],
   "source": [
    "a['emp_3']"
   ]
  },
  {
   "cell_type": "code",
   "execution_count": 157,
   "id": "52a80821",
   "metadata": {},
   "outputs": [
    {
     "data": {
      "text/plain": [
       "33"
      ]
     },
     "execution_count": 157,
     "metadata": {},
     "output_type": "execute_result"
    }
   ],
   "source": [
    "a['emp_2']['age']"
   ]
  },
  {
   "cell_type": "code",
   "execution_count": 163,
   "id": "2850dde8",
   "metadata": {},
   "outputs": [
    {
     "data": {
      "text/plain": [
       "33"
      ]
     },
     "execution_count": 163,
     "metadata": {},
     "output_type": "execute_result"
    }
   ],
   "source": [
    "a['emp_2']['age']"
   ]
  },
  {
   "cell_type": "code",
   "execution_count": 158,
   "id": "283433ab",
   "metadata": {},
   "outputs": [
    {
     "data": {
      "text/plain": [
       "{'emp_1': {'name': 'Israr', 'age': 44, 'salary': 434234324},\n",
       " 'emp_2': {'name': 'Abhishek', 'age': 33, 'salary': 545345},\n",
       " 'emp_3': {'name': 'Dona', 'age': 23, 'salary': 5346546},\n",
       " 'emp_4': {'name': 'Madhumita', 'age': 28, 'salary': 456456}}"
      ]
     },
     "execution_count": 158,
     "metadata": {},
     "output_type": "execute_result"
    }
   ],
   "source": [
    "a = {'emp_1' : {'name' : 'Israr' , 'age':44 , 'salary':434234324} ,\n",
    "    'emp_2' : {'name' : 'Abhishek' , 'age':33 , 'salary':545345} ,\n",
    "    'emp_3' : {'name' : 'Dona' , 'age':23 , 'salary':5346546} ,\n",
    "    'emp_4' : {'name' : 'Madhumita' , 'age':28 , 'salary':456456} }\n",
    "\n",
    "\n",
    "a"
   ]
  },
  {
   "cell_type": "code",
   "execution_count": 160,
   "id": "40b592cd",
   "metadata": {},
   "outputs": [
    {
     "name": "stdout",
     "output_type": "stream",
     "text": [
      "Israr\n",
      "Abhishek\n"
     ]
    }
   ],
   "source": [
    "# Extract the names of those emp whose age >= 30\n",
    "\n",
    "for i in a:\n",
    "    if a[i]['age'] >= 30:\n",
    "        print(a[i]['name'])"
   ]
  },
  {
   "cell_type": "code",
   "execution_count": null,
   "id": "86b41cf5",
   "metadata": {},
   "outputs": [],
   "source": []
  }
 ],
 "metadata": {
  "kernelspec": {
   "display_name": "Python 3 (ipykernel)",
   "language": "python",
   "name": "python3"
  },
  "language_info": {
   "codemirror_mode": {
    "name": "ipython",
    "version": 3
   },
   "file_extension": ".py",
   "mimetype": "text/x-python",
   "name": "python",
   "nbconvert_exporter": "python",
   "pygments_lexer": "ipython3",
   "version": "3.11.4"
  }
 },
 "nbformat": 4,
 "nbformat_minor": 5
}
