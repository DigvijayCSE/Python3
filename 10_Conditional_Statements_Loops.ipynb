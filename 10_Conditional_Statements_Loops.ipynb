{
 "cells": [
  {
   "cell_type": "markdown",
   "id": "9ff51e3a",
   "metadata": {},
   "source": [
    "# Conditional statements"
   ]
  },
  {
   "cell_type": "code",
   "execution_count": null,
   "id": "b8603e28",
   "metadata": {},
   "outputs": [],
   "source": [
    "stat1\n",
    "stat2\n",
    "if condition :\n",
    "    stat3\n",
    "    stat4\n",
    "stat5\n",
    "    \n",
    "T --> 1,2,3,4,5\n",
    "F --> 1,2,5"
   ]
  },
  {
   "cell_type": "code",
   "execution_count": null,
   "id": "008712bb",
   "metadata": {},
   "outputs": [],
   "source": [
    "stat1\n",
    "stat2\n",
    "if condition :\n",
    "    stat3\n",
    "    stat4\n",
    "else:\n",
    "    stat6\n",
    "    stat7\n",
    "stat5\n",
    "    \n",
    "T --> 1,2,3,4,5\n",
    "F --> 1,2,6,7,5"
   ]
  },
  {
   "cell_type": "code",
   "execution_count": null,
   "id": "b70ff6dc",
   "metadata": {},
   "outputs": [],
   "source": [
    "stat1\n",
    "stat2\n",
    "if condition 1:\n",
    "    stat3\n",
    "    stat4\n",
    "if condition 2:\n",
    "    stat8\n",
    "    stat9\n",
    "if condition 3:\n",
    "    stat10\n",
    "    stat11\n",
    "else:\n",
    "    stat6\n",
    "    stat7\n",
    "stat5\n",
    "    \n",
    "1 and 3 are F and rest all are T --> 1,2,8,9,6,7,5\n",
    "1 and 3 are T rest all are F -> 1,2,3,4,10,11,5"
   ]
  },
  {
   "cell_type": "markdown",
   "id": "17e8cc5a",
   "metadata": {},
   "source": [
    "# Elif "
   ]
  },
  {
   "cell_type": "code",
   "execution_count": null,
   "id": "7223d3a5",
   "metadata": {},
   "outputs": [],
   "source": [
    "stat1\n",
    "stat2\n",
    "if condition 1: # T\n",
    "    stat3\n",
    "    stat4\n",
    "elif condition 2: #F\n",
    "    stat8\n",
    "    stat9\n",
    "elif condition 3: # T\n",
    "    stat10\n",
    "    stat11\n",
    "else:\n",
    "    stat6\n",
    "    stat7\n",
    "stat5\n",
    "    \n",
    "1 and 3 are F and rest all are T --> 1,2,8,9,5\n",
    "1 and 3 are T rest all are F -> 1,2,3,4,5"
   ]
  },
  {
   "cell_type": "code",
   "execution_count": 1,
   "id": "a25c1fef",
   "metadata": {},
   "outputs": [
    {
     "name": "stdout",
     "output_type": "stream",
     "text": [
      "Python\n",
      "SQL\n",
      "Hello\n"
     ]
    }
   ],
   "source": [
    "a = 10\n",
    "b = 20\n",
    "\n",
    "if a < b: # T\n",
    "    print('Python')\n",
    "if a > b: # F\n",
    "    print('Java')\n",
    "if a != b: # T\n",
    "    print('SQL')\n",
    "else:\n",
    "    print('C')\n",
    "print('Hello')"
   ]
  },
  {
   "cell_type": "code",
   "execution_count": 2,
   "id": "e56f4fe0",
   "metadata": {},
   "outputs": [
    {
     "name": "stdout",
     "output_type": "stream",
     "text": [
      "Python\n",
      "Hello\n"
     ]
    }
   ],
   "source": [
    "a = 10\n",
    "b = 20\n",
    "\n",
    "if a < b: # T\n",
    "    print('Python')\n",
    "elif a > b: # F\n",
    "    print('Java')\n",
    "elif a != b: # T\n",
    "    print('SQL')\n",
    "else:\n",
    "    print('C')\n",
    "print('Hello')"
   ]
  },
  {
   "cell_type": "code",
   "execution_count": 6,
   "id": "20f4861c",
   "metadata": {},
   "outputs": [
    {
     "name": "stdout",
     "output_type": "stream",
     "text": [
      "C\n",
      "Hello\n"
     ]
    }
   ],
   "source": [
    "a = 10\n",
    "b = 20\n",
    "\n",
    "if a > b: # T\n",
    "    print('Python')\n",
    "    \n",
    "elif a == b: # T\n",
    "    print('Java')\n",
    "    \n",
    "elif a == b: # T\n",
    "    print('SQL')\n",
    "    \n",
    "else:\n",
    "    print('C')\n",
    "    \n",
    "print('Hello')"
   ]
  },
  {
   "cell_type": "code",
   "execution_count": 7,
   "id": "46a15025",
   "metadata": {},
   "outputs": [
    {
     "name": "stdout",
     "output_type": "stream",
     "text": [
      "Python\n",
      "SQL\n",
      "Hello\n"
     ]
    }
   ],
   "source": [
    "a = 10\n",
    "b = 20\n",
    "\n",
    "if a != b: # T\n",
    "    print('Python')\n",
    "if a == b: # F\n",
    "    print('Java')\n",
    "if a < b: # T\n",
    "    print('SQL')\n",
    "else:\n",
    "    print('C')\n",
    "print('Hello')"
   ]
  },
  {
   "cell_type": "code",
   "execution_count": 8,
   "id": "bbc70109",
   "metadata": {},
   "outputs": [
    {
     "name": "stdout",
     "output_type": "stream",
     "text": [
      "Python\n",
      "C\n",
      "Hello\n"
     ]
    }
   ],
   "source": [
    "a = 10\n",
    "b = 20\n",
    "\n",
    "if a != b: # T\n",
    "    print('Python')\n",
    "    \n",
    "if a == b: # F\n",
    "    print('Java')\n",
    "    \n",
    "if a > b: # F\n",
    "    print('SQL')\n",
    "else:\n",
    "    print('C')\n",
    "    \n",
    "print('Hello')"
   ]
  },
  {
   "cell_type": "code",
   "execution_count": 9,
   "id": "19f81e88",
   "metadata": {},
   "outputs": [
    {
     "name": "stdout",
     "output_type": "stream",
     "text": [
      "Python\n",
      "Hello\n"
     ]
    }
   ],
   "source": [
    "a = 10\n",
    "b = 20\n",
    "\n",
    "if a != b: # T\n",
    "    print('Python')\n",
    "    \n",
    "elif a == b: # F\n",
    "    print('Java')\n",
    "    \n",
    "elif a < b: # T\n",
    "    print('SQL')\n",
    "else:\n",
    "    print('C')\n",
    "    \n",
    "print('Hello')"
   ]
  },
  {
   "cell_type": "code",
   "execution_count": 10,
   "id": "4dc154b5",
   "metadata": {},
   "outputs": [
    {
     "name": "stdout",
     "output_type": "stream",
     "text": [
      "Python\n",
      "SQL\n",
      "Hello\n"
     ]
    }
   ],
   "source": [
    "a = 10\n",
    "b = 20\n",
    "\n",
    "if a != b: # T\n",
    "    print('Python')\n",
    "\n",
    "if a == b: # F\n",
    "    print('Java')\n",
    "    \n",
    "elif a>b: # F\n",
    "    print('Pyspark')\n",
    "    \n",
    "elif a < b: # T\n",
    "    print('SQL')\n",
    "    \n",
    "else:\n",
    "    print('C')\n",
    "    \n",
    "print('Hello')"
   ]
  },
  {
   "cell_type": "code",
   "execution_count": 12,
   "id": "b1c48455",
   "metadata": {},
   "outputs": [
    {
     "name": "stdout",
     "output_type": "stream",
     "text": [
      "SQL\n",
      "Hello\n"
     ]
    }
   ],
   "source": [
    "a = 10\n",
    "b = 20\n",
    "\n",
    "if a == b: # F\n",
    "    print('Python')\n",
    "\n",
    "elif a > b: # F\n",
    "    print('Java')\n",
    "    \n",
    "if a>b: # F\n",
    "    print('Pyspark')\n",
    "    \n",
    "elif a < b: # T\n",
    "    print('SQL')\n",
    "    \n",
    "else:\n",
    "    print('C')\n",
    "    \n",
    "print('Hello')"
   ]
  },
  {
   "cell_type": "code",
   "execution_count": 13,
   "id": "1901ef02",
   "metadata": {},
   "outputs": [
    {
     "name": "stdout",
     "output_type": "stream",
     "text": [
      "Stop\n"
     ]
    }
   ],
   "source": [
    "a = 10\n",
    "b = 20\n",
    "\n",
    "if a== b: #F\n",
    "    print('Start')\n",
    "    if a <b: # T\n",
    "        print('Python')\n",
    "    if a > b : # F?\n",
    "        print('Java')\n",
    "    else:\n",
    "        print('C')\n",
    "        \n",
    "else:\n",
    "    print('Stop')"
   ]
  },
  {
   "cell_type": "code",
   "execution_count": 15,
   "id": "81633649",
   "metadata": {},
   "outputs": [
    {
     "name": "stdout",
     "output_type": "stream",
     "text": [
      "Start\n",
      "Python\n"
     ]
    }
   ],
   "source": [
    "a = 10\n",
    "b = 20\n",
    "\n",
    "if a != b: #T\n",
    "    print('Start')\n",
    "    if a <b: # T\n",
    "        print('Python')\n",
    "    elif a > b : # F?\n",
    "        print('Java')\n",
    "    else:\n",
    "        print('C')\n",
    "        \n",
    "else:\n",
    "    print('Stop')"
   ]
  },
  {
   "cell_type": "code",
   "execution_count": null,
   "id": "c68541c0",
   "metadata": {},
   "outputs": [],
   "source": [
    "if\n",
    "else\n",
    "\n",
    "\n",
    "if \n",
    "elif\n",
    "elif\n",
    "else\n",
    "\n",
    "\n",
    "if\n",
    "\n",
    "\n",
    "if \n",
    "elif"
   ]
  },
  {
   "cell_type": "code",
   "execution_count": null,
   "id": "0b77ebba",
   "metadata": {},
   "outputs": [],
   "source": [
    "# Wap\n",
    "\n",
    "1-6 --> \n",
    "\n",
    "3 --> Three\n",
    "4 --> Four\n",
    "2 --> Two\n",
    "\n",
    "\n",
    "any number beyond or below the range ----> Number out of range\n",
    "9\n",
    "9.345\n",
    "\n",
    "Any float within 1-6 --> Invalid number\n",
    "2.3\n",
    "4.5"
   ]
  },
  {
   "cell_type": "code",
   "execution_count": 24,
   "id": "806c6ed7",
   "metadata": {},
   "outputs": [
    {
     "name": "stdout",
     "output_type": "stream",
     "text": [
      "Enter a number between 1-6:43.5645\n",
      "Number out of range\n"
     ]
    }
   ],
   "source": [
    "a=eval(input('Enter a number between 1-6:'))\n",
    "if (a==1):\n",
    "    print('one')\n",
    "elif(a==2):\n",
    "    print('two')\n",
    "elif(a==3):\n",
    "    print('three')\n",
    "elif(a==4):\n",
    "    print('four')\n",
    "elif(a==5):\n",
    "    print('five')\n",
    "elif(a==6):\n",
    "    print('six')\n",
    "elif(a>=1 and a<=6 ):\n",
    "    if(str(a).isnumeric!=True):\n",
    "        print('Invalid Number')\n",
    "else:\n",
    "    print('Number out of range')"
   ]
  },
  {
   "cell_type": "code",
   "execution_count": 33,
   "id": "5a1cfb2f",
   "metadata": {},
   "outputs": [
    {
     "name": "stdout",
     "output_type": "stream",
     "text": [
      "Enter a number:55.34\n",
      "Number out of range\n"
     ]
    }
   ],
   "source": [
    "num = {1:'One',2:'Two',3:'Three',4:'Four',5:'Five',6:'Six'}\n",
    "\n",
    "num_in = eval(input(\"Enter a number:\"))\n",
    "\n",
    "if num_in>=1 and num_in <=6:\n",
    "    if str(num_in).isdigit() :\n",
    "#         for i in num:\n",
    "#             if i == num_in:\n",
    "                print(num[num_in])\n",
    "    else:\n",
    "        print('Invalid Number')\n",
    "elif num_in > 6:\n",
    "    print('Number out of range')"
   ]
  },
  {
   "cell_type": "code",
   "execution_count": 37,
   "id": "24d6d74b",
   "metadata": {},
   "outputs": [
    {
     "name": "stdout",
     "output_type": "stream",
     "text": [
      "Enter a number between 1 to 6: 9.43\n",
      "Invalid number\n"
     ]
    }
   ],
   "source": [
    "user_input = input(\"Enter a number between 1 to 6: \")\n",
    "\n",
    "if user_input.isdigit():\n",
    "    user_number = int(user_input)\n",
    "    if user_number == 1:\n",
    "        print(\"One\")\n",
    "    elif user_number == 2:\n",
    "        print(\"Two\")\n",
    "    elif user_number == 3:\n",
    "        print(\"Three\")\n",
    "    elif user_number == 4:\n",
    "        print(\"Four\")\n",
    "    elif user_number == 5:\n",
    "        print(\"Five\")\n",
    "    elif user_number == 6:\n",
    "        print(\"Six\")\n",
    "    else:\n",
    "        print(\"Number is out of range\")\n",
    "else:\n",
    "    print(\"Invalid number\")"
   ]
  },
  {
   "cell_type": "code",
   "execution_count": 41,
   "id": "ceb256e2",
   "metadata": {},
   "outputs": [
    {
     "name": "stdout",
     "output_type": "stream",
     "text": [
      "99.23\n",
      "Number out of range\n"
     ]
    }
   ],
   "source": [
    "num =  eval(input())\n",
    "\n",
    "if(num>=1 and num <= 6):\n",
    "    if isinstance(num, float):\n",
    "        print(\"Invalid number\")\n",
    "    elif num == 1:\n",
    "        print('one')\n",
    "    elif num == 2:\n",
    "        print('two')\n",
    "    elif num == 3:\n",
    "        print('three')\n",
    "    elif num == 4:\n",
    "        print('Four')\n",
    "    elif num == 5:\n",
    "        print('Five')\n",
    "    elif num == 6:\n",
    "        print('six')\n",
    "else:\n",
    "    print(\"Number out of range\")"
   ]
  },
  {
   "cell_type": "code",
   "execution_count": 45,
   "id": "d58c24f6",
   "metadata": {},
   "outputs": [
    {
     "name": "stdout",
     "output_type": "stream",
     "text": [
      "Enter the number: 99.34\n",
      "Number out of range\n"
     ]
    }
   ],
   "source": [
    "a = eval(input('Enter the number: '))\n",
    "if type(a) == float and a>=1 and a<=6:\n",
    "    print('Invalid number')\n",
    "elif a == 1:\n",
    "    print('One')\n",
    "elif a == 2:\n",
    "    print('Two')\n",
    "elif a == 3:\n",
    "    print('Three')\n",
    "elif a == 4:\n",
    "    print('Four')\n",
    "elif a == 5:\n",
    "    print('Five')\n",
    "elif a == 6:\n",
    "    print('Six')\n",
    "else:\n",
    "    print('Number out of range')"
   ]
  },
  {
   "cell_type": "code",
   "execution_count": 54,
   "id": "e0d16404",
   "metadata": {},
   "outputs": [
    {
     "name": "stdout",
     "output_type": "stream",
     "text": [
      "Enter a number : 767.34343\n",
      "Number out of range\n"
     ]
    }
   ],
   "source": [
    "a = eval(input('Enter a number : '))\n",
    "\n",
    "\n",
    "if a>6 or a<1:\n",
    "    print('Number out of range')\n",
    "else:\n",
    "    if type(a) == float :\n",
    "        print('Invalid number')\n",
    "    elif a == 1:\n",
    "        print('One')\n",
    "    elif a == 2:\n",
    "        print('Two')\n",
    "    elif a == 3:\n",
    "        print('Three')\n",
    "    elif a == 4:\n",
    "        print('Four')\n",
    "    elif a == 5:\n",
    "        print('Five')\n",
    "    elif a == 6:\n",
    "        print('Six')\n"
   ]
  },
  {
   "cell_type": "code",
   "execution_count": null,
   "id": "93adf3dc",
   "metadata": {},
   "outputs": [],
   "source": [
    "n1 ---> \n",
    "\n",
    "n2 --> \n",
    "\n",
    "op ---> (+,-,*,/) or (add , sub , mul , div)\n",
    "\n",
    "invalid operator"
   ]
  },
  {
   "cell_type": "code",
   "execution_count": 57,
   "id": "3bbbcd13",
   "metadata": {},
   "outputs": [
    {
     "name": "stdout",
     "output_type": "stream",
     "text": [
      "Input first number34\n",
      "Input second number34\n",
      "Input the operation to be performedadd\n",
      "68\n"
     ]
    }
   ],
   "source": [
    "a=eval(input(\"Input first number\")) \n",
    "b=eval(input(\"Input second number\")) \n",
    "c=input(\"Input the operation to be performed\").lower() \n",
    "if (c == \"add\") or (c == \"+\"): \n",
    "    print(a+b) \n",
    "elif (c==\"sub\") or (c==\"-\"): \n",
    "    print(a-b) \n",
    "elif (c==\"mul\") or (c==\"*\"): \n",
    "    print(a*b) \n",
    "elif (c==\"div\") or (c==\"/\"): \n",
    "    print(a/b) \n",
    "else: \n",
    "    print(\"invalid operator\") "
   ]
  },
  {
   "cell_type": "code",
   "execution_count": 60,
   "id": "7a0514e8",
   "metadata": {},
   "outputs": [
    {
     "name": "stdout",
     "output_type": "stream",
     "text": [
      "+\n",
      "324\n",
      "34\n",
      "358\n"
     ]
    }
   ],
   "source": [
    "op =  input()\n",
    "n1 =  eval(input())\n",
    "n2 =  eval(input())\n",
    "\n",
    "if op in ('+', 'add'):\n",
    "    print(n1 + n2)\n",
    "elif op in ('-', 'sub'):\n",
    "    print(n1 - n2)\n",
    "elif op in('*', 'mul'):\n",
    "    print(n1 * n2)\n",
    "elif op in('/', 'div'):\n",
    "    print(n1 / n2)\n",
    "else:\n",
    "    print('Invalid operator')"
   ]
  },
  {
   "cell_type": "code",
   "execution_count": 68,
   "id": "1d6abeef",
   "metadata": {},
   "outputs": [
    {
     "name": "stdout",
     "output_type": "stream",
     "text": [
      "10\n",
      "20\n",
      "Op : add\n",
      "30\n"
     ]
    }
   ],
   "source": [
    "a = eval(input())\n",
    "b = eval(input())\n",
    "op = input('Op : ')\n",
    "\n",
    "\n",
    "d1 = {'+' : a+b , '-' : a-b , '*':a*b , '/':a/b}\n",
    "d2 = {'add' : a+b , 'sub' : a-b , 'mul':a*b , 'div':a/b}\n",
    "\n",
    "\n",
    "if (op in d1.keys()) or (op in d2.keys()):\n",
    "    print(d1.get(op) or d2.get(op))\n",
    "else:\n",
    "    print('Invalid op')"
   ]
  },
  {
   "cell_type": "markdown",
   "id": "d5b6e820",
   "metadata": {},
   "source": [
    "# Loops"
   ]
  },
  {
   "cell_type": "code",
   "execution_count": null,
   "id": "9fbc90d5",
   "metadata": {},
   "outputs": [],
   "source": [
    "# For loop ---> For fixed iteration\n",
    "\n",
    "for var in iterable:\n",
    "    stat1\n",
    "    stat2\n",
    "    stat3"
   ]
  },
  {
   "cell_type": "code",
   "execution_count": null,
   "id": "20cd9b01",
   "metadata": {},
   "outputs": [],
   "source": [
    "1. len --> should be applica\n",
    "\n",
    "\n",
    "\n",
    "2. print(dir(object)) ---> __iter__"
   ]
  },
  {
   "cell_type": "code",
   "execution_count": 75,
   "id": "28a40f76",
   "metadata": {},
   "outputs": [
    {
     "name": "stdout",
     "output_type": "stream",
     "text": [
      "['__class__', '__class_getitem__', '__contains__', '__delattr__', '__delitem__', '__dir__', '__doc__', '__eq__', '__format__', '__ge__', '__getattribute__', '__getitem__', '__getstate__', '__gt__', '__hash__', '__init__', '__init_subclass__', '__ior__', '__iter__', '__le__', '__len__', '__lt__', '__ne__', '__new__', '__or__', '__reduce__', '__reduce_ex__', '__repr__', '__reversed__', '__ror__', '__setattr__', '__setitem__', '__sizeof__', '__str__', '__subclasshook__', 'clear', 'copy', 'fromkeys', 'get', 'items', 'keys', 'pop', 'popitem', 'setdefault', 'update', 'values']\n"
     ]
    }
   ],
   "source": [
    "print(dir(dict))"
   ]
  },
  {
   "cell_type": "code",
   "execution_count": null,
   "id": "57c25486",
   "metadata": {},
   "outputs": [],
   "source": [
    "# While loop ---> If we do not know the iteration\n",
    "\n",
    "syntax\n",
    "\n",
    "1. initilization\n",
    "2. condition checking\n",
    "3. inc / dec"
   ]
  },
  {
   "cell_type": "code",
   "execution_count": 83,
   "id": "ff20b905",
   "metadata": {},
   "outputs": [
    {
     "name": "stdout",
     "output_type": "stream",
     "text": [
      "Hello world\n",
      "Hello world\n",
      "Hello world\n",
      "Hello world\n",
      "Hello world\n",
      "Hello world\n"
     ]
    }
   ],
   "source": [
    "var = 0 # initilization\n",
    "\n",
    "while var <= 5: # Condition\n",
    "    print('Hello world')\n",
    "    var += 1 # inc"
   ]
  },
  {
   "cell_type": "code",
   "execution_count": 84,
   "id": "22794e0c",
   "metadata": {},
   "outputs": [
    {
     "name": "stdout",
     "output_type": "stream",
     "text": [
      "Hello world\n",
      "Hello world\n",
      "Hello world\n",
      "Hello world\n",
      "Hello world\n"
     ]
    }
   ],
   "source": [
    "var = 5 # initilization\n",
    "\n",
    "while var > 0 : # Condition\n",
    "    print('Hello world')\n",
    "    var -= 1 # dec"
   ]
  },
  {
   "cell_type": "code",
   "execution_count": 85,
   "id": "7f636d34",
   "metadata": {},
   "outputs": [
    {
     "name": "stdout",
     "output_type": "stream",
     "text": [
      "p\n",
      "y\n",
      "t\n",
      "h\n",
      "o\n",
      "n\n"
     ]
    }
   ],
   "source": [
    "a = 'python'\n",
    "\n",
    "for i in a:\n",
    "    print(i)"
   ]
  },
  {
   "cell_type": "code",
   "execution_count": 88,
   "id": "1895e46b",
   "metadata": {},
   "outputs": [
    {
     "name": "stdout",
     "output_type": "stream",
     "text": [
      "p\n",
      "y\n",
      "t\n",
      "h\n",
      "o\n",
      "n\n"
     ]
    }
   ],
   "source": [
    "a = 'python'\n",
    "\n",
    "i = 0\n",
    "\n",
    "while i < len(a):\n",
    "    print(a[i])\n",
    "    i += 1"
   ]
  },
  {
   "cell_type": "code",
   "execution_count": 96,
   "id": "be1f1214",
   "metadata": {},
   "outputs": [
    {
     "name": "stdout",
     "output_type": "stream",
     "text": [
      "p\n",
      "yy\n",
      "ttt\n",
      "hhhh\n",
      "ooooo\n",
      "nnnnnn\n",
      "----------------------\n",
      "p\n",
      "yy\n",
      "ttt\n",
      "hhhh\n",
      "ooooo\n",
      "nnnnnn\n"
     ]
    }
   ],
   "source": [
    "a = 'python'\n",
    "\n",
    "# p\n",
    "# yy\n",
    "# ttt\n",
    "# hhhh\n",
    "# ooooo\n",
    "# nnnnnn\n",
    "\n",
    "print(a[0] * 1)\n",
    "print(a[1] * 2)\n",
    "print(a[2] * 3)\n",
    "print(a[3] * 4)\n",
    "print(a[4] * 5)\n",
    "print(a[5] * 6)\n",
    "\n",
    "print('----------------------')\n",
    "\n",
    "for i in range(len(a)):\n",
    "    print(a[i] * (i+1))"
   ]
  },
  {
   "cell_type": "code",
   "execution_count": 98,
   "id": "65f89753",
   "metadata": {},
   "outputs": [
    {
     "name": "stdout",
     "output_type": "stream",
     "text": [
      "p\n",
      "yy\n",
      "ttt\n",
      "hhhh\n",
      "ooooo\n",
      "nnnnnn\n"
     ]
    }
   ],
   "source": [
    "i = 0\n",
    "\n",
    "while i < len(a):\n",
    "    print(a[i] * (i+1))\n",
    "    i += 1"
   ]
  },
  {
   "cell_type": "code",
   "execution_count": 99,
   "id": "1b781f86",
   "metadata": {},
   "outputs": [
    {
     "name": "stdout",
     "output_type": "stream",
     "text": [
      "p\n",
      "yy\n",
      "ttt\n",
      "hhhh\n",
      "ooooo\n",
      "nnnnnn\n"
     ]
    }
   ],
   "source": [
    "a = 'python'\n",
    "\n",
    "for index, character in enumerate(a):\n",
    "    print(character * (index + 1))"
   ]
  },
  {
   "cell_type": "code",
   "execution_count": 103,
   "id": "1e7bc4dc",
   "metadata": {},
   "outputs": [
    {
     "data": {
      "text/plain": [
       "[(0, 'p'), (1, 'y'), (2, 't'), (3, 'h'), (4, 'o'), (5, 'n')]"
      ]
     },
     "execution_count": 103,
     "metadata": {},
     "output_type": "execute_result"
    }
   ],
   "source": [
    "list(enumerate(a))"
   ]
  },
  {
   "cell_type": "code",
   "execution_count": 108,
   "id": "ac4980d1",
   "metadata": {},
   "outputs": [
    {
     "name": "stdout",
     "output_type": "stream",
     "text": [
      "nnnnnn\n",
      "ooooo\n",
      "hhhh\n",
      "ttt\n",
      "yy\n",
      "p\n"
     ]
    }
   ],
   "source": [
    "a = 'python'\n",
    "\n",
    "# nnnnnn\n",
    "# ooooo\n",
    "# hhhh\n",
    "# ttt\n",
    "# yy\n",
    "# p\n",
    "\n",
    "\n",
    "i = len(a)\n",
    "\n",
    "while i > 0:\n",
    "    print(a[i-1] * i)\n",
    "    i -=1"
   ]
  },
  {
   "cell_type": "code",
   "execution_count": 109,
   "id": "dcad2566",
   "metadata": {},
   "outputs": [
    {
     "name": "stdout",
     "output_type": "stream",
     "text": [
      "nnnnnn\n",
      "ooooo\n",
      "hhhh\n",
      "ttt\n",
      "yy\n",
      "p\n"
     ]
    }
   ],
   "source": [
    "i = 5\n",
    "\n",
    "while i >= 0:\n",
    "    print(a[i] * (i+1))\n",
    "    i -=1"
   ]
  },
  {
   "cell_type": "code",
   "execution_count": 111,
   "id": "08cb72d9",
   "metadata": {},
   "outputs": [
    {
     "name": "stdout",
     "output_type": "stream",
     "text": [
      "nnnnnn\n",
      "ooooo\n",
      "hhhh\n",
      "ttt\n",
      "yy\n",
      "p\n"
     ]
    }
   ],
   "source": [
    "print(a[5] * 6)\n",
    "print(a[4] * 5)\n",
    "print(a[3] * 4)\n",
    "print(a[2] * 3)\n",
    "print(a[1] * 2)\n",
    "print(a[0] * 1)\n"
   ]
  },
  {
   "cell_type": "code",
   "execution_count": 116,
   "id": "0a2cd1b2",
   "metadata": {},
   "outputs": [
    {
     "name": "stdout",
     "output_type": "stream",
     "text": [
      "pppppp\n",
      "yyyyy\n",
      "tttt\n",
      "hhh\n",
      "oo\n",
      "n\n"
     ]
    }
   ],
   "source": [
    "a = 'python'\n",
    "\n",
    "# pppppp\n",
    "# yyyyy\n",
    "# tttt\n",
    "# hhh\n",
    "# oo\n",
    "# n\n",
    "j=len(a)\n",
    "i=0\n",
    "while(i < len(a)):\n",
    "    print(a[i]*j)\n",
    "    i+=1\n",
    "    j-=1"
   ]
  },
  {
   "cell_type": "code",
   "execution_count": 114,
   "id": "eb7c3327",
   "metadata": {},
   "outputs": [
    {
     "name": "stdout",
     "output_type": "stream",
     "text": [
      "pppppp\n",
      "yyyyy\n",
      "tttt\n",
      "hhh\n",
      "oo\n",
      "n\n"
     ]
    }
   ],
   "source": [
    "a='python'\n",
    "i=len(a)\n",
    "\n",
    "while i > 0:\n",
    "    print(a[-i]*(i))\n",
    "    i -= 1;"
   ]
  },
  {
   "cell_type": "code",
   "execution_count": 119,
   "id": "3fd62963",
   "metadata": {},
   "outputs": [
    {
     "name": "stdout",
     "output_type": "stream",
     "text": [
      "pppppp\n",
      "yyyyy\n",
      "tttt\n",
      "hhh\n",
      "oo\n",
      "n\n"
     ]
    }
   ],
   "source": [
    "a='python'\n",
    "i=len(a)\n",
    "\n",
    "while i >0:\n",
    "    print(a[len(a) -i] * i)\n",
    "    i -= 1"
   ]
  },
  {
   "cell_type": "markdown",
   "id": "f4908c17",
   "metadata": {},
   "source": [
    "# Break , continue and pass"
   ]
  },
  {
   "cell_type": "code",
   "execution_count": null,
   "id": "d14a403b",
   "metadata": {},
   "outputs": [],
   "source": []
  },
  {
   "cell_type": "code",
   "execution_count": null,
   "id": "015523f4",
   "metadata": {},
   "outputs": [],
   "source": []
  }
 ],
 "metadata": {
  "kernelspec": {
   "display_name": "Python 3 (ipykernel)",
   "language": "python",
   "name": "python3"
  },
  "language_info": {
   "codemirror_mode": {
    "name": "ipython",
    "version": 3
   },
   "file_extension": ".py",
   "mimetype": "text/x-python",
   "name": "python",
   "nbconvert_exporter": "python",
   "pygments_lexer": "ipython3",
   "version": "3.11.4"
  }
 },
 "nbformat": 4,
 "nbformat_minor": 5
}
