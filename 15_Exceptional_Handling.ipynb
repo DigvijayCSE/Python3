{
 "cells": [
  {
   "cell_type": "code",
   "execution_count": null,
   "id": "dcdebae1",
   "metadata": {},
   "outputs": [],
   "source": [
    "# Types of errors\n",
    "\n",
    "1. compile time error :- syntax error , indentation errors\n",
    "\n",
    "2. run time error :- TypeError , NameError , ZeroDivisionError\n",
    "\n",
    "3. logical error :- Which users make \n",
    "    \n",
    "Note: Using exceptional handling you can only handle run time errors"
   ]
  },
  {
   "cell_type": "code",
   "execution_count": null,
   "id": "981c3cac",
   "metadata": {},
   "outputs": [],
   "source": [
    "python --> compiled(syntax and indntation) ---> interpretor "
   ]
  },
  {
   "cell_type": "code",
   "execution_count": 6,
   "id": "7558121f",
   "metadata": {},
   "outputs": [
    {
     "ename": "SyntaxError",
     "evalue": "'(' was never closed (2920591398.py, line 6)",
     "output_type": "error",
     "traceback": [
      "\u001b[1;36m  Cell \u001b[1;32mIn[6], line 6\u001b[1;36m\u001b[0m\n\u001b[1;33m    print(a/b\u001b[0m\n\u001b[1;37m         ^\u001b[0m\n\u001b[1;31mSyntaxError\u001b[0m\u001b[1;31m:\u001b[0m '(' was never closed\n"
     ]
    }
   ],
   "source": [
    "a = 10\n",
    "b = 0\n",
    "\n",
    "print(a)\n",
    "print(b)\n",
    "print(a/b\n",
    "\n",
    "print('Next program')"
   ]
  },
  {
   "cell_type": "code",
   "execution_count": 5,
   "id": "a10484bf",
   "metadata": {},
   "outputs": [
    {
     "name": "stdout",
     "output_type": "stream",
     "text": [
      "10\n",
      "abc\n"
     ]
    },
    {
     "ename": "TypeError",
     "evalue": "unsupported operand type(s) for /: 'int' and 'str'",
     "output_type": "error",
     "traceback": [
      "\u001b[1;31m---------------------------------------------------------------------------\u001b[0m",
      "\u001b[1;31mTypeError\u001b[0m                                 Traceback (most recent call last)",
      "Cell \u001b[1;32mIn[5], line 6\u001b[0m\n\u001b[0;32m      4\u001b[0m \u001b[38;5;28mprint\u001b[39m(a)\n\u001b[0;32m      5\u001b[0m \u001b[38;5;28mprint\u001b[39m(b)\n\u001b[1;32m----> 6\u001b[0m \u001b[38;5;28mprint\u001b[39m(a\u001b[38;5;241m/\u001b[39mb)\n\u001b[0;32m      8\u001b[0m \u001b[38;5;28mprint\u001b[39m(\u001b[38;5;124m'\u001b[39m\u001b[38;5;124mNext program\u001b[39m\u001b[38;5;124m'\u001b[39m)\n",
      "\u001b[1;31mTypeError\u001b[0m: unsupported operand type(s) for /: 'int' and 'str'"
     ]
    }
   ],
   "source": [
    "a = 10\n",
    "b = 'abc'\n",
    "\n",
    "print(a)\n",
    "print(b)\n",
    "print(a/b)\n",
    "\n",
    "print('Next program')"
   ]
  },
  {
   "cell_type": "code",
   "execution_count": 7,
   "id": "8ffcfbcc",
   "metadata": {},
   "outputs": [
    {
     "name": "stdout",
     "output_type": "stream",
     "text": [
      "10\n",
      "Next program\n"
     ]
    }
   ],
   "source": [
    "a = 10\n",
    "b = 0\n",
    "\n",
    "\n",
    "print(a - b)\n",
    "\n",
    "print('Next program')"
   ]
  },
  {
   "cell_type": "code",
   "execution_count": 8,
   "id": "c7913079",
   "metadata": {},
   "outputs": [
    {
     "name": "stdout",
     "output_type": "stream",
     "text": [
      "10\n",
      "abc\n"
     ]
    },
    {
     "ename": "TypeError",
     "evalue": "unsupported operand type(s) for /: 'int' and 'str'",
     "output_type": "error",
     "traceback": [
      "\u001b[1;31m---------------------------------------------------------------------------\u001b[0m",
      "\u001b[1;31mTypeError\u001b[0m                                 Traceback (most recent call last)",
      "Cell \u001b[1;32mIn[8], line 6\u001b[0m\n\u001b[0;32m      4\u001b[0m \u001b[38;5;28mprint\u001b[39m(a)\n\u001b[0;32m      5\u001b[0m \u001b[38;5;28mprint\u001b[39m(b)\n\u001b[1;32m----> 6\u001b[0m \u001b[38;5;28mprint\u001b[39m(a\u001b[38;5;241m/\u001b[39mb)\n\u001b[0;32m      8\u001b[0m \u001b[38;5;28mprint\u001b[39m(\u001b[38;5;124m'\u001b[39m\u001b[38;5;124mNext program\u001b[39m\u001b[38;5;124m'\u001b[39m)\n",
      "\u001b[1;31mTypeError\u001b[0m: unsupported operand type(s) for /: 'int' and 'str'"
     ]
    }
   ],
   "source": [
    "a = 10\n",
    "b = 'abc'\n",
    "\n",
    "print(a)\n",
    "print(b)\n",
    "print(a/b)\n",
    "\n",
    "print('Next program')"
   ]
  },
  {
   "cell_type": "code",
   "execution_count": 9,
   "id": "43b2ed66",
   "metadata": {},
   "outputs": [
    {
     "name": "stdout",
     "output_type": "stream",
     "text": [
      "['ArithmeticError', 'AssertionError', 'AttributeError', 'BaseException', 'BaseExceptionGroup', 'BlockingIOError', 'BrokenPipeError', 'BufferError', 'BytesWarning', 'ChildProcessError', 'ConnectionAbortedError', 'ConnectionError', 'ConnectionRefusedError', 'ConnectionResetError', 'DeprecationWarning', 'EOFError', 'Ellipsis', 'EncodingWarning', 'EnvironmentError', 'Exception', 'ExceptionGroup', 'False', 'FileExistsError', 'FileNotFoundError', 'FloatingPointError', 'FutureWarning', 'GeneratorExit', 'IOError', 'ImportError', 'ImportWarning', 'IndentationError', 'IndexError', 'InterruptedError', 'IsADirectoryError', 'KeyError', 'KeyboardInterrupt', 'LookupError', 'MemoryError', 'ModuleNotFoundError', 'NameError', 'None', 'NotADirectoryError', 'NotImplemented', 'NotImplementedError', 'OSError', 'OverflowError', 'PendingDeprecationWarning', 'PermissionError', 'ProcessLookupError', 'RecursionError', 'ReferenceError', 'ResourceWarning', 'RuntimeError', 'RuntimeWarning', 'StopAsyncIteration', 'StopIteration', 'SyntaxError', 'SyntaxWarning', 'SystemError', 'SystemExit', 'TabError', 'TimeoutError', 'True', 'TypeError', 'UnboundLocalError', 'UnicodeDecodeError', 'UnicodeEncodeError', 'UnicodeError', 'UnicodeTranslateError', 'UnicodeWarning', 'UserWarning', 'ValueError', 'Warning', 'WindowsError', 'ZeroDivisionError', '__IPYTHON__', '__build_class__', '__debug__', '__doc__', '__import__', '__loader__', '__name__', '__package__', '__spec__', 'abs', 'aiter', 'all', 'anext', 'any', 'ascii', 'bin', 'bool', 'breakpoint', 'bytearray', 'bytes', 'callable', 'chr', 'classmethod', 'compile', 'complex', 'copyright', 'credits', 'delattr', 'dict', 'dir', 'display', 'divmod', 'enumerate', 'eval', 'exec', 'execfile', 'filter', 'float', 'format', 'frozenset', 'get_ipython', 'getattr', 'globals', 'hasattr', 'hash', 'help', 'hex', 'id', 'input', 'int', 'isinstance', 'issubclass', 'iter', 'len', 'license', 'list', 'locals', 'map', 'max', 'memoryview', 'min', 'next', 'object', 'oct', 'open', 'ord', 'pow', 'print', 'property', 'range', 'repr', 'reversed', 'round', 'runfile', 'set', 'setattr', 'slice', 'sorted', 'staticmethod', 'str', 'sum', 'super', 'tuple', 'type', 'vars', 'zip']\n"
     ]
    }
   ],
   "source": [
    "print(dir(__builtins__))"
   ]
  },
  {
   "cell_type": "markdown",
   "id": "7d4d85a9",
   "metadata": {},
   "source": [
    "# Keywords\n",
    "\n",
    "- try\n",
    "- except\n",
    "- else\n",
    "- finally\n",
    "- raise"
   ]
  },
  {
   "cell_type": "code",
   "execution_count": null,
   "id": "84cdf0e8",
   "metadata": {},
   "outputs": [],
   "source": [
    "#\n",
    "\n",
    "try:\n",
    "    # some code\n",
    "except:\n",
    "    # back up"
   ]
  },
  {
   "cell_type": "code",
   "execution_count": 11,
   "id": "480d3a54",
   "metadata": {},
   "outputs": [
    {
     "name": "stdout",
     "output_type": "stream",
     "text": [
      "5.0\n",
      "Next program\n"
     ]
    }
   ],
   "source": [
    "a = 10\n",
    "b = 2\n",
    "\n",
    "try:\n",
    "    print(a / b)\n",
    "except:\n",
    "    print('Back up')\n",
    "\n",
    "print('Next program')"
   ]
  },
  {
   "cell_type": "code",
   "execution_count": 12,
   "id": "69a6e742",
   "metadata": {},
   "outputs": [
    {
     "name": "stdout",
     "output_type": "stream",
     "text": [
      "Back up\n",
      "Next program\n"
     ]
    }
   ],
   "source": [
    "a = 10\n",
    "b = 'abc'\n",
    "\n",
    "try:\n",
    "    print(a / b)\n",
    "except:\n",
    "    print('Back up')\n",
    "\n",
    "print('Next program')"
   ]
  },
  {
   "cell_type": "markdown",
   "id": "09f787ea",
   "metadata": {},
   "source": [
    "# Else"
   ]
  },
  {
   "cell_type": "code",
   "execution_count": 15,
   "id": "9494e4af",
   "metadata": {},
   "outputs": [
    {
     "name": "stdout",
     "output_type": "stream",
     "text": [
      "2.0\n",
      "Continuity code\n",
      "Next program\n"
     ]
    }
   ],
   "source": [
    "a = 10\n",
    "b = 5\n",
    "\n",
    "try:\n",
    "    print(a / b)\n",
    "except:\n",
    "    print('Back up')\n",
    "else:\n",
    "    print('Continuity code')\n",
    "\n",
    "print('Next program')"
   ]
  },
  {
   "cell_type": "code",
   "execution_count": 16,
   "id": "c8e7a4e9",
   "metadata": {},
   "outputs": [
    {
     "name": "stdout",
     "output_type": "stream",
     "text": [
      "Back up\n",
      "Next program\n"
     ]
    }
   ],
   "source": [
    "a = 10\n",
    "b = 'abc'\n",
    "\n",
    "try:\n",
    "    print(a / b)\n",
    "except:\n",
    "    print('Back up')\n",
    "else:\n",
    "    print('Continuity code')\n",
    "\n",
    "print('Next program')"
   ]
  },
  {
   "cell_type": "markdown",
   "id": "5998d16e",
   "metadata": {},
   "source": [
    "# Finally"
   ]
  },
  {
   "cell_type": "code",
   "execution_count": 17,
   "id": "52f127d1",
   "metadata": {},
   "outputs": [
    {
     "name": "stdout",
     "output_type": "stream",
     "text": [
      "2.0\n",
      "Continuity code\n",
      "Super backup code\n",
      "Next program\n"
     ]
    }
   ],
   "source": [
    "a = 10\n",
    "b = 5\n",
    "\n",
    "try:\n",
    "    print(a / b)\n",
    "except:\n",
    "    print('Back up')\n",
    "else:\n",
    "    print('Continuity code')\n",
    "finally:\n",
    "    print('Super backup code')\n",
    "\n",
    "print('Next program')"
   ]
  },
  {
   "cell_type": "code",
   "execution_count": 18,
   "id": "75dc97c0",
   "metadata": {},
   "outputs": [
    {
     "name": "stdout",
     "output_type": "stream",
     "text": [
      "Back up\n",
      "Super backup code\n",
      "Next program\n"
     ]
    }
   ],
   "source": [
    "a = 10\n",
    "b = 0\n",
    "\n",
    "try:\n",
    "    print(a / b)\n",
    "except:\n",
    "    print('Back up')\n",
    "else:\n",
    "    print('Continuity code')\n",
    "finally:\n",
    "    print('Super backup code')\n",
    "\n",
    "print('Next program')"
   ]
  },
  {
   "cell_type": "code",
   "execution_count": 19,
   "id": "d437bf31",
   "metadata": {},
   "outputs": [
    {
     "name": "stdout",
     "output_type": "stream",
     "text": [
      "Super backup code\n"
     ]
    },
    {
     "ename": "TypeError",
     "evalue": "unsupported operand type(s) for +: 'int' and 'str'",
     "output_type": "error",
     "traceback": [
      "\u001b[1;31m---------------------------------------------------------------------------\u001b[0m",
      "\u001b[1;31mTypeError\u001b[0m                                 Traceback (most recent call last)",
      "Cell \u001b[1;32mIn[19], line 5\u001b[0m\n\u001b[0;32m      4\u001b[0m \u001b[38;5;28;01mtry\u001b[39;00m:\n\u001b[1;32m----> 5\u001b[0m     \u001b[38;5;28mprint\u001b[39m(a \u001b[38;5;241m/\u001b[39m b)\n\u001b[0;32m      6\u001b[0m \u001b[38;5;28;01mexcept\u001b[39;00m:\n",
      "\u001b[1;31mTypeError\u001b[0m: unsupported operand type(s) for /: 'int' and 'str'",
      "\nDuring handling of the above exception, another exception occurred:\n",
      "\u001b[1;31mTypeError\u001b[0m                                 Traceback (most recent call last)",
      "Cell \u001b[1;32mIn[19], line 7\u001b[0m\n\u001b[0;32m      5\u001b[0m     \u001b[38;5;28mprint\u001b[39m(a \u001b[38;5;241m/\u001b[39m b)\n\u001b[0;32m      6\u001b[0m \u001b[38;5;28;01mexcept\u001b[39;00m:\n\u001b[1;32m----> 7\u001b[0m     \u001b[38;5;28mprint\u001b[39m(a \u001b[38;5;241m+\u001b[39m b)\n\u001b[0;32m      8\u001b[0m \u001b[38;5;28;01melse\u001b[39;00m:\n\u001b[0;32m      9\u001b[0m     \u001b[38;5;28mprint\u001b[39m(\u001b[38;5;124m'\u001b[39m\u001b[38;5;124mContinuity code\u001b[39m\u001b[38;5;124m'\u001b[39m)\n",
      "\u001b[1;31mTypeError\u001b[0m: unsupported operand type(s) for +: 'int' and 'str'"
     ]
    }
   ],
   "source": [
    "a = 10\n",
    "b = 'abc'\n",
    "\n",
    "try:\n",
    "    print(a / b)\n",
    "except:\n",
    "    print(a + b)\n",
    "else:\n",
    "    print('Continuity code')\n",
    "finally:\n",
    "    print('Super backup code')\n",
    "\n",
    "print('Next program')"
   ]
  },
  {
   "cell_type": "code",
   "execution_count": 20,
   "id": "fc7cc38c",
   "metadata": {},
   "outputs": [
    {
     "name": "stdout",
     "output_type": "stream",
     "text": [
      "2.0\n",
      "Continuity code\n",
      "Super backup code\n",
      "Next program\n"
     ]
    }
   ],
   "source": [
    "a = 10\n",
    "b = 5\n",
    "\n",
    "try:\n",
    "    try:\n",
    "        print(a / b)\n",
    "    except:\n",
    "        print(a + b)\n",
    "    else:\n",
    "        print('Continuity code')\n",
    "    finally:\n",
    "        print('Super backup code')\n",
    "except:\n",
    "    print('Nothing is working')\n",
    "\n",
    "print('Next program')"
   ]
  },
  {
   "cell_type": "code",
   "execution_count": 21,
   "id": "363e2712",
   "metadata": {},
   "outputs": [
    {
     "name": "stdout",
     "output_type": "stream",
     "text": [
      "Super backup code\n",
      "Nothing is working\n",
      "Next program\n"
     ]
    }
   ],
   "source": [
    "a = 10\n",
    "b = 'abc'\n",
    "\n",
    "try:\n",
    "    try:\n",
    "        print(a / b)\n",
    "    except:\n",
    "        print(a + b)\n",
    "    else:\n",
    "        print('Continuity code')\n",
    "    finally:\n",
    "        print('Super backup code')\n",
    "except:\n",
    "    print('Nothing is working')\n",
    "\n",
    "print('Next program')"
   ]
  },
  {
   "cell_type": "markdown",
   "id": "0a3551a9",
   "metadata": {},
   "source": [
    "# Showing codeing error to user"
   ]
  },
  {
   "cell_type": "code",
   "execution_count": 26,
   "id": "dbb8928c",
   "metadata": {},
   "outputs": [
    {
     "name": "stdout",
     "output_type": "stream",
     "text": [
      "backup code\n",
      "Next program\n"
     ]
    }
   ],
   "source": [
    "a = 10\n",
    "b = 'abc'\n",
    "\n",
    "try:\n",
    "    print(a / b)\n",
    "except:\n",
    "    print('backup code')\n",
    "\n",
    "\n",
    "print('Next program')"
   ]
  },
  {
   "cell_type": "code",
   "execution_count": 31,
   "id": "dc3d59cb",
   "metadata": {},
   "outputs": [
    {
     "name": "stdout",
     "output_type": "stream",
     "text": [
      "unsupported operand type(s) for /: 'int' and 'str'\n",
      "backup code\n",
      "Next program\n"
     ]
    }
   ],
   "source": [
    "a = 10\n",
    "b = 'abc'\n",
    "\n",
    "try:\n",
    "    print(a / b)\n",
    "except Exception as e:\n",
    "    print(e)\n",
    "    print('backup code')\n",
    "\n",
    "\n",
    "print('Next program')"
   ]
  },
  {
   "cell_type": "markdown",
   "id": "8ccf83ac",
   "metadata": {},
   "source": [
    "# Different logic for different errors"
   ]
  },
  {
   "cell_type": "code",
   "execution_count": null,
   "id": "96d6e5d5",
   "metadata": {},
   "outputs": [],
   "source": [
    "a = 10\n",
    "b = 'abc'\n",
    "\n",
    "try:\n",
    "    print(a / b)\n",
    "except Exception as e:\n",
    "    print(e)\n",
    "    print('backup code')\n",
    "\n",
    "\n",
    "print('Next program')"
   ]
  },
  {
   "cell_type": "code",
   "execution_count": 33,
   "id": "976e43f8",
   "metadata": {},
   "outputs": [
    {
     "name": "stdout",
     "output_type": "stream",
     "text": [
      "division by zero\n",
      "backup code logic for zero division error\n",
      "Next program\n"
     ]
    }
   ],
   "source": [
    "a = 10\n",
    "b = 0\n",
    "\n",
    "try:\n",
    "    print(a / b)\n",
    "    \n",
    "except ZeroDivisionError as e:\n",
    "    print(e)\n",
    "    print('backup code logic for zero division error')\n",
    "    \n",
    "except TypeError:\n",
    "    print('Back up code if failed due to type error')\n",
    "\n",
    "\n",
    "print('Next program')"
   ]
  },
  {
   "cell_type": "code",
   "execution_count": 34,
   "id": "733ba47d",
   "metadata": {},
   "outputs": [
    {
     "name": "stdout",
     "output_type": "stream",
     "text": [
      "Back up code if failed due to type error\n",
      "Next program\n"
     ]
    }
   ],
   "source": [
    "a = 10\n",
    "b = 'abc'\n",
    "\n",
    "try:\n",
    "    print(a / b)\n",
    "    \n",
    "except ZeroDivisionError as e:\n",
    "    print(e)\n",
    "    print('backup code logic for zero division error')\n",
    "    \n",
    "except TypeError:\n",
    "    print('Back up code if failed due to type error')\n",
    "\n",
    "\n",
    "print('Next program')"
   ]
  },
  {
   "cell_type": "code",
   "execution_count": 35,
   "id": "4b1c6b3d",
   "metadata": {},
   "outputs": [
    {
     "ename": "NameError",
     "evalue": "name 'c' is not defined",
     "output_type": "error",
     "traceback": [
      "\u001b[1;31m---------------------------------------------------------------------------\u001b[0m",
      "\u001b[1;31mNameError\u001b[0m                                 Traceback (most recent call last)",
      "Cell \u001b[1;32mIn[35], line 5\u001b[0m\n\u001b[0;32m      2\u001b[0m b \u001b[38;5;241m=\u001b[39m \u001b[38;5;124m'\u001b[39m\u001b[38;5;124mabc\u001b[39m\u001b[38;5;124m'\u001b[39m\n\u001b[0;32m      4\u001b[0m \u001b[38;5;28;01mtry\u001b[39;00m:\n\u001b[1;32m----> 5\u001b[0m     \u001b[38;5;28mprint\u001b[39m(a \u001b[38;5;241m/\u001b[39m c)\n\u001b[0;32m      7\u001b[0m \u001b[38;5;28;01mexcept\u001b[39;00m \u001b[38;5;167;01mZeroDivisionError\u001b[39;00m \u001b[38;5;28;01mas\u001b[39;00m e:\n\u001b[0;32m      8\u001b[0m     \u001b[38;5;28mprint\u001b[39m(e)\n",
      "\u001b[1;31mNameError\u001b[0m: name 'c' is not defined"
     ]
    }
   ],
   "source": [
    "a = 10\n",
    "b = 'abc'\n",
    "\n",
    "try:\n",
    "    print(a / c)\n",
    "    \n",
    "except ZeroDivisionError as e:\n",
    "    print(e)\n",
    "    print('backup code logic for zero division error')\n",
    "    \n",
    "except TypeError:\n",
    "    print('Back up code if failed due to type error')\n",
    "\n",
    "\n",
    "print('Next program')"
   ]
  },
  {
   "cell_type": "code",
   "execution_count": 36,
   "id": "afe04d68",
   "metadata": {},
   "outputs": [
    {
     "name": "stdout",
     "output_type": "stream",
     "text": [
      "name 'c' is not defined\n",
      "Common backup\n",
      "Next program\n"
     ]
    }
   ],
   "source": [
    "a = 10\n",
    "b = 'abc'\n",
    "\n",
    "try:\n",
    "    print(a / c)\n",
    "    \n",
    "except ZeroDivisionError as e:\n",
    "    print(e)\n",
    "    print('backup code logic for zero division error')\n",
    "    \n",
    "except TypeError:\n",
    "    print('Back up code if failed due to type error')\n",
    "    \n",
    "except Exception as e:\n",
    "    print(e)\n",
    "    print('Common backup')\n",
    "\n",
    "\n",
    "print('Next program')"
   ]
  },
  {
   "cell_type": "code",
   "execution_count": 27,
   "id": "e25c094e",
   "metadata": {},
   "outputs": [
    {
     "ename": "ZeroDivisionError",
     "evalue": "division by zero",
     "output_type": "error",
     "traceback": [
      "\u001b[1;31m---------------------------------------------------------------------------\u001b[0m",
      "\u001b[1;31mZeroDivisionError\u001b[0m                         Traceback (most recent call last)",
      "Cell \u001b[1;32mIn[27], line 1\u001b[0m\n\u001b[1;32m----> 1\u001b[0m \u001b[38;5;241m34\u001b[39m \u001b[38;5;241m/\u001b[39m \u001b[38;5;241m0\u001b[39m\n",
      "\u001b[1;31mZeroDivisionError\u001b[0m: division by zero"
     ]
    }
   ],
   "source": [
    "34 / 0"
   ]
  },
  {
   "cell_type": "code",
   "execution_count": 28,
   "id": "b811d3cb",
   "metadata": {},
   "outputs": [
    {
     "ename": "TypeError",
     "evalue": "unsupported operand type(s) for /: 'int' and 'str'",
     "output_type": "error",
     "traceback": [
      "\u001b[1;31m---------------------------------------------------------------------------\u001b[0m",
      "\u001b[1;31mTypeError\u001b[0m                                 Traceback (most recent call last)",
      "Cell \u001b[1;32mIn[28], line 1\u001b[0m\n\u001b[1;32m----> 1\u001b[0m \u001b[38;5;241m43\u001b[39m \u001b[38;5;241m/\u001b[39m \u001b[38;5;124m'\u001b[39m\u001b[38;5;124mabc\u001b[39m\u001b[38;5;124m'\u001b[39m\n",
      "\u001b[1;31mTypeError\u001b[0m: unsupported operand type(s) for /: 'int' and 'str'"
     ]
    }
   ],
   "source": [
    "43 / 'abc'"
   ]
  },
  {
   "cell_type": "code",
   "execution_count": 44,
   "id": "3d2d82d6",
   "metadata": {},
   "outputs": [
    {
     "name": "stdout",
     "output_type": "stream",
     "text": [
      "division by zero\n",
      "backup code\n",
      "Next program\n"
     ]
    }
   ],
   "source": [
    "import time\n",
    "\n",
    "a = 10\n",
    "b = 0\n",
    "\n",
    "try:\n",
    "    print(a / b)\n",
    "except Exception as e:\n",
    "    print(e)\n",
    "    with open('file_handling/error_log.txt' , 'a') as f:\n",
    "        f.write(f\"\\n{time.strftime('%Y-%m-%d  %I:%M:%S %p')} : {e}\")\n",
    "    print('backup code')\n",
    "\n",
    "\n",
    "print('Next program')"
   ]
  },
  {
   "cell_type": "code",
   "execution_count": null,
   "id": "58ac3d86",
   "metadata": {},
   "outputs": [],
   "source": [
    "import time\n",
    "\n",
    "a = eval(input('Enter the first number : '))\n",
    "b = eval(input('Enter the second  number : '))\n",
    "\n",
    "c = f'The addition of {a} & {b} = {a+b}'\n",
    "\n",
    "with open('file_handling/addition_log.txt' , 'a') as f:\n",
    "    f.write(f\"\\n{time.strftime('%Y-%m-%d  %I:%M:%S %p')} : {c}\")\n",
    "\n",
    "print(c)"
   ]
  },
  {
   "cell_type": "code",
   "execution_count": null,
   "id": "61540b9d",
   "metadata": {},
   "outputs": [],
   "source": [
    "import time\n",
    "\n",
    "f=open('log.txt','a+')\n",
    "a = eval(input('Enter the first number : '))\n",
    "b = eval(input('Enter the second  number : '))\n",
    "try:\n",
    "    c = f\"The addition of {a} & {b} = {a+b}\"\n",
    "except Exception as e:\n",
    "    f.write(time.strftime('%Y-%m-%d  %I:%M:%S %p')+' : '+str(e))    \n",
    "else:\n",
    "    f.write(time.strftime('%Y-%m-%d  %I:%M:%S %p')+' : '+c)\n",
    "finally:\n",
    "    f.close()"
   ]
  },
  {
   "cell_type": "markdown",
   "id": "26140f7c",
   "metadata": {},
   "source": [
    "# Raising an exception"
   ]
  },
  {
   "cell_type": "code",
   "execution_count": 50,
   "id": "e070ec99",
   "metadata": {},
   "outputs": [
    {
     "name": "stdout",
     "output_type": "stream",
     "text": [
      "10\n"
     ]
    },
    {
     "ename": "ZeroDivisionError",
     "evalue": "Personel message",
     "output_type": "error",
     "traceback": [
      "\u001b[1;31m---------------------------------------------------------------------------\u001b[0m",
      "\u001b[1;31mZeroDivisionError\u001b[0m                         Traceback (most recent call last)",
      "Cell \u001b[1;32mIn[50], line 5\u001b[0m\n\u001b[0;32m      2\u001b[0m b \u001b[38;5;241m=\u001b[39m \u001b[38;5;241m20\u001b[39m\n\u001b[0;32m      4\u001b[0m \u001b[38;5;28mprint\u001b[39m(a)\n\u001b[1;32m----> 5\u001b[0m \u001b[38;5;28;01mraise\u001b[39;00m \u001b[38;5;167;01mZeroDivisionError\u001b[39;00m(\u001b[38;5;124m'\u001b[39m\u001b[38;5;124mPersonel message\u001b[39m\u001b[38;5;124m'\u001b[39m)\n\u001b[0;32m      6\u001b[0m \u001b[38;5;28mprint\u001b[39m(b)\n",
      "\u001b[1;31mZeroDivisionError\u001b[0m: Personel message"
     ]
    }
   ],
   "source": [
    "a = 10\n",
    "b = 20\n",
    "\n",
    "print(a)\n",
    "raise ZeroDivisionError('Personel message')\n",
    "print(b)"
   ]
  },
  {
   "cell_type": "code",
   "execution_count": 46,
   "id": "3c85def1",
   "metadata": {},
   "outputs": [
    {
     "ename": "ZeroDivisionError",
     "evalue": "division by zero",
     "output_type": "error",
     "traceback": [
      "\u001b[1;31m---------------------------------------------------------------------------\u001b[0m",
      "\u001b[1;31mZeroDivisionError\u001b[0m                         Traceback (most recent call last)",
      "Cell \u001b[1;32mIn[46], line 1\u001b[0m\n\u001b[1;32m----> 1\u001b[0m \u001b[38;5;241m25\u001b[39m \u001b[38;5;241m/\u001b[39m \u001b[38;5;241m0\u001b[39m\n",
      "\u001b[1;31mZeroDivisionError\u001b[0m: division by zero"
     ]
    }
   ],
   "source": [
    "25 / 0"
   ]
  },
  {
   "cell_type": "code",
   "execution_count": 51,
   "id": "82a09c70",
   "metadata": {},
   "outputs": [
    {
     "ename": "TypeError",
     "evalue": "unsupported operand type(s) for /: 'int' and 'str'",
     "output_type": "error",
     "traceback": [
      "\u001b[1;31m---------------------------------------------------------------------------\u001b[0m",
      "\u001b[1;31mTypeError\u001b[0m                                 Traceback (most recent call last)",
      "Cell \u001b[1;32mIn[51], line 1\u001b[0m\n\u001b[1;32m----> 1\u001b[0m \u001b[38;5;241m25\u001b[39m \u001b[38;5;241m/\u001b[39m \u001b[38;5;124m'\u001b[39m\u001b[38;5;124mabc\u001b[39m\u001b[38;5;124m'\u001b[39m\n",
      "\u001b[1;31mTypeError\u001b[0m: unsupported operand type(s) for /: 'int' and 'str'"
     ]
    }
   ],
   "source": [
    "25 / 'abc'"
   ]
  },
  {
   "cell_type": "code",
   "execution_count": 54,
   "id": "57156d06",
   "metadata": {},
   "outputs": [
    {
     "ename": "TypeError",
     "evalue": "must be real number, not str",
     "output_type": "error",
     "traceback": [
      "\u001b[1;31m---------------------------------------------------------------------------\u001b[0m",
      "\u001b[1;31mTypeError\u001b[0m                                 Traceback (most recent call last)",
      "Cell \u001b[1;32mIn[54], line 3\u001b[0m\n\u001b[0;32m      1\u001b[0m \u001b[38;5;28;01mimport\u001b[39;00m \u001b[38;5;21;01mmath\u001b[39;00m\n\u001b[1;32m----> 3\u001b[0m math\u001b[38;5;241m.\u001b[39msqrt(\u001b[38;5;124m'\u001b[39m\u001b[38;5;124mabc\u001b[39m\u001b[38;5;124m'\u001b[39m)\n",
      "\u001b[1;31mTypeError\u001b[0m: must be real number, not str"
     ]
    }
   ],
   "source": [
    "import math\n",
    "\n",
    "math.sqrt('abc')"
   ]
  },
  {
   "cell_type": "code",
   "execution_count": 65,
   "id": "65dce783",
   "metadata": {},
   "outputs": [],
   "source": [
    "def adder(a : int , b : int):\n",
    "    if type(a) not in (int , float):\n",
    "        raise NameError ('How can I add string ? ')\n",
    "    return a+b"
   ]
  },
  {
   "cell_type": "code",
   "execution_count": 66,
   "id": "1a62446f",
   "metadata": {},
   "outputs": [
    {
     "data": {
      "text/plain": [
       "30.78"
      ]
     },
     "execution_count": 66,
     "metadata": {},
     "output_type": "execute_result"
    }
   ],
   "source": [
    "adder(10.78,20)"
   ]
  },
  {
   "cell_type": "code",
   "execution_count": 67,
   "id": "cf03ba78",
   "metadata": {},
   "outputs": [
    {
     "ename": "NameError",
     "evalue": "How can I add string ? ",
     "output_type": "error",
     "traceback": [
      "\u001b[1;31m---------------------------------------------------------------------------\u001b[0m",
      "\u001b[1;31mNameError\u001b[0m                                 Traceback (most recent call last)",
      "Cell \u001b[1;32mIn[67], line 1\u001b[0m\n\u001b[1;32m----> 1\u001b[0m adder(\u001b[38;5;124m'\u001b[39m\u001b[38;5;124m10\u001b[39m\u001b[38;5;124m'\u001b[39m, \u001b[38;5;124m'\u001b[39m\u001b[38;5;124m20\u001b[39m\u001b[38;5;124m'\u001b[39m)\n",
      "Cell \u001b[1;32mIn[65], line 3\u001b[0m, in \u001b[0;36madder\u001b[1;34m(a, b)\u001b[0m\n\u001b[0;32m      1\u001b[0m \u001b[38;5;28;01mdef\u001b[39;00m \u001b[38;5;21madder\u001b[39m(a : \u001b[38;5;28mint\u001b[39m , b : \u001b[38;5;28mint\u001b[39m):\n\u001b[0;32m      2\u001b[0m     \u001b[38;5;28;01mif\u001b[39;00m \u001b[38;5;28mtype\u001b[39m(a) \u001b[38;5;129;01mnot\u001b[39;00m \u001b[38;5;129;01min\u001b[39;00m (\u001b[38;5;28mint\u001b[39m , \u001b[38;5;28mfloat\u001b[39m):\n\u001b[1;32m----> 3\u001b[0m         \u001b[38;5;28;01mraise\u001b[39;00m \u001b[38;5;167;01mNameError\u001b[39;00m (\u001b[38;5;124m'\u001b[39m\u001b[38;5;124mHow can I add string ? \u001b[39m\u001b[38;5;124m'\u001b[39m)\n\u001b[0;32m      4\u001b[0m     \u001b[38;5;28;01mreturn\u001b[39;00m a\u001b[38;5;241m+\u001b[39mb\n",
      "\u001b[1;31mNameError\u001b[0m: How can I add string ? "
     ]
    }
   ],
   "source": [
    "adder('10', '20')"
   ]
  },
  {
   "cell_type": "markdown",
   "id": "0f68a537",
   "metadata": {},
   "source": [
    "# Creating an user defined error"
   ]
  },
  {
   "cell_type": "code",
   "execution_count": 69,
   "id": "35e0abdb",
   "metadata": {},
   "outputs": [],
   "source": [
    "class DQ_test(Exception):\n",
    "    def __init__(self , msg = None):\n",
    "        self.msg = msg"
   ]
  },
  {
   "cell_type": "code",
   "execution_count": 71,
   "id": "26c92d11",
   "metadata": {},
   "outputs": [
    {
     "name": "stdout",
     "output_type": "stream",
     "text": [
      "10\n"
     ]
    },
    {
     "ename": "DQ_test",
     "evalue": "Personel messsage",
     "output_type": "error",
     "traceback": [
      "\u001b[1;31m---------------------------------------------------------------------------\u001b[0m",
      "\u001b[1;31mDQ_test\u001b[0m                                   Traceback (most recent call last)",
      "Cell \u001b[1;32mIn[71], line 5\u001b[0m\n\u001b[0;32m      2\u001b[0m b \u001b[38;5;241m=\u001b[39m \u001b[38;5;241m20\u001b[39m\n\u001b[0;32m      4\u001b[0m \u001b[38;5;28mprint\u001b[39m(a)\n\u001b[1;32m----> 5\u001b[0m \u001b[38;5;28;01mraise\u001b[39;00m DQ_test(\u001b[38;5;124m\"\u001b[39m\u001b[38;5;124mPersonel messsage\u001b[39m\u001b[38;5;124m\"\u001b[39m)\n\u001b[0;32m      6\u001b[0m \u001b[38;5;28mprint\u001b[39m(b)\n",
      "\u001b[1;31mDQ_test\u001b[0m: Personel messsage"
     ]
    }
   ],
   "source": [
    "a = 10\n",
    "b = 20\n",
    "\n",
    "print(a)\n",
    "raise DQ_test(\"Personel messsage\")\n",
    "print(b)"
   ]
  },
  {
   "cell_type": "code",
   "execution_count": 73,
   "id": "2a9e492e",
   "metadata": {},
   "outputs": [],
   "source": [
    "class Login_error(Exception):\n",
    "    def __init__(self , msg = None):\n",
    "        self.msg = msg"
   ]
  },
  {
   "cell_type": "code",
   "execution_count": 72,
   "id": "fb182c51",
   "metadata": {},
   "outputs": [],
   "source": [
    "user_name = 'xyz@gmail.com'\n",
    "password = 'python'"
   ]
  },
  {
   "cell_type": "code",
   "execution_count": 76,
   "id": "a612cdc9",
   "metadata": {},
   "outputs": [],
   "source": [
    "def funct():\n",
    "    a = input('Enter the user name : ')\n",
    "    b = input('Enter the password : ')\n",
    "\n",
    "    if (a == user_name ) and (b == password):\n",
    "        print('Logged IN')\n",
    "    else:\n",
    "        raise Login_error('Try after sometime')"
   ]
  },
  {
   "cell_type": "code",
   "execution_count": 77,
   "id": "d4ae9861",
   "metadata": {},
   "outputs": [
    {
     "name": "stdout",
     "output_type": "stream",
     "text": [
      "Enter the user name : sdf\n",
      "Enter the password : sdf\n"
     ]
    }
   ],
   "source": [
    "try:\n",
    "    funct()\n",
    "except:\n",
    "    print('Logic')"
   ]
  },
  {
   "cell_type": "code",
   "execution_count": null,
   "id": "15741f41",
   "metadata": {},
   "outputs": [],
   "source": [
    "# CDM\n",
    "\n",
    "pan_error\n",
    "\n",
    "overlimit_error\n",
    "\n",
    "terminate_error\n",
    "\n",
    "\n",
    "amt < 50000 --> amount deposited\n",
    "\n",
    "amt - 50K to 70K ----> pan_error --> out of limit \n",
    "                        enter pan number \n",
    "                        if pan != len(10) ----> Close the complete program -->terminate_error --> come back after sometime\n",
    "                        if pa == 10 ---> amount deposited\n",
    "            \n",
    "amt > 70k ---> overlimit_error --> overlimit \n",
    "                Do you want to try again Y/N?\n",
    "                    \n",
    "                Y ---> repeat the process from the begining\n",
    "            \n",
    "                N -->terminate_error -->  Have a nice day"
   ]
  },
  {
   "cell_type": "code",
   "execution_count": 81,
   "id": "a63a63c9",
   "metadata": {},
   "outputs": [],
   "source": [
    "class pan_error(Exception):\n",
    "    def __init__(self , msg = None):\n",
    "        self.msg = msg\n",
    "        \n",
    "class overlimit_error(Exception):\n",
    "    def __init__(self , msg = None):\n",
    "        self.msg = msg\n",
    "        \n",
    "class terminate_error(Exception):\n",
    "    def __init__(self , msg = None):\n",
    "        self.msg = msg"
   ]
  },
  {
   "cell_type": "code",
   "execution_count": 82,
   "id": "75638834",
   "metadata": {},
   "outputs": [],
   "source": [
    "def submit_pan():\n",
    "    pan = input('Enter the pan : ')\n",
    "    if len(pan)!= 10:\n",
    "        raise terminate_error('come back after sometime')\n",
    "    else:\n",
    "        return 'amount deposited'\n",
    "    \n",
    "def CDM():\n",
    "    try:\n",
    "        amt = eval(input('Enter the amount : '))\n",
    "        if amt <= 50000:\n",
    "            return 'Amount Deposited'\n",
    "        elif (amt >=50000) and (amt <= 70000):\n",
    "            raise pan_error ('The amount is greater than the limit')\n",
    "        else:\n",
    "            raise overlimit_error('Over the limit')\n",
    "        \n",
    "    except overlimit_error as e:\n",
    "        print(e)\n",
    "        d = input('Do you want to retry ? : ')\n",
    "        if d == 'y':\n",
    "            return CDM()\n",
    "        else:\n",
    "            raise terminate_error('Have a nice day')"
   ]
  },
  {
   "cell_type": "code",
   "execution_count": 87,
   "id": "29a41034",
   "metadata": {},
   "outputs": [
    {
     "name": "stdout",
     "output_type": "stream",
     "text": [
      "Enter the amount : 77000\n",
      "Over the limit\n",
      "Do you want to retry ? : y\n",
      "Enter the amount : 4000\n",
      "Amount Deposited\n"
     ]
    }
   ],
   "source": [
    "try:\n",
    "    print(CDM())\n",
    "except pan_error as e:\n",
    "    print(e)\n",
    "    try:\n",
    "        print(submit_pan())\n",
    "    except terminate_error as e:\n",
    "        print(e)\n",
    "except terminate_error as e:\n",
    "    print(e)"
   ]
  },
  {
   "cell_type": "code",
   "execution_count": 90,
   "id": "22f4c3a6",
   "metadata": {},
   "outputs": [
    {
     "name": "stdout",
     "output_type": "stream",
     "text": [
      "Enter the amount to be deposited :55000\n",
      "Enter the Pan Number:12345\n"
     ]
    },
    {
     "ename": "NameError",
     "evalue": "name 'Terminate_Error' is not defined",
     "output_type": "error",
     "traceback": [
      "\u001b[1;31m---------------------------------------------------------------------------\u001b[0m",
      "\u001b[1;31mNameError\u001b[0m                                 Traceback (most recent call last)",
      "Cell \u001b[1;32mIn[90], line 8\u001b[0m\n\u001b[0;32m      7\u001b[0m \u001b[38;5;28;01mtry\u001b[39;00m:\n\u001b[1;32m----> 8\u001b[0m     \u001b[38;5;28;01mraise\u001b[39;00m Pan_Error(\u001b[38;5;124m'\u001b[39m\u001b[38;5;124mOut of Limit\u001b[39m\u001b[38;5;124m'\u001b[39m)\n\u001b[0;32m      9\u001b[0m \u001b[38;5;28;01mexcept\u001b[39;00m:\n",
      "\u001b[1;31mNameError\u001b[0m: name 'Pan_Error' is not defined",
      "\nDuring handling of the above exception, another exception occurred:\n",
      "\u001b[1;31mNameError\u001b[0m                                 Traceback (most recent call last)",
      "Cell \u001b[1;32mIn[90], line 12\u001b[0m\n\u001b[0;32m     10\u001b[0m pan\u001b[38;5;241m=\u001b[39m\u001b[38;5;28minput\u001b[39m(\u001b[38;5;124m'\u001b[39m\u001b[38;5;124mEnter the Pan Number:\u001b[39m\u001b[38;5;124m'\u001b[39m)\n\u001b[0;32m     11\u001b[0m \u001b[38;5;28;01mif\u001b[39;00m (\u001b[38;5;28mlen\u001b[39m(pan)\u001b[38;5;241m!=\u001b[39m\u001b[38;5;241m10\u001b[39m):\n\u001b[1;32m---> 12\u001b[0m     \u001b[38;5;28;01mraise\u001b[39;00m Terminate_Error(\u001b[38;5;124m'\u001b[39m\u001b[38;5;124mCome Back After Sometime\u001b[39m\u001b[38;5;124m'\u001b[39m)\n\u001b[0;32m     13\u001b[0m \u001b[38;5;28;01melse\u001b[39;00m:\n\u001b[0;32m     14\u001b[0m     \u001b[38;5;28mprint\u001b[39m(\u001b[38;5;124m'\u001b[39m\u001b[38;5;124mAmount deposited\u001b[39m\u001b[38;5;124m'\u001b[39m)\n",
      "\u001b[1;31mNameError\u001b[0m: name 'Terminate_Error' is not defined"
     ]
    }
   ],
   "source": [
    "amt=eval(input('Enter the amount to be deposited :'))\n",
    "while(True):\n",
    "    if (amt<50000):\n",
    "        print('Amount is deposited')\n",
    "        break\n",
    "    elif (amt > 50000 and amt < 70000):\n",
    "        try:\n",
    "            raise Pan_Error('Out of Limit')\n",
    "        except:\n",
    "            pan=input('Enter the Pan Number:')\n",
    "            if (len(pan)!=10):\n",
    "                raise Terminate_Error('Come Back After Sometime')\n",
    "            else:\n",
    "                print('Amount deposited')\n",
    "                break\n",
    "    elif (amt>70000):\n",
    "        try:\n",
    "            raise OverLimit_Error('Overlimit')\n",
    "        except:\n",
    "            x=input('Do you want to try again').upper()\n",
    "            if(x=='Y'):\n",
    "                amt=eval(input('Enter the amount to be deposited :'))\n",
    "                continue\n",
    "            else:\n",
    "                raise Terminate_Error('Have a Nice Day')"
   ]
  },
  {
   "cell_type": "markdown",
   "id": "c936c3a7",
   "metadata": {},
   "source": [
    "# Regular expresssion"
   ]
  },
  {
   "cell_type": "code",
   "execution_count": null,
   "id": "94426357",
   "metadata": {},
   "outputs": [],
   "source": [
    "naukri com\n",
    "\n",
    "resume --> \n",
    "\n",
    "first name , second name\n",
    "\n"
   ]
  },
  {
   "cell_type": "code",
   "execution_count": 92,
   "id": "a1a41df0",
   "metadata": {},
   "outputs": [],
   "source": [
    "import re"
   ]
  },
  {
   "cell_type": "code",
   "execution_count": null,
   "id": "f5af1e52",
   "metadata": {},
   "outputs": [],
   "source": [
    "'''\n",
    ".       - Any Character Except New Line\n",
    "\\d      - Digit (0-9)\n",
    "\\D      - Not a Digit (0-9)\n",
    "\\w      - Word Character (a-z, A-Z, 0-9, _)\n",
    "\\W      - Not a Word Character\n",
    "\\s      - Whitespace (space, tab, newline)\n",
    "\\S      - Not Whitespace (space, tab, newline)\n",
    "\n",
    "\\b      - Word Boundary\n",
    "\\B      - Not a Word Boundary\n",
    "^       - Beginning of a String\n",
    "$       - End of a String\n",
    "\n",
    "[]      - Matches Characters in brackets\n",
    "[^ ]    - Matches Characters NOT in brackets\n",
    "|       - Either Or\n",
    "( )     - Group\n",
    "\n",
    "Quantifiers:\n",
    "*       - 0 or More\n",
    "+       - 1 or More\n",
    "?       - 0 or One\n",
    "{3}     - Exact Number\n",
    "{3,4}   - Range of Numbers (Minimum, Maximum)\n",
    "'''"
   ]
  },
  {
   "cell_type": "code",
   "execution_count": 100,
   "id": "49cef871",
   "metadata": {},
   "outputs": [],
   "source": [
    "text_to_search = '''\n",
    "abcdefghijklmnopqurtuvwxyz\n",
    "ABCDEFGHIJKLMNOPQRSTUVWXYZ\\s\n",
    "321-555-4321\n",
    "1234567890\n",
    "Ha HaHa\n",
    "MetaCharacters (Need to be escaped):\n",
    ". ^ $ * + ? { } [ ] \\ | ( )\n",
    "Salahuddin@TCS.com\n",
    "321-555-4321\n",
    "123.555.1234\n",
    "123*555*1234\n",
    "123.555.1234\n",
    "800-555-1234\n",
    "900-555-1234\n",
    "Mr. Schafer\n",
    "Mr Smith\n",
    "Ms Davis\n",
    "Mrs. Robinson\n",
    "Mr. T\n",
    "Mr_hello\n",
    "abc\n",
    "'''"
   ]
  },
  {
   "cell_type": "code",
   "execution_count": 101,
   "id": "b7075a29",
   "metadata": {},
   "outputs": [
    {
     "data": {
      "text/plain": [
       "'abc'"
      ]
     },
     "execution_count": 101,
     "metadata": {},
     "output_type": "execute_result"
    }
   ],
   "source": [
    "text_to_search[1:4]"
   ]
  },
  {
   "cell_type": "code",
   "execution_count": 102,
   "id": "c766226a",
   "metadata": {},
   "outputs": [
    {
     "name": "stdout",
     "output_type": "stream",
     "text": [
      "<re.Match object; span=(1, 4), match='abc'>\n",
      "<re.Match object; span=(310, 313), match='abc'>\n"
     ]
    }
   ],
   "source": [
    "# what you want to search\n",
    "\n",
    "patt = re.compile('abc')\n",
    "\n",
    "# From which string you want to search\n",
    "\n",
    "match = patt.finditer(text_to_search)\n",
    "\n",
    "for i in match:\n",
    "    print(i)"
   ]
  },
  {
   "cell_type": "code",
   "execution_count": 103,
   "id": "232df10c",
   "metadata": {},
   "outputs": [
    {
     "name": "stdout",
     "output_type": "stream",
     "text": [
      "abc\n",
      "abc\n"
     ]
    }
   ],
   "source": [
    "# what you want to search\n",
    "\n",
    "patt = re.compile('abc')\n",
    "\n",
    "# From which string you want to search\n",
    "\n",
    "match = patt.findall(text_to_search)\n",
    "\n",
    "for i in match:\n",
    "    print(i)"
   ]
  },
  {
   "cell_type": "code",
   "execution_count": 105,
   "id": "fee269be",
   "metadata": {},
   "outputs": [
    {
     "data": {
      "text/plain": [
       "[<re.Match object; span=(1, 4), match='abc'>,\n",
       " <re.Match object; span=(310, 313), match='abc'>]"
      ]
     },
     "execution_count": 105,
     "metadata": {},
     "output_type": "execute_result"
    }
   ],
   "source": [
    "list(re.finditer('abc' , text_to_search))"
   ]
  },
  {
   "cell_type": "code",
   "execution_count": 106,
   "id": "240a1f6a",
   "metadata": {},
   "outputs": [
    {
     "data": {
      "text/plain": [
       "['abc', 'abc']"
      ]
     },
     "execution_count": 106,
     "metadata": {},
     "output_type": "execute_result"
    }
   ],
   "source": [
    "list(re.findall('abc' , text_to_search))"
   ]
  },
  {
   "cell_type": "code",
   "execution_count": 107,
   "id": "ea7e2e85",
   "metadata": {},
   "outputs": [],
   "source": [
    "text_to_search = '''\n",
    "abcdefghijklmnopqurtuvwxyz\n",
    "ABCDEFGHIJKLMNOPQRSTUVWXYZ\\s\n",
    "321-555-4321\n",
    "1234567890\n",
    "Ha HaHa\n",
    "MetaCharacters (Need to be escaped):\n",
    ". ^ $ * + ? { } [ ] \\ | ( )\n",
    "Salahuddin@TCS.com\n",
    "321-555-4321\n",
    "123.555.1234\n",
    "123*555*1234\n",
    "123.555.1234\n",
    "800-555-1234\n",
    "900-555-1234\n",
    "Mr. Schafer\n",
    "Mr Smith\n",
    "Ms Davis\n",
    "Mrs. Robinson\n",
    "Mr. T\n",
    "Mr_hello\n",
    "abc\n",
    "'''"
   ]
  },
  {
   "cell_type": "code",
   "execution_count": 108,
   "id": "5c2f691e",
   "metadata": {},
   "outputs": [
    {
     "name": "stdout",
     "output_type": "stream",
     "text": [
      "<re.Match object; span=(1, 2), match='a'>\n",
      "<re.Match object; span=(2, 3), match='b'>\n",
      "<re.Match object; span=(3, 4), match='c'>\n",
      "<re.Match object; span=(4, 5), match='d'>\n",
      "<re.Match object; span=(5, 6), match='e'>\n",
      "<re.Match object; span=(6, 7), match='f'>\n",
      "<re.Match object; span=(7, 8), match='g'>\n",
      "<re.Match object; span=(8, 9), match='h'>\n",
      "<re.Match object; span=(9, 10), match='i'>\n",
      "<re.Match object; span=(10, 11), match='j'>\n",
      "<re.Match object; span=(11, 12), match='k'>\n",
      "<re.Match object; span=(12, 13), match='l'>\n",
      "<re.Match object; span=(13, 14), match='m'>\n",
      "<re.Match object; span=(14, 15), match='n'>\n",
      "<re.Match object; span=(15, 16), match='o'>\n",
      "<re.Match object; span=(16, 17), match='p'>\n",
      "<re.Match object; span=(17, 18), match='q'>\n",
      "<re.Match object; span=(18, 19), match='u'>\n",
      "<re.Match object; span=(19, 20), match='r'>\n",
      "<re.Match object; span=(20, 21), match='t'>\n",
      "<re.Match object; span=(21, 22), match='u'>\n",
      "<re.Match object; span=(22, 23), match='v'>\n",
      "<re.Match object; span=(23, 24), match='w'>\n",
      "<re.Match object; span=(24, 25), match='x'>\n",
      "<re.Match object; span=(25, 26), match='y'>\n",
      "<re.Match object; span=(26, 27), match='z'>\n",
      "<re.Match object; span=(28, 29), match='A'>\n",
      "<re.Match object; span=(29, 30), match='B'>\n",
      "<re.Match object; span=(30, 31), match='C'>\n",
      "<re.Match object; span=(31, 32), match='D'>\n",
      "<re.Match object; span=(32, 33), match='E'>\n",
      "<re.Match object; span=(33, 34), match='F'>\n",
      "<re.Match object; span=(34, 35), match='G'>\n",
      "<re.Match object; span=(35, 36), match='H'>\n",
      "<re.Match object; span=(36, 37), match='I'>\n",
      "<re.Match object; span=(37, 38), match='J'>\n",
      "<re.Match object; span=(38, 39), match='K'>\n",
      "<re.Match object; span=(39, 40), match='L'>\n",
      "<re.Match object; span=(40, 41), match='M'>\n",
      "<re.Match object; span=(41, 42), match='N'>\n",
      "<re.Match object; span=(42, 43), match='O'>\n",
      "<re.Match object; span=(43, 44), match='P'>\n",
      "<re.Match object; span=(44, 45), match='Q'>\n",
      "<re.Match object; span=(45, 46), match='R'>\n",
      "<re.Match object; span=(46, 47), match='S'>\n",
      "<re.Match object; span=(47, 48), match='T'>\n",
      "<re.Match object; span=(48, 49), match='U'>\n",
      "<re.Match object; span=(49, 50), match='V'>\n",
      "<re.Match object; span=(50, 51), match='W'>\n",
      "<re.Match object; span=(51, 52), match='X'>\n",
      "<re.Match object; span=(52, 53), match='Y'>\n",
      "<re.Match object; span=(53, 54), match='Z'>\n",
      "<re.Match object; span=(54, 55), match='\\\\'>\n",
      "<re.Match object; span=(55, 56), match='s'>\n",
      "<re.Match object; span=(57, 58), match='3'>\n",
      "<re.Match object; span=(58, 59), match='2'>\n",
      "<re.Match object; span=(59, 60), match='1'>\n",
      "<re.Match object; span=(60, 61), match='-'>\n",
      "<re.Match object; span=(61, 62), match='5'>\n",
      "<re.Match object; span=(62, 63), match='5'>\n",
      "<re.Match object; span=(63, 64), match='5'>\n",
      "<re.Match object; span=(64, 65), match='-'>\n",
      "<re.Match object; span=(65, 66), match='4'>\n",
      "<re.Match object; span=(66, 67), match='3'>\n",
      "<re.Match object; span=(67, 68), match='2'>\n",
      "<re.Match object; span=(68, 69), match='1'>\n",
      "<re.Match object; span=(70, 71), match='1'>\n",
      "<re.Match object; span=(71, 72), match='2'>\n",
      "<re.Match object; span=(72, 73), match='3'>\n",
      "<re.Match object; span=(73, 74), match='4'>\n",
      "<re.Match object; span=(74, 75), match='5'>\n",
      "<re.Match object; span=(75, 76), match='6'>\n",
      "<re.Match object; span=(76, 77), match='7'>\n",
      "<re.Match object; span=(77, 78), match='8'>\n",
      "<re.Match object; span=(78, 79), match='9'>\n",
      "<re.Match object; span=(79, 80), match='0'>\n",
      "<re.Match object; span=(81, 82), match='H'>\n",
      "<re.Match object; span=(82, 83), match='a'>\n",
      "<re.Match object; span=(83, 84), match=' '>\n",
      "<re.Match object; span=(84, 85), match='H'>\n",
      "<re.Match object; span=(85, 86), match='a'>\n",
      "<re.Match object; span=(86, 87), match='H'>\n",
      "<re.Match object; span=(87, 88), match='a'>\n",
      "<re.Match object; span=(89, 90), match='M'>\n",
      "<re.Match object; span=(90, 91), match='e'>\n",
      "<re.Match object; span=(91, 92), match='t'>\n",
      "<re.Match object; span=(92, 93), match='a'>\n",
      "<re.Match object; span=(93, 94), match='C'>\n",
      "<re.Match object; span=(94, 95), match='h'>\n",
      "<re.Match object; span=(95, 96), match='a'>\n",
      "<re.Match object; span=(96, 97), match='r'>\n",
      "<re.Match object; span=(97, 98), match='a'>\n",
      "<re.Match object; span=(98, 99), match='c'>\n",
      "<re.Match object; span=(99, 100), match='t'>\n",
      "<re.Match object; span=(100, 101), match='e'>\n",
      "<re.Match object; span=(101, 102), match='r'>\n",
      "<re.Match object; span=(102, 103), match='s'>\n",
      "<re.Match object; span=(103, 104), match=' '>\n",
      "<re.Match object; span=(104, 105), match='('>\n",
      "<re.Match object; span=(105, 106), match='N'>\n",
      "<re.Match object; span=(106, 107), match='e'>\n",
      "<re.Match object; span=(107, 108), match='e'>\n",
      "<re.Match object; span=(108, 109), match='d'>\n",
      "<re.Match object; span=(109, 110), match=' '>\n",
      "<re.Match object; span=(110, 111), match='t'>\n",
      "<re.Match object; span=(111, 112), match='o'>\n",
      "<re.Match object; span=(112, 113), match=' '>\n",
      "<re.Match object; span=(113, 114), match='b'>\n",
      "<re.Match object; span=(114, 115), match='e'>\n",
      "<re.Match object; span=(115, 116), match=' '>\n",
      "<re.Match object; span=(116, 117), match='e'>\n",
      "<re.Match object; span=(117, 118), match='s'>\n",
      "<re.Match object; span=(118, 119), match='c'>\n",
      "<re.Match object; span=(119, 120), match='a'>\n",
      "<re.Match object; span=(120, 121), match='p'>\n",
      "<re.Match object; span=(121, 122), match='e'>\n",
      "<re.Match object; span=(122, 123), match='d'>\n",
      "<re.Match object; span=(123, 124), match=')'>\n",
      "<re.Match object; span=(124, 125), match=':'>\n",
      "<re.Match object; span=(126, 127), match='.'>\n",
      "<re.Match object; span=(127, 128), match=' '>\n",
      "<re.Match object; span=(128, 129), match='^'>\n",
      "<re.Match object; span=(129, 130), match=' '>\n",
      "<re.Match object; span=(130, 131), match='$'>\n",
      "<re.Match object; span=(131, 132), match=' '>\n",
      "<re.Match object; span=(132, 133), match='*'>\n",
      "<re.Match object; span=(133, 134), match=' '>\n",
      "<re.Match object; span=(134, 135), match='+'>\n",
      "<re.Match object; span=(135, 136), match=' '>\n",
      "<re.Match object; span=(136, 137), match='?'>\n",
      "<re.Match object; span=(137, 138), match=' '>\n",
      "<re.Match object; span=(138, 139), match='{'>\n",
      "<re.Match object; span=(139, 140), match=' '>\n",
      "<re.Match object; span=(140, 141), match='}'>\n",
      "<re.Match object; span=(141, 142), match=' '>\n",
      "<re.Match object; span=(142, 143), match='['>\n",
      "<re.Match object; span=(143, 144), match=' '>\n",
      "<re.Match object; span=(144, 145), match=']'>\n",
      "<re.Match object; span=(145, 146), match=' '>\n",
      "<re.Match object; span=(146, 147), match='\\\\'>\n",
      "<re.Match object; span=(147, 148), match=' '>\n",
      "<re.Match object; span=(148, 149), match='|'>\n",
      "<re.Match object; span=(149, 150), match=' '>\n",
      "<re.Match object; span=(150, 151), match='('>\n",
      "<re.Match object; span=(151, 152), match=' '>\n",
      "<re.Match object; span=(152, 153), match=')'>\n",
      "<re.Match object; span=(154, 155), match='S'>\n",
      "<re.Match object; span=(155, 156), match='a'>\n",
      "<re.Match object; span=(156, 157), match='l'>\n",
      "<re.Match object; span=(157, 158), match='a'>\n",
      "<re.Match object; span=(158, 159), match='h'>\n",
      "<re.Match object; span=(159, 160), match='u'>\n",
      "<re.Match object; span=(160, 161), match='d'>\n",
      "<re.Match object; span=(161, 162), match='d'>\n",
      "<re.Match object; span=(162, 163), match='i'>\n",
      "<re.Match object; span=(163, 164), match='n'>\n",
      "<re.Match object; span=(164, 165), match='@'>\n",
      "<re.Match object; span=(165, 166), match='T'>\n",
      "<re.Match object; span=(166, 167), match='C'>\n",
      "<re.Match object; span=(167, 168), match='S'>\n",
      "<re.Match object; span=(168, 169), match='.'>\n",
      "<re.Match object; span=(169, 170), match='c'>\n",
      "<re.Match object; span=(170, 171), match='o'>\n",
      "<re.Match object; span=(171, 172), match='m'>\n",
      "<re.Match object; span=(173, 174), match='3'>\n",
      "<re.Match object; span=(174, 175), match='2'>\n",
      "<re.Match object; span=(175, 176), match='1'>\n",
      "<re.Match object; span=(176, 177), match='-'>\n",
      "<re.Match object; span=(177, 178), match='5'>\n",
      "<re.Match object; span=(178, 179), match='5'>\n",
      "<re.Match object; span=(179, 180), match='5'>\n",
      "<re.Match object; span=(180, 181), match='-'>\n",
      "<re.Match object; span=(181, 182), match='4'>\n",
      "<re.Match object; span=(182, 183), match='3'>\n",
      "<re.Match object; span=(183, 184), match='2'>\n",
      "<re.Match object; span=(184, 185), match='1'>\n",
      "<re.Match object; span=(186, 187), match='1'>\n",
      "<re.Match object; span=(187, 188), match='2'>\n",
      "<re.Match object; span=(188, 189), match='3'>\n",
      "<re.Match object; span=(189, 190), match='.'>\n",
      "<re.Match object; span=(190, 191), match='5'>\n",
      "<re.Match object; span=(191, 192), match='5'>\n",
      "<re.Match object; span=(192, 193), match='5'>\n",
      "<re.Match object; span=(193, 194), match='.'>\n",
      "<re.Match object; span=(194, 195), match='1'>\n",
      "<re.Match object; span=(195, 196), match='2'>\n",
      "<re.Match object; span=(196, 197), match='3'>\n",
      "<re.Match object; span=(197, 198), match='4'>\n",
      "<re.Match object; span=(199, 200), match='1'>\n",
      "<re.Match object; span=(200, 201), match='2'>\n",
      "<re.Match object; span=(201, 202), match='3'>\n",
      "<re.Match object; span=(202, 203), match='*'>\n",
      "<re.Match object; span=(203, 204), match='5'>\n",
      "<re.Match object; span=(204, 205), match='5'>\n",
      "<re.Match object; span=(205, 206), match='5'>\n",
      "<re.Match object; span=(206, 207), match='*'>\n",
      "<re.Match object; span=(207, 208), match='1'>\n",
      "<re.Match object; span=(208, 209), match='2'>\n",
      "<re.Match object; span=(209, 210), match='3'>\n",
      "<re.Match object; span=(210, 211), match='4'>\n",
      "<re.Match object; span=(212, 213), match='1'>\n",
      "<re.Match object; span=(213, 214), match='2'>\n",
      "<re.Match object; span=(214, 215), match='3'>\n",
      "<re.Match object; span=(215, 216), match='.'>\n",
      "<re.Match object; span=(216, 217), match='5'>\n",
      "<re.Match object; span=(217, 218), match='5'>\n",
      "<re.Match object; span=(218, 219), match='5'>\n",
      "<re.Match object; span=(219, 220), match='.'>\n",
      "<re.Match object; span=(220, 221), match='1'>\n",
      "<re.Match object; span=(221, 222), match='2'>\n",
      "<re.Match object; span=(222, 223), match='3'>\n",
      "<re.Match object; span=(223, 224), match='4'>\n",
      "<re.Match object; span=(225, 226), match='8'>\n",
      "<re.Match object; span=(226, 227), match='0'>\n",
      "<re.Match object; span=(227, 228), match='0'>\n",
      "<re.Match object; span=(228, 229), match='-'>\n",
      "<re.Match object; span=(229, 230), match='5'>\n",
      "<re.Match object; span=(230, 231), match='5'>\n",
      "<re.Match object; span=(231, 232), match='5'>\n",
      "<re.Match object; span=(232, 233), match='-'>\n",
      "<re.Match object; span=(233, 234), match='1'>\n",
      "<re.Match object; span=(234, 235), match='2'>\n",
      "<re.Match object; span=(235, 236), match='3'>\n",
      "<re.Match object; span=(236, 237), match='4'>\n",
      "<re.Match object; span=(238, 239), match='9'>\n",
      "<re.Match object; span=(239, 240), match='0'>\n",
      "<re.Match object; span=(240, 241), match='0'>\n",
      "<re.Match object; span=(241, 242), match='-'>\n",
      "<re.Match object; span=(242, 243), match='5'>\n",
      "<re.Match object; span=(243, 244), match='5'>\n",
      "<re.Match object; span=(244, 245), match='5'>\n",
      "<re.Match object; span=(245, 246), match='-'>\n",
      "<re.Match object; span=(246, 247), match='1'>\n",
      "<re.Match object; span=(247, 248), match='2'>\n",
      "<re.Match object; span=(248, 249), match='3'>\n",
      "<re.Match object; span=(249, 250), match='4'>\n",
      "<re.Match object; span=(251, 252), match='M'>\n",
      "<re.Match object; span=(252, 253), match='r'>\n",
      "<re.Match object; span=(253, 254), match='.'>\n",
      "<re.Match object; span=(254, 255), match=' '>\n",
      "<re.Match object; span=(255, 256), match='S'>\n",
      "<re.Match object; span=(256, 257), match='c'>\n",
      "<re.Match object; span=(257, 258), match='h'>\n",
      "<re.Match object; span=(258, 259), match='a'>\n",
      "<re.Match object; span=(259, 260), match='f'>\n",
      "<re.Match object; span=(260, 261), match='e'>\n",
      "<re.Match object; span=(261, 262), match='r'>\n",
      "<re.Match object; span=(263, 264), match='M'>\n",
      "<re.Match object; span=(264, 265), match='r'>\n",
      "<re.Match object; span=(265, 266), match=' '>\n",
      "<re.Match object; span=(266, 267), match='S'>\n",
      "<re.Match object; span=(267, 268), match='m'>\n",
      "<re.Match object; span=(268, 269), match='i'>\n",
      "<re.Match object; span=(269, 270), match='t'>\n",
      "<re.Match object; span=(270, 271), match='h'>\n",
      "<re.Match object; span=(272, 273), match='M'>\n",
      "<re.Match object; span=(273, 274), match='s'>\n",
      "<re.Match object; span=(274, 275), match=' '>\n",
      "<re.Match object; span=(275, 276), match='D'>\n",
      "<re.Match object; span=(276, 277), match='a'>\n",
      "<re.Match object; span=(277, 278), match='v'>\n",
      "<re.Match object; span=(278, 279), match='i'>\n",
      "<re.Match object; span=(279, 280), match='s'>\n",
      "<re.Match object; span=(281, 282), match='M'>\n",
      "<re.Match object; span=(282, 283), match='r'>\n",
      "<re.Match object; span=(283, 284), match='s'>\n",
      "<re.Match object; span=(284, 285), match='.'>\n",
      "<re.Match object; span=(285, 286), match=' '>\n",
      "<re.Match object; span=(286, 287), match='R'>\n",
      "<re.Match object; span=(287, 288), match='o'>\n",
      "<re.Match object; span=(288, 289), match='b'>\n",
      "<re.Match object; span=(289, 290), match='i'>\n",
      "<re.Match object; span=(290, 291), match='n'>\n",
      "<re.Match object; span=(291, 292), match='s'>\n",
      "<re.Match object; span=(292, 293), match='o'>\n",
      "<re.Match object; span=(293, 294), match='n'>\n",
      "<re.Match object; span=(295, 296), match='M'>\n",
      "<re.Match object; span=(296, 297), match='r'>\n",
      "<re.Match object; span=(297, 298), match='.'>\n",
      "<re.Match object; span=(298, 299), match=' '>\n",
      "<re.Match object; span=(299, 300), match='T'>\n",
      "<re.Match object; span=(301, 302), match='M'>\n",
      "<re.Match object; span=(302, 303), match='r'>\n",
      "<re.Match object; span=(303, 304), match='_'>\n",
      "<re.Match object; span=(304, 305), match='h'>\n",
      "<re.Match object; span=(305, 306), match='e'>\n",
      "<re.Match object; span=(306, 307), match='l'>\n",
      "<re.Match object; span=(307, 308), match='l'>\n",
      "<re.Match object; span=(308, 309), match='o'>\n",
      "<re.Match object; span=(310, 311), match='a'>\n",
      "<re.Match object; span=(311, 312), match='b'>\n",
      "<re.Match object; span=(312, 313), match='c'>\n"
     ]
    }
   ],
   "source": [
    "# what you want to search\n",
    "\n",
    "patt = re.compile('.')\n",
    "\n",
    "# From which string you want to search\n",
    "\n",
    "match = patt.finditer(text_to_search)\n",
    "\n",
    "for i in match:\n",
    "    print(i)"
   ]
  },
  {
   "cell_type": "code",
   "execution_count": 109,
   "id": "cd85c1d5",
   "metadata": {},
   "outputs": [
    {
     "name": "stdout",
     "output_type": "stream",
     "text": [
      "<re.Match object; span=(57, 58), match='3'>\n",
      "<re.Match object; span=(58, 59), match='2'>\n",
      "<re.Match object; span=(59, 60), match='1'>\n",
      "<re.Match object; span=(61, 62), match='5'>\n",
      "<re.Match object; span=(62, 63), match='5'>\n",
      "<re.Match object; span=(63, 64), match='5'>\n",
      "<re.Match object; span=(65, 66), match='4'>\n",
      "<re.Match object; span=(66, 67), match='3'>\n",
      "<re.Match object; span=(67, 68), match='2'>\n",
      "<re.Match object; span=(68, 69), match='1'>\n",
      "<re.Match object; span=(70, 71), match='1'>\n",
      "<re.Match object; span=(71, 72), match='2'>\n",
      "<re.Match object; span=(72, 73), match='3'>\n",
      "<re.Match object; span=(73, 74), match='4'>\n",
      "<re.Match object; span=(74, 75), match='5'>\n",
      "<re.Match object; span=(75, 76), match='6'>\n",
      "<re.Match object; span=(76, 77), match='7'>\n",
      "<re.Match object; span=(77, 78), match='8'>\n",
      "<re.Match object; span=(78, 79), match='9'>\n",
      "<re.Match object; span=(79, 80), match='0'>\n",
      "<re.Match object; span=(173, 174), match='3'>\n",
      "<re.Match object; span=(174, 175), match='2'>\n",
      "<re.Match object; span=(175, 176), match='1'>\n",
      "<re.Match object; span=(177, 178), match='5'>\n",
      "<re.Match object; span=(178, 179), match='5'>\n",
      "<re.Match object; span=(179, 180), match='5'>\n",
      "<re.Match object; span=(181, 182), match='4'>\n",
      "<re.Match object; span=(182, 183), match='3'>\n",
      "<re.Match object; span=(183, 184), match='2'>\n",
      "<re.Match object; span=(184, 185), match='1'>\n",
      "<re.Match object; span=(186, 187), match='1'>\n",
      "<re.Match object; span=(187, 188), match='2'>\n",
      "<re.Match object; span=(188, 189), match='3'>\n",
      "<re.Match object; span=(190, 191), match='5'>\n",
      "<re.Match object; span=(191, 192), match='5'>\n",
      "<re.Match object; span=(192, 193), match='5'>\n",
      "<re.Match object; span=(194, 195), match='1'>\n",
      "<re.Match object; span=(195, 196), match='2'>\n",
      "<re.Match object; span=(196, 197), match='3'>\n",
      "<re.Match object; span=(197, 198), match='4'>\n",
      "<re.Match object; span=(199, 200), match='1'>\n",
      "<re.Match object; span=(200, 201), match='2'>\n",
      "<re.Match object; span=(201, 202), match='3'>\n",
      "<re.Match object; span=(203, 204), match='5'>\n",
      "<re.Match object; span=(204, 205), match='5'>\n",
      "<re.Match object; span=(205, 206), match='5'>\n",
      "<re.Match object; span=(207, 208), match='1'>\n",
      "<re.Match object; span=(208, 209), match='2'>\n",
      "<re.Match object; span=(209, 210), match='3'>\n",
      "<re.Match object; span=(210, 211), match='4'>\n",
      "<re.Match object; span=(212, 213), match='1'>\n",
      "<re.Match object; span=(213, 214), match='2'>\n",
      "<re.Match object; span=(214, 215), match='3'>\n",
      "<re.Match object; span=(216, 217), match='5'>\n",
      "<re.Match object; span=(217, 218), match='5'>\n",
      "<re.Match object; span=(218, 219), match='5'>\n",
      "<re.Match object; span=(220, 221), match='1'>\n",
      "<re.Match object; span=(221, 222), match='2'>\n",
      "<re.Match object; span=(222, 223), match='3'>\n",
      "<re.Match object; span=(223, 224), match='4'>\n",
      "<re.Match object; span=(225, 226), match='8'>\n",
      "<re.Match object; span=(226, 227), match='0'>\n",
      "<re.Match object; span=(227, 228), match='0'>\n",
      "<re.Match object; span=(229, 230), match='5'>\n",
      "<re.Match object; span=(230, 231), match='5'>\n",
      "<re.Match object; span=(231, 232), match='5'>\n",
      "<re.Match object; span=(233, 234), match='1'>\n",
      "<re.Match object; span=(234, 235), match='2'>\n",
      "<re.Match object; span=(235, 236), match='3'>\n",
      "<re.Match object; span=(236, 237), match='4'>\n",
      "<re.Match object; span=(238, 239), match='9'>\n",
      "<re.Match object; span=(239, 240), match='0'>\n",
      "<re.Match object; span=(240, 241), match='0'>\n",
      "<re.Match object; span=(242, 243), match='5'>\n",
      "<re.Match object; span=(243, 244), match='5'>\n",
      "<re.Match object; span=(244, 245), match='5'>\n",
      "<re.Match object; span=(246, 247), match='1'>\n",
      "<re.Match object; span=(247, 248), match='2'>\n",
      "<re.Match object; span=(248, 249), match='3'>\n",
      "<re.Match object; span=(249, 250), match='4'>\n"
     ]
    }
   ],
   "source": [
    "# what you want to search\n",
    "\n",
    "patt = re.compile('\\d')\n",
    "\n",
    "# From which string you want to search\n",
    "\n",
    "match = patt.finditer(text_to_search)\n",
    "\n",
    "for i in match:\n",
    "    print(i)"
   ]
  },
  {
   "cell_type": "code",
   "execution_count": 110,
   "id": "24a65c84",
   "metadata": {},
   "outputs": [
    {
     "name": "stdout",
     "output_type": "stream",
     "text": [
      "<re.Match object; span=(0, 1), match='\\n'>\n",
      "<re.Match object; span=(1, 2), match='a'>\n",
      "<re.Match object; span=(2, 3), match='b'>\n",
      "<re.Match object; span=(3, 4), match='c'>\n",
      "<re.Match object; span=(4, 5), match='d'>\n",
      "<re.Match object; span=(5, 6), match='e'>\n",
      "<re.Match object; span=(6, 7), match='f'>\n",
      "<re.Match object; span=(7, 8), match='g'>\n",
      "<re.Match object; span=(8, 9), match='h'>\n",
      "<re.Match object; span=(9, 10), match='i'>\n",
      "<re.Match object; span=(10, 11), match='j'>\n",
      "<re.Match object; span=(11, 12), match='k'>\n",
      "<re.Match object; span=(12, 13), match='l'>\n",
      "<re.Match object; span=(13, 14), match='m'>\n",
      "<re.Match object; span=(14, 15), match='n'>\n",
      "<re.Match object; span=(15, 16), match='o'>\n",
      "<re.Match object; span=(16, 17), match='p'>\n",
      "<re.Match object; span=(17, 18), match='q'>\n",
      "<re.Match object; span=(18, 19), match='u'>\n",
      "<re.Match object; span=(19, 20), match='r'>\n",
      "<re.Match object; span=(20, 21), match='t'>\n",
      "<re.Match object; span=(21, 22), match='u'>\n",
      "<re.Match object; span=(22, 23), match='v'>\n",
      "<re.Match object; span=(23, 24), match='w'>\n",
      "<re.Match object; span=(24, 25), match='x'>\n",
      "<re.Match object; span=(25, 26), match='y'>\n",
      "<re.Match object; span=(26, 27), match='z'>\n",
      "<re.Match object; span=(27, 28), match='\\n'>\n",
      "<re.Match object; span=(28, 29), match='A'>\n",
      "<re.Match object; span=(29, 30), match='B'>\n",
      "<re.Match object; span=(30, 31), match='C'>\n",
      "<re.Match object; span=(31, 32), match='D'>\n",
      "<re.Match object; span=(32, 33), match='E'>\n",
      "<re.Match object; span=(33, 34), match='F'>\n",
      "<re.Match object; span=(34, 35), match='G'>\n",
      "<re.Match object; span=(35, 36), match='H'>\n",
      "<re.Match object; span=(36, 37), match='I'>\n",
      "<re.Match object; span=(37, 38), match='J'>\n",
      "<re.Match object; span=(38, 39), match='K'>\n",
      "<re.Match object; span=(39, 40), match='L'>\n",
      "<re.Match object; span=(40, 41), match='M'>\n",
      "<re.Match object; span=(41, 42), match='N'>\n",
      "<re.Match object; span=(42, 43), match='O'>\n",
      "<re.Match object; span=(43, 44), match='P'>\n",
      "<re.Match object; span=(44, 45), match='Q'>\n",
      "<re.Match object; span=(45, 46), match='R'>\n",
      "<re.Match object; span=(46, 47), match='S'>\n",
      "<re.Match object; span=(47, 48), match='T'>\n",
      "<re.Match object; span=(48, 49), match='U'>\n",
      "<re.Match object; span=(49, 50), match='V'>\n",
      "<re.Match object; span=(50, 51), match='W'>\n",
      "<re.Match object; span=(51, 52), match='X'>\n",
      "<re.Match object; span=(52, 53), match='Y'>\n",
      "<re.Match object; span=(53, 54), match='Z'>\n",
      "<re.Match object; span=(54, 55), match='\\\\'>\n",
      "<re.Match object; span=(55, 56), match='s'>\n",
      "<re.Match object; span=(56, 57), match='\\n'>\n",
      "<re.Match object; span=(60, 61), match='-'>\n",
      "<re.Match object; span=(64, 65), match='-'>\n",
      "<re.Match object; span=(69, 70), match='\\n'>\n",
      "<re.Match object; span=(80, 81), match='\\n'>\n",
      "<re.Match object; span=(81, 82), match='H'>\n",
      "<re.Match object; span=(82, 83), match='a'>\n",
      "<re.Match object; span=(83, 84), match=' '>\n",
      "<re.Match object; span=(84, 85), match='H'>\n",
      "<re.Match object; span=(85, 86), match='a'>\n",
      "<re.Match object; span=(86, 87), match='H'>\n",
      "<re.Match object; span=(87, 88), match='a'>\n",
      "<re.Match object; span=(88, 89), match='\\n'>\n",
      "<re.Match object; span=(89, 90), match='M'>\n",
      "<re.Match object; span=(90, 91), match='e'>\n",
      "<re.Match object; span=(91, 92), match='t'>\n",
      "<re.Match object; span=(92, 93), match='a'>\n",
      "<re.Match object; span=(93, 94), match='C'>\n",
      "<re.Match object; span=(94, 95), match='h'>\n",
      "<re.Match object; span=(95, 96), match='a'>\n",
      "<re.Match object; span=(96, 97), match='r'>\n",
      "<re.Match object; span=(97, 98), match='a'>\n",
      "<re.Match object; span=(98, 99), match='c'>\n",
      "<re.Match object; span=(99, 100), match='t'>\n",
      "<re.Match object; span=(100, 101), match='e'>\n",
      "<re.Match object; span=(101, 102), match='r'>\n",
      "<re.Match object; span=(102, 103), match='s'>\n",
      "<re.Match object; span=(103, 104), match=' '>\n",
      "<re.Match object; span=(104, 105), match='('>\n",
      "<re.Match object; span=(105, 106), match='N'>\n",
      "<re.Match object; span=(106, 107), match='e'>\n",
      "<re.Match object; span=(107, 108), match='e'>\n",
      "<re.Match object; span=(108, 109), match='d'>\n",
      "<re.Match object; span=(109, 110), match=' '>\n",
      "<re.Match object; span=(110, 111), match='t'>\n",
      "<re.Match object; span=(111, 112), match='o'>\n",
      "<re.Match object; span=(112, 113), match=' '>\n",
      "<re.Match object; span=(113, 114), match='b'>\n",
      "<re.Match object; span=(114, 115), match='e'>\n",
      "<re.Match object; span=(115, 116), match=' '>\n",
      "<re.Match object; span=(116, 117), match='e'>\n",
      "<re.Match object; span=(117, 118), match='s'>\n",
      "<re.Match object; span=(118, 119), match='c'>\n",
      "<re.Match object; span=(119, 120), match='a'>\n",
      "<re.Match object; span=(120, 121), match='p'>\n",
      "<re.Match object; span=(121, 122), match='e'>\n",
      "<re.Match object; span=(122, 123), match='d'>\n",
      "<re.Match object; span=(123, 124), match=')'>\n",
      "<re.Match object; span=(124, 125), match=':'>\n",
      "<re.Match object; span=(125, 126), match='\\n'>\n",
      "<re.Match object; span=(126, 127), match='.'>\n",
      "<re.Match object; span=(127, 128), match=' '>\n",
      "<re.Match object; span=(128, 129), match='^'>\n",
      "<re.Match object; span=(129, 130), match=' '>\n",
      "<re.Match object; span=(130, 131), match='$'>\n",
      "<re.Match object; span=(131, 132), match=' '>\n",
      "<re.Match object; span=(132, 133), match='*'>\n",
      "<re.Match object; span=(133, 134), match=' '>\n",
      "<re.Match object; span=(134, 135), match='+'>\n",
      "<re.Match object; span=(135, 136), match=' '>\n",
      "<re.Match object; span=(136, 137), match='?'>\n",
      "<re.Match object; span=(137, 138), match=' '>\n",
      "<re.Match object; span=(138, 139), match='{'>\n",
      "<re.Match object; span=(139, 140), match=' '>\n",
      "<re.Match object; span=(140, 141), match='}'>\n",
      "<re.Match object; span=(141, 142), match=' '>\n",
      "<re.Match object; span=(142, 143), match='['>\n",
      "<re.Match object; span=(143, 144), match=' '>\n",
      "<re.Match object; span=(144, 145), match=']'>\n",
      "<re.Match object; span=(145, 146), match=' '>\n",
      "<re.Match object; span=(146, 147), match='\\\\'>\n",
      "<re.Match object; span=(147, 148), match=' '>\n",
      "<re.Match object; span=(148, 149), match='|'>\n",
      "<re.Match object; span=(149, 150), match=' '>\n",
      "<re.Match object; span=(150, 151), match='('>\n",
      "<re.Match object; span=(151, 152), match=' '>\n",
      "<re.Match object; span=(152, 153), match=')'>\n",
      "<re.Match object; span=(153, 154), match='\\n'>\n",
      "<re.Match object; span=(154, 155), match='S'>\n",
      "<re.Match object; span=(155, 156), match='a'>\n",
      "<re.Match object; span=(156, 157), match='l'>\n",
      "<re.Match object; span=(157, 158), match='a'>\n",
      "<re.Match object; span=(158, 159), match='h'>\n",
      "<re.Match object; span=(159, 160), match='u'>\n",
      "<re.Match object; span=(160, 161), match='d'>\n",
      "<re.Match object; span=(161, 162), match='d'>\n",
      "<re.Match object; span=(162, 163), match='i'>\n",
      "<re.Match object; span=(163, 164), match='n'>\n",
      "<re.Match object; span=(164, 165), match='@'>\n",
      "<re.Match object; span=(165, 166), match='T'>\n",
      "<re.Match object; span=(166, 167), match='C'>\n",
      "<re.Match object; span=(167, 168), match='S'>\n",
      "<re.Match object; span=(168, 169), match='.'>\n",
      "<re.Match object; span=(169, 170), match='c'>\n",
      "<re.Match object; span=(170, 171), match='o'>\n",
      "<re.Match object; span=(171, 172), match='m'>\n",
      "<re.Match object; span=(172, 173), match='\\n'>\n",
      "<re.Match object; span=(176, 177), match='-'>\n",
      "<re.Match object; span=(180, 181), match='-'>\n",
      "<re.Match object; span=(185, 186), match='\\n'>\n",
      "<re.Match object; span=(189, 190), match='.'>\n",
      "<re.Match object; span=(193, 194), match='.'>\n",
      "<re.Match object; span=(198, 199), match='\\n'>\n",
      "<re.Match object; span=(202, 203), match='*'>\n",
      "<re.Match object; span=(206, 207), match='*'>\n",
      "<re.Match object; span=(211, 212), match='\\n'>\n",
      "<re.Match object; span=(215, 216), match='.'>\n",
      "<re.Match object; span=(219, 220), match='.'>\n",
      "<re.Match object; span=(224, 225), match='\\n'>\n",
      "<re.Match object; span=(228, 229), match='-'>\n",
      "<re.Match object; span=(232, 233), match='-'>\n",
      "<re.Match object; span=(237, 238), match='\\n'>\n",
      "<re.Match object; span=(241, 242), match='-'>\n",
      "<re.Match object; span=(245, 246), match='-'>\n",
      "<re.Match object; span=(250, 251), match='\\n'>\n",
      "<re.Match object; span=(251, 252), match='M'>\n",
      "<re.Match object; span=(252, 253), match='r'>\n",
      "<re.Match object; span=(253, 254), match='.'>\n",
      "<re.Match object; span=(254, 255), match=' '>\n",
      "<re.Match object; span=(255, 256), match='S'>\n",
      "<re.Match object; span=(256, 257), match='c'>\n",
      "<re.Match object; span=(257, 258), match='h'>\n",
      "<re.Match object; span=(258, 259), match='a'>\n",
      "<re.Match object; span=(259, 260), match='f'>\n",
      "<re.Match object; span=(260, 261), match='e'>\n",
      "<re.Match object; span=(261, 262), match='r'>\n",
      "<re.Match object; span=(262, 263), match='\\n'>\n",
      "<re.Match object; span=(263, 264), match='M'>\n",
      "<re.Match object; span=(264, 265), match='r'>\n",
      "<re.Match object; span=(265, 266), match=' '>\n",
      "<re.Match object; span=(266, 267), match='S'>\n",
      "<re.Match object; span=(267, 268), match='m'>\n",
      "<re.Match object; span=(268, 269), match='i'>\n",
      "<re.Match object; span=(269, 270), match='t'>\n",
      "<re.Match object; span=(270, 271), match='h'>\n",
      "<re.Match object; span=(271, 272), match='\\n'>\n",
      "<re.Match object; span=(272, 273), match='M'>\n",
      "<re.Match object; span=(273, 274), match='s'>\n",
      "<re.Match object; span=(274, 275), match=' '>\n",
      "<re.Match object; span=(275, 276), match='D'>\n",
      "<re.Match object; span=(276, 277), match='a'>\n",
      "<re.Match object; span=(277, 278), match='v'>\n",
      "<re.Match object; span=(278, 279), match='i'>\n",
      "<re.Match object; span=(279, 280), match='s'>\n",
      "<re.Match object; span=(280, 281), match='\\n'>\n",
      "<re.Match object; span=(281, 282), match='M'>\n",
      "<re.Match object; span=(282, 283), match='r'>\n",
      "<re.Match object; span=(283, 284), match='s'>\n",
      "<re.Match object; span=(284, 285), match='.'>\n",
      "<re.Match object; span=(285, 286), match=' '>\n",
      "<re.Match object; span=(286, 287), match='R'>\n",
      "<re.Match object; span=(287, 288), match='o'>\n",
      "<re.Match object; span=(288, 289), match='b'>\n",
      "<re.Match object; span=(289, 290), match='i'>\n",
      "<re.Match object; span=(290, 291), match='n'>\n",
      "<re.Match object; span=(291, 292), match='s'>\n",
      "<re.Match object; span=(292, 293), match='o'>\n",
      "<re.Match object; span=(293, 294), match='n'>\n",
      "<re.Match object; span=(294, 295), match='\\n'>\n",
      "<re.Match object; span=(295, 296), match='M'>\n",
      "<re.Match object; span=(296, 297), match='r'>\n",
      "<re.Match object; span=(297, 298), match='.'>\n",
      "<re.Match object; span=(298, 299), match=' '>\n",
      "<re.Match object; span=(299, 300), match='T'>\n",
      "<re.Match object; span=(300, 301), match='\\n'>\n",
      "<re.Match object; span=(301, 302), match='M'>\n",
      "<re.Match object; span=(302, 303), match='r'>\n",
      "<re.Match object; span=(303, 304), match='_'>\n",
      "<re.Match object; span=(304, 305), match='h'>\n",
      "<re.Match object; span=(305, 306), match='e'>\n",
      "<re.Match object; span=(306, 307), match='l'>\n",
      "<re.Match object; span=(307, 308), match='l'>\n",
      "<re.Match object; span=(308, 309), match='o'>\n",
      "<re.Match object; span=(309, 310), match='\\n'>\n",
      "<re.Match object; span=(310, 311), match='a'>\n",
      "<re.Match object; span=(311, 312), match='b'>\n",
      "<re.Match object; span=(312, 313), match='c'>\n",
      "<re.Match object; span=(313, 314), match='\\n'>\n"
     ]
    }
   ],
   "source": [
    "# what you want to search\n",
    "\n",
    "patt = re.compile('\\D')\n",
    "\n",
    "# From which string you want to search\n",
    "\n",
    "match = patt.finditer(text_to_search)\n",
    "\n",
    "for i in match:\n",
    "    print(i)"
   ]
  },
  {
   "cell_type": "code",
   "execution_count": 111,
   "id": "d76c817d",
   "metadata": {},
   "outputs": [
    {
     "name": "stdout",
     "output_type": "stream",
     "text": [
      "<re.Match object; span=(1, 2), match='a'>\n",
      "<re.Match object; span=(2, 3), match='b'>\n",
      "<re.Match object; span=(3, 4), match='c'>\n",
      "<re.Match object; span=(4, 5), match='d'>\n",
      "<re.Match object; span=(5, 6), match='e'>\n",
      "<re.Match object; span=(6, 7), match='f'>\n",
      "<re.Match object; span=(7, 8), match='g'>\n",
      "<re.Match object; span=(8, 9), match='h'>\n",
      "<re.Match object; span=(9, 10), match='i'>\n",
      "<re.Match object; span=(10, 11), match='j'>\n",
      "<re.Match object; span=(11, 12), match='k'>\n",
      "<re.Match object; span=(12, 13), match='l'>\n",
      "<re.Match object; span=(13, 14), match='m'>\n",
      "<re.Match object; span=(14, 15), match='n'>\n",
      "<re.Match object; span=(15, 16), match='o'>\n",
      "<re.Match object; span=(16, 17), match='p'>\n",
      "<re.Match object; span=(17, 18), match='q'>\n",
      "<re.Match object; span=(18, 19), match='u'>\n",
      "<re.Match object; span=(19, 20), match='r'>\n",
      "<re.Match object; span=(20, 21), match='t'>\n",
      "<re.Match object; span=(21, 22), match='u'>\n",
      "<re.Match object; span=(22, 23), match='v'>\n",
      "<re.Match object; span=(23, 24), match='w'>\n",
      "<re.Match object; span=(24, 25), match='x'>\n",
      "<re.Match object; span=(25, 26), match='y'>\n",
      "<re.Match object; span=(26, 27), match='z'>\n",
      "<re.Match object; span=(28, 29), match='A'>\n",
      "<re.Match object; span=(29, 30), match='B'>\n",
      "<re.Match object; span=(30, 31), match='C'>\n",
      "<re.Match object; span=(31, 32), match='D'>\n",
      "<re.Match object; span=(32, 33), match='E'>\n",
      "<re.Match object; span=(33, 34), match='F'>\n",
      "<re.Match object; span=(34, 35), match='G'>\n",
      "<re.Match object; span=(35, 36), match='H'>\n",
      "<re.Match object; span=(36, 37), match='I'>\n",
      "<re.Match object; span=(37, 38), match='J'>\n",
      "<re.Match object; span=(38, 39), match='K'>\n",
      "<re.Match object; span=(39, 40), match='L'>\n",
      "<re.Match object; span=(40, 41), match='M'>\n",
      "<re.Match object; span=(41, 42), match='N'>\n",
      "<re.Match object; span=(42, 43), match='O'>\n",
      "<re.Match object; span=(43, 44), match='P'>\n",
      "<re.Match object; span=(44, 45), match='Q'>\n",
      "<re.Match object; span=(45, 46), match='R'>\n",
      "<re.Match object; span=(46, 47), match='S'>\n",
      "<re.Match object; span=(47, 48), match='T'>\n",
      "<re.Match object; span=(48, 49), match='U'>\n",
      "<re.Match object; span=(49, 50), match='V'>\n",
      "<re.Match object; span=(50, 51), match='W'>\n",
      "<re.Match object; span=(51, 52), match='X'>\n",
      "<re.Match object; span=(52, 53), match='Y'>\n",
      "<re.Match object; span=(53, 54), match='Z'>\n",
      "<re.Match object; span=(55, 56), match='s'>\n",
      "<re.Match object; span=(57, 58), match='3'>\n",
      "<re.Match object; span=(58, 59), match='2'>\n",
      "<re.Match object; span=(59, 60), match='1'>\n",
      "<re.Match object; span=(61, 62), match='5'>\n",
      "<re.Match object; span=(62, 63), match='5'>\n",
      "<re.Match object; span=(63, 64), match='5'>\n",
      "<re.Match object; span=(65, 66), match='4'>\n",
      "<re.Match object; span=(66, 67), match='3'>\n",
      "<re.Match object; span=(67, 68), match='2'>\n",
      "<re.Match object; span=(68, 69), match='1'>\n",
      "<re.Match object; span=(70, 71), match='1'>\n",
      "<re.Match object; span=(71, 72), match='2'>\n",
      "<re.Match object; span=(72, 73), match='3'>\n",
      "<re.Match object; span=(73, 74), match='4'>\n",
      "<re.Match object; span=(74, 75), match='5'>\n",
      "<re.Match object; span=(75, 76), match='6'>\n",
      "<re.Match object; span=(76, 77), match='7'>\n",
      "<re.Match object; span=(77, 78), match='8'>\n",
      "<re.Match object; span=(78, 79), match='9'>\n",
      "<re.Match object; span=(79, 80), match='0'>\n",
      "<re.Match object; span=(81, 82), match='H'>\n",
      "<re.Match object; span=(82, 83), match='a'>\n",
      "<re.Match object; span=(84, 85), match='H'>\n",
      "<re.Match object; span=(85, 86), match='a'>\n",
      "<re.Match object; span=(86, 87), match='H'>\n",
      "<re.Match object; span=(87, 88), match='a'>\n",
      "<re.Match object; span=(89, 90), match='M'>\n",
      "<re.Match object; span=(90, 91), match='e'>\n",
      "<re.Match object; span=(91, 92), match='t'>\n",
      "<re.Match object; span=(92, 93), match='a'>\n",
      "<re.Match object; span=(93, 94), match='C'>\n",
      "<re.Match object; span=(94, 95), match='h'>\n",
      "<re.Match object; span=(95, 96), match='a'>\n",
      "<re.Match object; span=(96, 97), match='r'>\n",
      "<re.Match object; span=(97, 98), match='a'>\n",
      "<re.Match object; span=(98, 99), match='c'>\n",
      "<re.Match object; span=(99, 100), match='t'>\n",
      "<re.Match object; span=(100, 101), match='e'>\n",
      "<re.Match object; span=(101, 102), match='r'>\n",
      "<re.Match object; span=(102, 103), match='s'>\n",
      "<re.Match object; span=(105, 106), match='N'>\n",
      "<re.Match object; span=(106, 107), match='e'>\n",
      "<re.Match object; span=(107, 108), match='e'>\n",
      "<re.Match object; span=(108, 109), match='d'>\n",
      "<re.Match object; span=(110, 111), match='t'>\n",
      "<re.Match object; span=(111, 112), match='o'>\n",
      "<re.Match object; span=(113, 114), match='b'>\n",
      "<re.Match object; span=(114, 115), match='e'>\n",
      "<re.Match object; span=(116, 117), match='e'>\n",
      "<re.Match object; span=(117, 118), match='s'>\n",
      "<re.Match object; span=(118, 119), match='c'>\n",
      "<re.Match object; span=(119, 120), match='a'>\n",
      "<re.Match object; span=(120, 121), match='p'>\n",
      "<re.Match object; span=(121, 122), match='e'>\n",
      "<re.Match object; span=(122, 123), match='d'>\n",
      "<re.Match object; span=(154, 155), match='S'>\n",
      "<re.Match object; span=(155, 156), match='a'>\n",
      "<re.Match object; span=(156, 157), match='l'>\n",
      "<re.Match object; span=(157, 158), match='a'>\n",
      "<re.Match object; span=(158, 159), match='h'>\n",
      "<re.Match object; span=(159, 160), match='u'>\n",
      "<re.Match object; span=(160, 161), match='d'>\n",
      "<re.Match object; span=(161, 162), match='d'>\n",
      "<re.Match object; span=(162, 163), match='i'>\n",
      "<re.Match object; span=(163, 164), match='n'>\n",
      "<re.Match object; span=(165, 166), match='T'>\n",
      "<re.Match object; span=(166, 167), match='C'>\n",
      "<re.Match object; span=(167, 168), match='S'>\n",
      "<re.Match object; span=(169, 170), match='c'>\n",
      "<re.Match object; span=(170, 171), match='o'>\n",
      "<re.Match object; span=(171, 172), match='m'>\n",
      "<re.Match object; span=(173, 174), match='3'>\n",
      "<re.Match object; span=(174, 175), match='2'>\n",
      "<re.Match object; span=(175, 176), match='1'>\n",
      "<re.Match object; span=(177, 178), match='5'>\n",
      "<re.Match object; span=(178, 179), match='5'>\n",
      "<re.Match object; span=(179, 180), match='5'>\n",
      "<re.Match object; span=(181, 182), match='4'>\n",
      "<re.Match object; span=(182, 183), match='3'>\n",
      "<re.Match object; span=(183, 184), match='2'>\n",
      "<re.Match object; span=(184, 185), match='1'>\n",
      "<re.Match object; span=(186, 187), match='1'>\n",
      "<re.Match object; span=(187, 188), match='2'>\n",
      "<re.Match object; span=(188, 189), match='3'>\n",
      "<re.Match object; span=(190, 191), match='5'>\n",
      "<re.Match object; span=(191, 192), match='5'>\n",
      "<re.Match object; span=(192, 193), match='5'>\n",
      "<re.Match object; span=(194, 195), match='1'>\n",
      "<re.Match object; span=(195, 196), match='2'>\n",
      "<re.Match object; span=(196, 197), match='3'>\n",
      "<re.Match object; span=(197, 198), match='4'>\n",
      "<re.Match object; span=(199, 200), match='1'>\n",
      "<re.Match object; span=(200, 201), match='2'>\n",
      "<re.Match object; span=(201, 202), match='3'>\n",
      "<re.Match object; span=(203, 204), match='5'>\n",
      "<re.Match object; span=(204, 205), match='5'>\n",
      "<re.Match object; span=(205, 206), match='5'>\n",
      "<re.Match object; span=(207, 208), match='1'>\n",
      "<re.Match object; span=(208, 209), match='2'>\n",
      "<re.Match object; span=(209, 210), match='3'>\n",
      "<re.Match object; span=(210, 211), match='4'>\n",
      "<re.Match object; span=(212, 213), match='1'>\n",
      "<re.Match object; span=(213, 214), match='2'>\n",
      "<re.Match object; span=(214, 215), match='3'>\n",
      "<re.Match object; span=(216, 217), match='5'>\n",
      "<re.Match object; span=(217, 218), match='5'>\n",
      "<re.Match object; span=(218, 219), match='5'>\n",
      "<re.Match object; span=(220, 221), match='1'>\n",
      "<re.Match object; span=(221, 222), match='2'>\n",
      "<re.Match object; span=(222, 223), match='3'>\n",
      "<re.Match object; span=(223, 224), match='4'>\n",
      "<re.Match object; span=(225, 226), match='8'>\n",
      "<re.Match object; span=(226, 227), match='0'>\n",
      "<re.Match object; span=(227, 228), match='0'>\n",
      "<re.Match object; span=(229, 230), match='5'>\n",
      "<re.Match object; span=(230, 231), match='5'>\n",
      "<re.Match object; span=(231, 232), match='5'>\n",
      "<re.Match object; span=(233, 234), match='1'>\n",
      "<re.Match object; span=(234, 235), match='2'>\n",
      "<re.Match object; span=(235, 236), match='3'>\n",
      "<re.Match object; span=(236, 237), match='4'>\n",
      "<re.Match object; span=(238, 239), match='9'>\n",
      "<re.Match object; span=(239, 240), match='0'>\n",
      "<re.Match object; span=(240, 241), match='0'>\n",
      "<re.Match object; span=(242, 243), match='5'>\n",
      "<re.Match object; span=(243, 244), match='5'>\n",
      "<re.Match object; span=(244, 245), match='5'>\n",
      "<re.Match object; span=(246, 247), match='1'>\n",
      "<re.Match object; span=(247, 248), match='2'>\n",
      "<re.Match object; span=(248, 249), match='3'>\n",
      "<re.Match object; span=(249, 250), match='4'>\n",
      "<re.Match object; span=(251, 252), match='M'>\n",
      "<re.Match object; span=(252, 253), match='r'>\n",
      "<re.Match object; span=(255, 256), match='S'>\n",
      "<re.Match object; span=(256, 257), match='c'>\n",
      "<re.Match object; span=(257, 258), match='h'>\n",
      "<re.Match object; span=(258, 259), match='a'>\n",
      "<re.Match object; span=(259, 260), match='f'>\n",
      "<re.Match object; span=(260, 261), match='e'>\n",
      "<re.Match object; span=(261, 262), match='r'>\n",
      "<re.Match object; span=(263, 264), match='M'>\n",
      "<re.Match object; span=(264, 265), match='r'>\n",
      "<re.Match object; span=(266, 267), match='S'>\n",
      "<re.Match object; span=(267, 268), match='m'>\n",
      "<re.Match object; span=(268, 269), match='i'>\n",
      "<re.Match object; span=(269, 270), match='t'>\n",
      "<re.Match object; span=(270, 271), match='h'>\n",
      "<re.Match object; span=(272, 273), match='M'>\n",
      "<re.Match object; span=(273, 274), match='s'>\n",
      "<re.Match object; span=(275, 276), match='D'>\n",
      "<re.Match object; span=(276, 277), match='a'>\n",
      "<re.Match object; span=(277, 278), match='v'>\n",
      "<re.Match object; span=(278, 279), match='i'>\n",
      "<re.Match object; span=(279, 280), match='s'>\n",
      "<re.Match object; span=(281, 282), match='M'>\n",
      "<re.Match object; span=(282, 283), match='r'>\n",
      "<re.Match object; span=(283, 284), match='s'>\n",
      "<re.Match object; span=(286, 287), match='R'>\n",
      "<re.Match object; span=(287, 288), match='o'>\n",
      "<re.Match object; span=(288, 289), match='b'>\n",
      "<re.Match object; span=(289, 290), match='i'>\n",
      "<re.Match object; span=(290, 291), match='n'>\n",
      "<re.Match object; span=(291, 292), match='s'>\n",
      "<re.Match object; span=(292, 293), match='o'>\n",
      "<re.Match object; span=(293, 294), match='n'>\n",
      "<re.Match object; span=(295, 296), match='M'>\n",
      "<re.Match object; span=(296, 297), match='r'>\n",
      "<re.Match object; span=(299, 300), match='T'>\n",
      "<re.Match object; span=(301, 302), match='M'>\n",
      "<re.Match object; span=(302, 303), match='r'>\n",
      "<re.Match object; span=(303, 304), match='_'>\n",
      "<re.Match object; span=(304, 305), match='h'>\n",
      "<re.Match object; span=(305, 306), match='e'>\n",
      "<re.Match object; span=(306, 307), match='l'>\n",
      "<re.Match object; span=(307, 308), match='l'>\n",
      "<re.Match object; span=(308, 309), match='o'>\n",
      "<re.Match object; span=(310, 311), match='a'>\n",
      "<re.Match object; span=(311, 312), match='b'>\n",
      "<re.Match object; span=(312, 313), match='c'>\n"
     ]
    }
   ],
   "source": [
    "# what you want to search\n",
    "\n",
    "patt = re.compile('\\w')\n",
    "\n",
    "# From which string you want to search\n",
    "\n",
    "match = patt.finditer(text_to_search)\n",
    "\n",
    "for i in match:\n",
    "    print(i)"
   ]
  },
  {
   "cell_type": "code",
   "execution_count": 112,
   "id": "df9f1088",
   "metadata": {},
   "outputs": [
    {
     "name": "stdout",
     "output_type": "stream",
     "text": [
      "<re.Match object; span=(0, 1), match='\\n'>\n",
      "<re.Match object; span=(27, 28), match='\\n'>\n",
      "<re.Match object; span=(54, 55), match='\\\\'>\n",
      "<re.Match object; span=(56, 57), match='\\n'>\n",
      "<re.Match object; span=(60, 61), match='-'>\n",
      "<re.Match object; span=(64, 65), match='-'>\n",
      "<re.Match object; span=(69, 70), match='\\n'>\n",
      "<re.Match object; span=(80, 81), match='\\n'>\n",
      "<re.Match object; span=(83, 84), match=' '>\n",
      "<re.Match object; span=(88, 89), match='\\n'>\n",
      "<re.Match object; span=(103, 104), match=' '>\n",
      "<re.Match object; span=(104, 105), match='('>\n",
      "<re.Match object; span=(109, 110), match=' '>\n",
      "<re.Match object; span=(112, 113), match=' '>\n",
      "<re.Match object; span=(115, 116), match=' '>\n",
      "<re.Match object; span=(123, 124), match=')'>\n",
      "<re.Match object; span=(124, 125), match=':'>\n",
      "<re.Match object; span=(125, 126), match='\\n'>\n",
      "<re.Match object; span=(126, 127), match='.'>\n",
      "<re.Match object; span=(127, 128), match=' '>\n",
      "<re.Match object; span=(128, 129), match='^'>\n",
      "<re.Match object; span=(129, 130), match=' '>\n",
      "<re.Match object; span=(130, 131), match='$'>\n",
      "<re.Match object; span=(131, 132), match=' '>\n",
      "<re.Match object; span=(132, 133), match='*'>\n",
      "<re.Match object; span=(133, 134), match=' '>\n",
      "<re.Match object; span=(134, 135), match='+'>\n",
      "<re.Match object; span=(135, 136), match=' '>\n",
      "<re.Match object; span=(136, 137), match='?'>\n",
      "<re.Match object; span=(137, 138), match=' '>\n",
      "<re.Match object; span=(138, 139), match='{'>\n",
      "<re.Match object; span=(139, 140), match=' '>\n",
      "<re.Match object; span=(140, 141), match='}'>\n",
      "<re.Match object; span=(141, 142), match=' '>\n",
      "<re.Match object; span=(142, 143), match='['>\n",
      "<re.Match object; span=(143, 144), match=' '>\n",
      "<re.Match object; span=(144, 145), match=']'>\n",
      "<re.Match object; span=(145, 146), match=' '>\n",
      "<re.Match object; span=(146, 147), match='\\\\'>\n",
      "<re.Match object; span=(147, 148), match=' '>\n",
      "<re.Match object; span=(148, 149), match='|'>\n",
      "<re.Match object; span=(149, 150), match=' '>\n",
      "<re.Match object; span=(150, 151), match='('>\n",
      "<re.Match object; span=(151, 152), match=' '>\n",
      "<re.Match object; span=(152, 153), match=')'>\n",
      "<re.Match object; span=(153, 154), match='\\n'>\n",
      "<re.Match object; span=(164, 165), match='@'>\n",
      "<re.Match object; span=(168, 169), match='.'>\n",
      "<re.Match object; span=(172, 173), match='\\n'>\n",
      "<re.Match object; span=(176, 177), match='-'>\n",
      "<re.Match object; span=(180, 181), match='-'>\n",
      "<re.Match object; span=(185, 186), match='\\n'>\n",
      "<re.Match object; span=(189, 190), match='.'>\n",
      "<re.Match object; span=(193, 194), match='.'>\n",
      "<re.Match object; span=(198, 199), match='\\n'>\n",
      "<re.Match object; span=(202, 203), match='*'>\n",
      "<re.Match object; span=(206, 207), match='*'>\n",
      "<re.Match object; span=(211, 212), match='\\n'>\n",
      "<re.Match object; span=(215, 216), match='.'>\n",
      "<re.Match object; span=(219, 220), match='.'>\n",
      "<re.Match object; span=(224, 225), match='\\n'>\n",
      "<re.Match object; span=(228, 229), match='-'>\n",
      "<re.Match object; span=(232, 233), match='-'>\n",
      "<re.Match object; span=(237, 238), match='\\n'>\n",
      "<re.Match object; span=(241, 242), match='-'>\n",
      "<re.Match object; span=(245, 246), match='-'>\n",
      "<re.Match object; span=(250, 251), match='\\n'>\n",
      "<re.Match object; span=(253, 254), match='.'>\n",
      "<re.Match object; span=(254, 255), match=' '>\n",
      "<re.Match object; span=(262, 263), match='\\n'>\n",
      "<re.Match object; span=(265, 266), match=' '>\n",
      "<re.Match object; span=(271, 272), match='\\n'>\n",
      "<re.Match object; span=(274, 275), match=' '>\n",
      "<re.Match object; span=(280, 281), match='\\n'>\n",
      "<re.Match object; span=(284, 285), match='.'>\n",
      "<re.Match object; span=(285, 286), match=' '>\n",
      "<re.Match object; span=(294, 295), match='\\n'>\n",
      "<re.Match object; span=(297, 298), match='.'>\n",
      "<re.Match object; span=(298, 299), match=' '>\n",
      "<re.Match object; span=(300, 301), match='\\n'>\n",
      "<re.Match object; span=(309, 310), match='\\n'>\n",
      "<re.Match object; span=(313, 314), match='\\n'>\n"
     ]
    }
   ],
   "source": [
    "# what you want to search\n",
    "\n",
    "patt = re.compile('\\W')\n",
    "\n",
    "# From which string you want to search\n",
    "\n",
    "match = patt.finditer(text_to_search)\n",
    "\n",
    "for i in match:\n",
    "    print(i)"
   ]
  },
  {
   "cell_type": "code",
   "execution_count": 113,
   "id": "9251e01d",
   "metadata": {},
   "outputs": [
    {
     "name": "stdout",
     "output_type": "stream",
     "text": [
      "<re.Match object; span=(0, 1), match='\\n'>\n",
      "<re.Match object; span=(27, 28), match='\\n'>\n",
      "<re.Match object; span=(56, 57), match='\\n'>\n",
      "<re.Match object; span=(69, 70), match='\\n'>\n",
      "<re.Match object; span=(80, 81), match='\\n'>\n",
      "<re.Match object; span=(83, 84), match=' '>\n",
      "<re.Match object; span=(88, 89), match='\\n'>\n",
      "<re.Match object; span=(103, 104), match=' '>\n",
      "<re.Match object; span=(109, 110), match=' '>\n",
      "<re.Match object; span=(112, 113), match=' '>\n",
      "<re.Match object; span=(115, 116), match=' '>\n",
      "<re.Match object; span=(125, 126), match='\\n'>\n",
      "<re.Match object; span=(127, 128), match=' '>\n",
      "<re.Match object; span=(129, 130), match=' '>\n",
      "<re.Match object; span=(131, 132), match=' '>\n",
      "<re.Match object; span=(133, 134), match=' '>\n",
      "<re.Match object; span=(135, 136), match=' '>\n",
      "<re.Match object; span=(137, 138), match=' '>\n",
      "<re.Match object; span=(139, 140), match=' '>\n",
      "<re.Match object; span=(141, 142), match=' '>\n",
      "<re.Match object; span=(143, 144), match=' '>\n",
      "<re.Match object; span=(145, 146), match=' '>\n",
      "<re.Match object; span=(147, 148), match=' '>\n",
      "<re.Match object; span=(149, 150), match=' '>\n",
      "<re.Match object; span=(151, 152), match=' '>\n",
      "<re.Match object; span=(153, 154), match='\\n'>\n",
      "<re.Match object; span=(172, 173), match='\\n'>\n",
      "<re.Match object; span=(185, 186), match='\\n'>\n",
      "<re.Match object; span=(198, 199), match='\\n'>\n",
      "<re.Match object; span=(211, 212), match='\\n'>\n",
      "<re.Match object; span=(224, 225), match='\\n'>\n",
      "<re.Match object; span=(237, 238), match='\\n'>\n",
      "<re.Match object; span=(250, 251), match='\\n'>\n",
      "<re.Match object; span=(254, 255), match=' '>\n",
      "<re.Match object; span=(262, 263), match='\\n'>\n",
      "<re.Match object; span=(265, 266), match=' '>\n",
      "<re.Match object; span=(271, 272), match='\\n'>\n",
      "<re.Match object; span=(274, 275), match=' '>\n",
      "<re.Match object; span=(280, 281), match='\\n'>\n",
      "<re.Match object; span=(285, 286), match=' '>\n",
      "<re.Match object; span=(294, 295), match='\\n'>\n",
      "<re.Match object; span=(298, 299), match=' '>\n",
      "<re.Match object; span=(300, 301), match='\\n'>\n",
      "<re.Match object; span=(309, 310), match='\\n'>\n",
      "<re.Match object; span=(313, 314), match='\\n'>\n"
     ]
    }
   ],
   "source": [
    "# what you want to search\n",
    "\n",
    "patt = re.compile('\\s')\n",
    "\n",
    "# From which string you want to search\n",
    "\n",
    "match = patt.finditer(text_to_search)\n",
    "\n",
    "for i in match:\n",
    "    print(i)"
   ]
  },
  {
   "cell_type": "code",
   "execution_count": 114,
   "id": "1a457110",
   "metadata": {},
   "outputs": [
    {
     "name": "stdout",
     "output_type": "stream",
     "text": [
      "<re.Match object; span=(1, 2), match='a'>\n",
      "<re.Match object; span=(2, 3), match='b'>\n",
      "<re.Match object; span=(3, 4), match='c'>\n",
      "<re.Match object; span=(4, 5), match='d'>\n",
      "<re.Match object; span=(5, 6), match='e'>\n",
      "<re.Match object; span=(6, 7), match='f'>\n",
      "<re.Match object; span=(7, 8), match='g'>\n",
      "<re.Match object; span=(8, 9), match='h'>\n",
      "<re.Match object; span=(9, 10), match='i'>\n",
      "<re.Match object; span=(10, 11), match='j'>\n",
      "<re.Match object; span=(11, 12), match='k'>\n",
      "<re.Match object; span=(12, 13), match='l'>\n",
      "<re.Match object; span=(13, 14), match='m'>\n",
      "<re.Match object; span=(14, 15), match='n'>\n",
      "<re.Match object; span=(15, 16), match='o'>\n",
      "<re.Match object; span=(16, 17), match='p'>\n",
      "<re.Match object; span=(17, 18), match='q'>\n",
      "<re.Match object; span=(18, 19), match='u'>\n",
      "<re.Match object; span=(19, 20), match='r'>\n",
      "<re.Match object; span=(20, 21), match='t'>\n",
      "<re.Match object; span=(21, 22), match='u'>\n",
      "<re.Match object; span=(22, 23), match='v'>\n",
      "<re.Match object; span=(23, 24), match='w'>\n",
      "<re.Match object; span=(24, 25), match='x'>\n",
      "<re.Match object; span=(25, 26), match='y'>\n",
      "<re.Match object; span=(26, 27), match='z'>\n",
      "<re.Match object; span=(28, 29), match='A'>\n",
      "<re.Match object; span=(29, 30), match='B'>\n",
      "<re.Match object; span=(30, 31), match='C'>\n",
      "<re.Match object; span=(31, 32), match='D'>\n",
      "<re.Match object; span=(32, 33), match='E'>\n",
      "<re.Match object; span=(33, 34), match='F'>\n",
      "<re.Match object; span=(34, 35), match='G'>\n",
      "<re.Match object; span=(35, 36), match='H'>\n",
      "<re.Match object; span=(36, 37), match='I'>\n",
      "<re.Match object; span=(37, 38), match='J'>\n",
      "<re.Match object; span=(38, 39), match='K'>\n",
      "<re.Match object; span=(39, 40), match='L'>\n",
      "<re.Match object; span=(40, 41), match='M'>\n",
      "<re.Match object; span=(41, 42), match='N'>\n",
      "<re.Match object; span=(42, 43), match='O'>\n",
      "<re.Match object; span=(43, 44), match='P'>\n",
      "<re.Match object; span=(44, 45), match='Q'>\n",
      "<re.Match object; span=(45, 46), match='R'>\n",
      "<re.Match object; span=(46, 47), match='S'>\n",
      "<re.Match object; span=(47, 48), match='T'>\n",
      "<re.Match object; span=(48, 49), match='U'>\n",
      "<re.Match object; span=(49, 50), match='V'>\n",
      "<re.Match object; span=(50, 51), match='W'>\n",
      "<re.Match object; span=(51, 52), match='X'>\n",
      "<re.Match object; span=(52, 53), match='Y'>\n",
      "<re.Match object; span=(53, 54), match='Z'>\n",
      "<re.Match object; span=(54, 55), match='\\\\'>\n",
      "<re.Match object; span=(55, 56), match='s'>\n",
      "<re.Match object; span=(57, 58), match='3'>\n",
      "<re.Match object; span=(58, 59), match='2'>\n",
      "<re.Match object; span=(59, 60), match='1'>\n",
      "<re.Match object; span=(60, 61), match='-'>\n",
      "<re.Match object; span=(61, 62), match='5'>\n",
      "<re.Match object; span=(62, 63), match='5'>\n",
      "<re.Match object; span=(63, 64), match='5'>\n",
      "<re.Match object; span=(64, 65), match='-'>\n",
      "<re.Match object; span=(65, 66), match='4'>\n",
      "<re.Match object; span=(66, 67), match='3'>\n",
      "<re.Match object; span=(67, 68), match='2'>\n",
      "<re.Match object; span=(68, 69), match='1'>\n",
      "<re.Match object; span=(70, 71), match='1'>\n",
      "<re.Match object; span=(71, 72), match='2'>\n",
      "<re.Match object; span=(72, 73), match='3'>\n",
      "<re.Match object; span=(73, 74), match='4'>\n",
      "<re.Match object; span=(74, 75), match='5'>\n",
      "<re.Match object; span=(75, 76), match='6'>\n",
      "<re.Match object; span=(76, 77), match='7'>\n",
      "<re.Match object; span=(77, 78), match='8'>\n",
      "<re.Match object; span=(78, 79), match='9'>\n",
      "<re.Match object; span=(79, 80), match='0'>\n",
      "<re.Match object; span=(81, 82), match='H'>\n",
      "<re.Match object; span=(82, 83), match='a'>\n",
      "<re.Match object; span=(84, 85), match='H'>\n",
      "<re.Match object; span=(85, 86), match='a'>\n",
      "<re.Match object; span=(86, 87), match='H'>\n",
      "<re.Match object; span=(87, 88), match='a'>\n",
      "<re.Match object; span=(89, 90), match='M'>\n",
      "<re.Match object; span=(90, 91), match='e'>\n",
      "<re.Match object; span=(91, 92), match='t'>\n",
      "<re.Match object; span=(92, 93), match='a'>\n",
      "<re.Match object; span=(93, 94), match='C'>\n",
      "<re.Match object; span=(94, 95), match='h'>\n",
      "<re.Match object; span=(95, 96), match='a'>\n",
      "<re.Match object; span=(96, 97), match='r'>\n",
      "<re.Match object; span=(97, 98), match='a'>\n",
      "<re.Match object; span=(98, 99), match='c'>\n",
      "<re.Match object; span=(99, 100), match='t'>\n",
      "<re.Match object; span=(100, 101), match='e'>\n",
      "<re.Match object; span=(101, 102), match='r'>\n",
      "<re.Match object; span=(102, 103), match='s'>\n",
      "<re.Match object; span=(104, 105), match='('>\n",
      "<re.Match object; span=(105, 106), match='N'>\n",
      "<re.Match object; span=(106, 107), match='e'>\n",
      "<re.Match object; span=(107, 108), match='e'>\n",
      "<re.Match object; span=(108, 109), match='d'>\n",
      "<re.Match object; span=(110, 111), match='t'>\n",
      "<re.Match object; span=(111, 112), match='o'>\n",
      "<re.Match object; span=(113, 114), match='b'>\n",
      "<re.Match object; span=(114, 115), match='e'>\n",
      "<re.Match object; span=(116, 117), match='e'>\n",
      "<re.Match object; span=(117, 118), match='s'>\n",
      "<re.Match object; span=(118, 119), match='c'>\n",
      "<re.Match object; span=(119, 120), match='a'>\n",
      "<re.Match object; span=(120, 121), match='p'>\n",
      "<re.Match object; span=(121, 122), match='e'>\n",
      "<re.Match object; span=(122, 123), match='d'>\n",
      "<re.Match object; span=(123, 124), match=')'>\n",
      "<re.Match object; span=(124, 125), match=':'>\n",
      "<re.Match object; span=(126, 127), match='.'>\n",
      "<re.Match object; span=(128, 129), match='^'>\n",
      "<re.Match object; span=(130, 131), match='$'>\n",
      "<re.Match object; span=(132, 133), match='*'>\n",
      "<re.Match object; span=(134, 135), match='+'>\n",
      "<re.Match object; span=(136, 137), match='?'>\n",
      "<re.Match object; span=(138, 139), match='{'>\n",
      "<re.Match object; span=(140, 141), match='}'>\n",
      "<re.Match object; span=(142, 143), match='['>\n",
      "<re.Match object; span=(144, 145), match=']'>\n",
      "<re.Match object; span=(146, 147), match='\\\\'>\n",
      "<re.Match object; span=(148, 149), match='|'>\n",
      "<re.Match object; span=(150, 151), match='('>\n",
      "<re.Match object; span=(152, 153), match=')'>\n",
      "<re.Match object; span=(154, 155), match='S'>\n",
      "<re.Match object; span=(155, 156), match='a'>\n",
      "<re.Match object; span=(156, 157), match='l'>\n",
      "<re.Match object; span=(157, 158), match='a'>\n",
      "<re.Match object; span=(158, 159), match='h'>\n",
      "<re.Match object; span=(159, 160), match='u'>\n",
      "<re.Match object; span=(160, 161), match='d'>\n",
      "<re.Match object; span=(161, 162), match='d'>\n",
      "<re.Match object; span=(162, 163), match='i'>\n",
      "<re.Match object; span=(163, 164), match='n'>\n",
      "<re.Match object; span=(164, 165), match='@'>\n",
      "<re.Match object; span=(165, 166), match='T'>\n",
      "<re.Match object; span=(166, 167), match='C'>\n",
      "<re.Match object; span=(167, 168), match='S'>\n",
      "<re.Match object; span=(168, 169), match='.'>\n",
      "<re.Match object; span=(169, 170), match='c'>\n",
      "<re.Match object; span=(170, 171), match='o'>\n",
      "<re.Match object; span=(171, 172), match='m'>\n",
      "<re.Match object; span=(173, 174), match='3'>\n",
      "<re.Match object; span=(174, 175), match='2'>\n",
      "<re.Match object; span=(175, 176), match='1'>\n",
      "<re.Match object; span=(176, 177), match='-'>\n",
      "<re.Match object; span=(177, 178), match='5'>\n",
      "<re.Match object; span=(178, 179), match='5'>\n",
      "<re.Match object; span=(179, 180), match='5'>\n",
      "<re.Match object; span=(180, 181), match='-'>\n",
      "<re.Match object; span=(181, 182), match='4'>\n",
      "<re.Match object; span=(182, 183), match='3'>\n",
      "<re.Match object; span=(183, 184), match='2'>\n",
      "<re.Match object; span=(184, 185), match='1'>\n",
      "<re.Match object; span=(186, 187), match='1'>\n",
      "<re.Match object; span=(187, 188), match='2'>\n",
      "<re.Match object; span=(188, 189), match='3'>\n",
      "<re.Match object; span=(189, 190), match='.'>\n",
      "<re.Match object; span=(190, 191), match='5'>\n",
      "<re.Match object; span=(191, 192), match='5'>\n",
      "<re.Match object; span=(192, 193), match='5'>\n",
      "<re.Match object; span=(193, 194), match='.'>\n",
      "<re.Match object; span=(194, 195), match='1'>\n",
      "<re.Match object; span=(195, 196), match='2'>\n",
      "<re.Match object; span=(196, 197), match='3'>\n",
      "<re.Match object; span=(197, 198), match='4'>\n",
      "<re.Match object; span=(199, 200), match='1'>\n",
      "<re.Match object; span=(200, 201), match='2'>\n",
      "<re.Match object; span=(201, 202), match='3'>\n",
      "<re.Match object; span=(202, 203), match='*'>\n",
      "<re.Match object; span=(203, 204), match='5'>\n",
      "<re.Match object; span=(204, 205), match='5'>\n",
      "<re.Match object; span=(205, 206), match='5'>\n",
      "<re.Match object; span=(206, 207), match='*'>\n",
      "<re.Match object; span=(207, 208), match='1'>\n",
      "<re.Match object; span=(208, 209), match='2'>\n",
      "<re.Match object; span=(209, 210), match='3'>\n",
      "<re.Match object; span=(210, 211), match='4'>\n",
      "<re.Match object; span=(212, 213), match='1'>\n",
      "<re.Match object; span=(213, 214), match='2'>\n",
      "<re.Match object; span=(214, 215), match='3'>\n",
      "<re.Match object; span=(215, 216), match='.'>\n",
      "<re.Match object; span=(216, 217), match='5'>\n",
      "<re.Match object; span=(217, 218), match='5'>\n",
      "<re.Match object; span=(218, 219), match='5'>\n",
      "<re.Match object; span=(219, 220), match='.'>\n",
      "<re.Match object; span=(220, 221), match='1'>\n",
      "<re.Match object; span=(221, 222), match='2'>\n",
      "<re.Match object; span=(222, 223), match='3'>\n",
      "<re.Match object; span=(223, 224), match='4'>\n",
      "<re.Match object; span=(225, 226), match='8'>\n",
      "<re.Match object; span=(226, 227), match='0'>\n",
      "<re.Match object; span=(227, 228), match='0'>\n",
      "<re.Match object; span=(228, 229), match='-'>\n",
      "<re.Match object; span=(229, 230), match='5'>\n",
      "<re.Match object; span=(230, 231), match='5'>\n",
      "<re.Match object; span=(231, 232), match='5'>\n",
      "<re.Match object; span=(232, 233), match='-'>\n",
      "<re.Match object; span=(233, 234), match='1'>\n",
      "<re.Match object; span=(234, 235), match='2'>\n",
      "<re.Match object; span=(235, 236), match='3'>\n",
      "<re.Match object; span=(236, 237), match='4'>\n",
      "<re.Match object; span=(238, 239), match='9'>\n",
      "<re.Match object; span=(239, 240), match='0'>\n",
      "<re.Match object; span=(240, 241), match='0'>\n",
      "<re.Match object; span=(241, 242), match='-'>\n",
      "<re.Match object; span=(242, 243), match='5'>\n",
      "<re.Match object; span=(243, 244), match='5'>\n",
      "<re.Match object; span=(244, 245), match='5'>\n",
      "<re.Match object; span=(245, 246), match='-'>\n",
      "<re.Match object; span=(246, 247), match='1'>\n",
      "<re.Match object; span=(247, 248), match='2'>\n",
      "<re.Match object; span=(248, 249), match='3'>\n",
      "<re.Match object; span=(249, 250), match='4'>\n",
      "<re.Match object; span=(251, 252), match='M'>\n",
      "<re.Match object; span=(252, 253), match='r'>\n",
      "<re.Match object; span=(253, 254), match='.'>\n",
      "<re.Match object; span=(255, 256), match='S'>\n",
      "<re.Match object; span=(256, 257), match='c'>\n",
      "<re.Match object; span=(257, 258), match='h'>\n",
      "<re.Match object; span=(258, 259), match='a'>\n",
      "<re.Match object; span=(259, 260), match='f'>\n",
      "<re.Match object; span=(260, 261), match='e'>\n",
      "<re.Match object; span=(261, 262), match='r'>\n",
      "<re.Match object; span=(263, 264), match='M'>\n",
      "<re.Match object; span=(264, 265), match='r'>\n",
      "<re.Match object; span=(266, 267), match='S'>\n",
      "<re.Match object; span=(267, 268), match='m'>\n",
      "<re.Match object; span=(268, 269), match='i'>\n",
      "<re.Match object; span=(269, 270), match='t'>\n",
      "<re.Match object; span=(270, 271), match='h'>\n",
      "<re.Match object; span=(272, 273), match='M'>\n",
      "<re.Match object; span=(273, 274), match='s'>\n",
      "<re.Match object; span=(275, 276), match='D'>\n",
      "<re.Match object; span=(276, 277), match='a'>\n",
      "<re.Match object; span=(277, 278), match='v'>\n",
      "<re.Match object; span=(278, 279), match='i'>\n",
      "<re.Match object; span=(279, 280), match='s'>\n",
      "<re.Match object; span=(281, 282), match='M'>\n",
      "<re.Match object; span=(282, 283), match='r'>\n",
      "<re.Match object; span=(283, 284), match='s'>\n",
      "<re.Match object; span=(284, 285), match='.'>\n",
      "<re.Match object; span=(286, 287), match='R'>\n",
      "<re.Match object; span=(287, 288), match='o'>\n",
      "<re.Match object; span=(288, 289), match='b'>\n",
      "<re.Match object; span=(289, 290), match='i'>\n",
      "<re.Match object; span=(290, 291), match='n'>\n",
      "<re.Match object; span=(291, 292), match='s'>\n",
      "<re.Match object; span=(292, 293), match='o'>\n",
      "<re.Match object; span=(293, 294), match='n'>\n",
      "<re.Match object; span=(295, 296), match='M'>\n",
      "<re.Match object; span=(296, 297), match='r'>\n",
      "<re.Match object; span=(297, 298), match='.'>\n",
      "<re.Match object; span=(299, 300), match='T'>\n",
      "<re.Match object; span=(301, 302), match='M'>\n",
      "<re.Match object; span=(302, 303), match='r'>\n",
      "<re.Match object; span=(303, 304), match='_'>\n",
      "<re.Match object; span=(304, 305), match='h'>\n",
      "<re.Match object; span=(305, 306), match='e'>\n",
      "<re.Match object; span=(306, 307), match='l'>\n",
      "<re.Match object; span=(307, 308), match='l'>\n",
      "<re.Match object; span=(308, 309), match='o'>\n",
      "<re.Match object; span=(310, 311), match='a'>\n",
      "<re.Match object; span=(311, 312), match='b'>\n",
      "<re.Match object; span=(312, 313), match='c'>\n"
     ]
    }
   ],
   "source": [
    "# what you want to search\n",
    "\n",
    "patt = re.compile('\\S')\n",
    "\n",
    "# From which string you want to search\n",
    "\n",
    "match = patt.finditer(text_to_search)\n",
    "\n",
    "for i in match:\n",
    "    print(i)"
   ]
  },
  {
   "cell_type": "code",
   "execution_count": 118,
   "id": "d6d90df0",
   "metadata": {},
   "outputs": [
    {
     "name": "stdout",
     "output_type": "stream",
     "text": [
      "<re.Match object; span=(57, 69), match='321-555-4321'>\n",
      "<re.Match object; span=(173, 185), match='321-555-4321'>\n",
      "<re.Match object; span=(186, 198), match='123.555.1234'>\n",
      "<re.Match object; span=(199, 211), match='123*555*1234'>\n",
      "<re.Match object; span=(212, 224), match='123.555.1234'>\n",
      "<re.Match object; span=(225, 237), match='800-555-1234'>\n",
      "<re.Match object; span=(238, 250), match='900-555-1234'>\n"
     ]
    }
   ],
   "source": [
    "# what you want to search\n",
    "\n",
    "patt = re.compile('\\d\\d\\d.\\d\\d\\d.\\d\\d\\d\\d')\n",
    "\n",
    "# From which string you want to search\n",
    "\n",
    "match = patt.finditer(text_to_search)\n",
    "\n",
    "for i in match:\n",
    "    print(i)"
   ]
  },
  {
   "cell_type": "code",
   "execution_count": 123,
   "id": "957394db",
   "metadata": {},
   "outputs": [
    {
     "name": "stdout",
     "output_type": "stream",
     "text": [
      "321-555-4321\n",
      "321-555-4321\n",
      "123.555.1234\n",
      "123*555*1234\n",
      "123.555.1234\n",
      "800-555-1234\n",
      "900-555-1234\n"
     ]
    }
   ],
   "source": [
    "# what you want to search\n",
    "\n",
    "patt = re.compile('\\d\\d\\d.\\d\\d\\d.\\d\\d\\d\\d')\n",
    "\n",
    "# From which string you want to search\n",
    "\n",
    "match = patt.findall(text_to_search)\n",
    "\n",
    "for i in match:\n",
    "    print(i)"
   ]
  },
  {
   "cell_type": "markdown",
   "id": "489eb14c",
   "metadata": {},
   "source": [
    "# Word Boundary"
   ]
  },
  {
   "cell_type": "code",
   "execution_count": null,
   "id": "0e33aad7",
   "metadata": {},
   "outputs": [],
   "source": []
  }
 ],
 "metadata": {
  "kernelspec": {
   "display_name": "Python 3 (ipykernel)",
   "language": "python",
   "name": "python3"
  },
  "language_info": {
   "codemirror_mode": {
    "name": "ipython",
    "version": 3
   },
   "file_extension": ".py",
   "mimetype": "text/x-python",
   "name": "python",
   "nbconvert_exporter": "python",
   "pygments_lexer": "ipython3",
   "version": "3.11.4"
  }
 },
 "nbformat": 4,
 "nbformat_minor": 5
}
