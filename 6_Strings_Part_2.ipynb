{
 "cells": [
  {
   "cell_type": "code",
   "execution_count": 1,
   "id": "c7c02576",
   "metadata": {},
   "outputs": [],
   "source": [
    "user_name = 'xyz@gmail.com'\n",
    "password = 'python'"
   ]
  },
  {
   "cell_type": "code",
   "execution_count": 14,
   "id": "882053f0",
   "metadata": {},
   "outputs": [
    {
     "name": "stdout",
     "output_type": "stream",
     "text": [
      "Enter the user name : XYZ@gmail.com\n",
      "Enter the password : python\n",
      "Logged IN\n"
     ]
    }
   ],
   "source": [
    "a = input('Enter the user name : ').lower()\n",
    "b = input('Enter the password : ')\n",
    "\n",
    "if (a == user_name ) and (b == password):\n",
    "    print('Logged IN')\n",
    "else:\n",
    "    print('Incorrect Info')"
   ]
  },
  {
   "cell_type": "code",
   "execution_count": 15,
   "id": "f5559afd",
   "metadata": {},
   "outputs": [
    {
     "data": {
      "text/plain": [
       "'xyz@gmail.com'"
      ]
     },
     "execution_count": 15,
     "metadata": {},
     "output_type": "execute_result"
    }
   ],
   "source": [
    "a"
   ]
  },
  {
   "cell_type": "code",
   "execution_count": 12,
   "id": "fe01e5c1",
   "metadata": {},
   "outputs": [
    {
     "name": "stdout",
     "output_type": "stream",
     "text": [
      "Enter the user name : XYZ@gmail.com\n",
      "Enter the password : python\n",
      "Logged IN\n"
     ]
    }
   ],
   "source": [
    "a = input('Enter the user name : ')\n",
    "b = input('Enter the password : ')\n",
    "\n",
    "if (a.lower() == user_name ) and (b == password):\n",
    "    print('Logged IN')\n",
    "else:\n",
    "    print('Incorrect Info')"
   ]
  },
  {
   "cell_type": "code",
   "execution_count": 13,
   "id": "20bc68c3",
   "metadata": {},
   "outputs": [
    {
     "data": {
      "text/plain": [
       "'XYZ@gmail.com'"
      ]
     },
     "execution_count": 13,
     "metadata": {},
     "output_type": "execute_result"
    }
   ],
   "source": [
    "a"
   ]
  },
  {
   "cell_type": "code",
   "execution_count": 18,
   "id": "6f106c69",
   "metadata": {},
   "outputs": [
    {
     "name": "stdout",
     "output_type": "stream",
     "text": [
      "Dipali@yahoo.com\n",
      "Dona@gmail.com\n",
      "dinesh@gmail.com\n",
      "dom@gmail.com\n"
     ]
    }
   ],
   "source": [
    "a = ['Israr@gmail.com' , 'Abhishek@yahoo.com' , 'Balraj@gmail.com' , 'Dipali@yahoo.com',\n",
    "    'Dona@gmail.com' , 'dinesh@gmail.com' , 'dom@gmail.com']\n",
    "\n",
    "\n",
    "for i in a:\n",
    "    if i[0].upper() == 'D':\n",
    "        print(i)"
   ]
  },
  {
   "cell_type": "markdown",
   "id": "27e229e3",
   "metadata": {},
   "source": [
    "# Methods that return bool values "
   ]
  },
  {
   "cell_type": "code",
   "execution_count": 22,
   "id": "9ef7e9cb",
   "metadata": {},
   "outputs": [
    {
     "name": "stdout",
     "output_type": "stream",
     "text": [
      "True\n",
      "False\n",
      "True\n",
      "True\n"
     ]
    }
   ],
   "source": [
    "# Startswith\n",
    "\n",
    "\n",
    "a = 'hello world'\n",
    "\n",
    "print(a.startswith('h'))\n",
    "\n",
    "print(a.startswith('wor'))\n",
    "\n",
    "print(a.startswith('hell'))\n",
    "\n",
    "print(a.startswith('wor' , 6))"
   ]
  },
  {
   "cell_type": "code",
   "execution_count": 26,
   "id": "cb0d3748",
   "metadata": {},
   "outputs": [
    {
     "name": "stdout",
     "output_type": "stream",
     "text": [
      "True\n",
      "True\n",
      "False\n",
      "True\n"
     ]
    }
   ],
   "source": [
    "# endswith\n",
    "\n",
    "\n",
    "a = 'hello world'\n",
    "\n",
    "\n",
    "\n",
    "print(a.endswith('d'))\n",
    "\n",
    "print(a.endswith('rld'))\n",
    "\n",
    "print(a.endswith('llo'))\n",
    "\n",
    "print(a.endswith('llo' , 0 , 5))"
   ]
  },
  {
   "cell_type": "code",
   "execution_count": 27,
   "id": "ef9b3919",
   "metadata": {},
   "outputs": [
    {
     "name": "stdout",
     "output_type": "stream",
     "text": [
      "Dipali@yahoo.com\n",
      "Dona@gmail.com\n",
      "dinesh@gmail.com\n",
      "dom@gmail.com\n"
     ]
    }
   ],
   "source": [
    "a = ['Israr@gmail.com' , 'Abhishek@yahoo.com' , 'Balraj@gmail.com' , 'Dipali@yahoo.com',\n",
    "    'Dona@gmail.com' , 'dinesh@gmail.com' , 'dom@gmail.com']\n",
    "\n",
    "\n",
    "for i in a:\n",
    "    if i[0].upper() == 'D':\n",
    "        print(i)"
   ]
  },
  {
   "cell_type": "code",
   "execution_count": 28,
   "id": "deacc327",
   "metadata": {},
   "outputs": [
    {
     "name": "stdout",
     "output_type": "stream",
     "text": [
      "Dipali@yahoo.com\n",
      "Dona@gmail.com\n",
      "dinesh@gmail.com\n",
      "dom@gmail.com\n"
     ]
    }
   ],
   "source": [
    "a = ['Israr@gmail.com' , 'Abhishek@yahoo.com' , 'Balraj@gmail.com' , 'Dipali@yahoo.com',\n",
    "    'Dona@gmail.com' , 'dinesh@gmail.com' , 'dom@gmail.com']\n",
    "\n",
    "\n",
    "for i in a:\n",
    "    if i.upper().startswith('D'):\n",
    "        print(i)"
   ]
  },
  {
   "cell_type": "code",
   "execution_count": 29,
   "id": "c766789d",
   "metadata": {},
   "outputs": [
    {
     "name": "stdout",
     "output_type": "stream",
     "text": [
      "Israr@gmail.com\n",
      "Balraj@gmail.com\n",
      "Dona@gmail.com\n",
      "dinesh@gmail.com\n",
      "dom@gmail.com\n"
     ]
    }
   ],
   "source": [
    "# Extract the mail id which are from gmail.com\n",
    "\n",
    "a = ['Israr@gmail.com' , 'Abhishek@yahoo.com' , 'Balraj@gmail.com' , 'Dipali@yahoo.com',\n",
    "    'Dona@gmail.com' , 'dinesh@gmail.com' , 'dom@gmail.com']\n",
    "\n",
    "\n",
    "for i in a:\n",
    "    if  i.endswith('gmail.com'):\n",
    "        print(i)"
   ]
  },
  {
   "cell_type": "code",
   "execution_count": 31,
   "id": "9262739e",
   "metadata": {},
   "outputs": [
    {
     "name": "stdout",
     "output_type": "stream",
     "text": [
      "Dona@gmail.com\n",
      "dinesh@gmail.com\n",
      "dom@gmail.com\n"
     ]
    }
   ],
   "source": [
    "# Extract the mail id which are from gmail.com but username should start with D\n",
    "\n",
    "a = ['Israr@gmail.com' , 'Abhishek@yahoo.com' , 'Balraj@gmail.com' , 'Dipali@yahoo.com',\n",
    "    'Dona@gmail.com' , 'dinesh@gmail.com' , 'dom@gmail.com']\n",
    "\n",
    "\n",
    "for i in a:\n",
    "    if i.endswith('gmail.com') and i.upper().startswith('D'):\n",
    "        print(i)"
   ]
  },
  {
   "cell_type": "code",
   "execution_count": 33,
   "id": "82503a91",
   "metadata": {},
   "outputs": [
    {
     "name": "stdout",
     "output_type": "stream",
     "text": [
      "True\n",
      "True\n",
      "True\n",
      "False\n"
     ]
    }
   ],
   "source": [
    "# isalnum - return True is only alpha , number , mix of both\n",
    "\n",
    "s1 = 'abc'\n",
    "s2 = '123'\n",
    "s3 = 'abc43543'\n",
    "s4 = '*$^'\n",
    "\n",
    "print(s1.isalnum())\n",
    "print(s2.isalnum())\n",
    "print(s3.isalnum())\n",
    "print(s4.isalnum())"
   ]
  },
  {
   "cell_type": "code",
   "execution_count": 34,
   "id": "0c1bab07",
   "metadata": {},
   "outputs": [
    {
     "name": "stdout",
     "output_type": "stream",
     "text": [
      "True\n",
      "False\n",
      "False\n",
      "False\n"
     ]
    }
   ],
   "source": [
    "# isalpha - return True is only alpha \n",
    "\n",
    "s1 = 'abc'\n",
    "s2 = '123'\n",
    "s3 = 'abc43543'\n",
    "s4 = '*$^'\n",
    "\n",
    "print(s1.isalpha())\n",
    "print(s2.isalpha())\n",
    "print(s3.isalpha())\n",
    "print(s4.isalpha())"
   ]
  },
  {
   "cell_type": "code",
   "execution_count": 38,
   "id": "89bebeb5",
   "metadata": {},
   "outputs": [
    {
     "name": "stdout",
     "output_type": "stream",
     "text": [
      "False\n",
      "True\n",
      "False\n",
      "False\n",
      "------------------\n",
      "False\n",
      "True\n",
      "False\n",
      "False\n"
     ]
    }
   ],
   "source": [
    "# isdigit or isnumeric - return True is only numbers \n",
    "\n",
    "s1 = 'abc'\n",
    "s2 = '123'\n",
    "s3 = 'abc43543'\n",
    "s4 = '*$^'\n",
    "\n",
    "print(s1.isdigit())\n",
    "print(s2.isdigit())\n",
    "print(s3.isdigit())\n",
    "print(s4.isdigit())\n",
    "\n",
    "\n",
    "print('------------------')\n",
    "\n",
    "\n",
    "print(s1.isnumeric())\n",
    "print(s2.isnumeric())\n",
    "print(s3.isnumeric())\n",
    "print(s4.isnumeric())"
   ]
  },
  {
   "cell_type": "code",
   "execution_count": 39,
   "id": "86336881",
   "metadata": {},
   "outputs": [
    {
     "name": "stdout",
     "output_type": "stream",
     "text": [
      "543534@gmail.com\n",
      "646456432@gmail.com\n"
     ]
    }
   ],
   "source": [
    "a = ['Israr@gmail.com' , 'Abhishek@yahoo.com' , 'Balraj@gmail.com' , 'Dipali@yahoo.com',\n",
    "    'Dona@gmail.com' , '543534@gmail.com' , '646456432@gmail.com']\n",
    "\n",
    "\n",
    "for i in a:\n",
    "    if i[0].isnumeric():\n",
    "        print(i)"
   ]
  },
  {
   "cell_type": "code",
   "execution_count": 40,
   "id": "766b0e31",
   "metadata": {},
   "outputs": [
    {
     "name": "stdout",
     "output_type": "stream",
     "text": [
      "True\n",
      "True\n",
      "True\n",
      "True\n",
      "False\n"
     ]
    }
   ],
   "source": [
    "# is ascii\n",
    "\n",
    "s1 = 'abc'\n",
    "s2 = '123'\n",
    "s3 = 'abc43543'\n",
    "s4 = '*$^'\n",
    "s5 = 'प्रवाह'\n",
    "\n",
    "print(s1.isascii())\n",
    "print(s2.isascii())\n",
    "print(s3.isascii())\n",
    "print(s4.isascii())\n",
    "print(s5.isascii())\n"
   ]
  },
  {
   "cell_type": "markdown",
   "id": "5e39fab7",
   "metadata": {},
   "source": [
    "# Special char "
   ]
  },
  {
   "cell_type": "code",
   "execution_count": 41,
   "id": "6453ac04",
   "metadata": {},
   "outputs": [
    {
     "name": "stdout",
     "output_type": "stream",
     "text": [
      "hello\n",
      "world\n"
     ]
    }
   ],
   "source": [
    "# \\n --> new line\n",
    "\n",
    "\n",
    "a = 'hello\\nworld'\n",
    "\n",
    "print(a)"
   ]
  },
  {
   "cell_type": "code",
   "execution_count": 43,
   "id": "de0e4bde",
   "metadata": {},
   "outputs": [
    {
     "name": "stdout",
     "output_type": "stream",
     "text": [
      "hello\tworld\n"
     ]
    }
   ],
   "source": [
    "# \\t --> tab spac\n",
    "\n",
    "\n",
    "a = 'hello\\tworld'\n",
    "\n",
    "print(a)"
   ]
  },
  {
   "cell_type": "code",
   "execution_count": 44,
   "id": "8e051826",
   "metadata": {},
   "outputs": [
    {
     "name": "stdout",
     "output_type": "stream",
     "text": [
      "hello\bworld\n"
     ]
    }
   ],
   "source": [
    "# \\b --> backspace\n",
    "\n",
    "\n",
    "a = 'hello\\bworld'\n",
    "\n",
    "print(a)"
   ]
  },
  {
   "cell_type": "code",
   "execution_count": 45,
   "id": "f58dc397",
   "metadata": {},
   "outputs": [
    {
     "name": "stdout",
     "output_type": "stream",
     "text": [
      "hello\r",
      "wor\n"
     ]
    }
   ],
   "source": [
    "# \\r --> carriage return\n",
    "# \n",
    "\n",
    "\n",
    "a = 'hello\\rwor'\n",
    "\n",
    "print(a)"
   ]
  },
  {
   "cell_type": "code",
   "execution_count": 46,
   "id": "44020ba2",
   "metadata": {},
   "outputs": [
    {
     "name": "stdout",
     "output_type": "stream",
     "text": [
      "hello\r",
      "Indian\n"
     ]
    }
   ],
   "source": [
    "a = 'hello\\rIndian'\n",
    "\n",
    "print(a)"
   ]
  },
  {
   "cell_type": "code",
   "execution_count": 47,
   "id": "a0d385bc",
   "metadata": {},
   "outputs": [
    {
     "name": "stdout",
     "output_type": "stream",
     "text": [
      "hello\r",
      "wor\r",
      "l\n"
     ]
    }
   ],
   "source": [
    "a = 'hello\\rwor\\rl'\n",
    "\n",
    "print(a)"
   ]
  },
  {
   "cell_type": "markdown",
   "id": "add3c55f",
   "metadata": {},
   "source": [
    "# Escape char , backslash"
   ]
  },
  {
   "cell_type": "code",
   "execution_count": 49,
   "id": "384a2061",
   "metadata": {},
   "outputs": [
    {
     "name": "stdout",
     "output_type": "stream",
     "text": [
      "hello\\nworld\n"
     ]
    }
   ],
   "source": [
    "a = 'hello\\\\nworld'\n",
    "\n",
    "print(a)"
   ]
  },
  {
   "cell_type": "code",
   "execution_count": 52,
   "id": "6eb97175",
   "metadata": {},
   "outputs": [
    {
     "name": "stdout",
     "output_type": "stream",
     "text": [
      "hello\\nworld\tpython\n"
     ]
    }
   ],
   "source": [
    "a = 'hello\\\\nworld\\tpython'\n",
    "\n",
    "print(a)"
   ]
  },
  {
   "cell_type": "markdown",
   "id": "7cdbe5cd",
   "metadata": {},
   "source": [
    "# Raw string"
   ]
  },
  {
   "cell_type": "code",
   "execution_count": 53,
   "id": "b8b0eb99",
   "metadata": {},
   "outputs": [
    {
     "name": "stdout",
     "output_type": "stream",
     "text": [
      "hello\\nworld\\tpython\n"
     ]
    }
   ],
   "source": [
    "a = r'hello\\nworld\\tpython'\n",
    "\n",
    "print(a)"
   ]
  },
  {
   "cell_type": "code",
   "execution_count": 54,
   "id": "b5386220",
   "metadata": {},
   "outputs": [
    {
     "name": "stdout",
     "output_type": "stream",
     "text": [
      "c:user\n",
      "ew_folder\backup\test\\data.csv\n"
     ]
    }
   ],
   "source": [
    "a = 'c:user\\new_folder\\backup\\test\\data.csv'\n",
    "\n",
    "print(a)"
   ]
  },
  {
   "cell_type": "code",
   "execution_count": 55,
   "id": "10943f95",
   "metadata": {},
   "outputs": [
    {
     "name": "stdout",
     "output_type": "stream",
     "text": [
      "c:user\\new_folder\\backup\\test\\data.csv\n"
     ]
    }
   ],
   "source": [
    "a = 'c:user\\\\new_folder\\\\backup\\\\test\\\\data.csv'\n",
    "\n",
    "print(a)"
   ]
  },
  {
   "cell_type": "code",
   "execution_count": 56,
   "id": "6be4f11d",
   "metadata": {},
   "outputs": [
    {
     "name": "stdout",
     "output_type": "stream",
     "text": [
      "c:user\\new_folder\\backup\\test\\data.csv\n"
     ]
    }
   ],
   "source": [
    "a = r'c:user\\new_folder\\backup\\test\\data.csv'\n",
    "\n",
    "print(a)"
   ]
  },
  {
   "cell_type": "markdown",
   "id": "b65ec84d",
   "metadata": {},
   "source": [
    "# strip , rstrip , lstrip"
   ]
  },
  {
   "cell_type": "code",
   "execution_count": 61,
   "id": "ea2b5db3",
   "metadata": {},
   "outputs": [
    {
     "data": {
      "text/plain": [
       "'python'"
      ]
     },
     "execution_count": 61,
     "metadata": {},
     "output_type": "execute_result"
    }
   ],
   "source": [
    "a = '             python                               '\n",
    "\n",
    "\n",
    "a.strip()"
   ]
  },
  {
   "cell_type": "code",
   "execution_count": 63,
   "id": "42c29e7d",
   "metadata": {},
   "outputs": [
    {
     "data": {
      "text/plain": [
       "'python'"
      ]
     },
     "execution_count": 63,
     "metadata": {},
     "output_type": "execute_result"
    }
   ],
   "source": [
    "a = '*********python*****************************'\n",
    "\n",
    "\n",
    "a.strip('*')"
   ]
  },
  {
   "cell_type": "code",
   "execution_count": 65,
   "id": "817e2268",
   "metadata": {},
   "outputs": [
    {
     "data": {
      "text/plain": [
       "'pyt*hon'"
      ]
     },
     "execution_count": 65,
     "metadata": {},
     "output_type": "execute_result"
    }
   ],
   "source": [
    "a = '*********pyt*hon*****************************'\n",
    "\n",
    "\n",
    "a.strip('*')"
   ]
  },
  {
   "cell_type": "code",
   "execution_count": 78,
   "id": "8f4442ef",
   "metadata": {},
   "outputs": [
    {
     "data": {
      "text/plain": [
       "'python'"
      ]
     },
     "execution_count": 78,
     "metadata": {},
     "output_type": "execute_result"
    }
   ],
   "source": [
    "a = '****@@@@@@@@@@@@@  *****python**************************    ***@@@@@@@@@@@@@@@@@@@@@@@@@@@@@@@@@@@'\n",
    "\n",
    "\n",
    "a.strip('*@ ')"
   ]
  },
  {
   "cell_type": "code",
   "execution_count": 82,
   "id": "a3013f0c",
   "metadata": {},
   "outputs": [
    {
     "data": {
      "text/plain": [
       "'python'"
      ]
     },
     "execution_count": 82,
     "metadata": {},
     "output_type": "execute_result"
    }
   ],
   "source": [
    "a = '****@@@@@@@@@@@@@  *****pythona**************************    ***@@@@@@java@@@@@@@@@@@@@@@@@@@@@@@@@@@@@'\n",
    "\n",
    "\n",
    "a.strip('*@ java')"
   ]
  },
  {
   "cell_type": "code",
   "execution_count": null,
   "id": "d37f1bf5",
   "metadata": {},
   "outputs": [],
   "source": [
    "a = '000034545'\n",
    "\n",
    "\n",
    "a.strip('*')"
   ]
  },
  {
   "cell_type": "code",
   "execution_count": null,
   "id": "65682e1e",
   "metadata": {},
   "outputs": [],
   "source": [
    "a = '34545'\n",
    "\n",
    "\n",
    "a.strip('*')"
   ]
  },
  {
   "cell_type": "code",
   "execution_count": 77,
   "id": "954f202e",
   "metadata": {},
   "outputs": [
    {
     "data": {
      "text/plain": [
       "'345450'"
      ]
     },
     "execution_count": 77,
     "metadata": {},
     "output_type": "execute_result"
    }
   ],
   "source": [
    "a = '0000345450'\n",
    "\n",
    "\n",
    "a.lstrip('0')"
   ]
  },
  {
   "cell_type": "code",
   "execution_count": 76,
   "id": "50c47155",
   "metadata": {},
   "outputs": [
    {
     "data": {
      "text/plain": [
       "True"
      ]
     },
     "execution_count": 76,
     "metadata": {},
     "output_type": "execute_result"
    }
   ],
   "source": [
    "'000034545'.lstrip('0') == '34545'"
   ]
  },
  {
   "cell_type": "code",
   "execution_count": 73,
   "id": "08b41197",
   "metadata": {},
   "outputs": [
    {
     "data": {
      "text/plain": [
       "'python'"
      ]
     },
     "execution_count": 73,
     "metadata": {},
     "output_type": "execute_result"
    }
   ],
   "source": [
    "a = '*********python*****************************'\n",
    "\n",
    "\n",
    "a.strip('*')"
   ]
  },
  {
   "cell_type": "code",
   "execution_count": 74,
   "id": "7f3f3e91",
   "metadata": {},
   "outputs": [
    {
     "data": {
      "text/plain": [
       "'python*****************************'"
      ]
     },
     "execution_count": 74,
     "metadata": {},
     "output_type": "execute_result"
    }
   ],
   "source": [
    "a = '*********python*****************************'\n",
    "\n",
    "\n",
    "a.lstrip('*')"
   ]
  },
  {
   "cell_type": "code",
   "execution_count": 75,
   "id": "a5adae74",
   "metadata": {},
   "outputs": [
    {
     "data": {
      "text/plain": [
       "'*********python'"
      ]
     },
     "execution_count": 75,
     "metadata": {},
     "output_type": "execute_result"
    }
   ],
   "source": [
    "a = '*********python*****************************'\n",
    "\n",
    "\n",
    "a.rstrip('*')"
   ]
  },
  {
   "cell_type": "markdown",
   "id": "d3c8f61b",
   "metadata": {},
   "source": [
    "# find , rfind , index , rindex\n",
    "\n",
    "\n"
   ]
  },
  {
   "cell_type": "code",
   "execution_count": 83,
   "id": "48de2947",
   "metadata": {},
   "outputs": [
    {
     "data": {
      "text/plain": [
       "8"
      ]
     },
     "execution_count": 83,
     "metadata": {},
     "output_type": "execute_result"
    }
   ],
   "source": [
    "# find\n",
    "\n",
    "\n",
    "a = 'this is pythons class'\n",
    "\n",
    "a.find('p')"
   ]
  },
  {
   "cell_type": "code",
   "execution_count": 84,
   "id": "bf036adc",
   "metadata": {},
   "outputs": [
    {
     "data": {
      "text/plain": [
       "3"
      ]
     },
     "execution_count": 84,
     "metadata": {},
     "output_type": "execute_result"
    }
   ],
   "source": [
    "a = 'this is pythons class'\n",
    "\n",
    "a.find('s')"
   ]
  },
  {
   "cell_type": "code",
   "execution_count": 85,
   "id": "d81aca0c",
   "metadata": {},
   "outputs": [
    {
     "data": {
      "text/plain": [
       "10"
      ]
     },
     "execution_count": 85,
     "metadata": {},
     "output_type": "execute_result"
    }
   ],
   "source": [
    "a = 'this p is pythons class'\n",
    "\n",
    "a.find('python')"
   ]
  },
  {
   "cell_type": "code",
   "execution_count": 86,
   "id": "434d4df9",
   "metadata": {},
   "outputs": [
    {
     "data": {
      "text/plain": [
       "5"
      ]
     },
     "execution_count": 86,
     "metadata": {},
     "output_type": "execute_result"
    }
   ],
   "source": [
    "a = 'this p is pythons class'\n",
    "\n",
    "a.find('p')"
   ]
  },
  {
   "cell_type": "code",
   "execution_count": 87,
   "id": "ccfcd4d7",
   "metadata": {},
   "outputs": [
    {
     "data": {
      "text/plain": [
       "10"
      ]
     },
     "execution_count": 87,
     "metadata": {},
     "output_type": "execute_result"
    }
   ],
   "source": [
    "a = 'this p is pythons class'\n",
    "\n",
    "a.rfind('p')"
   ]
  },
  {
   "cell_type": "code",
   "execution_count": 92,
   "id": "8cf551f5",
   "metadata": {},
   "outputs": [
    {
     "data": {
      "text/plain": [
       "5"
      ]
     },
     "execution_count": 92,
     "metadata": {},
     "output_type": "execute_result"
    }
   ],
   "source": [
    "a = 'this p is pythons p class'\n",
    "\n",
    "a.index('p')"
   ]
  },
  {
   "cell_type": "code",
   "execution_count": 93,
   "id": "f624d030",
   "metadata": {},
   "outputs": [
    {
     "data": {
      "text/plain": [
       "18"
      ]
     },
     "execution_count": 93,
     "metadata": {},
     "output_type": "execute_result"
    }
   ],
   "source": [
    "a = 'this p is pythons p class'\n",
    "\n",
    "a.rindex('p')"
   ]
  },
  {
   "cell_type": "code",
   "execution_count": 90,
   "id": "54406d5a",
   "metadata": {},
   "outputs": [
    {
     "data": {
      "text/plain": [
       "-1"
      ]
     },
     "execution_count": 90,
     "metadata": {},
     "output_type": "execute_result"
    }
   ],
   "source": [
    "a = 'this p is pythons class'\n",
    "\n",
    "a.find('z')"
   ]
  },
  {
   "cell_type": "code",
   "execution_count": 91,
   "id": "d18b1e94",
   "metadata": {},
   "outputs": [
    {
     "ename": "ValueError",
     "evalue": "substring not found",
     "output_type": "error",
     "traceback": [
      "\u001b[1;31m---------------------------------------------------------------------------\u001b[0m",
      "\u001b[1;31mValueError\u001b[0m                                Traceback (most recent call last)",
      "Cell \u001b[1;32mIn[91], line 3\u001b[0m\n\u001b[0;32m      1\u001b[0m a \u001b[38;5;241m=\u001b[39m \u001b[38;5;124m'\u001b[39m\u001b[38;5;124mthis p is pythons class\u001b[39m\u001b[38;5;124m'\u001b[39m\n\u001b[1;32m----> 3\u001b[0m a\u001b[38;5;241m.\u001b[39mindex(\u001b[38;5;124m'\u001b[39m\u001b[38;5;124mz\u001b[39m\u001b[38;5;124m'\u001b[39m)\n",
      "\u001b[1;31mValueError\u001b[0m: substring not found"
     ]
    }
   ],
   "source": [
    "a = 'this p is pythons class'\n",
    "\n",
    "a.index('z')"
   ]
  },
  {
   "cell_type": "code",
   "execution_count": 105,
   "id": "470a9b77",
   "metadata": {},
   "outputs": [
    {
     "name": "stdout",
     "output_type": "stream",
     "text": [
      "Israr\n",
      "Abhishek\n",
      "Balraj\n",
      "Dipali\n",
      "Dona\n",
      "dinesh\n",
      "rahul\n"
     ]
    }
   ],
   "source": [
    "a = ['Israr@gmail.com' , 'Abhishek@yahoo.com' , 'Balraj@gmail.com' , 'Dipali@yahoo.com',\n",
    "    'Dona@gmail.com' , 'dinesh@gmail.com' , 'rahul@gmail.com']\n",
    "\n",
    "\n",
    "for i in a:\n",
    "    print(i[0: i.index('@')])"
   ]
  },
  {
   "cell_type": "markdown",
   "id": "10a5d066",
   "metadata": {},
   "source": [
    "# ljust , rjust , center"
   ]
  },
  {
   "cell_type": "code",
   "execution_count": 115,
   "id": "a9c9df2c",
   "metadata": {},
   "outputs": [
    {
     "data": {
      "text/plain": [
       "'data      '"
      ]
     },
     "execution_count": 115,
     "metadata": {},
     "output_type": "execute_result"
    }
   ],
   "source": [
    "a = 'data'\n",
    "\n",
    "a.ljust(10)"
   ]
  },
  {
   "cell_type": "code",
   "execution_count": 116,
   "id": "0125a148",
   "metadata": {},
   "outputs": [
    {
     "data": {
      "text/plain": [
       "'      data'"
      ]
     },
     "execution_count": 116,
     "metadata": {},
     "output_type": "execute_result"
    }
   ],
   "source": [
    "a = 'data'\n",
    "\n",
    "a.rjust(10)"
   ]
  },
  {
   "cell_type": "code",
   "execution_count": 117,
   "id": "8a05a7e0",
   "metadata": {},
   "outputs": [
    {
     "data": {
      "text/plain": [
       "'   data   '"
      ]
     },
     "execution_count": 117,
     "metadata": {},
     "output_type": "execute_result"
    }
   ],
   "source": [
    "a = 'data'\n",
    "\n",
    "a.center(10)"
   ]
  },
  {
   "cell_type": "code",
   "execution_count": 119,
   "id": "0836cbc6",
   "metadata": {},
   "outputs": [
    {
     "data": {
      "text/plain": [
       "'data******'"
      ]
     },
     "execution_count": 119,
     "metadata": {},
     "output_type": "execute_result"
    }
   ],
   "source": [
    "a = 'data'\n",
    "\n",
    "a.ljust(10 , '*')"
   ]
  },
  {
   "cell_type": "code",
   "execution_count": 120,
   "id": "86bd050a",
   "metadata": {},
   "outputs": [
    {
     "ename": "TypeError",
     "evalue": "The fill character must be exactly one character long",
     "output_type": "error",
     "traceback": [
      "\u001b[1;31m---------------------------------------------------------------------------\u001b[0m",
      "\u001b[1;31mTypeError\u001b[0m                                 Traceback (most recent call last)",
      "Cell \u001b[1;32mIn[120], line 3\u001b[0m\n\u001b[0;32m      1\u001b[0m a \u001b[38;5;241m=\u001b[39m \u001b[38;5;124m'\u001b[39m\u001b[38;5;124mdata\u001b[39m\u001b[38;5;124m'\u001b[39m\n\u001b[1;32m----> 3\u001b[0m a\u001b[38;5;241m.\u001b[39mljust(\u001b[38;5;241m10\u001b[39m , \u001b[38;5;124m'\u001b[39m\u001b[38;5;124m*&\u001b[39m\u001b[38;5;124m'\u001b[39m)\n",
      "\u001b[1;31mTypeError\u001b[0m: The fill character must be exactly one character long"
     ]
    }
   ],
   "source": [
    "a = 'data'\n",
    "\n",
    "a.ljust(10 , '*&')"
   ]
  },
  {
   "cell_type": "code",
   "execution_count": 123,
   "id": "87e03874",
   "metadata": {},
   "outputs": [
    {
     "data": {
      "text/plain": [
       "'data******^^^^^'"
      ]
     },
     "execution_count": 123,
     "metadata": {},
     "output_type": "execute_result"
    }
   ],
   "source": [
    "a = 'data'\n",
    "\n",
    "a.ljust(10 , '*').ljust(15 , '^')"
   ]
  },
  {
   "cell_type": "code",
   "execution_count": 124,
   "id": "67bd2770",
   "metadata": {},
   "outputs": [
    {
     "data": {
      "text/plain": [
       "'8'"
      ]
     },
     "execution_count": 124,
     "metadata": {},
     "output_type": "execute_result"
    }
   ],
   "source": [
    "a = '01234567898'\n",
    "\n",
    "a[10]"
   ]
  },
  {
   "cell_type": "code",
   "execution_count": 125,
   "id": "57ef2e00",
   "metadata": {},
   "outputs": [
    {
     "ename": "IndexError",
     "evalue": "string index out of range",
     "output_type": "error",
     "traceback": [
      "\u001b[1;31m---------------------------------------------------------------------------\u001b[0m",
      "\u001b[1;31mIndexError\u001b[0m                                Traceback (most recent call last)",
      "Cell \u001b[1;32mIn[125], line 3\u001b[0m\n\u001b[0;32m      1\u001b[0m a \u001b[38;5;241m=\u001b[39m \u001b[38;5;124m'\u001b[39m\u001b[38;5;124m1234567898\u001b[39m\u001b[38;5;124m'\u001b[39m\n\u001b[1;32m----> 3\u001b[0m a[\u001b[38;5;241m10\u001b[39m]\n",
      "\u001b[1;31mIndexError\u001b[0m: string index out of range"
     ]
    }
   ],
   "source": [
    "a = '1234567898'\n",
    "\n",
    "a[10]"
   ]
  },
  {
   "cell_type": "code",
   "execution_count": 128,
   "id": "de80275f",
   "metadata": {},
   "outputs": [
    {
     "data": {
      "text/plain": [
       "'01234567898'"
      ]
     },
     "execution_count": 128,
     "metadata": {},
     "output_type": "execute_result"
    }
   ],
   "source": [
    "a = '1234567898'\n",
    "\n",
    "a.rjust(11 , '0')"
   ]
  },
  {
   "cell_type": "markdown",
   "id": "aa19ae6e",
   "metadata": {},
   "source": [
    "# count"
   ]
  },
  {
   "cell_type": "code",
   "execution_count": 129,
   "id": "b58dde87",
   "metadata": {},
   "outputs": [
    {
     "data": {
      "text/plain": [
       "4"
      ]
     },
     "execution_count": 129,
     "metadata": {},
     "output_type": "execute_result"
    }
   ],
   "source": [
    "a = 'this is pythons class, python has an easy syntax , python is an programing lang'\n",
    "\n",
    "\n",
    "a.count('p')"
   ]
  },
  {
   "cell_type": "code",
   "execution_count": 130,
   "id": "794b173d",
   "metadata": {},
   "outputs": [
    {
     "data": {
      "text/plain": [
       "0"
      ]
     },
     "execution_count": 130,
     "metadata": {},
     "output_type": "execute_result"
    }
   ],
   "source": [
    "a = 'this is pythons class, python has an easy syntax , python is an programing lang'\n",
    "\n",
    "\n",
    "a.count('j')"
   ]
  },
  {
   "cell_type": "code",
   "execution_count": 131,
   "id": "bdc6bfcd",
   "metadata": {},
   "outputs": [
    {
     "data": {
      "text/plain": [
       "3"
      ]
     },
     "execution_count": 131,
     "metadata": {},
     "output_type": "execute_result"
    }
   ],
   "source": [
    "a = 'this is pythons class, python has an easy syntax , python is an programing lang'\n",
    "\n",
    "\n",
    "a.count('python')"
   ]
  },
  {
   "cell_type": "code",
   "execution_count": 144,
   "id": "23fb1983",
   "metadata": {},
   "outputs": [
    {
     "data": {
      "text/plain": [
       "2"
      ]
     },
     "execution_count": 144,
     "metadata": {},
     "output_type": "execute_result"
    }
   ],
   "source": [
    "a = 'this is pythons class, python has an easy syntax , python is an programing lang python'\n",
    "\n",
    "\n",
    "a.count('python ')"
   ]
  },
  {
   "cell_type": "markdown",
   "id": "81b303a4",
   "metadata": {},
   "source": [
    "# replace"
   ]
  },
  {
   "cell_type": "code",
   "execution_count": 145,
   "id": "d27d091d",
   "metadata": {},
   "outputs": [
    {
     "data": {
      "text/plain": [
       "'this is jythons class, jython has an easy syntax , jython is an jrograming lang jython'"
      ]
     },
     "execution_count": 145,
     "metadata": {},
     "output_type": "execute_result"
    }
   ],
   "source": [
    "a = 'this is pythons class, python has an easy syntax , python is an programing lang python'\n",
    "\n",
    "\n",
    "a.replace('p' , 'j')"
   ]
  },
  {
   "cell_type": "code",
   "execution_count": 146,
   "id": "4c35fe5b",
   "metadata": {},
   "outputs": [
    {
     "data": {
      "text/plain": [
       "'this is javas class, java has an easy syntax , java is an programing lang java'"
      ]
     },
     "execution_count": 146,
     "metadata": {},
     "output_type": "execute_result"
    }
   ],
   "source": [
    "a = 'this is pythons class, python has an easy syntax , python is an programing lang python'\n",
    "\n",
    "\n",
    "a.replace('python' , 'java')"
   ]
  },
  {
   "cell_type": "code",
   "execution_count": 147,
   "id": "a7de5ad1",
   "metadata": {},
   "outputs": [
    {
     "data": {
      "text/plain": [
       "'this is javas class, python has an easy syntax , python is an programing lang python'"
      ]
     },
     "execution_count": 147,
     "metadata": {},
     "output_type": "execute_result"
    }
   ],
   "source": [
    "a = 'this is pythons class, python has an easy syntax , python is an programing lang python'\n",
    "\n",
    "\n",
    "a.replace('python' , 'java' , 1)"
   ]
  },
  {
   "cell_type": "code",
   "execution_count": 148,
   "id": "b84a940d",
   "metadata": {},
   "outputs": [
    {
     "data": {
      "text/plain": [
       "'this is javas class, java has an easy syntax , python is an programing lang python'"
      ]
     },
     "execution_count": 148,
     "metadata": {},
     "output_type": "execute_result"
    }
   ],
   "source": [
    "a = 'this is pythons class, python has an easy syntax , python is an programing lang python'\n",
    "\n",
    "\n",
    "a.replace('python' , 'java' , 2)"
   ]
  },
  {
   "cell_type": "code",
   "execution_count": 149,
   "id": "d42e4610",
   "metadata": {},
   "outputs": [
    {
     "data": {
      "text/plain": [
       "'this is javas class, java has an easy syntax , java is an programing lang python'"
      ]
     },
     "execution_count": 149,
     "metadata": {},
     "output_type": "execute_result"
    }
   ],
   "source": [
    "a = 'this is pythons class, python has an easy syntax , python is an programing lang python'\n",
    "\n",
    "\n",
    "a.replace('python' , 'java' , 3)"
   ]
  },
  {
   "cell_type": "markdown",
   "id": "04d3a101",
   "metadata": {},
   "source": [
    "# split"
   ]
  },
  {
   "cell_type": "code",
   "execution_count": 152,
   "id": "803a729c",
   "metadata": {},
   "outputs": [
    {
     "data": {
      "text/plain": [
       "['this',\n",
       " 'is',\n",
       " 'python',\n",
       " 'class,',\n",
       " 'python',\n",
       " 'has',\n",
       " 'an',\n",
       " 'easy',\n",
       " 'syntax',\n",
       " ',',\n",
       " 'python',\n",
       " 'is',\n",
       " 'an',\n",
       " 'programing',\n",
       " 'lang']"
      ]
     },
     "execution_count": 152,
     "metadata": {},
     "output_type": "execute_result"
    }
   ],
   "source": [
    "a = 'this is python class, python has an easy syntax , python is an programing lang'\n",
    "\n",
    "\n",
    "a.split()"
   ]
  },
  {
   "cell_type": "code",
   "execution_count": 158,
   "id": "8ac49fff",
   "metadata": {},
   "outputs": [
    {
     "data": {
      "text/plain": [
       "'Israr'"
      ]
     },
     "execution_count": 158,
     "metadata": {},
     "output_type": "execute_result"
    }
   ],
   "source": [
    "a = 'Israr@gmail.com'\n",
    "\n",
    "\n",
    "a.split('@')[0]"
   ]
  },
  {
   "cell_type": "code",
   "execution_count": 156,
   "id": "fd788480",
   "metadata": {},
   "outputs": [
    {
     "name": "stdout",
     "output_type": "stream",
     "text": [
      "Israr\n",
      "Abhishek\n",
      "Balraj\n",
      "Dipali\n",
      "Dona\n",
      "dinesh\n",
      "rahul\n"
     ]
    }
   ],
   "source": [
    "a = ['Israr@gmail.com' , 'Abhishek@yahoo.com' , 'Balraj@gmail.com' , 'Dipali@yahoo.com',\n",
    "    'Dona@gmail.com' , 'dinesh@gmail.com' , 'rahul@gmail.com']\n",
    "\n",
    "\n",
    "for i in a:\n",
    "    print(i[0: i.index('@')])"
   ]
  },
  {
   "cell_type": "code",
   "execution_count": 159,
   "id": "8e670c70",
   "metadata": {},
   "outputs": [
    {
     "name": "stdout",
     "output_type": "stream",
     "text": [
      "Israr\n",
      "Abhishek\n",
      "Balraj\n",
      "Dipali\n",
      "Dona\n",
      "dinesh\n",
      "rahul\n"
     ]
    }
   ],
   "source": [
    "a = ['Israr@gmail.com' , 'Abhishek@yahoo.com' , 'Balraj@gmail.com' , 'Dipali@yahoo.com',\n",
    "    'Dona@gmail.com' , 'dinesh@gmail.com' , 'rahul@gmail.com']\n",
    "\n",
    "\n",
    "for i in a:\n",
    "    print(i.split('@')[0])"
   ]
  },
  {
   "cell_type": "code",
   "execution_count": 160,
   "id": "105a33f4",
   "metadata": {},
   "outputs": [
    {
     "data": {
      "text/plain": [
       "['this',\n",
       " 'is',\n",
       " 'python',\n",
       " 'class,',\n",
       " 'python',\n",
       " 'has',\n",
       " 'an',\n",
       " 'easy',\n",
       " 'syntax',\n",
       " ',',\n",
       " 'python',\n",
       " 'is',\n",
       " 'an',\n",
       " 'programing',\n",
       " 'lang']"
      ]
     },
     "execution_count": 160,
     "metadata": {},
     "output_type": "execute_result"
    }
   ],
   "source": [
    "a = 'this is python class, python has an easy syntax , python is an programing lang'\n",
    "\n",
    "\n",
    "b = a.split()\n",
    "\n",
    "b"
   ]
  },
  {
   "cell_type": "code",
   "execution_count": 162,
   "id": "91960bf2",
   "metadata": {},
   "outputs": [],
   "source": [
    "b[4] = 'java'"
   ]
  },
  {
   "cell_type": "code",
   "execution_count": 163,
   "id": "91f47c1f",
   "metadata": {},
   "outputs": [
    {
     "data": {
      "text/plain": [
       "['this',\n",
       " 'is',\n",
       " 'python',\n",
       " 'class,',\n",
       " 'java',\n",
       " 'has',\n",
       " 'an',\n",
       " 'easy',\n",
       " 'syntax',\n",
       " ',',\n",
       " 'python',\n",
       " 'is',\n",
       " 'an',\n",
       " 'programing',\n",
       " 'lang']"
      ]
     },
     "execution_count": 163,
     "metadata": {},
     "output_type": "execute_result"
    }
   ],
   "source": [
    "b"
   ]
  },
  {
   "cell_type": "markdown",
   "id": "78e95d2b",
   "metadata": {},
   "source": [
    "# join"
   ]
  },
  {
   "cell_type": "code",
   "execution_count": 164,
   "id": "276b82d6",
   "metadata": {},
   "outputs": [
    {
     "data": {
      "text/plain": [
       "'this-->is-->python-->class,-->java-->has-->an-->easy-->syntax-->,-->python-->is-->an-->programing-->lang'"
      ]
     },
     "execution_count": 164,
     "metadata": {},
     "output_type": "execute_result"
    }
   ],
   "source": [
    "'-->'.join(b)"
   ]
  },
  {
   "cell_type": "code",
   "execution_count": 165,
   "id": "7709a56d",
   "metadata": {},
   "outputs": [
    {
     "data": {
      "text/plain": [
       "'this is python class, java has an easy syntax , python is an programing lang'"
      ]
     },
     "execution_count": 165,
     "metadata": {},
     "output_type": "execute_result"
    }
   ],
   "source": [
    "' '.join(b)"
   ]
  },
  {
   "cell_type": "code",
   "execution_count": 180,
   "id": "6b6a8ef8",
   "metadata": {},
   "outputs": [
    {
     "name": "stdout",
     "output_type": "stream",
     "text": [
      "gmail.com@Israr\n",
      "yahoo.com@Abhishek\n",
      "gmail.com@Balraj\n",
      "yahoo.com@Dipali\n",
      "gmail.com@Dona\n",
      "gmail.com@dinesh\n",
      "gmail.com@rahul\n"
     ]
    }
   ],
   "source": [
    "a = ['Israr@gmail.com' , 'Abhishek@yahoo.com' , 'Balraj@gmail.com' , 'Dipali@yahoo.com',\n",
    "    'Dona@gmail.com' , 'dinesh@gmail.com' , 'rahul@gmail.com']\n",
    "\n",
    "\n",
    "for i in a:\n",
    "    print('@'.join(i.split('@')[::-1]))"
   ]
  },
  {
   "cell_type": "code",
   "execution_count": 181,
   "id": "5d66b0cf",
   "metadata": {},
   "outputs": [
    {
     "data": {
      "text/plain": [
       "'gmail.com@Israr'"
      ]
     },
     "execution_count": 181,
     "metadata": {},
     "output_type": "execute_result"
    }
   ],
   "source": [
    "a = 'Israr@gmail.com'\n",
    "\n",
    "'@'.join(a.split('@')[::-1])"
   ]
  },
  {
   "cell_type": "code",
   "execution_count": 188,
   "id": "6814125d",
   "metadata": {},
   "outputs": [
    {
     "name": "stdout",
     "output_type": "stream",
     "text": [
      "01-03-2024\n",
      "02-03-2024\n",
      "03-03-2024\n",
      "04-03-2024\n",
      "05-03-2024\n",
      "06-03-2024\n",
      "07-03-2024\n",
      "08-03-2024\n",
      "09-03-2024\n",
      "10-03-2024\n"
     ]
    }
   ],
   "source": [
    "a = ['2024-03-01', '2024-03-02', '2024-03-03', '2024-03-04',\n",
    "       '2024-03-05', '2024-03-06', '2024-03-07', '2024-03-08',\n",
    "       '2024-03-09', '2024-03-10']\n",
    "\n",
    "\n",
    "for i in a:\n",
    "    print('-'.join(i.split('-')[::-1]))"
   ]
  },
  {
   "cell_type": "markdown",
   "id": "434ff538",
   "metadata": {},
   "source": [
    "# List"
   ]
  },
  {
   "cell_type": "code",
   "execution_count": null,
   "id": "21ae8fc5",
   "metadata": {},
   "outputs": [],
   "source": []
  }
 ],
 "metadata": {
  "kernelspec": {
   "display_name": "Python 3 (ipykernel)",
   "language": "python",
   "name": "python3"
  },
  "language_info": {
   "codemirror_mode": {
    "name": "ipython",
    "version": 3
   },
   "file_extension": ".py",
   "mimetype": "text/x-python",
   "name": "python",
   "nbconvert_exporter": "python",
   "pygments_lexer": "ipython3",
   "version": "3.11.4"
  }
 },
 "nbformat": 4,
 "nbformat_minor": 5
}
