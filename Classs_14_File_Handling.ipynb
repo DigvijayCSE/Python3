{
 "cells": [
  {
   "cell_type": "code",
   "execution_count": null,
   "id": "20cb4c57",
   "metadata": {},
   "outputs": [],
   "source": [
    "text file ---> normal text , pdf , word\n",
    "\n",
    "binary ---> audio , video , images"
   ]
  },
  {
   "cell_type": "markdown",
   "id": "863d8c57",
   "metadata": {},
   "source": [
    "# Points to remember while working with file handling\n",
    "\n",
    "1. To read or write into the file the first step is to open the file\n",
    "\n",
    "syntax:\n",
    "    var = open('path/file_name.ext' , 'mode')\n",
    "    \n",
    "    var.close()\n",
    "    \n",
    "    Closing a file is very important otherwise the changes will not reflect\n",
    "    \n",
    "2. Data read will always be in a form of a string\n",
    "\n",
    "3. modes of operations - text files\n",
    "\n",
    "- read mode --> 'r'\n",
    "- write mode ---> 'w'\n",
    "- append mode ---> 'a'\n",
    "- read and write mode --> 'r+'\n",
    "- write and read mode ---> 'w+'\n",
    "- append and read mode ---> 'a+'\n",
    "\n",
    "4. modes of operations on binary files\n",
    "\n",
    "- read mode --> 'rb'\n",
    "- write mode ---> 'wb'\n",
    "- append mode ---> 'ab'\n",
    "- read and write mode --> 'r+b'\n",
    "- write and read mode ---> 'w+b'\n",
    "- append and read mode ---> 'a+b'\n",
    "\n",
    "5. method on file object\n",
    "\n",
    "- read() ---> read the content from the file\n",
    "- write() ---> write the content into the file\n",
    "- tell() ---> tell the position of the cursor\n",
    "- seek() ---> move the cursor to any specific index location\n",
    "- flush() ---> "
   ]
  },
  {
   "cell_type": "markdown",
   "id": "fbe1e6df",
   "metadata": {},
   "source": [
    "# read mode --> 'r'\n",
    "\n",
    "- if the file does not exist, it'll throw an file not found error\n",
    "- if the file is present, It'll open the file and place the cursor at the begining of the file\n",
    "- you are only allowed to read from the file but not allowed to write into the file"
   ]
  },
  {
   "cell_type": "code",
   "execution_count": 4,
   "id": "104aa93b",
   "metadata": {},
   "outputs": [
    {
     "ename": "FileNotFoundError",
     "evalue": "[Errno 2] No such file or directory: 'file_handling/read_mode.txt'",
     "output_type": "error",
     "traceback": [
      "\u001b[1;31m---------------------------------------------------------------------------\u001b[0m",
      "\u001b[1;31mFileNotFoundError\u001b[0m                         Traceback (most recent call last)",
      "Cell \u001b[1;32mIn[4], line 3\u001b[0m\n\u001b[0;32m      1\u001b[0m \u001b[38;5;66;03m# if the file does not exist, it'll throw an file not found error\u001b[39;00m\n\u001b[1;32m----> 3\u001b[0m f \u001b[38;5;241m=\u001b[39m \u001b[38;5;28mopen\u001b[39m(\u001b[38;5;124m'\u001b[39m\u001b[38;5;124mfile_handling/read_mode.txt\u001b[39m\u001b[38;5;124m'\u001b[39m , \u001b[38;5;124m'\u001b[39m\u001b[38;5;124mr\u001b[39m\u001b[38;5;124m'\u001b[39m)\n",
      "File \u001b[1;32m~\\anaconda3\\Lib\\site-packages\\IPython\\core\\interactiveshell.py:284\u001b[0m, in \u001b[0;36m_modified_open\u001b[1;34m(file, *args, **kwargs)\u001b[0m\n\u001b[0;32m    277\u001b[0m \u001b[38;5;28;01mif\u001b[39;00m file \u001b[38;5;129;01min\u001b[39;00m {\u001b[38;5;241m0\u001b[39m, \u001b[38;5;241m1\u001b[39m, \u001b[38;5;241m2\u001b[39m}:\n\u001b[0;32m    278\u001b[0m     \u001b[38;5;28;01mraise\u001b[39;00m \u001b[38;5;167;01mValueError\u001b[39;00m(\n\u001b[0;32m    279\u001b[0m         \u001b[38;5;124mf\u001b[39m\u001b[38;5;124m\"\u001b[39m\u001b[38;5;124mIPython won\u001b[39m\u001b[38;5;124m'\u001b[39m\u001b[38;5;124mt let you open fd=\u001b[39m\u001b[38;5;132;01m{\u001b[39;00mfile\u001b[38;5;132;01m}\u001b[39;00m\u001b[38;5;124m by default \u001b[39m\u001b[38;5;124m\"\u001b[39m\n\u001b[0;32m    280\u001b[0m         \u001b[38;5;124m\"\u001b[39m\u001b[38;5;124mas it is likely to crash IPython. If you know what you are doing, \u001b[39m\u001b[38;5;124m\"\u001b[39m\n\u001b[0;32m    281\u001b[0m         \u001b[38;5;124m\"\u001b[39m\u001b[38;5;124myou can use builtins\u001b[39m\u001b[38;5;124m'\u001b[39m\u001b[38;5;124m open.\u001b[39m\u001b[38;5;124m\"\u001b[39m\n\u001b[0;32m    282\u001b[0m     )\n\u001b[1;32m--> 284\u001b[0m \u001b[38;5;28;01mreturn\u001b[39;00m io_open(file, \u001b[38;5;241m*\u001b[39margs, \u001b[38;5;241m*\u001b[39m\u001b[38;5;241m*\u001b[39mkwargs)\n",
      "\u001b[1;31mFileNotFoundError\u001b[0m: [Errno 2] No such file or directory: 'file_handling/read_mode.txt'"
     ]
    }
   ],
   "source": [
    "# if the file does not exist, it'll throw an file not found error\n",
    "\n",
    "f = open('file_handling/read_mode.txt' , 'r')"
   ]
  },
  {
   "cell_type": "code",
   "execution_count": 6,
   "id": "a39c05fe",
   "metadata": {},
   "outputs": [
    {
     "name": "stdout",
     "output_type": "stream",
     "text": [
      "0\n"
     ]
    }
   ],
   "source": [
    "# if the file is present, It'll open the file and place the cursor at the begining of the file\n",
    "\n",
    "f = open('file_handling/read_mode.txt' , 'r')\n",
    "\n",
    "print(f.tell())"
   ]
  },
  {
   "cell_type": "code",
   "execution_count": 10,
   "id": "3426402e",
   "metadata": {},
   "outputs": [
    {
     "name": "stdout",
     "output_type": "stream",
     "text": [
      "0\n",
      "234532543425\n",
      "4536546\n",
      "65675675676 <class 'str'>\n"
     ]
    }
   ],
   "source": [
    "f = open('file_handling/read_mode.txt' , 'r')\n",
    "\n",
    "print(f.tell())\n",
    "\n",
    "data = f.read()\n",
    "\n",
    "print(data , type(data))"
   ]
  },
  {
   "cell_type": "code",
   "execution_count": 12,
   "id": "b76bbba7",
   "metadata": {},
   "outputs": [
    {
     "name": "stdout",
     "output_type": "stream",
     "text": [
      "0\n",
      "hello world\n"
     ]
    }
   ],
   "source": [
    "f = open('file_handling/read_mode.txt' , 'r')\n",
    "\n",
    "print(f.tell())\n",
    "\n",
    "print(f.read())"
   ]
  },
  {
   "cell_type": "code",
   "execution_count": 13,
   "id": "98ceb0c2",
   "metadata": {},
   "outputs": [
    {
     "name": "stdout",
     "output_type": "stream",
     "text": [
      "0\n",
      "world\n"
     ]
    }
   ],
   "source": [
    "f = open('file_handling/read_mode.txt' , 'r')\n",
    "\n",
    "print(f.tell())\n",
    "\n",
    "f.seek(6)\n",
    "\n",
    "print(f.read())"
   ]
  },
  {
   "cell_type": "code",
   "execution_count": 20,
   "id": "169ef254",
   "metadata": {},
   "outputs": [
    {
     "name": "stdout",
     "output_type": "stream",
     "text": [
      "0\n",
      "world\n",
      "python is best program\n",
      "python is best\n"
     ]
    }
   ],
   "source": [
    "f = open('file_handling/read_mode.txt' , 'r')\n",
    "\n",
    "print(f.tell())\n",
    "\n",
    "f.seek(6)\n",
    "\n",
    "print(f.read())"
   ]
  },
  {
   "cell_type": "code",
   "execution_count": 21,
   "id": "364482ab",
   "metadata": {},
   "outputs": [
    {
     "ename": "UnsupportedOperation",
     "evalue": "not writable",
     "output_type": "error",
     "traceback": [
      "\u001b[1;31m---------------------------------------------------------------------------\u001b[0m",
      "\u001b[1;31mUnsupportedOperation\u001b[0m                      Traceback (most recent call last)",
      "Cell \u001b[1;32mIn[21], line 3\u001b[0m\n\u001b[0;32m      1\u001b[0m f \u001b[38;5;241m=\u001b[39m \u001b[38;5;28mopen\u001b[39m(\u001b[38;5;124m'\u001b[39m\u001b[38;5;124mfile_handling/read_mode.txt\u001b[39m\u001b[38;5;124m'\u001b[39m , \u001b[38;5;124m'\u001b[39m\u001b[38;5;124mr\u001b[39m\u001b[38;5;124m'\u001b[39m)\n\u001b[1;32m----> 3\u001b[0m f\u001b[38;5;241m.\u001b[39mwrite(\u001b[38;5;124m'\u001b[39m\u001b[38;5;124mHello\u001b[39m\u001b[38;5;124m'\u001b[39m)\n",
      "\u001b[1;31mUnsupportedOperation\u001b[0m: not writable"
     ]
    }
   ],
   "source": [
    "f = open('file_handling/read_mode.txt' , 'r')\n",
    "\n",
    "f.write('Hello')"
   ]
  },
  {
   "cell_type": "markdown",
   "id": "14ca060d",
   "metadata": {},
   "source": [
    "# Write mode --> 'w'\n",
    "\n",
    "\n",
    "- if the file does not exist, it'll create an file with that name and extension\n",
    "- if the file is present, It'll open the file and deletes the previous content\n",
    "- you are only allowed write into the file not not read from it\n",
    "- you can even overwrite the previously written data"
   ]
  },
  {
   "cell_type": "code",
   "execution_count": 22,
   "id": "b6234f18",
   "metadata": {},
   "outputs": [],
   "source": [
    "# if the file does not exist, it'll create an file with that name and extension\n",
    "\n",
    "f = open('file_handling/write_mode.txt' , 'w')"
   ]
  },
  {
   "cell_type": "code",
   "execution_count": 23,
   "id": "9a7172fe",
   "metadata": {},
   "outputs": [],
   "source": [
    "# if the file is present, It'll open the file and deletes the previous content\n",
    "\n",
    "f = open('file_handling/write_mode.txt' , 'w')"
   ]
  },
  {
   "cell_type": "code",
   "execution_count": 27,
   "id": "94af29e8",
   "metadata": {},
   "outputs": [
    {
     "name": "stdout",
     "output_type": "stream",
     "text": [
      "11\n"
     ]
    }
   ],
   "source": [
    "\n",
    "f = open('file_handling/write_mode.txt' , 'w')\n",
    "\n",
    "f.write('hello world')\n",
    "\n",
    "print(f.tell())\n",
    "\n",
    "f.close()"
   ]
  },
  {
   "cell_type": "code",
   "execution_count": 28,
   "id": "c960643c",
   "metadata": {},
   "outputs": [
    {
     "name": "stdout",
     "output_type": "stream",
     "text": [
      "11\n"
     ]
    }
   ],
   "source": [
    "\n",
    "f = open('file_handling/write_mode.txt' , 'w')\n",
    "\n",
    "f.write('hello world')\n",
    "\n",
    "print(f.tell())\n"
   ]
  },
  {
   "cell_type": "code",
   "execution_count": 29,
   "id": "341325e3",
   "metadata": {},
   "outputs": [],
   "source": [
    "f.seek(6)\n",
    "\n",
    "f.write('new_insert')\n",
    "\n",
    "f.close()"
   ]
  },
  {
   "cell_type": "code",
   "execution_count": 34,
   "id": "2a6c8970",
   "metadata": {},
   "outputs": [
    {
     "name": "stdout",
     "output_type": "stream",
     "text": [
      "16\n"
     ]
    }
   ],
   "source": [
    "\n",
    "f = open('file_handling/write_mode.txt' , 'w')\n",
    "\n",
    "f.write('hello world data')\n",
    "\n",
    "print(f.tell())\n",
    "\n",
    "f.flush()"
   ]
  },
  {
   "cell_type": "code",
   "execution_count": 35,
   "id": "c5ecafb6",
   "metadata": {},
   "outputs": [],
   "source": [
    "f.write('New_insert')\n",
    "\n",
    "f.close()"
   ]
  },
  {
   "cell_type": "code",
   "execution_count": 37,
   "id": "395d8837",
   "metadata": {},
   "outputs": [],
   "source": [
    "\n",
    "f = open('file_handling/write_mode.txt' , 'w')\n",
    "\n",
    "f.write('hello world data')\n",
    "\n",
    "f.close()"
   ]
  },
  {
   "cell_type": "code",
   "execution_count": 38,
   "id": "3637a638",
   "metadata": {},
   "outputs": [
    {
     "ename": "ValueError",
     "evalue": "I/O operation on closed file.",
     "output_type": "error",
     "traceback": [
      "\u001b[1;31m---------------------------------------------------------------------------\u001b[0m",
      "\u001b[1;31mValueError\u001b[0m                                Traceback (most recent call last)",
      "Cell \u001b[1;32mIn[38], line 1\u001b[0m\n\u001b[1;32m----> 1\u001b[0m f\u001b[38;5;241m.\u001b[39mwrite(\u001b[38;5;124m'\u001b[39m\u001b[38;5;124mNew_insert\u001b[39m\u001b[38;5;124m'\u001b[39m)\n",
      "\u001b[1;31mValueError\u001b[0m: I/O operation on closed file."
     ]
    }
   ],
   "source": [
    "\n",
    "f.write('New_insert')"
   ]
  },
  {
   "cell_type": "code",
   "execution_count": 40,
   "id": "6e921cbc",
   "metadata": {},
   "outputs": [],
   "source": [
    "\n",
    "f = open('file_handling/write_mode.txt' , 'w')\n",
    "\n",
    "f.write('hello world data')\n",
    "\n",
    "f.flush()"
   ]
  },
  {
   "cell_type": "code",
   "execution_count": 41,
   "id": "eb255927",
   "metadata": {},
   "outputs": [],
   "source": [
    "\n",
    "f.write('New_insert')\n",
    "f.close()"
   ]
  },
  {
   "cell_type": "code",
   "execution_count": 42,
   "id": "5330a608",
   "metadata": {},
   "outputs": [
    {
     "ename": "UnsupportedOperation",
     "evalue": "not readable",
     "output_type": "error",
     "traceback": [
      "\u001b[1;31m---------------------------------------------------------------------------\u001b[0m",
      "\u001b[1;31mUnsupportedOperation\u001b[0m                      Traceback (most recent call last)",
      "Cell \u001b[1;32mIn[42], line 7\u001b[0m\n\u001b[0;32m      3\u001b[0m f\u001b[38;5;241m.\u001b[39mwrite(\u001b[38;5;124m'\u001b[39m\u001b[38;5;124mhello world\u001b[39m\u001b[38;5;124m'\u001b[39m)\n\u001b[0;32m      5\u001b[0m f\u001b[38;5;241m.\u001b[39mseek(\u001b[38;5;241m6\u001b[39m)\n\u001b[1;32m----> 7\u001b[0m f\u001b[38;5;241m.\u001b[39mread()\n\u001b[0;32m      9\u001b[0m f\u001b[38;5;241m.\u001b[39mclose()\n",
      "\u001b[1;31mUnsupportedOperation\u001b[0m: not readable"
     ]
    }
   ],
   "source": [
    "\n",
    "f = open('file_handling/write_mode.txt' , 'w')\n",
    "\n",
    "f.write('hello world')\n",
    "\n",
    "f.seek(6)\n",
    "\n",
    "f.read()\n",
    "\n",
    "f.close()"
   ]
  },
  {
   "cell_type": "markdown",
   "id": "7230689a",
   "metadata": {},
   "source": [
    "# append mode --> 'a'\n",
    "\n",
    "\n",
    "- if the file does not exist, it'll create an file with that name and extension\n",
    "- if the file is present, It'll open the file and places the cursor at the end of the file\n",
    "- you are only allowed write into the file not not read from it\n",
    "- you can never overwrite the previously written data"
   ]
  },
  {
   "cell_type": "code",
   "execution_count": 43,
   "id": "aa6f712e",
   "metadata": {},
   "outputs": [],
   "source": [
    "\n",
    "f = open('file_handling/append_mode.txt' , 'a')"
   ]
  },
  {
   "cell_type": "code",
   "execution_count": 44,
   "id": "b4550c8a",
   "metadata": {},
   "outputs": [
    {
     "name": "stdout",
     "output_type": "stream",
     "text": [
      "11\n"
     ]
    }
   ],
   "source": [
    "\n",
    "f = open('file_handling/append_mode.txt' , 'a')\n",
    "\n",
    "print(f.tell())"
   ]
  },
  {
   "cell_type": "code",
   "execution_count": 47,
   "id": "16c63bf2",
   "metadata": {},
   "outputs": [
    {
     "name": "stdout",
     "output_type": "stream",
     "text": [
      "21\n"
     ]
    }
   ],
   "source": [
    "\n",
    "f = open('file_handling/append_mode.txt' , 'a')\n",
    "\n",
    "print(f.tell())\n",
    "\n",
    "f.write('\\nnew_data')\n",
    "\n",
    "f.close()"
   ]
  },
  {
   "cell_type": "code",
   "execution_count": 48,
   "id": "80f691f5",
   "metadata": {},
   "outputs": [
    {
     "name": "stdout",
     "output_type": "stream",
     "text": [
      "11\n",
      "6\n"
     ]
    }
   ],
   "source": [
    "\n",
    "f = open('file_handling/append_mode.txt' , 'a')\n",
    "\n",
    "print(f.tell())\n",
    "\n",
    "f.seek(6)\n",
    "\n",
    "print(f.tell())\n",
    "\n",
    "f.write('New_data')\n",
    "\n",
    "f.close()"
   ]
  },
  {
   "cell_type": "code",
   "execution_count": 50,
   "id": "449b090a",
   "metadata": {},
   "outputs": [
    {
     "name": "stdout",
     "output_type": "stream",
     "text": [
      "19\n",
      "6\n"
     ]
    }
   ],
   "source": [
    "with  open('file_handling/append_mode.txt' , 'a') as f:\n",
    "    print(f.tell())\n",
    "    f.seek(6)\n",
    "    print(f.tell())\n",
    "    f.write('New_insert')\n"
   ]
  },
  {
   "cell_type": "code",
   "execution_count": 51,
   "id": "236fdbc2",
   "metadata": {},
   "outputs": [
    {
     "name": "stdout",
     "output_type": "stream",
     "text": [
      "29\n",
      "0\n"
     ]
    },
    {
     "ename": "UnsupportedOperation",
     "evalue": "not readable",
     "output_type": "error",
     "traceback": [
      "\u001b[1;31m---------------------------------------------------------------------------\u001b[0m",
      "\u001b[1;31mUnsupportedOperation\u001b[0m                      Traceback (most recent call last)",
      "Cell \u001b[1;32mIn[51], line 9\u001b[0m\n\u001b[0;32m      5\u001b[0m f\u001b[38;5;241m.\u001b[39mseek(\u001b[38;5;241m0\u001b[39m)\n\u001b[0;32m      7\u001b[0m \u001b[38;5;28mprint\u001b[39m(f\u001b[38;5;241m.\u001b[39mtell())\n\u001b[1;32m----> 9\u001b[0m f\u001b[38;5;241m.\u001b[39mread()\n\u001b[0;32m     11\u001b[0m f\u001b[38;5;241m.\u001b[39mclose()\n",
      "\u001b[1;31mUnsupportedOperation\u001b[0m: not readable"
     ]
    }
   ],
   "source": [
    "\n",
    "f = open('file_handling/append_mode.txt' , 'a')\n",
    "\n",
    "print(f.tell())\n",
    "\n",
    "f.seek(0)\n",
    "\n",
    "print(f.tell())\n",
    "\n",
    "f.read()\n",
    "\n",
    "f.close()"
   ]
  },
  {
   "cell_type": "markdown",
   "id": "1008599c",
   "metadata": {},
   "source": [
    "# read and write mode --> 'r+'\n",
    "\n",
    "- if the file does not exist, it'll throw an file not found error\n",
    "- if the file is present, It'll open the file and place the cursor at the begining of the file\n",
    "- you are read and write into the file"
   ]
  },
  {
   "cell_type": "code",
   "execution_count": 52,
   "id": "1af275ba",
   "metadata": {},
   "outputs": [
    {
     "ename": "FileNotFoundError",
     "evalue": "[Errno 2] No such file or directory: 'file_handling/read_write_mode.txt'",
     "output_type": "error",
     "traceback": [
      "\u001b[1;31m---------------------------------------------------------------------------\u001b[0m",
      "\u001b[1;31mFileNotFoundError\u001b[0m                         Traceback (most recent call last)",
      "Cell \u001b[1;32mIn[52], line 1\u001b[0m\n\u001b[1;32m----> 1\u001b[0m f \u001b[38;5;241m=\u001b[39m \u001b[38;5;28mopen\u001b[39m(\u001b[38;5;124m'\u001b[39m\u001b[38;5;124mfile_handling/read_write_mode.txt\u001b[39m\u001b[38;5;124m'\u001b[39m , \u001b[38;5;124m'\u001b[39m\u001b[38;5;124mr+\u001b[39m\u001b[38;5;124m'\u001b[39m)\n",
      "File \u001b[1;32m~\\anaconda3\\Lib\\site-packages\\IPython\\core\\interactiveshell.py:284\u001b[0m, in \u001b[0;36m_modified_open\u001b[1;34m(file, *args, **kwargs)\u001b[0m\n\u001b[0;32m    277\u001b[0m \u001b[38;5;28;01mif\u001b[39;00m file \u001b[38;5;129;01min\u001b[39;00m {\u001b[38;5;241m0\u001b[39m, \u001b[38;5;241m1\u001b[39m, \u001b[38;5;241m2\u001b[39m}:\n\u001b[0;32m    278\u001b[0m     \u001b[38;5;28;01mraise\u001b[39;00m \u001b[38;5;167;01mValueError\u001b[39;00m(\n\u001b[0;32m    279\u001b[0m         \u001b[38;5;124mf\u001b[39m\u001b[38;5;124m\"\u001b[39m\u001b[38;5;124mIPython won\u001b[39m\u001b[38;5;124m'\u001b[39m\u001b[38;5;124mt let you open fd=\u001b[39m\u001b[38;5;132;01m{\u001b[39;00mfile\u001b[38;5;132;01m}\u001b[39;00m\u001b[38;5;124m by default \u001b[39m\u001b[38;5;124m\"\u001b[39m\n\u001b[0;32m    280\u001b[0m         \u001b[38;5;124m\"\u001b[39m\u001b[38;5;124mas it is likely to crash IPython. If you know what you are doing, \u001b[39m\u001b[38;5;124m\"\u001b[39m\n\u001b[0;32m    281\u001b[0m         \u001b[38;5;124m\"\u001b[39m\u001b[38;5;124myou can use builtins\u001b[39m\u001b[38;5;124m'\u001b[39m\u001b[38;5;124m open.\u001b[39m\u001b[38;5;124m\"\u001b[39m\n\u001b[0;32m    282\u001b[0m     )\n\u001b[1;32m--> 284\u001b[0m \u001b[38;5;28;01mreturn\u001b[39;00m io_open(file, \u001b[38;5;241m*\u001b[39margs, \u001b[38;5;241m*\u001b[39m\u001b[38;5;241m*\u001b[39mkwargs)\n",
      "\u001b[1;31mFileNotFoundError\u001b[0m: [Errno 2] No such file or directory: 'file_handling/read_write_mode.txt'"
     ]
    }
   ],
   "source": [
    "\n",
    "f = open('file_handling/read_write_mode.txt' , 'r+')"
   ]
  },
  {
   "cell_type": "code",
   "execution_count": 54,
   "id": "e3947812",
   "metadata": {},
   "outputs": [
    {
     "name": "stdout",
     "output_type": "stream",
     "text": [
      "0\n"
     ]
    }
   ],
   "source": [
    "\n",
    "f = open('file_handling/read_write_mode.txt' , 'r+')\n",
    "\n",
    "print(f.tell())"
   ]
  },
  {
   "cell_type": "code",
   "execution_count": 55,
   "id": "8b4d3706",
   "metadata": {},
   "outputs": [
    {
     "name": "stdout",
     "output_type": "stream",
     "text": [
      "0\n"
     ]
    },
    {
     "data": {
      "text/plain": [
       "'Hello world'"
      ]
     },
     "execution_count": 55,
     "metadata": {},
     "output_type": "execute_result"
    }
   ],
   "source": [
    "\n",
    "f = open('file_handling/read_write_mode.txt' , 'r+')\n",
    "\n",
    "print(f.tell())\n",
    "\n",
    "f.read()"
   ]
  },
  {
   "cell_type": "code",
   "execution_count": 56,
   "id": "d28a9fef",
   "metadata": {},
   "outputs": [
    {
     "name": "stdout",
     "output_type": "stream",
     "text": [
      "0\n"
     ]
    }
   ],
   "source": [
    "\n",
    "f = open('file_handling/read_write_mode.txt' , 'r+')\n",
    "\n",
    "print(f.tell())\n",
    "\n",
    "f.read()\n",
    "\n",
    "print(f.tell())\n",
    "\n",
    "f.write('New_insert')\n",
    "\n",
    "f.close()"
   ]
  },
  {
   "cell_type": "code",
   "execution_count": 57,
   "id": "e1df167b",
   "metadata": {},
   "outputs": [
    {
     "name": "stdout",
     "output_type": "stream",
     "text": [
      "0\n"
     ]
    }
   ],
   "source": [
    "\n",
    "f = open('file_handling/read_write_mode.txt' , 'r+')\n",
    "\n",
    "print(f.tell())\n",
    "\n",
    "f.write('New_insert')\n",
    "\n",
    "f.close()"
   ]
  },
  {
   "cell_type": "markdown",
   "id": "707f11da",
   "metadata": {},
   "source": [
    "# Write and read mode --> 'w+'\n",
    "\n",
    "\n",
    "- if the file does not exist, it'll create an file with that name and extension\n",
    "- if the file is present, It'll open the file and deletes the previous content\n",
    "- you are allowed to read and write into the file\n",
    "- you can even overwrite the previously written data"
   ]
  },
  {
   "cell_type": "code",
   "execution_count": 59,
   "id": "26765c78",
   "metadata": {},
   "outputs": [],
   "source": [
    "\n",
    "f = open('file_handling/write_read_mode.txt' , 'w+')\n"
   ]
  },
  {
   "cell_type": "code",
   "execution_count": 62,
   "id": "c84c26ce",
   "metadata": {},
   "outputs": [
    {
     "name": "stdout",
     "output_type": "stream",
     "text": [
      "Hello world\n"
     ]
    }
   ],
   "source": [
    "\n",
    "f = open('file_handling/write_read_mode.txt' , 'w+')\n",
    "\n",
    "\n",
    "f.write('Hello world')\n",
    "\n",
    "f.seek(0)\n",
    "\n",
    "print(f.read())\n",
    "\n",
    "f.close()"
   ]
  },
  {
   "cell_type": "markdown",
   "id": "e8fa4cf3",
   "metadata": {},
   "source": [
    "# append and read mode --> 'a'\n",
    "\n",
    "\n",
    "- if the file does not exist, it'll create an file with that name and extension\n",
    "- if the file is present, It'll open the file and places the cursor at the end of the file\n",
    "- you can read and write into the file\n",
    "- you can never overwrite the previously written data"
   ]
  },
  {
   "cell_type": "code",
   "execution_count": 67,
   "id": "8ffec632",
   "metadata": {},
   "outputs": [
    {
     "name": "stdout",
     "output_type": "stream",
     "text": [
      "Hello worldHello world\n",
      "Hello world\n",
      "Hello world\n",
      "Hello world\n",
      "Hello world\n"
     ]
    }
   ],
   "source": [
    "\n",
    "f = open('file_handling/write_read_mode.txt' , 'a+')\n",
    "\n",
    "\n",
    "f.write('\\nHello world')\n",
    "\n",
    "\n",
    "f.seek(0)\n",
    "\n",
    "print(f.read())\n",
    "\n",
    "f.close()"
   ]
  },
  {
   "cell_type": "code",
   "execution_count": 74,
   "id": "0400505d",
   "metadata": {},
   "outputs": [
    {
     "name": "stdout",
     "output_type": "stream",
     "text": [
      "Enter the first number : 30\n",
      "Enter the second  number : 40\n",
      "The addition of 30 & 40 = 70\n"
     ]
    }
   ],
   "source": [
    "import time\n",
    "\n",
    "\n",
    "a = eval(input('Enter the first number : '))\n",
    "b = eval(input('Enter the second  number : '))\n",
    "\n",
    "c = f'The addition of {a} & {b} = {a+b}'\n",
    "\n",
    "with open('file_handling/addition_log.txt' , 'a') as f:\n",
    "    f.write(f\"\\n{time.strftime('%Y-%m-%d  %I:%M:%S %p')} : {c}\")\n",
    "\n",
    "print(c)"
   ]
  },
  {
   "cell_type": "code",
   "execution_count": null,
   "id": "cd34467f",
   "metadata": {},
   "outputs": [],
   "source": [
    "log sheet\n",
    "\n",
    "date time : The addition of 54 & 100 = 154\n",
    "date time : The addition of 10 & 20 = 30"
   ]
  },
  {
   "cell_type": "code",
   "execution_count": 71,
   "id": "e6f18ddd",
   "metadata": {},
   "outputs": [
    {
     "data": {
      "text/plain": [
       "'2024-04-20  10:18:32 AM'"
      ]
     },
     "execution_count": 71,
     "metadata": {},
     "output_type": "execute_result"
    }
   ],
   "source": [
    "import time\n",
    "\n",
    "time.strftime('%Y-%m-%d  %I:%M:%S %p')"
   ]
  },
  {
   "cell_type": "code",
   "execution_count": null,
   "id": "3172b5e4",
   "metadata": {},
   "outputs": [],
   "source": [
    "%Y  Year with century as a decimal number.\n",
    "%m  Month as a decimal number [01,12].\n",
    "%d  Day of the month as a decimal number [01,31].\n",
    "%H  Hour (24-hour clock) as a decimal number [00,23].\n",
    "%M  Minute as a decimal number [00,59].\n",
    "%S  Second as a decimal number [00,61].\n",
    "%z  Time zone offset from UTC.\n",
    "%a  Locale's abbreviated weekday name.\n",
    "%A  Locale's full weekday name.\n",
    "%b  Locale's abbreviated month name.\n",
    "%B  Locale's full month name.\n",
    "%c  Locale's appropriate date and time representation.\n",
    "%I  Hour (12-hour clock) as a decimal number [01,12].\n",
    "%p  Locale's equivalent of either AM or PM."
   ]
  },
  {
   "cell_type": "code",
   "execution_count": 75,
   "id": "a5698222",
   "metadata": {},
   "outputs": [
    {
     "name": "stdout",
     "output_type": "stream",
     "text": [
      "Enter the first number : 40\n",
      "Enter the second  number : 50\n",
      "The addition of 40 & 50 = 90\n"
     ]
    }
   ],
   "source": [
    "import time\n",
    "\n",
    "\n",
    "a = eval(input('Enter the first number : '))\n",
    "b = eval(input('Enter the second  number : '))\n",
    "\n",
    "c = f'The addition of {a} & {b} = {a+b}'\n",
    "\n",
    "f = open('file_handling/addition_log.txt' , 'a')\n",
    "\n",
    "f.write(f\"\\n{time.strftime('%Y-%m-%d  %I:%M:%S %p')} : {c}\")\n",
    "\n",
    "f.close()\n",
    "\n",
    "print(c)"
   ]
  },
  {
   "cell_type": "markdown",
   "id": "6ec76eab",
   "metadata": {},
   "source": [
    "# Methods on read function\n",
    "\n",
    "\n",
    "- read() --> reads the conmplete content from the current position\n",
    "- read(char) --> reads the specified no of char from the current position\n",
    "- readline() ----> reads only the current line from the current position\n",
    "- readlines() ---> read the complete content from the current position, And return a list of each lines"
   ]
  },
  {
   "cell_type": "code",
   "execution_count": 76,
   "id": "d72c3759",
   "metadata": {},
   "outputs": [
    {
     "name": "stdout",
     "output_type": "stream",
     "text": [
      "0\n"
     ]
    },
    {
     "data": {
      "text/plain": [
       "'2024-04-20  10:30:25 AM : The addition of 10 & 20 = 30\\n2024-04-20  10:31:23 AM : The addition of 30 & 40 = 70\\n2024-04-20  10:32:29 AM : The addition of 40 & 50 = 90'"
      ]
     },
     "execution_count": 76,
     "metadata": {},
     "output_type": "execute_result"
    }
   ],
   "source": [
    "f = open('file_handling/addition_log.txt' , 'r')\n",
    "\n",
    "print(f.tell())\n",
    "\n",
    "f.read()"
   ]
  },
  {
   "cell_type": "code",
   "execution_count": 78,
   "id": "107c93df",
   "metadata": {},
   "outputs": [
    {
     "name": "stdout",
     "output_type": "stream",
     "text": [
      "0\n"
     ]
    },
    {
     "data": {
      "text/plain": [
       "'Hello world\\npython\\njava'"
      ]
     },
     "execution_count": 78,
     "metadata": {},
     "output_type": "execute_result"
    }
   ],
   "source": [
    "f = open('file_handling/addition_log.txt' , 'r')\n",
    "\n",
    "print(f.tell())\n",
    "\n",
    "f.read()"
   ]
  },
  {
   "cell_type": "code",
   "execution_count": 79,
   "id": "01892c51",
   "metadata": {},
   "outputs": [
    {
     "name": "stdout",
     "output_type": "stream",
     "text": [
      "6\n"
     ]
    },
    {
     "data": {
      "text/plain": [
       "'world\\npython\\njava'"
      ]
     },
     "execution_count": 79,
     "metadata": {},
     "output_type": "execute_result"
    }
   ],
   "source": [
    "f = open('file_handling/addition_log.txt' , 'r')\n",
    "\n",
    "f.seek(6)\n",
    "\n",
    "print(f.tell())\n",
    "\n",
    "\n",
    "f.read()"
   ]
  },
  {
   "cell_type": "code",
   "execution_count": 83,
   "id": "069350fb",
   "metadata": {},
   "outputs": [
    {
     "name": "stdout",
     "output_type": "stream",
     "text": [
      "6\n"
     ]
    },
    {
     "data": {
      "text/plain": [
       "'world\\n'"
      ]
     },
     "execution_count": 83,
     "metadata": {},
     "output_type": "execute_result"
    }
   ],
   "source": [
    "f = open('file_handling/addition_log.txt' , 'r')\n",
    "\n",
    "f.seek(6)\n",
    "\n",
    "print(f.tell())\n",
    "\n",
    "\n",
    "f.readline()"
   ]
  },
  {
   "cell_type": "code",
   "execution_count": 84,
   "id": "f6ccdd8f",
   "metadata": {},
   "outputs": [
    {
     "data": {
      "text/plain": [
       "['2024-04-20  10:30:25 AM : The addition of 10 & 20 = 30\\n',\n",
       " '2024-04-20  10:31:23 AM : The addition of 30 & 40 = 70\\n',\n",
       " '2024-04-20  10:32:29 AM : The addition of 40 & 50 = 90']"
      ]
     },
     "execution_count": 84,
     "metadata": {},
     "output_type": "execute_result"
    }
   ],
   "source": [
    "f = open('file_handling/addition_log.txt' , 'r')\n",
    "\n",
    "\n",
    "f.readlines()"
   ]
  },
  {
   "cell_type": "code",
   "execution_count": 85,
   "id": "50735fb6",
   "metadata": {},
   "outputs": [
    {
     "data": {
      "text/plain": [
       "'2024-04-20  10:30:25 AM : The addition of 10 & 20 = 30\\n2024-04-20  10:31:23 AM : The addition of 30 & 40 = 70\\n2024-04-20  10:32:29 AM : The addition of 40 & 50 = 90'"
      ]
     },
     "execution_count": 85,
     "metadata": {},
     "output_type": "execute_result"
    }
   ],
   "source": [
    "f = open('file_handling/addition_log.txt' , 'r')\n",
    "\n",
    "\n",
    "f.read()"
   ]
  },
  {
   "cell_type": "code",
   "execution_count": null,
   "id": "82b8e711",
   "metadata": {},
   "outputs": [],
   "source": [
    "Deep into that darkness peering,\n",
    "\n",
    "Long I stood there, wondering, fearing,\n",
    "\n",
    "Doubting, dreaming dreams no mortals\n",
    "\n",
    "Ever dared to dream before;\n",
    "\n",
    "But the silence was unbroken,\n",
    "\n",
    "And the stillness gave no token,\n",
    "\n",
    "And the only word there spoken\n",
    "\n",
    "Was the whispered word, \"Lenore!\"\n",
    "\n",
    "This I whispered, and an echo\n",
    "\n",
    "Murmured back the word, \"Lenore!\"\n",
    "\n",
    "Merely this, and nothing more."
   ]
  },
  {
   "cell_type": "markdown",
   "id": "50af9510",
   "metadata": {},
   "source": [
    "#### Task 1\n",
    "\n",
    "total count of char ?\n",
    "\n",
    "total count of words ?\n",
    "\n",
    "tota how many line of data is present ? "
   ]
  },
  {
   "cell_type": "code",
   "execution_count": 86,
   "id": "4c4dcdf1",
   "metadata": {},
   "outputs": [
    {
     "name": "stdout",
     "output_type": "stream",
     "text": [
      "370 59 11\n"
     ]
    }
   ],
   "source": [
    "with open('file_handling/addition_log.txt' , 'r') as f:\n",
    "    char = len(f.read())\n",
    "    f.seek(0)\n",
    "    words = len(f.read().split())\n",
    "    f.seek(0)\n",
    "    lines = len(f.readlines()[::2])\n",
    "    \n",
    "print(char , words , lines)"
   ]
  },
  {
   "cell_type": "markdown",
   "id": "861e33ca",
   "metadata": {},
   "source": [
    "### Task 2\n",
    "\n",
    "\n",
    "convert png ---> jpeg"
   ]
  },
  {
   "cell_type": "code",
   "execution_count": 87,
   "id": "281037dc",
   "metadata": {},
   "outputs": [],
   "source": [
    "with open('file_handling/img.png' , 'rb') as f:\n",
    "    data = f.read()\n",
    "    \n",
    "with open('file_handling/img_2.jpeg' , 'wb') as f1:\n",
    "    f1.write(data)"
   ]
  },
  {
   "cell_type": "markdown",
   "id": "a8ae4135",
   "metadata": {},
   "source": [
    "# Exceptional handling"
   ]
  },
  {
   "cell_type": "code",
   "execution_count": null,
   "id": "e3858237",
   "metadata": {},
   "outputs": [],
   "source": []
  },
  {
   "cell_type": "code",
   "execution_count": null,
   "id": "e2103e16",
   "metadata": {},
   "outputs": [],
   "source": []
  },
  {
   "cell_type": "code",
   "execution_count": null,
   "id": "0bfd020f",
   "metadata": {},
   "outputs": [],
   "source": []
  },
  {
   "cell_type": "code",
   "execution_count": null,
   "id": "02487518",
   "metadata": {},
   "outputs": [],
   "source": []
  }
 ],
 "metadata": {
  "kernelspec": {
   "display_name": "Python 3 (ipykernel)",
   "language": "python",
   "name": "python3"
  },
  "language_info": {
   "codemirror_mode": {
    "name": "ipython",
    "version": 3
   },
   "file_extension": ".py",
   "mimetype": "text/x-python",
   "name": "python",
   "nbconvert_exporter": "python",
   "pygments_lexer": "ipython3",
   "version": "3.11.4"
  }
 },
 "nbformat": 4,
 "nbformat_minor": 5
}
