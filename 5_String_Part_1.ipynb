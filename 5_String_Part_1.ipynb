{
 "cells": [
  {
   "cell_type": "markdown",
   "id": "3b911f37",
   "metadata": {},
   "source": [
    "# Float\n",
    "\n",
    "\n",
    "- Any number with a decimal point"
   ]
  },
  {
   "cell_type": "code",
   "execution_count": 3,
   "id": "3e96716a",
   "metadata": {},
   "outputs": [
    {
     "name": "stdout",
     "output_type": "stream",
     "text": [
      "88.0 <class 'float'>\n"
     ]
    }
   ],
   "source": [
    "a = 88.0\n",
    "\n",
    "print(a , type(a))"
   ]
  },
  {
   "cell_type": "markdown",
   "id": "d4835ad7",
   "metadata": {},
   "source": [
    "# Operations possible on float\n",
    "\n",
    "- Arithmetic operations\n",
    "- Comparision\n",
    "- Equality \n",
    "- logical \n",
    "- Assignment\n",
    "- identity\n",
    "\n",
    "# Operations not possible on float\n",
    "- bitwise\n",
    "\n",
    "\n",
    "### Note:- But the memory reusability is not applicable"
   ]
  },
  {
   "cell_type": "code",
   "execution_count": 22,
   "id": "7695d268",
   "metadata": {},
   "outputs": [
    {
     "ename": "TypeError",
     "evalue": "unsupported operand type(s) for |: 'float' and 'float'",
     "output_type": "error",
     "traceback": [
      "\u001b[1;31m---------------------------------------------------------------------------\u001b[0m",
      "\u001b[1;31mTypeError\u001b[0m                                 Traceback (most recent call last)",
      "Cell \u001b[1;32mIn[22], line 4\u001b[0m\n\u001b[0;32m      1\u001b[0m a \u001b[38;5;241m=\u001b[39m \u001b[38;5;241m34.23\u001b[39m\n\u001b[0;32m      2\u001b[0m b \u001b[38;5;241m=\u001b[39m \u001b[38;5;241m54.54\u001b[39m\n\u001b[1;32m----> 4\u001b[0m a \u001b[38;5;241m|\u001b[39m b\n",
      "\u001b[1;31mTypeError\u001b[0m: unsupported operand type(s) for |: 'float' and 'float'"
     ]
    }
   ],
   "source": [
    "a = 34.23\n",
    "b = 54.54\n",
    "\n",
    "a | b"
   ]
  },
  {
   "cell_type": "code",
   "execution_count": 24,
   "id": "65b5280e",
   "metadata": {},
   "outputs": [
    {
     "name": "stdout",
     "output_type": "stream",
     "text": [
      "2724383035024\n",
      "2724396589456\n"
     ]
    },
    {
     "data": {
      "text/plain": [
       "False"
      ]
     },
     "execution_count": 24,
     "metadata": {},
     "output_type": "execute_result"
    }
   ],
   "source": [
    "a = 54.54\n",
    "b = 54.54\n",
    "\n",
    "print(id(a))\n",
    "print(id(b))\n",
    "\n",
    "a is b"
   ]
  },
  {
   "cell_type": "markdown",
   "id": "07ada3e5",
   "metadata": {},
   "source": [
    "# Complex\n",
    "\n",
    "\n",
    "written in a form of a+bj\n",
    "\n",
    "where a is the real\n",
    "b is the imaginary\n",
    "\n"
   ]
  },
  {
   "cell_type": "code",
   "execution_count": 25,
   "id": "6cc040fd",
   "metadata": {},
   "outputs": [
    {
     "name": "stdout",
     "output_type": "stream",
     "text": [
      "(34+8j) <class 'complex'>\n"
     ]
    }
   ],
   "source": [
    "a = 34+8j\n",
    "\n",
    "print(a , type(a))"
   ]
  },
  {
   "cell_type": "code",
   "execution_count": 26,
   "id": "8cb5b51e",
   "metadata": {},
   "outputs": [
    {
     "name": "stdout",
     "output_type": "stream",
     "text": [
      "34.0\n"
     ]
    }
   ],
   "source": [
    "print(a.real)"
   ]
  },
  {
   "cell_type": "code",
   "execution_count": 27,
   "id": "b1148d3d",
   "metadata": {},
   "outputs": [
    {
     "name": "stdout",
     "output_type": "stream",
     "text": [
      "8.0\n"
     ]
    }
   ],
   "source": [
    "print(a.imag)"
   ]
  },
  {
   "cell_type": "markdown",
   "id": "7800af27",
   "metadata": {},
   "source": [
    "# Operations possible on complex\n",
    "\n",
    "- Arithmetic operations except floor div , modulo\n",
    "- equality\n",
    "- logical\n",
    "- Assignment except  floor div , modulo\n",
    "- identity\n",
    "\n",
    "# Operations not possible on complex\n",
    "\n",
    "- floor\n",
    "- modulo\n",
    "- comparision \n",
    "- bitwise\n",
    "\n",
    "\n",
    "### Note:- But the memory reusability is not applicable"
   ]
  },
  {
   "cell_type": "code",
   "execution_count": 55,
   "id": "cb769956",
   "metadata": {},
   "outputs": [
    {
     "ename": "TypeError",
     "evalue": "unsupported operand type(s) for &: 'complex' and 'complex'",
     "output_type": "error",
     "traceback": [
      "\u001b[1;31m---------------------------------------------------------------------------\u001b[0m",
      "\u001b[1;31mTypeError\u001b[0m                                 Traceback (most recent call last)",
      "Cell \u001b[1;32mIn[55], line 5\u001b[0m\n\u001b[0;32m      1\u001b[0m a \u001b[38;5;241m=\u001b[39m \u001b[38;5;241m34\u001b[39m\u001b[38;5;241m+\u001b[39m\u001b[38;5;241m45\u001b[39mj\n\u001b[0;32m      2\u001b[0m b \u001b[38;5;241m=\u001b[39m \u001b[38;5;241m23\u001b[39m \u001b[38;5;241m+\u001b[39m \u001b[38;5;241m7\u001b[39mj\n\u001b[1;32m----> 5\u001b[0m \u001b[38;5;28mprint\u001b[39m(a \u001b[38;5;241m&\u001b[39m b)\n",
      "\u001b[1;31mTypeError\u001b[0m: unsupported operand type(s) for &: 'complex' and 'complex'"
     ]
    }
   ],
   "source": [
    "a = 34+45j\n",
    "b = 23 + 7j\n",
    "\n",
    "\n",
    "print(a & b)\n"
   ]
  },
  {
   "cell_type": "code",
   "execution_count": 48,
   "id": "3e7cc505",
   "metadata": {},
   "outputs": [
    {
     "data": {
      "text/plain": [
       "True"
      ]
     },
     "execution_count": 48,
     "metadata": {},
     "output_type": "execute_result"
    }
   ],
   "source": [
    "bool(70)"
   ]
  },
  {
   "cell_type": "code",
   "execution_count": 54,
   "id": "acc36ae8",
   "metadata": {},
   "outputs": [
    {
     "data": {
      "text/plain": [
       "(467+1273j)"
      ]
     },
     "execution_count": 54,
     "metadata": {},
     "output_type": "execute_result"
    }
   ],
   "source": [
    "a = 34+45j\n",
    "b = 23 + 7j\n",
    "\n",
    "\n",
    "a *= b\n",
    "\n",
    "a"
   ]
  },
  {
   "cell_type": "code",
   "execution_count": 53,
   "id": "cf6938aa",
   "metadata": {},
   "outputs": [
    {
     "ename": "TypeError",
     "evalue": "'complex' object cannot be interpreted as an integer",
     "output_type": "error",
     "traceback": [
      "\u001b[1;31m---------------------------------------------------------------------------\u001b[0m",
      "\u001b[1;31mTypeError\u001b[0m                                 Traceback (most recent call last)",
      "Cell \u001b[1;32mIn[53], line 1\u001b[0m\n\u001b[1;32m----> 1\u001b[0m \u001b[38;5;28mbin\u001b[39m(\u001b[38;5;241m34\u001b[39m\u001b[38;5;241m+\u001b[39m\u001b[38;5;241m543\u001b[39mj)\n",
      "\u001b[1;31mTypeError\u001b[0m: 'complex' object cannot be interpreted as an integer"
     ]
    }
   ],
   "source": [
    "bin(34+543j)"
   ]
  },
  {
   "cell_type": "code",
   "execution_count": 56,
   "id": "79256878",
   "metadata": {},
   "outputs": [
    {
     "name": "stdout",
     "output_type": "stream",
     "text": [
      "False\n"
     ]
    }
   ],
   "source": [
    "a = 34+45j\n",
    "b = 34+45j\n",
    "\n",
    "\n",
    "print(a is b)\n"
   ]
  },
  {
   "cell_type": "code",
   "execution_count": 58,
   "id": "81918b63",
   "metadata": {},
   "outputs": [
    {
     "name": "stdout",
     "output_type": "stream",
     "text": [
      "(34+45j)\n"
     ]
    }
   ],
   "source": [
    "a = 34+45j\n",
    "b = 23 + 7j\n",
    "\n",
    "\n",
    "print(a or b)"
   ]
  },
  {
   "cell_type": "code",
   "execution_count": 61,
   "id": "5e3e9054",
   "metadata": {},
   "outputs": [
    {
     "name": "stdout",
     "output_type": "stream",
     "text": [
      "(34+45j)\n"
     ]
    }
   ],
   "source": [
    "a = 34+45j\n",
    "b = 23 + 7j\n",
    "\n",
    "\n",
    "print(a or b)"
   ]
  },
  {
   "cell_type": "code",
   "execution_count": null,
   "id": "fd8586e4",
   "metadata": {},
   "outputs": [],
   "source": [
    "A and B\n",
    "\n",
    "result will be A if a is false else b"
   ]
  },
  {
   "cell_type": "markdown",
   "id": "3c71b107",
   "metadata": {},
   "source": [
    "# String "
   ]
  },
  {
   "cell_type": "code",
   "execution_count": 62,
   "id": "6f19460a",
   "metadata": {},
   "outputs": [
    {
     "name": "stdout",
     "output_type": "stream",
     "text": [
      "python <class 'str'>\n"
     ]
    }
   ],
   "source": [
    "a = 'python'\n",
    "\n",
    "\n",
    "\n",
    "print(a , type(a))"
   ]
  },
  {
   "cell_type": "code",
   "execution_count": 68,
   "id": "5b89b5ca",
   "metadata": {},
   "outputs": [
    {
     "name": "stdout",
     "output_type": "stream",
     "text": [
      "python's <class 'str'>\n"
     ]
    }
   ],
   "source": [
    "a = \"python's\"\n",
    "\n",
    "\n",
    "\n",
    "print(a , type(a))"
   ]
  },
  {
   "cell_type": "code",
   "execution_count": 63,
   "id": "141417cb",
   "metadata": {},
   "outputs": [
    {
     "name": "stdout",
     "output_type": "stream",
     "text": [
      "python <class 'str'>\n"
     ]
    }
   ],
   "source": [
    "a = \"python\"\n",
    "\n",
    "\n",
    "\n",
    "print(a , type(a))"
   ]
  },
  {
   "cell_type": "code",
   "execution_count": 66,
   "id": "5ac4636c",
   "metadata": {},
   "outputs": [
    {
     "name": "stdout",
     "output_type": "stream",
     "text": [
      "python\n",
      "java\n",
      "big data <class 'str'>\n"
     ]
    }
   ],
   "source": [
    "a = '''python\n",
    "java\n",
    "big data'''\n",
    "\n",
    "\n",
    "\n",
    "print(a , type(a))"
   ]
  },
  {
   "cell_type": "code",
   "execution_count": 65,
   "id": "79a953ef",
   "metadata": {},
   "outputs": [
    {
     "name": "stdout",
     "output_type": "stream",
     "text": [
      "python <class 'str'>\n"
     ]
    }
   ],
   "source": [
    "a = \"\"\"python\"\"\"\n",
    "\n",
    "\n",
    "\n",
    "print(a , type(a))"
   ]
  },
  {
   "cell_type": "markdown",
   "id": "63dfe0ef",
   "metadata": {},
   "source": [
    "# Properties of string \n",
    "\n",
    "- It is an seq data type\n",
    "\n",
    "- Indexing and Slicing"
   ]
  },
  {
   "cell_type": "code",
   "execution_count": null,
   "id": "9571d793",
   "metadata": {},
   "outputs": [],
   "source": [
    "# Indexing \n",
    "\n",
    "- Accesing or extracting 1 element or char at a time\n",
    "\n",
    "2 types of index values are assigned\n",
    "\n",
    "+ve index --> Assigned in L-R direction --> Starts from 0\n",
    "-ve index values --> Assigned in R-L direction ---> Starts from -1\n",
    "\n",
    "syntax\n",
    "\n",
    "var[index value]"
   ]
  },
  {
   "cell_type": "code",
   "execution_count": 86,
   "id": "d2a27f1d",
   "metadata": {},
   "outputs": [
    {
     "name": "stdout",
     "output_type": "stream",
     "text": [
      "T\n",
      "T\n"
     ]
    }
   ],
   "source": [
    "a= 'PYTHON'\n",
    "\n",
    "print(a[2])\n",
    "print(a[-4])"
   ]
  },
  {
   "cell_type": "code",
   "execution_count": null,
   "id": "cd5ccfee",
   "metadata": {},
   "outputs": [],
   "source": [
    "# Slicing \n",
    "\n",
    "- Accesing or extracting multiple elements or chars at a time\n",
    "\n",
    "var[start : stop : step]\n",
    "\n",
    "\n",
    "start --> inclusive\n",
    "stop ---> exclusive\n",
    "step --> by default +ve 1\n",
    "\n",
    "\n",
    "default values piked up by python\n",
    "\n",
    "a[:] or a[::1]\n",
    "\n",
    "If the step is +ve \n",
    "start = 0\n",
    "stop = len(str)\n",
    "\n",
    "\n",
    "a[::-1]\n",
    "\n",
    "If the step is -ve \n",
    "start = -1\n",
    "stop = -(len(str) + 1)\n"
   ]
  },
  {
   "cell_type": "code",
   "execution_count": 89,
   "id": "973560d6",
   "metadata": {},
   "outputs": [
    {
     "name": "stdout",
     "output_type": "stream",
     "text": [
      "python\n",
      "python\n",
      "nohtyp\n"
     ]
    }
   ],
   "source": [
    "a = 'python'\n",
    "\n",
    "\n",
    "print(a[:])\n",
    "\n",
    "print(a[: : 1])\n",
    "\n",
    "print(a[: : -1])"
   ]
  },
  {
   "cell_type": "code",
   "execution_count": 90,
   "id": "aeffc456",
   "metadata": {},
   "outputs": [],
   "source": [
    "a = '09-03-2024'"
   ]
  },
  {
   "cell_type": "code",
   "execution_count": 91,
   "id": "eee96b2b",
   "metadata": {},
   "outputs": [
    {
     "name": "stdout",
     "output_type": "stream",
     "text": [
      "09\n",
      "09\n",
      "09\n",
      "09\n",
      "09\n",
      "09\n"
     ]
    }
   ],
   "source": [
    "# Day?\n",
    "print(a[:2])\n",
    "print(a[0:2])\n",
    "print(a[:2])\n",
    "print(a[-10:2])\n",
    "print(a[-10:-8])\n",
    "print(a[0:-8])"
   ]
  },
  {
   "cell_type": "code",
   "execution_count": 92,
   "id": "070d79d8",
   "metadata": {},
   "outputs": [
    {
     "name": "stdout",
     "output_type": "stream",
     "text": [
      "03\n",
      "03\n",
      "03\n",
      "03\n"
     ]
    }
   ],
   "source": [
    "# month?\n",
    "print(a[3:5])\n",
    "print(a[3:-5])\n",
    "print(a[-7:-5])\n",
    "print(a[-7:5])"
   ]
  },
  {
   "cell_type": "code",
   "execution_count": 93,
   "id": "072ecbae",
   "metadata": {},
   "outputs": [
    {
     "name": "stdout",
     "output_type": "stream",
     "text": [
      "2024\n",
      "2024\n",
      "2024\n"
     ]
    }
   ],
   "source": [
    "# year?\n",
    "print(a[6:])\n",
    "print(a[6:10])\n",
    "print(a[-4:10])"
   ]
  },
  {
   "cell_type": "code",
   "execution_count": 94,
   "id": "7395a0d1",
   "metadata": {},
   "outputs": [
    {
     "name": "stdout",
     "output_type": "stream",
     "text": [
      "90\n",
      "90\n",
      "90\n",
      "90\n"
     ]
    }
   ],
   "source": [
    "# Day? - reverse 90\n",
    "print(a[-9::-1])\n",
    "print(a[-9:-11:-1])\n",
    "print(a[1::-1])\n",
    "print(a[1:-11:-1])"
   ]
  },
  {
   "cell_type": "markdown",
   "id": "46536946",
   "metadata": {},
   "source": [
    "# Properties of string \n",
    "\n",
    "- It is an seq data type\n",
    "- It allows to perform Indexing and Slicing\n",
    "- basic operations - concatination , repetation , membership , identity\n",
    "\n",
    "#### Note: It is an immutable data type"
   ]
  },
  {
   "cell_type": "code",
   "execution_count": 96,
   "id": "36e0a919",
   "metadata": {},
   "outputs": [
    {
     "data": {
      "text/plain": [
       "'xyzpqr'"
      ]
     },
     "execution_count": 96,
     "metadata": {},
     "output_type": "execute_result"
    }
   ],
   "source": [
    "# concatination\n",
    "# op --> +\n",
    "# operands --> both should be a string\n",
    "\n",
    "a = 'xyz'\n",
    "b = 'pqr'\n",
    "\n",
    "\n",
    "a + b"
   ]
  },
  {
   "cell_type": "code",
   "execution_count": 97,
   "id": "41af120c",
   "metadata": {},
   "outputs": [
    {
     "ename": "TypeError",
     "evalue": "can only concatenate str (not \"int\") to str",
     "output_type": "error",
     "traceback": [
      "\u001b[1;31m---------------------------------------------------------------------------\u001b[0m",
      "\u001b[1;31mTypeError\u001b[0m                                 Traceback (most recent call last)",
      "Cell \u001b[1;32mIn[97], line 5\u001b[0m\n\u001b[0;32m      1\u001b[0m a \u001b[38;5;241m=\u001b[39m \u001b[38;5;124m'\u001b[39m\u001b[38;5;124mxyz\u001b[39m\u001b[38;5;124m'\u001b[39m\n\u001b[0;32m      2\u001b[0m b \u001b[38;5;241m=\u001b[39m \u001b[38;5;241m54\u001b[39m\n\u001b[1;32m----> 5\u001b[0m a \u001b[38;5;241m+\u001b[39m b\n",
      "\u001b[1;31mTypeError\u001b[0m: can only concatenate str (not \"int\") to str"
     ]
    }
   ],
   "source": [
    "a = 'xyz'\n",
    "b = 54\n",
    "\n",
    "\n",
    "a + b"
   ]
  },
  {
   "cell_type": "code",
   "execution_count": 98,
   "id": "7fc316c3",
   "metadata": {},
   "outputs": [
    {
     "ename": "TypeError",
     "evalue": "can only concatenate str (not \"int\") to str",
     "output_type": "error",
     "traceback": [
      "\u001b[1;31m---------------------------------------------------------------------------\u001b[0m",
      "\u001b[1;31mTypeError\u001b[0m                                 Traceback (most recent call last)",
      "Cell \u001b[1;32mIn[98], line 5\u001b[0m\n\u001b[0;32m      1\u001b[0m a \u001b[38;5;241m=\u001b[39m \u001b[38;5;124m'\u001b[39m\u001b[38;5;124m10\u001b[39m\u001b[38;5;124m'\u001b[39m\n\u001b[0;32m      2\u001b[0m b \u001b[38;5;241m=\u001b[39m \u001b[38;5;241m20\u001b[39m\n\u001b[1;32m----> 5\u001b[0m a \u001b[38;5;241m+\u001b[39m b\n",
      "\u001b[1;31mTypeError\u001b[0m: can only concatenate str (not \"int\") to str"
     ]
    }
   ],
   "source": [
    "a = '10'\n",
    "b = 20\n",
    "\n",
    "\n",
    "a + b"
   ]
  },
  {
   "cell_type": "code",
   "execution_count": 101,
   "id": "6a8c2faf",
   "metadata": {},
   "outputs": [
    {
     "data": {
      "text/plain": [
       "'xyzxyzxyz'"
      ]
     },
     "execution_count": 101,
     "metadata": {},
     "output_type": "execute_result"
    }
   ],
   "source": [
    "# repetation\n",
    "# op --> *\n",
    "# operands --> One should be a string and another should be an int\n",
    "\n",
    "a = 'xyz'\n",
    "b = 3\n",
    "\n",
    "\n",
    "a * b"
   ]
  },
  {
   "cell_type": "code",
   "execution_count": 102,
   "id": "c92e7b57",
   "metadata": {},
   "outputs": [
    {
     "data": {
      "text/plain": [
       "'101010'"
      ]
     },
     "execution_count": 102,
     "metadata": {},
     "output_type": "execute_result"
    }
   ],
   "source": [
    "\n",
    "a = '10'\n",
    "b = 3\n",
    "\n",
    "\n",
    "a * b"
   ]
  },
  {
   "cell_type": "code",
   "execution_count": 103,
   "id": "b1181ee7",
   "metadata": {},
   "outputs": [
    {
     "data": {
      "text/plain": [
       "[2, 3, 4, 2, 3, 4, 2, 3, 4]"
      ]
     },
     "execution_count": 103,
     "metadata": {},
     "output_type": "execute_result"
    }
   ],
   "source": [
    "\n",
    "a = [2,3,4]\n",
    "\n",
    "b = 3\n",
    "\n",
    "\n",
    "a * b"
   ]
  },
  {
   "cell_type": "code",
   "execution_count": null,
   "id": "5983313d",
   "metadata": {},
   "outputs": [],
   "source": [
    "# membership\n",
    "in \n",
    "not in\n",
    "\n",
    "- if the sub seq is present in the seq or not\n"
   ]
  },
  {
   "cell_type": "code",
   "execution_count": 108,
   "id": "3956a60c",
   "metadata": {},
   "outputs": [
    {
     "data": {
      "text/plain": [
       "True"
      ]
     },
     "execution_count": 108,
     "metadata": {},
     "output_type": "execute_result"
    }
   ],
   "source": [
    "a = 'this is python class'\n",
    "\n",
    "'p' in a"
   ]
  },
  {
   "cell_type": "code",
   "execution_count": 109,
   "id": "55078d1f",
   "metadata": {},
   "outputs": [
    {
     "data": {
      "text/plain": [
       "False"
      ]
     },
     "execution_count": 109,
     "metadata": {},
     "output_type": "execute_result"
    }
   ],
   "source": [
    "a = 'this is python class'\n",
    "\n",
    "'j' in a"
   ]
  },
  {
   "cell_type": "code",
   "execution_count": 110,
   "id": "d0ba0212",
   "metadata": {},
   "outputs": [
    {
     "data": {
      "text/plain": [
       "True"
      ]
     },
     "execution_count": 110,
     "metadata": {},
     "output_type": "execute_result"
    }
   ],
   "source": [
    "a = 'this is python class'\n",
    "\n",
    "'j' not in a"
   ]
  },
  {
   "cell_type": "code",
   "execution_count": 111,
   "id": "01ba5092",
   "metadata": {},
   "outputs": [
    {
     "data": {
      "text/plain": [
       "True"
      ]
     },
     "execution_count": 111,
     "metadata": {},
     "output_type": "execute_result"
    }
   ],
   "source": [
    "a = 'this is python class'\n",
    "\n",
    "'python' in a"
   ]
  },
  {
   "cell_type": "code",
   "execution_count": 112,
   "id": "8d879a5d",
   "metadata": {},
   "outputs": [
    {
     "data": {
      "text/plain": [
       "False"
      ]
     },
     "execution_count": 112,
     "metadata": {},
     "output_type": "execute_result"
    }
   ],
   "source": [
    "a = 'this is python class'\n",
    "\n",
    "'si' in a"
   ]
  },
  {
   "cell_type": "code",
   "execution_count": 113,
   "id": "07467042",
   "metadata": {},
   "outputs": [
    {
     "data": {
      "text/plain": [
       "True"
      ]
     },
     "execution_count": 113,
     "metadata": {},
     "output_type": "execute_result"
    }
   ],
   "source": [
    "a = 'this is python class'\n",
    "\n",
    "'si' in a[::-1]"
   ]
  },
  {
   "cell_type": "code",
   "execution_count": 114,
   "id": "3a8a21ce",
   "metadata": {},
   "outputs": [
    {
     "data": {
      "text/plain": [
       "False"
      ]
     },
     "execution_count": 114,
     "metadata": {},
     "output_type": "execute_result"
    }
   ],
   "source": [
    "a = 'this is python class'\n",
    "\n",
    "'SI' in a[::-1]"
   ]
  },
  {
   "cell_type": "code",
   "execution_count": 118,
   "id": "4a2f05a8",
   "metadata": {},
   "outputs": [
    {
     "name": "stdout",
     "output_type": "stream",
     "text": [
      "True\n",
      "True\n",
      "True\n"
     ]
    }
   ],
   "source": [
    "a = 'python'\n",
    "b = 'python'\n",
    "\n",
    "\n",
    "print(a == b) # Equa\n",
    "\n",
    "\n",
    "print(a is b) # iden\n",
    "\n",
    "\n",
    "print(a in b) # mem"
   ]
  },
  {
   "cell_type": "code",
   "execution_count": 119,
   "id": "2ef2d7db",
   "metadata": {},
   "outputs": [
    {
     "name": "stdout",
     "output_type": "stream",
     "text": [
      "True\n",
      "False\n",
      "True\n"
     ]
    }
   ],
   "source": [
    "a = 'python java'\n",
    "b = 'python java'\n",
    "\n",
    "\n",
    "print(a == b) # Equa\n",
    "\n",
    "\n",
    "print(a is b) # iden\n",
    "\n",
    "\n",
    "print(a in b) # mem"
   ]
  },
  {
   "cell_type": "code",
   "execution_count": 120,
   "id": "13686df5",
   "metadata": {},
   "outputs": [
    {
     "name": "stdout",
     "output_type": "stream",
     "text": [
      "False\n",
      "False\n",
      "True\n"
     ]
    }
   ],
   "source": [
    "a = 'python'\n",
    "b = 'python java'\n",
    "\n",
    "\n",
    "print(a == b) # Equa\n",
    "\n",
    "\n",
    "print(a is b) # iden\n",
    "\n",
    "\n",
    "print(a in b) # mem"
   ]
  },
  {
   "cell_type": "markdown",
   "id": "36e73a9f",
   "metadata": {},
   "source": [
    "# It is an immutable data type"
   ]
  },
  {
   "cell_type": "code",
   "execution_count": 135,
   "id": "c5292d60",
   "metadata": {},
   "outputs": [
    {
     "ename": "TypeError",
     "evalue": "'str' object does not support item assignment",
     "output_type": "error",
     "traceback": [
      "\u001b[1;31m---------------------------------------------------------------------------\u001b[0m",
      "\u001b[1;31mTypeError\u001b[0m                                 Traceback (most recent call last)",
      "Cell \u001b[1;32mIn[135], line 3\u001b[0m\n\u001b[0;32m      1\u001b[0m a \u001b[38;5;241m=\u001b[39m \u001b[38;5;124m'\u001b[39m\u001b[38;5;124mpython\u001b[39m\u001b[38;5;124m'\u001b[39m\n\u001b[1;32m----> 3\u001b[0m a[\u001b[38;5;241m0\u001b[39m] \u001b[38;5;241m=\u001b[39m \u001b[38;5;124m'\u001b[39m\u001b[38;5;124mj\u001b[39m\u001b[38;5;124m'\u001b[39m\n",
      "\u001b[1;31mTypeError\u001b[0m: 'str' object does not support item assignment"
     ]
    }
   ],
   "source": [
    "a = 'python'\n",
    "\n",
    "a[0] = 'j'"
   ]
  },
  {
   "cell_type": "code",
   "execution_count": 152,
   "id": "37eb5df0",
   "metadata": {},
   "outputs": [
    {
     "data": {
      "text/plain": [
       "'jython'"
      ]
     },
     "execution_count": 152,
     "metadata": {},
     "output_type": "execute_result"
    }
   ],
   "source": [
    "a = 'python'\n",
    "\n",
    "a.replace('p' , 'j')"
   ]
  },
  {
   "cell_type": "code",
   "execution_count": 153,
   "id": "da2c3444",
   "metadata": {},
   "outputs": [
    {
     "data": {
      "text/plain": [
       "'python'"
      ]
     },
     "execution_count": 153,
     "metadata": {},
     "output_type": "execute_result"
    }
   ],
   "source": [
    "a"
   ]
  },
  {
   "cell_type": "code",
   "execution_count": 150,
   "id": "87e7b915",
   "metadata": {},
   "outputs": [],
   "source": [
    "a = [1,2,3]\n",
    "\n",
    "a.append(9999)"
   ]
  },
  {
   "cell_type": "code",
   "execution_count": 151,
   "id": "fc3c3b02",
   "metadata": {},
   "outputs": [
    {
     "data": {
      "text/plain": [
       "[1, 2, 3, 9999]"
      ]
     },
     "execution_count": 151,
     "metadata": {},
     "output_type": "execute_result"
    }
   ],
   "source": [
    "a"
   ]
  },
  {
   "cell_type": "markdown",
   "id": "c9b170d5",
   "metadata": {},
   "source": [
    "# Methods on string "
   ]
  },
  {
   "cell_type": "code",
   "execution_count": 121,
   "id": "195bc8ed",
   "metadata": {},
   "outputs": [
    {
     "name": "stdout",
     "output_type": "stream",
     "text": [
      "['__add__', '__class__', '__contains__', '__delattr__', '__dir__', '__doc__', '__eq__', '__format__', '__ge__', '__getattribute__', '__getitem__', '__getnewargs__', '__getstate__', '__gt__', '__hash__', '__init__', '__init_subclass__', '__iter__', '__le__', '__len__', '__lt__', '__mod__', '__mul__', '__ne__', '__new__', '__reduce__', '__reduce_ex__', '__repr__', '__rmod__', '__rmul__', '__setattr__', '__sizeof__', '__str__', '__subclasshook__', 'capitalize', 'casefold', 'center', 'count', 'encode', 'endswith', 'expandtabs', 'find', 'format', 'format_map', 'index', 'isalnum', 'isalpha', 'isascii', 'isdecimal', 'isdigit', 'isidentifier', 'islower', 'isnumeric', 'isprintable', 'isspace', 'istitle', 'isupper', 'join', 'ljust', 'lower', 'lstrip', 'maketrans', 'partition', 'removeprefix', 'removesuffix', 'replace', 'rfind', 'rindex', 'rjust', 'rpartition', 'rsplit', 'rstrip', 'split', 'splitlines', 'startswith', 'strip', 'swapcase', 'title', 'translate', 'upper', 'zfill']\n"
     ]
    }
   ],
   "source": [
    "print(dir(str))"
   ]
  },
  {
   "cell_type": "code",
   "execution_count": 154,
   "id": "5fefa157",
   "metadata": {},
   "outputs": [
    {
     "name": "stdout",
     "output_type": "stream",
     "text": [
      "This is pythons class\n"
     ]
    }
   ],
   "source": [
    "# capitalize - More specifically, make the first character have upper case and the rest lower case.\n",
    "\n",
    "\n",
    "a = 'this is PYTHONS class'\n",
    "\n",
    "print(a.capitalize())"
   ]
  },
  {
   "cell_type": "code",
   "execution_count": 155,
   "id": "010074e6",
   "metadata": {},
   "outputs": [
    {
     "data": {
      "text/plain": [
       "'this is PYTHONS class'"
      ]
     },
     "execution_count": 155,
     "metadata": {},
     "output_type": "execute_result"
    }
   ],
   "source": [
    "a"
   ]
  },
  {
   "cell_type": "code",
   "execution_count": 156,
   "id": "303e9e51",
   "metadata": {},
   "outputs": [
    {
     "name": "stdout",
     "output_type": "stream",
     "text": [
      "this is pythons class\n"
     ]
    }
   ],
   "source": [
    "a = 'this is PYTHONS class'\n",
    "\n",
    "# lower --> return a copy of the string converted to lowercase.\n",
    "\n",
    "print(a.lower())"
   ]
  },
  {
   "cell_type": "code",
   "execution_count": 160,
   "id": "dd2f134b",
   "metadata": {},
   "outputs": [
    {
     "name": "stdout",
     "output_type": "stream",
     "text": [
      "this is pythons class\n"
     ]
    }
   ],
   "source": [
    "a = 'this is PYTHONS class'\n",
    "\n",
    "# lower --> return a copy of the string converted to lowercase.\n",
    "\n",
    "print(a.casefold())"
   ]
  },
  {
   "cell_type": "code",
   "execution_count": 157,
   "id": "d91f467b",
   "metadata": {},
   "outputs": [
    {
     "name": "stdout",
     "output_type": "stream",
     "text": [
      "THIS IS PYTHONS CLASS\n"
     ]
    }
   ],
   "source": [
    "a = 'this is PYTHONS class'\n",
    "\n",
    "# upper --> return a copy of the string converted to uppercase.\n",
    "\n",
    "print(a.upper())"
   ]
  },
  {
   "cell_type": "code",
   "execution_count": 158,
   "id": "6645abc6",
   "metadata": {},
   "outputs": [
    {
     "name": "stdout",
     "output_type": "stream",
     "text": [
      "This Is Pythons Class\n"
     ]
    }
   ],
   "source": [
    "a = 'this is PYTHONS class'\n",
    "\n",
    "# Return a version of the string where each word is titlecased.\n",
    "\n",
    "print(a.title())"
   ]
  },
  {
   "cell_type": "code",
   "execution_count": 159,
   "id": "77f56d8a",
   "metadata": {},
   "outputs": [
    {
     "name": "stdout",
     "output_type": "stream",
     "text": [
      "This is pythons class\n"
     ]
    }
   ],
   "source": [
    "\n",
    "a = 'this is PYTHONS class'\n",
    "\n",
    "print(a.capitalize())"
   ]
  },
  {
   "cell_type": "markdown",
   "id": "e78761be",
   "metadata": {},
   "source": [
    "# Remaining functions"
   ]
  },
  {
   "cell_type": "code",
   "execution_count": null,
   "id": "c77c5501",
   "metadata": {},
   "outputs": [],
   "source": []
  }
 ],
 "metadata": {
  "kernelspec": {
   "display_name": "Python 3 (ipykernel)",
   "language": "python",
   "name": "python3"
  },
  "language_info": {
   "codemirror_mode": {
    "name": "ipython",
    "version": 3
   },
   "file_extension": ".py",
   "mimetype": "text/x-python",
   "name": "python",
   "nbconvert_exporter": "python",
   "pygments_lexer": "ipython3",
   "version": "3.11.4"
  }
 },
 "nbformat": 4,
 "nbformat_minor": 5
}
