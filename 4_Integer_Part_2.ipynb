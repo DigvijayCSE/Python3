{
 "cells": [
  {
   "cell_type": "markdown",
   "id": "7f4a04ec",
   "metadata": {},
   "source": [
    "# Logical operators\n",
    "\n",
    "- And \n",
    "- Or \n",
    "- Not\n"
   ]
  },
  {
   "cell_type": "markdown",
   "id": "7ee549e9",
   "metadata": {},
   "source": [
    "### Typecasting to bool\n",
    "\n",
    "\n",
    "- int --> 0 is false and rest all are true\n",
    "- float --> 0.0 is false and rest all are True\n",
    "- complex --> 0+0j is false and rest all are true\n",
    "- None --> is always false\n",
    "- str --> '' (empty string is false) and rest all are true\n",
    "\n",
    "[] , () , {} , set"
   ]
  },
  {
   "cell_type": "code",
   "execution_count": 15,
   "id": "29fc3a1e",
   "metadata": {},
   "outputs": [
    {
     "name": "stdout",
     "output_type": "stream",
     "text": [
      "True <class 'bool'>\n"
     ]
    }
   ],
   "source": [
    "a = bool(0+0.01j)\n",
    "\n",
    "print(a , type(a))"
   ]
  },
  {
   "cell_type": "code",
   "execution_count": 18,
   "id": "8cccbe1f",
   "metadata": {},
   "outputs": [
    {
     "name": "stdout",
     "output_type": "stream",
     "text": [
      "True <class 'bool'>\n"
     ]
    }
   ],
   "source": [
    "a = bool(' ')\n",
    "\n",
    "print(a , type(a))"
   ]
  },
  {
   "cell_type": "code",
   "execution_count": 21,
   "id": "39b37440",
   "metadata": {},
   "outputs": [
    {
     "name": "stdout",
     "output_type": "stream",
     "text": [
      "False\n",
      "True\n",
      "False\n"
     ]
    }
   ],
   "source": [
    "print(True and False)\n",
    "\n",
    "\n",
    "print(True and True)\n",
    "\n",
    "print(False and False)"
   ]
  },
  {
   "cell_type": "code",
   "execution_count": 22,
   "id": "75ab7816",
   "metadata": {},
   "outputs": [
    {
     "name": "stdout",
     "output_type": "stream",
     "text": [
      "True\n",
      "True\n",
      "False\n"
     ]
    }
   ],
   "source": [
    "print(True or False)\n",
    "\n",
    "\n",
    "print(True or True)\n",
    "\n",
    "print(False or False)"
   ]
  },
  {
   "cell_type": "code",
   "execution_count": 23,
   "id": "2e8abc81",
   "metadata": {},
   "outputs": [],
   "source": [
    "user_name = 'xyz@gmail.com'\n",
    "password = 'python'"
   ]
  },
  {
   "cell_type": "code",
   "execution_count": 24,
   "id": "4e6203a8",
   "metadata": {},
   "outputs": [
    {
     "name": "stdout",
     "output_type": "stream",
     "text": [
      "Enter the user name : xyz@gmail.com\n",
      "Enter the password : hello world\n",
      "Incorrect Info\n"
     ]
    }
   ],
   "source": [
    "a = input('Enter the user name : ')\n",
    "b = input('Enter the password : ')\n",
    "\n",
    "if (a == user_name ) and (b == password):\n",
    "    print('Logged IN')\n",
    "else:\n",
    "    print('Incorrect Info')"
   ]
  },
  {
   "cell_type": "code",
   "execution_count": 25,
   "id": "58b82210",
   "metadata": {},
   "outputs": [
    {
     "data": {
      "text/plain": [
       "False"
      ]
     },
     "execution_count": 25,
     "metadata": {},
     "output_type": "execute_result"
    }
   ],
   "source": [
    "True and False"
   ]
  },
  {
   "cell_type": "code",
   "execution_count": 28,
   "id": "d17d577e",
   "metadata": {},
   "outputs": [
    {
     "name": "stdout",
     "output_type": "stream",
     "text": [
      "Enter the user name : xyz@gmail.com\n",
      "Enter the password : python\n",
      "Logged IN\n"
     ]
    }
   ],
   "source": [
    "a = input('Enter the user name : ')\n",
    "b = input('Enter the password : ')\n",
    "\n",
    "if (a == user_name ) or (b == password):\n",
    "    print('Logged IN')\n",
    "else:\n",
    "    print('Incorrect Info')"
   ]
  },
  {
   "cell_type": "code",
   "execution_count": 27,
   "id": "5514fd33",
   "metadata": {},
   "outputs": [
    {
     "data": {
      "text/plain": [
       "True"
      ]
     },
     "execution_count": 27,
     "metadata": {},
     "output_type": "execute_result"
    }
   ],
   "source": [
    "True or False"
   ]
  },
  {
   "cell_type": "code",
   "execution_count": 29,
   "id": "2eb5c311",
   "metadata": {},
   "outputs": [
    {
     "data": {
      "text/plain": [
       "False"
      ]
     },
     "execution_count": 29,
     "metadata": {},
     "output_type": "execute_result"
    }
   ],
   "source": [
    "not True"
   ]
  },
  {
   "cell_type": "code",
   "execution_count": 30,
   "id": "c36d373e",
   "metadata": {},
   "outputs": [
    {
     "data": {
      "text/plain": [
       "True"
      ]
     },
     "execution_count": 30,
     "metadata": {},
     "output_type": "execute_result"
    }
   ],
   "source": [
    "not False"
   ]
  },
  {
   "cell_type": "code",
   "execution_count": 34,
   "id": "9343f37b",
   "metadata": {},
   "outputs": [
    {
     "data": {
      "text/plain": [
       "False"
      ]
     },
     "execution_count": 34,
     "metadata": {},
     "output_type": "execute_result"
    }
   ],
   "source": [
    "not True"
   ]
  },
  {
   "cell_type": "code",
   "execution_count": 37,
   "id": "66b1e633",
   "metadata": {},
   "outputs": [
    {
     "name": "stdout",
     "output_type": "stream",
     "text": [
      "Enter the user name : xyz@gmail.com\n",
      "Enter the password : python\n",
      "Incorrect Info\n"
     ]
    }
   ],
   "source": [
    "a = input('Enter the user name : ')\n",
    "b = input('Enter the password : ')\n",
    "\n",
    "if (a == user_name ) and (not b == password):\n",
    "    print('Logged IN')\n",
    "else:\n",
    "    print('Incorrect Info')"
   ]
  },
  {
   "cell_type": "code",
   "execution_count": 38,
   "id": "7c44c29f",
   "metadata": {},
   "outputs": [
    {
     "name": "stdout",
     "output_type": "stream",
     "text": [
      "True\n"
     ]
    }
   ],
   "source": [
    "print(True or False)"
   ]
  },
  {
   "cell_type": "code",
   "execution_count": 40,
   "id": "fa2cb97a",
   "metadata": {},
   "outputs": [
    {
     "name": "stdout",
     "output_type": "stream",
     "text": [
      "23\n"
     ]
    }
   ],
   "source": [
    "print(0 or 23)"
   ]
  },
  {
   "cell_type": "code",
   "execution_count": null,
   "id": "c6370c4b",
   "metadata": {},
   "outputs": [],
   "source": [
    "# If values are included there is an small deviation\n",
    "\n",
    "And\n",
    "\n",
    "A and B --> result will be A if A if False else B\n",
    "\n",
    "\n",
    "OR\n",
    "\n",
    "A or B ---> result will be A if A if True else B"
   ]
  },
  {
   "cell_type": "code",
   "execution_count": 41,
   "id": "1efc2536",
   "metadata": {},
   "outputs": [
    {
     "name": "stdout",
     "output_type": "stream",
     "text": [
      "34\n"
     ]
    }
   ],
   "source": [
    "print(34 or 23)"
   ]
  },
  {
   "cell_type": "code",
   "execution_count": 42,
   "id": "bc730ad9",
   "metadata": {},
   "outputs": [
    {
     "name": "stdout",
     "output_type": "stream",
     "text": [
      "23\n"
     ]
    }
   ],
   "source": [
    "print(34 and 23)"
   ]
  },
  {
   "cell_type": "code",
   "execution_count": null,
   "id": "ccd5a4b2",
   "metadata": {},
   "outputs": [],
   "source": [
    "bodmas \n",
    "\n",
    "\n",
    "ba \n",
    "of \n",
    "div\n",
    "mul\n",
    "add \n",
    "sub"
   ]
  },
  {
   "cell_type": "code",
   "execution_count": 56,
   "id": "4a599782",
   "metadata": {},
   "outputs": [
    {
     "name": "stdout",
     "output_type": "stream",
     "text": [
      "world\n"
     ]
    }
   ],
   "source": [
    "print('hello' and 'world')"
   ]
  },
  {
   "cell_type": "code",
   "execution_count": 57,
   "id": "fed03f9d",
   "metadata": {},
   "outputs": [
    {
     "name": "stdout",
     "output_type": "stream",
     "text": [
      "hello\n"
     ]
    }
   ],
   "source": [
    "print('hello' or 'world')"
   ]
  },
  {
   "cell_type": "code",
   "execution_count": 69,
   "id": "0505976b",
   "metadata": {},
   "outputs": [],
   "source": [
    "israr_ = [34 , 0 , 35 , 0 , 0 , 37]\n",
    "\n",
    "\n",
    "balraj = [34 , 32 , 35 , 0 , 36 , 37]\n",
    "\n",
    "\n",
    "bala   = [34 , 32 , 35 , 56 , 36 , 37]"
   ]
  },
  {
   "cell_type": "code",
   "execution_count": 70,
   "id": "72325444",
   "metadata": {},
   "outputs": [
    {
     "name": "stdout",
     "output_type": "stream",
     "text": [
      "34\n",
      "32\n",
      "35\n",
      "56\n",
      "36\n",
      "37\n"
     ]
    }
   ],
   "source": [
    "for i in range(len(israr_)):\n",
    "    print(israr_[i] or balraj[i]  or bala[i])"
   ]
  },
  {
   "cell_type": "markdown",
   "id": "a8d70ae5",
   "metadata": {},
   "source": [
    "# Assignment operators\n",
    "\n",
    "= "
   ]
  },
  {
   "cell_type": "code",
   "execution_count": 76,
   "id": "62768345",
   "metadata": {},
   "outputs": [],
   "source": [
    "x = 5\n",
    "\n",
    "# add 2 to existing value of x and reassign it to the same value"
   ]
  },
  {
   "cell_type": "code",
   "execution_count": 84,
   "id": "beffba24",
   "metadata": {},
   "outputs": [
    {
     "name": "stdout",
     "output_type": "stream",
     "text": [
      "21\n"
     ]
    }
   ],
   "source": [
    "x = x+2\n",
    "\n",
    "print(x)"
   ]
  },
  {
   "cell_type": "code",
   "execution_count": 85,
   "id": "7ffda1b6",
   "metadata": {},
   "outputs": [],
   "source": [
    "x = 5\n",
    "\n",
    "# add 2 to existing value of x and reassign it to the same value"
   ]
  },
  {
   "cell_type": "code",
   "execution_count": 91,
   "id": "164a0445",
   "metadata": {},
   "outputs": [
    {
     "name": "stdout",
     "output_type": "stream",
     "text": [
      "17\n"
     ]
    }
   ],
   "source": [
    "x += 2\n",
    "\n",
    "print(x)"
   ]
  },
  {
   "cell_type": "code",
   "execution_count": 95,
   "id": "b44bb5bf",
   "metadata": {},
   "outputs": [
    {
     "name": "stdout",
     "output_type": "stream",
     "text": [
      "3\n"
     ]
    }
   ],
   "source": [
    "x = 5\n",
    "\n",
    "# add 2 to existing value of x and reassign it to the same value\n",
    "\n",
    "x -= 2\n",
    "\n",
    "print(x)"
   ]
  },
  {
   "cell_type": "code",
   "execution_count": 96,
   "id": "7c76714a",
   "metadata": {},
   "outputs": [
    {
     "name": "stdout",
     "output_type": "stream",
     "text": [
      "10\n"
     ]
    }
   ],
   "source": [
    "x = 5\n",
    "\n",
    "# add 2 to existing value of x and reassign it to the same value\n",
    "\n",
    "x *= 2\n",
    "\n",
    "print(x)"
   ]
  },
  {
   "cell_type": "code",
   "execution_count": 98,
   "id": "d85a72f3",
   "metadata": {},
   "outputs": [
    {
     "name": "stdout",
     "output_type": "stream",
     "text": [
      "2\n"
     ]
    }
   ],
   "source": [
    "x = 5\n",
    "\n",
    "# add 2 to existing value of x and reassign it to the same value\n",
    "\n",
    "x //= 2\n",
    "\n",
    "print(x)"
   ]
  },
  {
   "cell_type": "code",
   "execution_count": 99,
   "id": "84ef91d1",
   "metadata": {},
   "outputs": [
    {
     "name": "stdout",
     "output_type": "stream",
     "text": [
      "25\n"
     ]
    }
   ],
   "source": [
    "x = 5\n",
    "\n",
    "# add 2 to existing value of x and reassign it to the same value\n",
    "\n",
    "x **= 2\n",
    "\n",
    "print(x)"
   ]
  },
  {
   "cell_type": "code",
   "execution_count": 100,
   "id": "0d6fb2ea",
   "metadata": {},
   "outputs": [
    {
     "name": "stdout",
     "output_type": "stream",
     "text": [
      "1\n"
     ]
    }
   ],
   "source": [
    "x = 5\n",
    "\n",
    "# add 2 to existing value of x and reassign it to the same value\n",
    "\n",
    "x %= 2\n",
    "\n",
    "print(x)"
   ]
  },
  {
   "cell_type": "code",
   "execution_count": 105,
   "id": "f1c9acd9",
   "metadata": {},
   "outputs": [
    {
     "name": "stdout",
     "output_type": "stream",
     "text": [
      "-15\n"
     ]
    }
   ],
   "source": [
    "x = 5\n",
    "\n",
    "# add 2 to existing value of x and reassign it to the same value\n",
    "\n",
    "x *= -3\n",
    "\n",
    "print(x)"
   ]
  },
  {
   "cell_type": "code",
   "execution_count": 106,
   "id": "79e151ce",
   "metadata": {},
   "outputs": [
    {
     "data": {
      "text/plain": [
       "'1020'"
      ]
     },
     "execution_count": 106,
     "metadata": {},
     "output_type": "execute_result"
    }
   ],
   "source": [
    "x = '10'\n",
    "\n",
    "x += '20'\n",
    "\n",
    "x"
   ]
  },
  {
   "cell_type": "code",
   "execution_count": 107,
   "id": "16f5bdc6",
   "metadata": {},
   "outputs": [
    {
     "data": {
      "text/plain": [
       "'1020'"
      ]
     },
     "execution_count": 107,
     "metadata": {},
     "output_type": "execute_result"
    }
   ],
   "source": [
    "x = '10'\n",
    "\n",
    "x = x +'20'\n",
    "\n",
    "x"
   ]
  },
  {
   "cell_type": "markdown",
   "id": "14560a94",
   "metadata": {},
   "source": [
    "# Bitwise operators\n",
    "\n",
    "- bitwise and (&)\n",
    "- bitwise or (|)\n",
    "- bitwise xor (^)\n",
    "- bitwise left shift (<<)\n",
    "- bitwise right shift (>>)\n",
    "- bitwise or (~) "
   ]
  },
  {
   "cell_type": "code",
   "execution_count": 110,
   "id": "163f4e16",
   "metadata": {},
   "outputs": [
    {
     "name": "stdout",
     "output_type": "stream",
     "text": [
      "77\n",
      "8\n"
     ]
    }
   ],
   "source": [
    "a = 56\n",
    "b = 77\n",
    "\n",
    "\n",
    "print( a and b )\n",
    "\n",
    "print( a & b )"
   ]
  },
  {
   "cell_type": "code",
   "execution_count": 111,
   "id": "0048f506",
   "metadata": {},
   "outputs": [
    {
     "name": "stdout",
     "output_type": "stream",
     "text": [
      "56\n",
      "125\n"
     ]
    }
   ],
   "source": [
    "a = 56\n",
    "b = 77\n",
    "\n",
    "\n",
    "print( a or b )\n",
    "\n",
    "print( a | b )"
   ]
  },
  {
   "cell_type": "code",
   "execution_count": 115,
   "id": "3dceab38",
   "metadata": {},
   "outputs": [
    {
     "name": "stdout",
     "output_type": "stream",
     "text": [
      "77\n",
      "8\n"
     ]
    }
   ],
   "source": [
    "a = 56\n",
    "b = 77\n",
    "\n",
    "\n",
    "print( a and b )\n",
    "\n",
    "print( a & b )"
   ]
  },
  {
   "cell_type": "code",
   "execution_count": 113,
   "id": "fca45524",
   "metadata": {},
   "outputs": [
    {
     "data": {
      "text/plain": [
       "'0b1001101'"
      ]
     },
     "execution_count": 113,
     "metadata": {},
     "output_type": "execute_result"
    }
   ],
   "source": [
    "bin(77)"
   ]
  },
  {
   "cell_type": "code",
   "execution_count": null,
   "id": "aeb18122",
   "metadata": {},
   "outputs": [],
   "source": [
    "56 --> 0   1    1    1    0     0     0\n",
    "\n",
    "77 --> 1   0    0    1    1     0     1\n",
    "\n",
    "\n",
    "        0    0     0     1     0     0       0"
   ]
  },
  {
   "cell_type": "code",
   "execution_count": 114,
   "id": "8dbb6286",
   "metadata": {},
   "outputs": [
    {
     "data": {
      "text/plain": [
       "8"
      ]
     },
     "execution_count": 114,
     "metadata": {},
     "output_type": "execute_result"
    }
   ],
   "source": [
    "int(0b0001000)"
   ]
  },
  {
   "cell_type": "code",
   "execution_count": 117,
   "id": "5c1321b1",
   "metadata": {},
   "outputs": [
    {
     "name": "stdout",
     "output_type": "stream",
     "text": [
      "125\n"
     ]
    }
   ],
   "source": [
    "a = 56\n",
    "b = 77\n",
    "\n",
    "\n",
    "print( a | b )"
   ]
  },
  {
   "cell_type": "code",
   "execution_count": null,
   "id": "f68fe067",
   "metadata": {},
   "outputs": [],
   "source": [
    "56 --> 0   1    1    1    0     0     0\n",
    "\n",
    "77 --> 1   0    0    1    1     0     1\n",
    "\n",
    "\n",
    "       1     1     1     1     1     0      1"
   ]
  },
  {
   "cell_type": "code",
   "execution_count": 118,
   "id": "5bf5f692",
   "metadata": {},
   "outputs": [
    {
     "data": {
      "text/plain": [
       "125"
      ]
     },
     "execution_count": 118,
     "metadata": {},
     "output_type": "execute_result"
    }
   ],
   "source": [
    "int(0b1111101)"
   ]
  },
  {
   "cell_type": "code",
   "execution_count": 120,
   "id": "50feeee1",
   "metadata": {},
   "outputs": [
    {
     "name": "stdout",
     "output_type": "stream",
     "text": [
      "117\n"
     ]
    }
   ],
   "source": [
    "a = 56\n",
    "b = 77\n",
    "\n",
    "\n",
    "print( a ^ b )"
   ]
  },
  {
   "cell_type": "code",
   "execution_count": null,
   "id": "671190a9",
   "metadata": {},
   "outputs": [],
   "source": [
    "56 --> 0   1    1    1    0     0     0\n",
    "\n",
    "77 --> 1   0    0    1    1     0     1\n",
    "\n",
    "\n",
    "       1     1    1      0     1      0      1"
   ]
  },
  {
   "cell_type": "code",
   "execution_count": 119,
   "id": "2adf3920",
   "metadata": {},
   "outputs": [
    {
     "data": {
      "text/plain": [
       "117"
      ]
     },
     "execution_count": 119,
     "metadata": {},
     "output_type": "execute_result"
    }
   ],
   "source": [
    "int(0b1110101)"
   ]
  },
  {
   "cell_type": "code",
   "execution_count": null,
   "id": "37711b0d",
   "metadata": {},
   "outputs": [],
   "source": [
    "# bitwise left shift <<\n",
    "\n",
    "A * (2**n)"
   ]
  },
  {
   "cell_type": "code",
   "execution_count": 122,
   "id": "21189365",
   "metadata": {},
   "outputs": [
    {
     "name": "stdout",
     "output_type": "stream",
     "text": [
      "448\n"
     ]
    }
   ],
   "source": [
    "x = 56\n",
    "\n",
    "\n",
    "print(x << 3)"
   ]
  },
  {
   "cell_type": "code",
   "execution_count": 123,
   "id": "ed7fbdc3",
   "metadata": {},
   "outputs": [
    {
     "data": {
      "text/plain": [
       "448"
      ]
     },
     "execution_count": 123,
     "metadata": {},
     "output_type": "execute_result"
    }
   ],
   "source": [
    "56 * (2 ** 3)"
   ]
  },
  {
   "cell_type": "code",
   "execution_count": 125,
   "id": "b74942ff",
   "metadata": {},
   "outputs": [
    {
     "name": "stdout",
     "output_type": "stream",
     "text": [
      "308\n"
     ]
    }
   ],
   "source": [
    "x = 77\n",
    "\n",
    "\n",
    "print(x << 2)"
   ]
  },
  {
   "cell_type": "code",
   "execution_count": 124,
   "id": "b106ab1a",
   "metadata": {},
   "outputs": [
    {
     "data": {
      "text/plain": [
       "308"
      ]
     },
     "execution_count": 124,
     "metadata": {},
     "output_type": "execute_result"
    }
   ],
   "source": [
    "77 * (2 **2)"
   ]
  },
  {
   "cell_type": "code",
   "execution_count": 128,
   "id": "595309bd",
   "metadata": {},
   "outputs": [
    {
     "name": "stdout",
     "output_type": "stream",
     "text": [
      "448\n"
     ]
    }
   ],
   "source": [
    "x = 56\n",
    "\n",
    "\n",
    "print(x << 3)"
   ]
  },
  {
   "cell_type": "code",
   "execution_count": 131,
   "id": "93bcf86b",
   "metadata": {},
   "outputs": [
    {
     "name": "stdout",
     "output_type": "stream",
     "text": [
      "308\n"
     ]
    }
   ],
   "source": [
    "x = 77\n",
    "\n",
    "\n",
    "print(x << 2)"
   ]
  },
  {
   "cell_type": "code",
   "execution_count": 134,
   "id": "9f78d068",
   "metadata": {},
   "outputs": [
    {
     "name": "stdout",
     "output_type": "stream",
     "text": [
      "160\n"
     ]
    }
   ],
   "source": [
    "x = 10\n",
    "\n",
    "\n",
    "print(x << 4)"
   ]
  },
  {
   "cell_type": "code",
   "execution_count": 132,
   "id": "2f3fbfd6",
   "metadata": {},
   "outputs": [
    {
     "data": {
      "text/plain": [
       "'0b1010'"
      ]
     },
     "execution_count": 132,
     "metadata": {},
     "output_type": "execute_result"
    }
   ],
   "source": [
    "bin(10)"
   ]
  },
  {
   "cell_type": "code",
   "execution_count": 133,
   "id": "a7ac8094",
   "metadata": {},
   "outputs": [
    {
     "data": {
      "text/plain": [
       "160"
      ]
     },
     "execution_count": 133,
     "metadata": {},
     "output_type": "execute_result"
    }
   ],
   "source": [
    "int(0b10100000)"
   ]
  },
  {
   "cell_type": "markdown",
   "id": "8a2bed13",
   "metadata": {},
   "source": [
    "# bitwise right shift >>\n",
    "\n",
    "A // (2**n)"
   ]
  },
  {
   "cell_type": "code",
   "execution_count": 136,
   "id": "5a7bb7c7",
   "metadata": {},
   "outputs": [
    {
     "name": "stdout",
     "output_type": "stream",
     "text": [
      "7\n"
     ]
    }
   ],
   "source": [
    "x = 56\n",
    "\n",
    "\n",
    "print(x >> 3)"
   ]
  },
  {
   "cell_type": "code",
   "execution_count": 135,
   "id": "34285afc",
   "metadata": {},
   "outputs": [
    {
     "data": {
      "text/plain": [
       "7"
      ]
     },
     "execution_count": 135,
     "metadata": {},
     "output_type": "execute_result"
    }
   ],
   "source": [
    "56 // (2**3)"
   ]
  },
  {
   "cell_type": "code",
   "execution_count": 137,
   "id": "1e4626f2",
   "metadata": {},
   "outputs": [
    {
     "data": {
      "text/plain": [
       "'0b111000'"
      ]
     },
     "execution_count": 137,
     "metadata": {},
     "output_type": "execute_result"
    }
   ],
   "source": [
    "bin(56)"
   ]
  },
  {
   "cell_type": "code",
   "execution_count": 138,
   "id": "9163c8d7",
   "metadata": {},
   "outputs": [
    {
     "data": {
      "text/plain": [
       "7"
      ]
     },
     "execution_count": 138,
     "metadata": {},
     "output_type": "execute_result"
    }
   ],
   "source": [
    "int(0b000111)"
   ]
  },
  {
   "cell_type": "code",
   "execution_count": 141,
   "id": "ee8078b3",
   "metadata": {},
   "outputs": [
    {
     "name": "stdout",
     "output_type": "stream",
     "text": [
      "6\n"
     ]
    }
   ],
   "source": [
    "x = 99\n",
    "\n",
    "\n",
    "print(x >> 4)"
   ]
  },
  {
   "cell_type": "code",
   "execution_count": 139,
   "id": "53811bf2",
   "metadata": {},
   "outputs": [
    {
     "data": {
      "text/plain": [
       "'0b1100011'"
      ]
     },
     "execution_count": 139,
     "metadata": {},
     "output_type": "execute_result"
    }
   ],
   "source": [
    "bin(99)"
   ]
  },
  {
   "cell_type": "code",
   "execution_count": 140,
   "id": "561ab7c4",
   "metadata": {},
   "outputs": [
    {
     "data": {
      "text/plain": [
       "6"
      ]
     },
     "execution_count": 140,
     "metadata": {},
     "output_type": "execute_result"
    }
   ],
   "source": [
    "int(0b0000110)"
   ]
  },
  {
   "cell_type": "code",
   "execution_count": null,
   "id": "08a6cead",
   "metadata": {},
   "outputs": [],
   "source": [
    "# Bitwise or (~)\n",
    "\n",
    "- adds 1 to the existing value\n",
    "- It converts it sign"
   ]
  },
  {
   "cell_type": "code",
   "execution_count": 142,
   "id": "61735cc9",
   "metadata": {},
   "outputs": [
    {
     "name": "stdout",
     "output_type": "stream",
     "text": [
      "-46\n"
     ]
    }
   ],
   "source": [
    "x = 45\n",
    "\n",
    "print(~x)"
   ]
  },
  {
   "cell_type": "code",
   "execution_count": 143,
   "id": "f78b61ba",
   "metadata": {},
   "outputs": [
    {
     "name": "stdout",
     "output_type": "stream",
     "text": [
      "98\n"
     ]
    }
   ],
   "source": [
    "x = -99\n",
    "\n",
    "print(~x)"
   ]
  },
  {
   "cell_type": "markdown",
   "id": "72014782",
   "metadata": {},
   "source": [
    "# Identity operators\n",
    "\n",
    "is \n",
    "\n",
    "\n",
    "is not"
   ]
  },
  {
   "cell_type": "code",
   "execution_count": 145,
   "id": "3b7c849b",
   "metadata": {},
   "outputs": [
    {
     "name": "stdout",
     "output_type": "stream",
     "text": [
      "140714801009736\n",
      "140714801010056\n",
      "140714801009736\n"
     ]
    }
   ],
   "source": [
    "a = 10\n",
    "b = 20\n",
    "c = 10\n",
    "\n",
    "print(id(a))\n",
    "\n",
    "print(id(b))\n",
    "\n",
    "print(id(c))"
   ]
  },
  {
   "cell_type": "code",
   "execution_count": 146,
   "id": "64d2b763",
   "metadata": {},
   "outputs": [
    {
     "name": "stdout",
     "output_type": "stream",
     "text": [
      "2205841577808\n",
      "2205841578608\n"
     ]
    }
   ],
   "source": [
    "a = 500\n",
    "b = 500\n",
    "\n",
    "\n",
    "print(id(a))\n",
    "\n",
    "print(id(b))"
   ]
  },
  {
   "cell_type": "code",
   "execution_count": 147,
   "id": "62f296c0",
   "metadata": {},
   "outputs": [
    {
     "name": "stdout",
     "output_type": "stream",
     "text": [
      "140714801010504\n",
      "140714801010504\n",
      "True\n"
     ]
    }
   ],
   "source": [
    "a = 34\n",
    "b = 34\n",
    "\n",
    "\n",
    "print(id(a))\n",
    "\n",
    "print(id(b))\n",
    "\n",
    "print(a is b)"
   ]
  },
  {
   "cell_type": "code",
   "execution_count": 153,
   "id": "e4726005",
   "metadata": {},
   "outputs": [
    {
     "name": "stdout",
     "output_type": "stream",
     "text": [
      "140714801010504\n",
      "140714801010504\n",
      "True\n",
      "True\n"
     ]
    }
   ],
   "source": [
    "a = 34\n",
    "b = 34\n",
    "\n",
    "\n",
    "print(id(a))\n",
    "\n",
    "print(id(b))\n",
    "\n",
    "print(a is b)\n",
    "\n",
    "print(a == b)"
   ]
  },
  {
   "cell_type": "code",
   "execution_count": 152,
   "id": "871ffba3",
   "metadata": {},
   "outputs": [
    {
     "name": "stdout",
     "output_type": "stream",
     "text": [
      "2205841578864\n",
      "2205841578160\n",
      "False\n",
      "True\n"
     ]
    }
   ],
   "source": [
    "a = 340\n",
    "b = 340\n",
    "\n",
    "\n",
    "print(id(a))\n",
    "\n",
    "print(id(b))\n",
    "\n",
    "print(a is b)\n",
    "\n",
    "print(a == b)"
   ]
  },
  {
   "cell_type": "code",
   "execution_count": 155,
   "id": "8fcf3d1c",
   "metadata": {},
   "outputs": [
    {
     "name": "stdout",
     "output_type": "stream",
     "text": [
      "2205824301904\n",
      "2205841582416\n",
      "False\n"
     ]
    }
   ],
   "source": [
    "a = 34.123\n",
    "b = 34.123\n",
    "\n",
    "\n",
    "print(id(a))\n",
    "\n",
    "print(id(b))\n",
    "\n",
    "print(a is b)\n"
   ]
  },
  {
   "cell_type": "code",
   "execution_count": 156,
   "id": "2e90b57a",
   "metadata": {},
   "outputs": [
    {
     "name": "stdout",
     "output_type": "stream",
     "text": [
      "2205841578608\n",
      "2205841577456\n",
      "False\n"
     ]
    }
   ],
   "source": [
    "a = 34+5j\n",
    "b = 34+5j\n",
    "\n",
    "\n",
    "print(id(a))\n",
    "\n",
    "print(id(b))\n",
    "\n",
    "print(a is b)\n"
   ]
  },
  {
   "cell_type": "code",
   "execution_count": 157,
   "id": "665f46c2",
   "metadata": {},
   "outputs": [
    {
     "name": "stdout",
     "output_type": "stream",
     "text": [
      "140714799622896\n",
      "140714799622896\n",
      "True\n"
     ]
    }
   ],
   "source": [
    "a = None\n",
    "b = None\n",
    "\n",
    "\n",
    "print(id(a))\n",
    "\n",
    "print(id(b))\n",
    "\n",
    "print(a is b)\n"
   ]
  },
  {
   "cell_type": "code",
   "execution_count": 158,
   "id": "002fb880",
   "metadata": {},
   "outputs": [
    {
     "name": "stdout",
     "output_type": "stream",
     "text": [
      "140714799540768\n",
      "140714799540768\n",
      "True\n"
     ]
    }
   ],
   "source": [
    "a = True\n",
    "b = True\n",
    "\n",
    "\n",
    "print(id(a))\n",
    "\n",
    "print(id(b))\n",
    "\n",
    "print(a is b)\n"
   ]
  },
  {
   "cell_type": "code",
   "execution_count": 159,
   "id": "2133e1bc",
   "metadata": {},
   "outputs": [
    {
     "name": "stdout",
     "output_type": "stream",
     "text": [
      "140714799540768\n",
      "140714801009448\n",
      "False\n"
     ]
    }
   ],
   "source": [
    "a = True\n",
    "b = 1\n",
    "\n",
    "\n",
    "print(id(a))\n",
    "\n",
    "print(id(b))\n",
    "\n",
    "print(a is b)\n"
   ]
  },
  {
   "cell_type": "code",
   "execution_count": 160,
   "id": "89a799dd",
   "metadata": {},
   "outputs": [
    {
     "name": "stdout",
     "output_type": "stream",
     "text": [
      "2205842737392\n",
      "2205842737392\n",
      "True\n"
     ]
    }
   ],
   "source": [
    "a = 'DATA_science123'\n",
    "b = 'DATA_science123'\n",
    "\n",
    "\n",
    "print(id(a))\n",
    "\n",
    "print(id(b))\n",
    "\n",
    "print(a is b)\n"
   ]
  },
  {
   "cell_type": "code",
   "execution_count": 161,
   "id": "8b5a2215",
   "metadata": {},
   "outputs": [
    {
     "name": "stdout",
     "output_type": "stream",
     "text": [
      "2205822728624\n",
      "2205842738800\n",
      "False\n"
     ]
    }
   ],
   "source": [
    "a = 'DATA science123'\n",
    "b = 'DATA science123'\n",
    "\n",
    "\n",
    "print(id(a))\n",
    "\n",
    "print(id(b))\n",
    "\n",
    "print(a is b)\n"
   ]
  },
  {
   "cell_type": "code",
   "execution_count": null,
   "id": "c08d0aed",
   "metadata": {},
   "outputs": [],
   "source": [
    "# Memory reusability\n",
    "\n",
    "\n",
    "applicable for\n",
    "\n",
    "int --> -5 to 256 \n",
    "None\n",
    "bool\n",
    "string --> A-Z,a-z,0-9 , _\n",
    "\n",
    "\n",
    "not applicable for\n",
    "- int\n",
    "- float\n",
    "- complex\n"
   ]
  },
  {
   "cell_type": "markdown",
   "id": "20324c61",
   "metadata": {},
   "source": [
    "# Task\n",
    "\n",
    "- arith\n",
    "- compa\n",
    "- equality\n",
    "- logical\n",
    "- assignm\n",
    "- bitwise\n",
    "- identity"
   ]
  },
  {
   "cell_type": "code",
   "execution_count": null,
   "id": "ec5067fe",
   "metadata": {},
   "outputs": [],
   "source": [
    "# Float , complex"
   ]
  },
  {
   "cell_type": "code",
   "execution_count": null,
   "id": "dad565e2",
   "metadata": {},
   "outputs": [],
   "source": []
  },
  {
   "cell_type": "code",
   "execution_count": null,
   "id": "4f477c28",
   "metadata": {},
   "outputs": [],
   "source": []
  }
 ],
 "metadata": {
  "kernelspec": {
   "display_name": "Python 3 (ipykernel)",
   "language": "python",
   "name": "python3"
  },
  "language_info": {
   "codemirror_mode": {
    "name": "ipython",
    "version": 3
   },
   "file_extension": ".py",
   "mimetype": "text/x-python",
   "name": "python",
   "nbconvert_exporter": "python",
   "pygments_lexer": "ipython3",
   "version": "3.11.4"
  }
 },
 "nbformat": 4,
 "nbformat_minor": 5
}
