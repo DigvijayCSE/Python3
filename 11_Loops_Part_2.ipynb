{
 "cells": [
  {
   "cell_type": "markdown",
   "id": "a9ed81d0",
   "metadata": {},
   "source": [
    "# Break , continue and pass"
   ]
  },
  {
   "cell_type": "markdown",
   "id": "27843df2",
   "metadata": {},
   "source": [
    "# Break\n",
    "\n",
    "- Break out of the loop\n",
    "- It'll even stop the current execution "
   ]
  },
  {
   "cell_type": "code",
   "execution_count": 2,
   "id": "a59a391e",
   "metadata": {},
   "outputs": [
    {
     "data": {
      "text/plain": [
       "[0, 1, 2, 3, 4, 5, 6, 7, 8, 9]"
      ]
     },
     "execution_count": 2,
     "metadata": {},
     "output_type": "execute_result"
    }
   ],
   "source": [
    "list(range(10))"
   ]
  },
  {
   "cell_type": "code",
   "execution_count": 6,
   "id": "fc312b0c",
   "metadata": {},
   "outputs": [
    {
     "name": "stdout",
     "output_type": "stream",
     "text": [
      "0\n",
      "1\n",
      "2\n",
      "Loop completed\n"
     ]
    }
   ],
   "source": [
    "for i in range(10):\n",
    "    if i == 3:\n",
    "        break\n",
    "    print(i)\n",
    "    \n",
    "print('Loop completed')"
   ]
  },
  {
   "cell_type": "code",
   "execution_count": 9,
   "id": "5a95cc7f",
   "metadata": {},
   "outputs": [
    {
     "name": "stdout",
     "output_type": "stream",
     "text": [
      "0\n",
      "1\n",
      "2\n"
     ]
    }
   ],
   "source": [
    "i = 0\n",
    "\n",
    "while i<= 10:\n",
    "    if i == 3:\n",
    "        break\n",
    "    print(i)\n",
    "    i += 1"
   ]
  },
  {
   "cell_type": "markdown",
   "id": "793bfde3",
   "metadata": {},
   "source": [
    "# continue\n",
    "\n",
    "- it end the current iteration"
   ]
  },
  {
   "cell_type": "code",
   "execution_count": 10,
   "id": "e857f0dd",
   "metadata": {},
   "outputs": [
    {
     "data": {
      "text/plain": [
       "[0, 1, 2, 3, 4, 5, 6, 7, 8, 9]"
      ]
     },
     "execution_count": 10,
     "metadata": {},
     "output_type": "execute_result"
    }
   ],
   "source": [
    "list(range(10))"
   ]
  },
  {
   "cell_type": "code",
   "execution_count": 11,
   "id": "5a2f191f",
   "metadata": {},
   "outputs": [
    {
     "name": "stdout",
     "output_type": "stream",
     "text": [
      "0\n",
      "1\n",
      "2\n",
      "4\n",
      "5\n",
      "6\n",
      "7\n",
      "8\n",
      "9\n",
      "Loop completed\n"
     ]
    }
   ],
   "source": [
    "for i in range(10):\n",
    "    if i == 3:\n",
    "        continue\n",
    "    print(i)\n",
    "    \n",
    "print('Loop completed')"
   ]
  },
  {
   "cell_type": "code",
   "execution_count": 14,
   "id": "70e60c82",
   "metadata": {},
   "outputs": [
    {
     "name": "stdout",
     "output_type": "stream",
     "text": [
      "Enter a number : 5\n",
      "Enter a number : 0\n"
     ]
    }
   ],
   "source": [
    "while True:\n",
    "    a = int(input('Enter a number : '))\n",
    "    if a == 0:\n",
    "        break\n",
    "    else:\n",
    "        continue\n",
    "        print('Hello world')"
   ]
  },
  {
   "cell_type": "code",
   "execution_count": 16,
   "id": "f5b1a62e",
   "metadata": {},
   "outputs": [
    {
     "name": "stdout",
     "output_type": "stream",
     "text": [
      "Enter the Amount to deposit345345\n",
      "Amt Deposited\n",
      " Deposit Again : (Y or N) : y\n",
      "Enter the Amount to deposit3453454\n",
      "Amt Deposited\n",
      " Deposit Again : (Y or N) : y\n",
      "Enter the Amount to deposit5654645\n",
      "Amt Deposited\n",
      " Deposit Again : (Y or N) : n\n",
      "Have a nice day\n"
     ]
    }
   ],
   "source": [
    "while True:\n",
    "    amt = int(input('Enter the Amount to deposit'))\n",
    "    print('Amt Deposited')\n",
    "    user_in = input(\" Deposit Again : (Y or N) : \").lower()\n",
    "    if(user_in=='y'):\n",
    "        continue\n",
    "    else:\n",
    "        print('Have a nice day')\n",
    "        break"
   ]
  },
  {
   "cell_type": "code",
   "execution_count": 18,
   "id": "b46fc4da",
   "metadata": {},
   "outputs": [
    {
     "name": "stdout",
     "output_type": "stream",
     "text": [
      "Enter the amount100\n",
      "Current balance : 100\n",
      "Dou you want to repeat again : y\n",
      "Enter the amount200\n",
      "Current balance : 300\n",
      "Dou you want to repeat again : 500\n",
      "Have a nice day\n"
     ]
    }
   ],
   "source": [
    "deposit=0\n",
    "while True:\n",
    "    amt=int(input('Enter the amount'))\n",
    "    deposit+=amt\n",
    "    print(f\"Current balance : {deposit}\")\n",
    "    a= input('Dou you want to repeat again : ').upper()\n",
    "    if(a=='Y'):\n",
    "        continue\n",
    "    else:\n",
    "        print('Have a nice day')\n",
    "        break"
   ]
  },
  {
   "cell_type": "markdown",
   "id": "44f91e2a",
   "metadata": {},
   "source": [
    "# Pass"
   ]
  },
  {
   "cell_type": "code",
   "execution_count": 27,
   "id": "e21e45f2",
   "metadata": {},
   "outputs": [
    {
     "name": "stdout",
     "output_type": "stream",
     "text": [
      "Odd\n"
     ]
    }
   ],
   "source": [
    "a = 37\n",
    "\n",
    "if a%2==0:\n",
    "    print('Even')\n",
    "else:\n",
    "    print('Odd')"
   ]
  },
  {
   "cell_type": "code",
   "execution_count": 28,
   "id": "f2028fdf",
   "metadata": {},
   "outputs": [
    {
     "ename": "IndentationError",
     "evalue": "expected an indented block after 'if' statement on line 3 (1086565551.py, line 4)",
     "output_type": "error",
     "traceback": [
      "\u001b[1;36m  Cell \u001b[1;32mIn[28], line 4\u001b[1;36m\u001b[0m\n\u001b[1;33m    else:\u001b[0m\n\u001b[1;37m    ^\u001b[0m\n\u001b[1;31mIndentationError\u001b[0m\u001b[1;31m:\u001b[0m expected an indented block after 'if' statement on line 3\n"
     ]
    }
   ],
   "source": [
    "a = 37\n",
    "\n",
    "if a%2==0:\n",
    "    \n",
    "else:\n",
    "    print('Odd')"
   ]
  },
  {
   "cell_type": "code",
   "execution_count": 32,
   "id": "5f60cf39",
   "metadata": {},
   "outputs": [],
   "source": [
    "a = 36\n",
    "\n",
    "if a%2==0:\n",
    "    pass\n",
    "else:\n",
    "    print('Odd')"
   ]
  },
  {
   "cell_type": "code",
   "execution_count": 35,
   "id": "847fcd69",
   "metadata": {},
   "outputs": [
    {
     "name": "stdout",
     "output_type": "stream",
     "text": [
      "ODD\n"
     ]
    }
   ],
   "source": [
    "a = 37\n",
    "\n",
    "if a%2!=0:\n",
    "    print('ODD')\n"
   ]
  },
  {
   "cell_type": "code",
   "execution_count": 37,
   "id": "c0ef7eb4",
   "metadata": {},
   "outputs": [],
   "source": [
    "a = 36\n",
    "\n",
    "if a%2==0:\n",
    "    pass\n",
    "    print('Even')\n",
    "else:\n",
    "    print('Odd')"
   ]
  },
  {
   "cell_type": "code",
   "execution_count": null,
   "id": "19590635",
   "metadata": {},
   "outputs": [],
   "source": [
    "if\n",
    "    stat1\n",
    "elif\n",
    "    pass\n",
    "elif\n",
    "    stat3\n",
    "else\n",
    "    stat4"
   ]
  },
  {
   "cell_type": "code",
   "execution_count": null,
   "id": "98f781ee",
   "metadata": {},
   "outputs": [],
   "source": [
    "a = 36\n",
    "\n",
    "if a%2==0:\n",
    "    pass\n",
    "else:\n",
    "    print('Odd')"
   ]
  },
  {
   "cell_type": "code",
   "execution_count": 44,
   "id": "bf74cb0c",
   "metadata": {},
   "outputs": [],
   "source": [
    "a = 36\n",
    "\n",
    "if a%2==0:\n",
    "    pass\n",
    "else:\n",
    "    print('Odd')"
   ]
  },
  {
   "cell_type": "code",
   "execution_count": 47,
   "id": "fe581ecc",
   "metadata": {},
   "outputs": [],
   "source": [
    "for i in range(10):\n",
    "    pass"
   ]
  },
  {
   "cell_type": "code",
   "execution_count": 56,
   "id": "31c3f04a",
   "metadata": {},
   "outputs": [],
   "source": [
    "def funct():\n",
    "    pass"
   ]
  },
  {
   "cell_type": "code",
   "execution_count": 55,
   "id": "6f964579",
   "metadata": {},
   "outputs": [
    {
     "name": "stdout",
     "output_type": "stream",
     "text": [
      "32 Even\n",
      "56 Even\n",
      "678 Even\n",
      "78 Even\n",
      "98 Even\n",
      "0 Even\n",
      "32 Even\n",
      "32 Even\n",
      "4 Even\n"
     ]
    }
   ],
   "source": [
    "lst = [32,543,56,657,678,78,98,9,9,0,89,32,32,4,3,45]\n",
    "\n",
    "\n",
    "for i in lst:\n",
    "    if i%2==0:\n",
    "#         pass\n",
    "        print(i, 'Even')\n",
    "    else:\n",
    "        pass\n",
    "#         print(i,'odd')\n"
   ]
  },
  {
   "cell_type": "code",
   "execution_count": null,
   "id": "51273bfa",
   "metadata": {},
   "outputs": [],
   "source": []
  },
  {
   "cell_type": "code",
   "execution_count": null,
   "id": "f9852620",
   "metadata": {},
   "outputs": [],
   "source": []
  },
  {
   "cell_type": "code",
   "execution_count": null,
   "id": "06c27cb5",
   "metadata": {},
   "outputs": [],
   "source": []
  },
  {
   "cell_type": "code",
   "execution_count": null,
   "id": "21df082c",
   "metadata": {},
   "outputs": [],
   "source": []
  },
  {
   "cell_type": "code",
   "execution_count": null,
   "id": "cb176269",
   "metadata": {},
   "outputs": [],
   "source": []
  },
  {
   "cell_type": "code",
   "execution_count": null,
   "id": "f35749a1",
   "metadata": {},
   "outputs": [],
   "source": []
  },
  {
   "cell_type": "code",
   "execution_count": null,
   "id": "cd3ee9c4",
   "metadata": {},
   "outputs": [],
   "source": []
  },
  {
   "cell_type": "code",
   "execution_count": null,
   "id": "d2e0f557",
   "metadata": {},
   "outputs": [],
   "source": []
  },
  {
   "cell_type": "code",
   "execution_count": null,
   "id": "ebac4360",
   "metadata": {},
   "outputs": [],
   "source": []
  },
  {
   "cell_type": "code",
   "execution_count": null,
   "id": "dc1e8deb",
   "metadata": {},
   "outputs": [],
   "source": []
  },
  {
   "cell_type": "code",
   "execution_count": null,
   "id": "f84237b5",
   "metadata": {},
   "outputs": [],
   "source": []
  },
  {
   "cell_type": "code",
   "execution_count": null,
   "id": "7a5350be",
   "metadata": {},
   "outputs": [],
   "source": []
  },
  {
   "cell_type": "code",
   "execution_count": null,
   "id": "4dc18c8b",
   "metadata": {},
   "outputs": [],
   "source": []
  },
  {
   "cell_type": "code",
   "execution_count": null,
   "id": "eb69ea07",
   "metadata": {},
   "outputs": [],
   "source": []
  },
  {
   "cell_type": "code",
   "execution_count": null,
   "id": "ce072402",
   "metadata": {},
   "outputs": [],
   "source": []
  },
  {
   "cell_type": "code",
   "execution_count": null,
   "id": "d52e99fb",
   "metadata": {},
   "outputs": [],
   "source": []
  },
  {
   "cell_type": "code",
   "execution_count": null,
   "id": "a15c6122",
   "metadata": {},
   "outputs": [],
   "source": []
  },
  {
   "cell_type": "code",
   "execution_count": null,
   "id": "d7a006a1",
   "metadata": {},
   "outputs": [],
   "source": []
  },
  {
   "cell_type": "code",
   "execution_count": null,
   "id": "8e71bac7",
   "metadata": {},
   "outputs": [],
   "source": []
  },
  {
   "cell_type": "code",
   "execution_count": null,
   "id": "199912fe",
   "metadata": {},
   "outputs": [],
   "source": []
  },
  {
   "cell_type": "code",
   "execution_count": null,
   "id": "82fc12c7",
   "metadata": {},
   "outputs": [],
   "source": []
  },
  {
   "cell_type": "code",
   "execution_count": null,
   "id": "8f31912d",
   "metadata": {},
   "outputs": [],
   "source": []
  },
  {
   "cell_type": "code",
   "execution_count": null,
   "id": "db1dd665",
   "metadata": {},
   "outputs": [],
   "source": []
  },
  {
   "cell_type": "code",
   "execution_count": null,
   "id": "85541259",
   "metadata": {},
   "outputs": [],
   "source": []
  },
  {
   "cell_type": "code",
   "execution_count": null,
   "id": "e5c93d34",
   "metadata": {},
   "outputs": [],
   "source": []
  },
  {
   "cell_type": "code",
   "execution_count": null,
   "id": "5c3519b0",
   "metadata": {},
   "outputs": [],
   "source": []
  },
  {
   "cell_type": "code",
   "execution_count": null,
   "id": "10f93f28",
   "metadata": {},
   "outputs": [],
   "source": []
  },
  {
   "cell_type": "code",
   "execution_count": null,
   "id": "2f2a174c",
   "metadata": {},
   "outputs": [],
   "source": []
  },
  {
   "cell_type": "code",
   "execution_count": null,
   "id": "36148e37",
   "metadata": {},
   "outputs": [],
   "source": [
    "\n",
    "enter the amount you want to transfer----> 200\n",
    "bal - 200\n",
    "print(current balance)\n",
    "print(amount transfered)\n",
    "\n",
    "do you want to transfer the amount y/n? \n",
    "\n",
    "y --> repeat the whole process again\n",
    "\n",
    "if amount > bal:\n",
    "    insuffcient balance\n",
    "    print('Try after sometime')\n",
    "\n",
    "if ---> \n",
    "\n",
    "do you want to transfer the amount y/n? \n",
    "\n",
    "y --> repeat the whole process again --> "
   ]
  },
  {
   "cell_type": "code",
   "execution_count": null,
   "id": "e07d9a01",
   "metadata": {},
   "outputs": [],
   "source": [
    "900 --> 850\n",
    "\n",
    "50 ---> 100\n",
    "\n",
    "0 --> close the program , if the user is entering n --> close the program\n",
    "\n",
    "have a nice day"
   ]
  },
  {
   "cell_type": "markdown",
   "id": "ca7de655",
   "metadata": {},
   "source": [
    "# Else"
   ]
  },
  {
   "cell_type": "code",
   "execution_count": 57,
   "id": "84c595ee",
   "metadata": {},
   "outputs": [
    {
     "name": "stdout",
     "output_type": "stream",
     "text": [
      "0\n",
      "1\n",
      "2\n",
      "3\n",
      "4\n",
      "5\n",
      "6\n",
      "7\n",
      "8\n",
      "9\n",
      "Loop completed\n"
     ]
    }
   ],
   "source": [
    "for i in range(10):\n",
    "    print(i)\n",
    "    \n",
    "print('Loop completed')"
   ]
  },
  {
   "cell_type": "code",
   "execution_count": 58,
   "id": "6d2ff478",
   "metadata": {},
   "outputs": [
    {
     "name": "stdout",
     "output_type": "stream",
     "text": [
      "0\n",
      "1\n",
      "2\n",
      "3\n",
      "4\n",
      "5\n",
      "6\n",
      "7\n",
      "8\n",
      "9\n",
      "Loop completed\n"
     ]
    }
   ],
   "source": [
    "for i in range(10):\n",
    "    print(i)\n",
    "else:    \n",
    "    print('Loop completed')"
   ]
  },
  {
   "cell_type": "code",
   "execution_count": 59,
   "id": "eea52962",
   "metadata": {},
   "outputs": [
    {
     "data": {
      "text/plain": [
       "[0, 1, 2, 3, 4, 5, 6, 7, 8, 9]"
      ]
     },
     "execution_count": 59,
     "metadata": {},
     "output_type": "execute_result"
    }
   ],
   "source": [
    "list(range(10))"
   ]
  },
  {
   "cell_type": "code",
   "execution_count": 60,
   "id": "ef1d5e80",
   "metadata": {},
   "outputs": [
    {
     "name": "stdout",
     "output_type": "stream",
     "text": [
      "0\n",
      "1\n",
      "2\n",
      "3\n",
      "4\n",
      "Loop completed\n"
     ]
    }
   ],
   "source": [
    "for i in range(10):\n",
    "    if i == 5:\n",
    "        break\n",
    "    print(i)\n",
    "    \n",
    "print('Loop completed')"
   ]
  },
  {
   "cell_type": "code",
   "execution_count": 61,
   "id": "73e4a1c5",
   "metadata": {},
   "outputs": [
    {
     "name": "stdout",
     "output_type": "stream",
     "text": [
      "0\n",
      "1\n",
      "2\n",
      "3\n",
      "4\n"
     ]
    }
   ],
   "source": [
    "for i in range(10):\n",
    "    if i == 5:\n",
    "        break\n",
    "    print(i)\n",
    "else:    \n",
    "    print('Loop completed')"
   ]
  },
  {
   "cell_type": "code",
   "execution_count": 65,
   "id": "ce954bc0",
   "metadata": {},
   "outputs": [
    {
     "name": "stdout",
     "output_type": "stream",
     "text": [
      "Enter the name of the file you are searching for : d\n",
      "File found\n"
     ]
    }
   ],
   "source": [
    "lst = ['a' , 'b' , 'c' , 'd']\n",
    "\n",
    "\n",
    "a = input('Enter the name of the file you are searching for : ')\n",
    "\n",
    "for i in lst:\n",
    "    if i == a:\n",
    "        print('File found')\n",
    "        break\n",
    "else:\n",
    "    print('File not found in the data base')"
   ]
  },
  {
   "cell_type": "code",
   "execution_count": null,
   "id": "9b351c12",
   "metadata": {},
   "outputs": [],
   "source": [
    "flag = False\n",
    "num=7\n",
    "\n",
    "\n",
    "if num == 1:\n",
    "    print(num, \"is not a prime number\")\n",
    "elif num > 1:\n",
    "    for i in range(2, num//2):\n",
    "        if (num % i) == 0:\n",
    "            flag = True\n",
    "            break\n",
    "            \n",
    "    if flag:\n",
    "        print(num, \"is not a prime number\")\n",
    "    else:\n",
    "        print(num, \"is a prime number\")"
   ]
  },
  {
   "cell_type": "code",
   "execution_count": 67,
   "id": "be49b3cc",
   "metadata": {},
   "outputs": [
    {
     "name": "stdout",
     "output_type": "stream",
     "text": [
      "Not a prime\n"
     ]
    }
   ],
   "source": [
    "num = 10\n",
    "\n",
    "\n",
    "for i in range(2 , num//2):\n",
    "    if num %i==0:\n",
    "        print('Not a prime')\n",
    "        break\n",
    "else:\n",
    "    print('Prime number')"
   ]
  },
  {
   "cell_type": "markdown",
   "id": "ba0507d1",
   "metadata": {},
   "source": [
    "# Functions Next week"
   ]
  },
  {
   "cell_type": "code",
   "execution_count": null,
   "id": "6bd0e7bc",
   "metadata": {},
   "outputs": [],
   "source": []
  }
 ],
 "metadata": {
  "kernelspec": {
   "display_name": "Python 3 (ipykernel)",
   "language": "python",
   "name": "python3"
  },
  "language_info": {
   "codemirror_mode": {
    "name": "ipython",
    "version": 3
   },
   "file_extension": ".py",
   "mimetype": "text/x-python",
   "name": "python",
   "nbconvert_exporter": "python",
   "pygments_lexer": "ipython3",
   "version": "3.11.4"
  }
 },
 "nbformat": 4,
 "nbformat_minor": 5
}
