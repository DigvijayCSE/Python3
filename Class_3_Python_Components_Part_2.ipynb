{
 "cells": [
  {
   "cell_type": "markdown",
   "id": "b11ccb45",
   "metadata": {},
   "source": [
    "# Type casting, Input function , Data type integers"
   ]
  },
  {
   "cell_type": "code",
   "execution_count": null,
   "id": "63a7f900",
   "metadata": {},
   "outputs": [],
   "source": [
    "1. fundamenta\n",
    "- int\n",
    "- float\n",
    "- bool\n",
    "- str\n",
    "- None\n",
    "- complex\n",
    "\n",
    "2. derived\n",
    "- list - [] mutable\n",
    "- tuple - () immutable\n",
    "- set - {} unique values\n",
    "- dictionary {key : value}"
   ]
  },
  {
   "cell_type": "markdown",
   "id": "b541c0a5",
   "metadata": {},
   "source": [
    "# Type casting\n",
    "\n",
    "- converting 1 data type to another\n",
    "\n",
    "int()\n",
    "float()\n",
    "complex()\n",
    "bool()\n",
    "str()\n",
    "\n",
    "- cannot type cast from complex to any other data type\n",
    "- can type cast\n",
    "- int - float\n",
    "- float to int \n",
    "- string - int if the data is int\n",
    "- string to float if the data is float\n",
    "- eval - dynamically typecast from string to any data type"
   ]
  },
  {
   "cell_type": "code",
   "execution_count": 1,
   "id": "4429e3b6",
   "metadata": {},
   "outputs": [
    {
     "name": "stdout",
     "output_type": "stream",
     "text": [
      "34 <class 'int'>\n"
     ]
    }
   ],
   "source": [
    "a = 34\n",
    "\n",
    "print(a , type(a))"
   ]
  },
  {
   "cell_type": "code",
   "execution_count": 2,
   "id": "60ba771a",
   "metadata": {},
   "outputs": [
    {
     "name": "stdout",
     "output_type": "stream",
     "text": [
      "34.0 <class 'float'>\n"
     ]
    }
   ],
   "source": [
    "# Method 1\n",
    "\n",
    "a = float(34)\n",
    "\n",
    "print(a , type(a))"
   ]
  },
  {
   "cell_type": "code",
   "execution_count": 3,
   "id": "bb856e39",
   "metadata": {},
   "outputs": [
    {
     "data": {
      "text/plain": [
       "34.0"
      ]
     },
     "execution_count": 3,
     "metadata": {},
     "output_type": "execute_result"
    }
   ],
   "source": [
    "a"
   ]
  },
  {
   "cell_type": "code",
   "execution_count": 4,
   "id": "b3db3aed",
   "metadata": {},
   "outputs": [
    {
     "name": "stdout",
     "output_type": "stream",
     "text": [
      "34.0 <class 'float'>\n"
     ]
    }
   ],
   "source": [
    "# Method 2\n",
    "\n",
    "a = 34\n",
    "\n",
    "print(float(a) , type(float(a)))"
   ]
  },
  {
   "cell_type": "code",
   "execution_count": 5,
   "id": "5cb202c1",
   "metadata": {},
   "outputs": [
    {
     "data": {
      "text/plain": [
       "34"
      ]
     },
     "execution_count": 5,
     "metadata": {},
     "output_type": "execute_result"
    }
   ],
   "source": [
    "a"
   ]
  },
  {
   "cell_type": "code",
   "execution_count": 16,
   "id": "f4dc6ef7",
   "metadata": {},
   "outputs": [
    {
     "name": "stdout",
     "output_type": "stream",
     "text": [
      "34.0 <class 'float'>\n"
     ]
    }
   ],
   "source": [
    "a = float(34)\n",
    "\n",
    "print(a , type(a))"
   ]
  },
  {
   "cell_type": "code",
   "execution_count": 17,
   "id": "a630eb43",
   "metadata": {},
   "outputs": [
    {
     "name": "stdout",
     "output_type": "stream",
     "text": [
      "56 <class 'int'>\n"
     ]
    }
   ],
   "source": [
    "a = int(56.34)\n",
    "\n",
    "print(a , type(a))"
   ]
  },
  {
   "cell_type": "code",
   "execution_count": 18,
   "id": "75a36d1d",
   "metadata": {},
   "outputs": [
    {
     "name": "stdout",
     "output_type": "stream",
     "text": [
      "56 <class 'int'>\n"
     ]
    }
   ],
   "source": [
    "a = int(56.9999)\n",
    "\n",
    "print(a , type(a))"
   ]
  },
  {
   "cell_type": "code",
   "execution_count": 19,
   "id": "033217b0",
   "metadata": {},
   "outputs": [
    {
     "name": "stdout",
     "output_type": "stream",
     "text": [
      "57 <class 'int'>\n"
     ]
    }
   ],
   "source": [
    "a = round(56.9999)\n",
    "\n",
    "print(a , type(a))"
   ]
  },
  {
   "cell_type": "code",
   "execution_count": 20,
   "id": "4050b0bb",
   "metadata": {},
   "outputs": [
    {
     "name": "stdout",
     "output_type": "stream",
     "text": [
      "(34+0j) <class 'complex'>\n"
     ]
    }
   ],
   "source": [
    "a = complex(34)\n",
    "\n",
    "print(a , type(a))"
   ]
  },
  {
   "cell_type": "code",
   "execution_count": 21,
   "id": "f98209e2",
   "metadata": {},
   "outputs": [
    {
     "name": "stdout",
     "output_type": "stream",
     "text": [
      "(34.54+0j) <class 'complex'>\n"
     ]
    }
   ],
   "source": [
    "a = complex(34.54)\n",
    "\n",
    "print(a , type(a))"
   ]
  },
  {
   "cell_type": "code",
   "execution_count": 24,
   "id": "29d3133f",
   "metadata": {},
   "outputs": [
    {
     "ename": "TypeError",
     "evalue": "int() argument must be a string, a bytes-like object or a real number, not 'complex'",
     "output_type": "error",
     "traceback": [
      "\u001b[1;31m---------------------------------------------------------------------------\u001b[0m",
      "\u001b[1;31mTypeError\u001b[0m                                 Traceback (most recent call last)",
      "Cell \u001b[1;32mIn[24], line 1\u001b[0m\n\u001b[1;32m----> 1\u001b[0m a \u001b[38;5;241m=\u001b[39m \u001b[38;5;28mint\u001b[39m(\u001b[38;5;241m43\u001b[39m\u001b[38;5;241m+\u001b[39m\u001b[38;5;241m0\u001b[39mj)\n\u001b[0;32m      3\u001b[0m \u001b[38;5;28mprint\u001b[39m(a , \u001b[38;5;28mtype\u001b[39m(a))\n",
      "\u001b[1;31mTypeError\u001b[0m: int() argument must be a string, a bytes-like object or a real number, not 'complex'"
     ]
    }
   ],
   "source": [
    "a = int(43+0j)\n",
    "\n",
    "print(a , type(a))"
   ]
  },
  {
   "cell_type": "code",
   "execution_count": 25,
   "id": "25b49d7b",
   "metadata": {},
   "outputs": [
    {
     "ename": "TypeError",
     "evalue": "float() argument must be a string or a real number, not 'complex'",
     "output_type": "error",
     "traceback": [
      "\u001b[1;31m---------------------------------------------------------------------------\u001b[0m",
      "\u001b[1;31mTypeError\u001b[0m                                 Traceback (most recent call last)",
      "Cell \u001b[1;32mIn[25], line 1\u001b[0m\n\u001b[1;32m----> 1\u001b[0m a \u001b[38;5;241m=\u001b[39m \u001b[38;5;28mfloat\u001b[39m(\u001b[38;5;241m43\u001b[39m\u001b[38;5;241m+\u001b[39m\u001b[38;5;241m0\u001b[39mj)\n\u001b[0;32m      3\u001b[0m \u001b[38;5;28mprint\u001b[39m(a , \u001b[38;5;28mtype\u001b[39m(a))\n",
      "\u001b[1;31mTypeError\u001b[0m: float() argument must be a string or a real number, not 'complex'"
     ]
    }
   ],
   "source": [
    "a = float(43+0j)\n",
    "\n",
    "print(a , type(a))"
   ]
  },
  {
   "cell_type": "code",
   "execution_count": 26,
   "id": "1c64a184",
   "metadata": {},
   "outputs": [
    {
     "name": "stdout",
     "output_type": "stream",
     "text": [
      "56 <class 'str'>\n"
     ]
    }
   ],
   "source": [
    "a = str(56)\n",
    "\n",
    "print(a , type(a))"
   ]
  },
  {
   "cell_type": "code",
   "execution_count": 28,
   "id": "29235202",
   "metadata": {},
   "outputs": [
    {
     "name": "stdout",
     "output_type": "stream",
     "text": [
      "87 <class 'int'>\n"
     ]
    }
   ],
   "source": [
    "a = int('87')\n",
    "\n",
    "print(a , type(a))"
   ]
  },
  {
   "cell_type": "code",
   "execution_count": 29,
   "id": "6f29e608",
   "metadata": {},
   "outputs": [
    {
     "ename": "ValueError",
     "evalue": "invalid literal for int() with base 10: '87abc76'",
     "output_type": "error",
     "traceback": [
      "\u001b[1;31m---------------------------------------------------------------------------\u001b[0m",
      "\u001b[1;31mValueError\u001b[0m                                Traceback (most recent call last)",
      "Cell \u001b[1;32mIn[29], line 1\u001b[0m\n\u001b[1;32m----> 1\u001b[0m a \u001b[38;5;241m=\u001b[39m \u001b[38;5;28mint\u001b[39m(\u001b[38;5;124m'\u001b[39m\u001b[38;5;124m87abc76\u001b[39m\u001b[38;5;124m'\u001b[39m)\n\u001b[0;32m      3\u001b[0m \u001b[38;5;28mprint\u001b[39m(a , \u001b[38;5;28mtype\u001b[39m(a))\n",
      "\u001b[1;31mValueError\u001b[0m: invalid literal for int() with base 10: '87abc76'"
     ]
    }
   ],
   "source": [
    "a = int('87abc76')\n",
    "\n",
    "print(a , type(a))"
   ]
  },
  {
   "cell_type": "code",
   "execution_count": 30,
   "id": "4a3783d1",
   "metadata": {},
   "outputs": [
    {
     "ename": "ValueError",
     "evalue": "invalid literal for int() with base 10: '87.65'",
     "output_type": "error",
     "traceback": [
      "\u001b[1;31m---------------------------------------------------------------------------\u001b[0m",
      "\u001b[1;31mValueError\u001b[0m                                Traceback (most recent call last)",
      "Cell \u001b[1;32mIn[30], line 1\u001b[0m\n\u001b[1;32m----> 1\u001b[0m a \u001b[38;5;241m=\u001b[39m \u001b[38;5;28mint\u001b[39m(\u001b[38;5;124m'\u001b[39m\u001b[38;5;124m87.65\u001b[39m\u001b[38;5;124m'\u001b[39m)\n\u001b[0;32m      3\u001b[0m \u001b[38;5;28mprint\u001b[39m(a , \u001b[38;5;28mtype\u001b[39m(a))\n",
      "\u001b[1;31mValueError\u001b[0m: invalid literal for int() with base 10: '87.65'"
     ]
    }
   ],
   "source": [
    "a = int('87.65')\n",
    "\n",
    "print(a , type(a))"
   ]
  },
  {
   "cell_type": "code",
   "execution_count": 31,
   "id": "2a7faf68",
   "metadata": {},
   "outputs": [
    {
     "name": "stdout",
     "output_type": "stream",
     "text": [
      "87.65 <class 'float'>\n"
     ]
    }
   ],
   "source": [
    "a = float('87.65')\n",
    "\n",
    "print(a , type(a))"
   ]
  },
  {
   "cell_type": "code",
   "execution_count": 35,
   "id": "c44bbfd3",
   "metadata": {},
   "outputs": [
    {
     "name": "stdout",
     "output_type": "stream",
     "text": [
      "123 <class 'int'>\n"
     ]
    }
   ],
   "source": [
    "a = int(float('123.94359'))\n",
    "\n",
    "print(a , type(a))"
   ]
  },
  {
   "cell_type": "code",
   "execution_count": 36,
   "id": "0e43e649",
   "metadata": {},
   "outputs": [
    {
     "name": "stdout",
     "output_type": "stream",
     "text": [
      "76 <class 'int'>\n"
     ]
    }
   ],
   "source": [
    "a = int('76')\n",
    "\n",
    "print(a , type(a))"
   ]
  },
  {
   "cell_type": "code",
   "execution_count": 37,
   "id": "b5823428",
   "metadata": {},
   "outputs": [
    {
     "ename": "ValueError",
     "evalue": "invalid literal for int() with base 10: '76.867'",
     "output_type": "error",
     "traceback": [
      "\u001b[1;31m---------------------------------------------------------------------------\u001b[0m",
      "\u001b[1;31mValueError\u001b[0m                                Traceback (most recent call last)",
      "Cell \u001b[1;32mIn[37], line 1\u001b[0m\n\u001b[1;32m----> 1\u001b[0m a \u001b[38;5;241m=\u001b[39m \u001b[38;5;28mint\u001b[39m(\u001b[38;5;124m'\u001b[39m\u001b[38;5;124m76.867\u001b[39m\u001b[38;5;124m'\u001b[39m)\n\u001b[0;32m      3\u001b[0m \u001b[38;5;28mprint\u001b[39m(a , \u001b[38;5;28mtype\u001b[39m(a))\n",
      "\u001b[1;31mValueError\u001b[0m: invalid literal for int() with base 10: '76.867'"
     ]
    }
   ],
   "source": [
    "a = int('76.867')\n",
    "\n",
    "print(a , type(a))"
   ]
  },
  {
   "cell_type": "code",
   "execution_count": 38,
   "id": "db74da05",
   "metadata": {},
   "outputs": [
    {
     "name": "stdout",
     "output_type": "stream",
     "text": [
      "76.867 <class 'float'>\n"
     ]
    }
   ],
   "source": [
    "a = float('76.867')\n",
    "\n",
    "print(a , type(a))"
   ]
  },
  {
   "cell_type": "markdown",
   "id": "b77bbf13",
   "metadata": {},
   "source": [
    "# Eval"
   ]
  },
  {
   "cell_type": "code",
   "execution_count": 43,
   "id": "c155d16c",
   "metadata": {},
   "outputs": [
    {
     "name": "stdout",
     "output_type": "stream",
     "text": [
      "76 <class 'int'>\n"
     ]
    }
   ],
   "source": [
    "a = eval(\"76\")\n",
    "\n",
    "print(a , type(a))"
   ]
  },
  {
   "cell_type": "code",
   "execution_count": 40,
   "id": "85115b7a",
   "metadata": {},
   "outputs": [
    {
     "name": "stdout",
     "output_type": "stream",
     "text": [
      "76.45456 <class 'float'>\n"
     ]
    }
   ],
   "source": [
    "a = eval('76.45456')\n",
    "\n",
    "print(a , type(a))"
   ]
  },
  {
   "cell_type": "code",
   "execution_count": 41,
   "id": "b2e2b301",
   "metadata": {},
   "outputs": [
    {
     "name": "stdout",
     "output_type": "stream",
     "text": [
      "[34, 546, 67, 67, 87] <class 'list'>\n"
     ]
    }
   ],
   "source": [
    "a = eval('[34,546,67,67,87]')\n",
    "\n",
    "print(a , type(a))"
   ]
  },
  {
   "cell_type": "code",
   "execution_count": 42,
   "id": "a2c97983",
   "metadata": {},
   "outputs": [
    {
     "name": "stdout",
     "output_type": "stream",
     "text": [
      "True <class 'bool'>\n"
     ]
    }
   ],
   "source": [
    "a = eval('True')\n",
    "\n",
    "print(a , type(a))"
   ]
  },
  {
   "cell_type": "code",
   "execution_count": 44,
   "id": "14b526d1",
   "metadata": {},
   "outputs": [
    {
     "name": "stdout",
     "output_type": "stream",
     "text": [
      "76.45 <class 'float'>\n"
     ]
    }
   ],
   "source": [
    "a = eval(\"76.45\")\n",
    "\n",
    "print(a , type(a))"
   ]
  },
  {
   "cell_type": "code",
   "execution_count": 47,
   "id": "8504be37",
   "metadata": {},
   "outputs": [
    {
     "ename": "ValueError",
     "evalue": "invalid literal for int() with base 10: '7654676.567'",
     "output_type": "error",
     "traceback": [
      "\u001b[1;31m---------------------------------------------------------------------------\u001b[0m",
      "\u001b[1;31mValueError\u001b[0m                                Traceback (most recent call last)",
      "Cell \u001b[1;32mIn[47], line 1\u001b[0m\n\u001b[1;32m----> 1\u001b[0m a \u001b[38;5;241m=\u001b[39m \u001b[38;5;28mint\u001b[39m(\u001b[38;5;124m'\u001b[39m\u001b[38;5;124m7654676.567\u001b[39m\u001b[38;5;124m'\u001b[39m)\n\u001b[0;32m      3\u001b[0m \u001b[38;5;28mprint\u001b[39m(a , \u001b[38;5;28mtype\u001b[39m(a))\n",
      "\u001b[1;31mValueError\u001b[0m: invalid literal for int() with base 10: '7654676.567'"
     ]
    }
   ],
   "source": [
    "a = int('7654676.567')\n",
    "\n",
    "print(a , type(a))"
   ]
  },
  {
   "cell_type": "markdown",
   "id": "0c22b954",
   "metadata": {},
   "source": [
    "# Input function\n",
    "\n",
    "- It allows the user to enter the values\n",
    "- Input will always take it in a form of a string "
   ]
  },
  {
   "cell_type": "code",
   "execution_count": 58,
   "id": "2124eae0",
   "metadata": {},
   "outputs": [
    {
     "name": "stdout",
     "output_type": "stream",
     "text": [
      "You own message : 3245345345\n",
      "3245345345 <class 'str'>\n"
     ]
    }
   ],
   "source": [
    "a = input('You own message : ')\n",
    "\n",
    "print(a , type(a))"
   ]
  },
  {
   "cell_type": "code",
   "execution_count": 59,
   "id": "1b06f5b1",
   "metadata": {},
   "outputs": [
    {
     "data": {
      "text/plain": [
       "'3245345345'"
      ]
     },
     "execution_count": 59,
     "metadata": {},
     "output_type": "execute_result"
    }
   ],
   "source": [
    "a"
   ]
  },
  {
   "cell_type": "code",
   "execution_count": 67,
   "id": "64211fa1",
   "metadata": {},
   "outputs": [
    {
     "name": "stdout",
     "output_type": "stream",
     "text": [
      "Enter the first number : 10\n",
      "Enter the second  number : 20.5\n"
     ]
    },
    {
     "data": {
      "text/plain": [
       "30.5"
      ]
     },
     "execution_count": 67,
     "metadata": {},
     "output_type": "execute_result"
    }
   ],
   "source": [
    "a = eval(input('Enter the first number : '))\n",
    "b = eval(input('Enter the second  number : '))\n",
    "\n",
    "a+b"
   ]
  },
  {
   "cell_type": "code",
   "execution_count": 64,
   "id": "588879e0",
   "metadata": {},
   "outputs": [
    {
     "ename": "ValueError",
     "evalue": "invalid literal for int() with base 10: '762.3'",
     "output_type": "error",
     "traceback": [
      "\u001b[1;31m---------------------------------------------------------------------------\u001b[0m",
      "\u001b[1;31mValueError\u001b[0m                                Traceback (most recent call last)",
      "Cell \u001b[1;32mIn[64], line 1\u001b[0m\n\u001b[1;32m----> 1\u001b[0m \u001b[38;5;28mint\u001b[39m(\u001b[38;5;124m'\u001b[39m\u001b[38;5;124m762.3\u001b[39m\u001b[38;5;124m'\u001b[39m)\n",
      "\u001b[1;31mValueError\u001b[0m: invalid literal for int() with base 10: '762.3'"
     ]
    }
   ],
   "source": [
    "int('762.3')"
   ]
  },
  {
   "cell_type": "code",
   "execution_count": 70,
   "id": "7c3bc597",
   "metadata": {},
   "outputs": [
    {
     "name": "stdout",
     "output_type": "stream",
     "text": [
      "Enter first name xyz\n",
      "Enter second name abc\n",
      "xyz--->abc\n"
     ]
    }
   ],
   "source": [
    "a = input('Enter first name ')\n",
    "\n",
    "b = input('Enter second name ')\n",
    "\n",
    "print(a+'--->'+b) # Concatination"
   ]
  },
  {
   "cell_type": "code",
   "execution_count": 78,
   "id": "b110caa8",
   "metadata": {},
   "outputs": [
    {
     "data": {
      "text/plain": [
       "'abc35'"
      ]
     },
     "execution_count": 78,
     "metadata": {},
     "output_type": "execute_result"
    }
   ],
   "source": [
    "'abc' + str(35)"
   ]
  },
  {
   "cell_type": "code",
   "execution_count": 80,
   "id": "45771e92",
   "metadata": {},
   "outputs": [
    {
     "name": "stdout",
     "output_type": "stream",
     "text": [
      "Enter the first number : 10\n",
      "Enter the second  number : 20\n",
      "The addition of 10 & 20 = 30\n"
     ]
    }
   ],
   "source": [
    "a = eval(input('Enter the first number : '))\n",
    "b = eval(input('Enter the second  number : '))\n",
    "\n",
    "c = 'The addition of '+str(a)+' & '+str(b)+' = '+str(a+b)\n",
    "\n",
    "print(c)"
   ]
  },
  {
   "cell_type": "code",
   "execution_count": 1,
   "id": "05cd9a16",
   "metadata": {},
   "outputs": [
    {
     "name": "stdout",
     "output_type": "stream",
     "text": [
      "Enter first name xyz\n",
      "Enter second name abc\n",
      "My first name is xyz, and my second name is abc\n"
     ]
    }
   ],
   "source": [
    "a = input('Enter first name ')\n",
    "\n",
    "b = input('Enter second name ')\n",
    "\n",
    "print('My first name is '+a+', and my second name is '+b)"
   ]
  },
  {
   "cell_type": "markdown",
   "id": "16b33ff3",
   "metadata": {},
   "source": [
    "# Format string"
   ]
  },
  {
   "cell_type": "code",
   "execution_count": 4,
   "id": "65471908",
   "metadata": {},
   "outputs": [
    {
     "name": "stdout",
     "output_type": "stream",
     "text": [
      "Enter the first number : 10\n",
      "Enter the second  number : 20\n",
      "The addition of 10 & 20 = 30\n"
     ]
    }
   ],
   "source": [
    "a = eval(input('Enter the first number : '))\n",
    "b = eval(input('Enter the second  number : '))\n",
    "\n",
    "c = 'The addition of '+str(a)+' & '+str(b)+' = '+str(a+b) # Concatination\n",
    "\n",
    "print(c)"
   ]
  },
  {
   "cell_type": "code",
   "execution_count": 3,
   "id": "2c547019",
   "metadata": {},
   "outputs": [
    {
     "data": {
      "text/plain": [
       "'abc43'"
      ]
     },
     "execution_count": 3,
     "metadata": {},
     "output_type": "execute_result"
    }
   ],
   "source": [
    "'abc' + str(43)"
   ]
  },
  {
   "cell_type": "code",
   "execution_count": 5,
   "id": "a50eaad2",
   "metadata": {},
   "outputs": [
    {
     "name": "stdout",
     "output_type": "stream",
     "text": [
      "Enter the first number : 10\n",
      "Enter the second  number : 20\n",
      "The addition of 10 & 20 = 30\n"
     ]
    }
   ],
   "source": [
    "# method 1\n",
    "\n",
    "a = eval(input('Enter the first number : '))\n",
    "b = eval(input('Enter the second  number : '))\n",
    "\n",
    "c = 'The addition of {} & {} = {}'.format(a,b , a+b) \n",
    "\n",
    "print(c)"
   ]
  },
  {
   "cell_type": "code",
   "execution_count": 6,
   "id": "745e6e00",
   "metadata": {},
   "outputs": [
    {
     "name": "stdout",
     "output_type": "stream",
     "text": [
      "Enter the first number : 10\n",
      "Enter the second  number : 20\n",
      "The addition of 10 & 20 = 30\n"
     ]
    }
   ],
   "source": [
    "# method 2\n",
    "\n",
    "a = eval(input('Enter the first number : '))\n",
    "b = eval(input('Enter the second  number : '))\n",
    "\n",
    "c = f'The addition of {a} & {b} = {a+b}'\n",
    "\n",
    "print(c)"
   ]
  },
  {
   "cell_type": "code",
   "execution_count": 7,
   "id": "bead6a05",
   "metadata": {},
   "outputs": [
    {
     "name": "stdout",
     "output_type": "stream",
     "text": [
      "Enter first name xyz\n",
      "Enter second name abc\n",
      "My first name is xyz, and my second name is abc\n"
     ]
    }
   ],
   "source": [
    "a = input('Enter first name ')\n",
    "\n",
    "b = input('Enter second name ')\n",
    "\n",
    "print('My first name is '+a+', and my second name is '+b)"
   ]
  },
  {
   "cell_type": "code",
   "execution_count": 8,
   "id": "25cf2c03",
   "metadata": {},
   "outputs": [
    {
     "name": "stdout",
     "output_type": "stream",
     "text": [
      "Enter first name xyz\n",
      "Enter second name abc\n",
      "My first name is xyz, and my second name is abc\n"
     ]
    }
   ],
   "source": [
    "a = input('Enter first name ')\n",
    "\n",
    "b = input('Enter second name ')\n",
    "\n",
    "print(f'My first name is {a}, and my second name is {b}')"
   ]
  },
  {
   "cell_type": "markdown",
   "id": "87ab90e6",
   "metadata": {},
   "source": [
    "# Output function\n",
    "\n",
    "- print"
   ]
  },
  {
   "cell_type": "code",
   "execution_count": 18,
   "id": "aa176980",
   "metadata": {},
   "outputs": [
    {
     "name": "stdout",
     "output_type": "stream",
     "text": [
      "10\n",
      "20\n"
     ]
    }
   ],
   "source": [
    "a = 10\n",
    "b = 20\n",
    "\n",
    "print(a)\n",
    "print(b)"
   ]
  },
  {
   "cell_type": "code",
   "execution_count": 19,
   "id": "fec2323b",
   "metadata": {},
   "outputs": [
    {
     "name": "stdout",
     "output_type": "stream",
     "text": [
      "10 20\n"
     ]
    }
   ],
   "source": [
    "a = 10\n",
    "b = 20\n",
    "\n",
    "print(a,b)"
   ]
  },
  {
   "cell_type": "code",
   "execution_count": null,
   "id": "402e932b",
   "metadata": {},
   "outputs": [],
   "source": [
    "sep=' ', end='\\n'"
   ]
  },
  {
   "cell_type": "code",
   "execution_count": 21,
   "id": "01c56b8f",
   "metadata": {},
   "outputs": [
    {
     "name": "stdout",
     "output_type": "stream",
     "text": [
      "10-->20-->30\n"
     ]
    }
   ],
   "source": [
    "a = 10\n",
    "b = 20\n",
    "c = 30\n",
    "\n",
    "print(a,b,c , sep ='-->')"
   ]
  },
  {
   "cell_type": "code",
   "execution_count": 22,
   "id": "53bef044",
   "metadata": {},
   "outputs": [
    {
     "name": "stdout",
     "output_type": "stream",
     "text": [
      "10**20**30\n"
     ]
    }
   ],
   "source": [
    "a = 10\n",
    "b = 20\n",
    "c = 30\n",
    "\n",
    "print(a,b,c , sep ='**')"
   ]
  },
  {
   "cell_type": "code",
   "execution_count": 23,
   "id": "199a19ee",
   "metadata": {},
   "outputs": [
    {
     "name": "stdout",
     "output_type": "stream",
     "text": [
      "10\n"
     ]
    }
   ],
   "source": [
    "a = 10\n",
    "b = 20\n",
    "c = 30\n",
    "\n",
    "print(a , sep ='**')"
   ]
  },
  {
   "cell_type": "code",
   "execution_count": 29,
   "id": "bf0d23c9",
   "metadata": {},
   "outputs": [
    {
     "name": "stdout",
     "output_type": "stream",
     "text": [
      "10**20\n",
      "30\n"
     ]
    }
   ],
   "source": [
    "a = 10\n",
    "b = 20\n",
    "c = 30\n",
    "\n",
    "print(a , end = '**')\n",
    "print(b)\n",
    "print(c)"
   ]
  },
  {
   "cell_type": "code",
   "execution_count": null,
   "id": "115c5fb2",
   "metadata": {},
   "outputs": [],
   "source": [
    "10**20\n",
    "30"
   ]
  },
  {
   "cell_type": "code",
   "execution_count": 25,
   "id": "66baf1b6",
   "metadata": {},
   "outputs": [
    {
     "name": "stdout",
     "output_type": "stream",
     "text": [
      "hello\n",
      "world\n"
     ]
    }
   ],
   "source": [
    "a = 'hello\\nworld'\n",
    "\n",
    "print(a)"
   ]
  },
  {
   "cell_type": "code",
   "execution_count": 30,
   "id": "6351560b",
   "metadata": {},
   "outputs": [
    {
     "name": "stdout",
     "output_type": "stream",
     "text": [
      "abc xyz\n"
     ]
    }
   ],
   "source": [
    "a = 'abc'\n",
    "b = 'xyz'\n",
    "\n",
    "c = a + ' ' + b\n",
    "\n",
    "print(c)"
   ]
  },
  {
   "cell_type": "code",
   "execution_count": 33,
   "id": "5e458c39",
   "metadata": {},
   "outputs": [
    {
     "name": "stdout",
     "output_type": "stream",
     "text": [
      "abc,xyz\n"
     ]
    }
   ],
   "source": [
    "a = 'abc'\n",
    "b = 'xyz'\n",
    "\n",
    "c = print(a,b , sep = ',')"
   ]
  },
  {
   "cell_type": "code",
   "execution_count": 36,
   "id": "6639d220",
   "metadata": {},
   "outputs": [
    {
     "name": "stdout",
     "output_type": "stream",
     "text": [
      "10+++20---30\n",
      "40\n",
      "10&&&20&&&50%%%"
     ]
    }
   ],
   "source": [
    "a = 10\n",
    "b = 20\n",
    "c = 30\n",
    "d = 40\n",
    "e = 50\n",
    "\n",
    "print(a,b , sep = '+++' , end='---')\n",
    "print(c , end='\\n')\n",
    "print(d , sep = '###')\n",
    "print(a,b,e , sep = '&&&', end = '%%%')"
   ]
  },
  {
   "cell_type": "code",
   "execution_count": null,
   "id": "39bc812c",
   "metadata": {},
   "outputs": [],
   "source": [
    "10+++20---30\n",
    "40###10&&&20&&&50%%%\n",
    "\n",
    "10+++20---30\n",
    "40\n",
    "10&&&20&&&50%%%"
   ]
  },
  {
   "cell_type": "markdown",
   "id": "6dd08189",
   "metadata": {},
   "source": [
    "# Integer data type"
   ]
  },
  {
   "cell_type": "code",
   "execution_count": 45,
   "id": "0e338d5c",
   "metadata": {},
   "outputs": [
    {
     "name": "stdout",
     "output_type": "stream",
     "text": [
      "45 <class 'int'>\n"
     ]
    }
   ],
   "source": [
    "a = 45\n",
    "\n",
    "print(a, type(a))"
   ]
  },
  {
   "cell_type": "markdown",
   "id": "6f0f7551",
   "metadata": {},
   "source": [
    "# Operations to be performed on integer"
   ]
  },
  {
   "cell_type": "code",
   "execution_count": null,
   "id": "357b8aba",
   "metadata": {},
   "outputs": [],
   "source": [
    "## Arithmetic operation\n",
    "\n",
    "+ , - , * , /(Float division) , ** (exponent) , // (Floor division) , % (Modulo)"
   ]
  },
  {
   "cell_type": "code",
   "execution_count": 46,
   "id": "3ab92ce6",
   "metadata": {},
   "outputs": [
    {
     "name": "stdout",
     "output_type": "stream",
     "text": [
      "88\n"
     ]
    }
   ],
   "source": [
    "a = 23\n",
    "b = 65\n",
    "\n",
    "print(a + b)"
   ]
  },
  {
   "cell_type": "code",
   "execution_count": 47,
   "id": "9b295dbb",
   "metadata": {},
   "outputs": [
    {
     "name": "stdout",
     "output_type": "stream",
     "text": [
      "-42\n"
     ]
    }
   ],
   "source": [
    "a = 23\n",
    "b = 65\n",
    "\n",
    "print(a - b)"
   ]
  },
  {
   "cell_type": "code",
   "execution_count": 48,
   "id": "62d7f55a",
   "metadata": {},
   "outputs": [
    {
     "name": "stdout",
     "output_type": "stream",
     "text": [
      "1495\n"
     ]
    }
   ],
   "source": [
    "a = 23\n",
    "b = 65\n",
    "\n",
    "print(a * b)"
   ]
  },
  {
   "cell_type": "code",
   "execution_count": 49,
   "id": "13a2db9e",
   "metadata": {},
   "outputs": [
    {
     "name": "stdout",
     "output_type": "stream",
     "text": [
      "2.2\n"
     ]
    }
   ],
   "source": [
    "a = 11\n",
    "b = 5\n",
    "\n",
    "print(a / b)"
   ]
  },
  {
   "cell_type": "code",
   "execution_count": 50,
   "id": "dfdaefb4",
   "metadata": {},
   "outputs": [
    {
     "name": "stdout",
     "output_type": "stream",
     "text": [
      "2.0\n"
     ]
    }
   ],
   "source": [
    "a = 10\n",
    "b = 5\n",
    "\n",
    "print(a / b)"
   ]
  },
  {
   "cell_type": "code",
   "execution_count": 51,
   "id": "9847163d",
   "metadata": {},
   "outputs": [
    {
     "name": "stdout",
     "output_type": "stream",
     "text": [
      "16\n"
     ]
    }
   ],
   "source": [
    "a = 2\n",
    "b = 4\n",
    "\n",
    "print(a ** b)"
   ]
  },
  {
   "cell_type": "code",
   "execution_count": 52,
   "id": "16c4d75e",
   "metadata": {},
   "outputs": [
    {
     "name": "stdout",
     "output_type": "stream",
     "text": [
      "2.2\n"
     ]
    }
   ],
   "source": [
    "a = 11\n",
    "b = 5\n",
    "\n",
    "print(a / b)"
   ]
  },
  {
   "cell_type": "code",
   "execution_count": null,
   "id": "533f33c2",
   "metadata": {},
   "outputs": [],
   "source": [
    "floor value                      exact value                   cieling value\n",
    "\n",
    "      2                              2.2                           3"
   ]
  },
  {
   "cell_type": "code",
   "execution_count": 53,
   "id": "099e9abb",
   "metadata": {},
   "outputs": [
    {
     "name": "stdout",
     "output_type": "stream",
     "text": [
      "2\n"
     ]
    }
   ],
   "source": [
    "a = 11\n",
    "b = 5\n",
    "\n",
    "print(a // b)"
   ]
  },
  {
   "cell_type": "code",
   "execution_count": 54,
   "id": "3ad65f9c",
   "metadata": {},
   "outputs": [
    {
     "name": "stdout",
     "output_type": "stream",
     "text": [
      "1.8\n"
     ]
    }
   ],
   "source": [
    "a = 9\n",
    "b = 5\n",
    "\n",
    "print(a / b)"
   ]
  },
  {
   "cell_type": "code",
   "execution_count": null,
   "id": "f6314c19",
   "metadata": {},
   "outputs": [],
   "source": [
    "floor value                      exact value                   cieling value\n",
    "\n",
    "      1                              1.8                           2"
   ]
  },
  {
   "cell_type": "code",
   "execution_count": 58,
   "id": "2b170c44",
   "metadata": {},
   "outputs": [
    {
     "name": "stdout",
     "output_type": "stream",
     "text": [
      "Floor :  1\n",
      "Exact :  1.8\n",
      "Round :  2\n"
     ]
    }
   ],
   "source": [
    "a = 9\n",
    "b = 5\n",
    "\n",
    "print('Floor : ' , a // b)\n",
    "print('Exact : ' , a / b)\n",
    "print('Round : ' , round(a / b))"
   ]
  },
  {
   "cell_type": "code",
   "execution_count": 63,
   "id": "ef81be1a",
   "metadata": {},
   "outputs": [
    {
     "name": "stdout",
     "output_type": "stream",
     "text": [
      "Exact :  7.666666666666667\n",
      "Floor :  7\n",
      "Round :  8\n"
     ]
    }
   ],
   "source": [
    "a = 69\n",
    "b = 9\n",
    "\n",
    "\n",
    "print('Exact : ' , a / b)\n",
    "\n",
    "print('Floor : ' , a // b)\n",
    "\n",
    "print('Round : ' , round(a / b))"
   ]
  },
  {
   "cell_type": "code",
   "execution_count": 70,
   "id": "ef8df6ad",
   "metadata": {},
   "outputs": [
    {
     "name": "stdout",
     "output_type": "stream",
     "text": [
      "Exact :  5.3076923076923075\n",
      "Floor :  5\n",
      "Round :  5\n"
     ]
    }
   ],
   "source": [
    "a = 69\n",
    "b = 13\n",
    "\n",
    "\n",
    "print('Exact : ' , a / b)\n",
    "\n",
    "print('Floor : ' , a // b)\n",
    "\n",
    "print('Round : ' , round(a / b))"
   ]
  },
  {
   "cell_type": "code",
   "execution_count": 72,
   "id": "65382ff7",
   "metadata": {},
   "outputs": [
    {
     "name": "stdout",
     "output_type": "stream",
     "text": [
      "Exact :  5.3076923076923075\n",
      "Floor :  5\n",
      "Round :  5\n",
      "Ciel :  6\n"
     ]
    }
   ],
   "source": [
    "a = 69\n",
    "b = 13\n",
    "\n",
    "import math\n",
    "\n",
    "print('Exact : ' , a / b)\n",
    "\n",
    "print('Floor : ' , a // b)\n",
    "\n",
    "print('Round : ' , round(a / b))\n",
    "\n",
    "print('Ciel : ' , math.ceil(a/b))"
   ]
  },
  {
   "cell_type": "code",
   "execution_count": null,
   "id": "6f2072ef",
   "metadata": {},
   "outputs": [],
   "source": [
    "a = 69\n",
    "b = 13\n",
    "\n",
    "import math\n",
    "\n",
    "print('Exact : ' , a / b)\n",
    "\n",
    "print('Floor : ' , a // b)\n",
    "\n",
    "print('Round : ' , round(a / b))\n",
    "\n",
    "print('Ciel : ' , math.ceil(a/b))"
   ]
  },
  {
   "cell_type": "code",
   "execution_count": 73,
   "id": "23a4f149",
   "metadata": {},
   "outputs": [
    {
     "name": "stdout",
     "output_type": "stream",
     "text": [
      "5.3076923076923075\n"
     ]
    }
   ],
   "source": [
    "a = 69\n",
    "b = 13\n",
    "\n",
    "print(a / b)"
   ]
  },
  {
   "cell_type": "code",
   "execution_count": 76,
   "id": "1ae666d6",
   "metadata": {},
   "outputs": [
    {
     "data": {
      "text/plain": [
       "5.3077"
      ]
     },
     "execution_count": 76,
     "metadata": {},
     "output_type": "execute_result"
    }
   ],
   "source": [
    "a = 69\n",
    "b = 13\n",
    "\n",
    "round(a / b , 4)"
   ]
  },
  {
   "cell_type": "code",
   "execution_count": 77,
   "id": "3525f734",
   "metadata": {},
   "outputs": [
    {
     "name": "stdout",
     "output_type": "stream",
     "text": [
      "1\n"
     ]
    }
   ],
   "source": [
    "a = 10\n",
    "b = 3\n",
    "\n",
    "print(a % b)"
   ]
  },
  {
   "cell_type": "code",
   "execution_count": 78,
   "id": "37f0c232",
   "metadata": {},
   "outputs": [
    {
     "name": "stdout",
     "output_type": "stream",
     "text": [
      "0\n"
     ]
    }
   ],
   "source": [
    "a = 5464565465475675664538\n",
    "b = 2\n",
    "\n",
    "print(a % b)"
   ]
  },
  {
   "cell_type": "code",
   "execution_count": 83,
   "id": "0cdfa569",
   "metadata": {},
   "outputs": [
    {
     "name": "stdout",
     "output_type": "stream",
     "text": [
      "Exact :  -2.75\n",
      "Floor :  -3\n",
      "Round :  -3\n",
      "Ciel :  -2\n"
     ]
    }
   ],
   "source": [
    "a = -11\n",
    "b = 4\n",
    "\n",
    "import math\n",
    "\n",
    "print('Exact : ' , a / b)\n",
    "\n",
    "print('Floor : ' , a // b)\n",
    "\n",
    "print('Round : ' , round(a / b))\n",
    "\n",
    "print('Ciel : ' , math.ceil(a/b))"
   ]
  },
  {
   "cell_type": "code",
   "execution_count": null,
   "id": "725592ce",
   "metadata": {},
   "outputs": [],
   "source": [
    "floor value                      exact value                   cieling value\n",
    "\n",
    "      -3                             -2.75                          -2"
   ]
  },
  {
   "cell_type": "markdown",
   "id": "4dcf573e",
   "metadata": {},
   "source": [
    "# Comparision operators\n",
    "\n",
    "  < , >= , <= , >\n",
    "\n",
    "- output will always be bool\n",
    "- can be performed on number (int , float)\n",
    "- cannot be performed on string to an number\n",
    "- can be performed on string to string (ascci values will be compared in the backend)\n",
    "- cannot perform onm complex\n",
    "- can be performed on bool\n",
    "- cannnot be performed on None"
   ]
  },
  {
   "cell_type": "code",
   "execution_count": 84,
   "id": "00fdfac9",
   "metadata": {},
   "outputs": [
    {
     "name": "stdout",
     "output_type": "stream",
     "text": [
      "False\n"
     ]
    }
   ],
   "source": [
    "a = 29\n",
    "b = 34\n",
    "\n",
    "\n",
    "print(a > b)"
   ]
  },
  {
   "cell_type": "code",
   "execution_count": 85,
   "id": "f0272beb",
   "metadata": {},
   "outputs": [
    {
     "name": "stdout",
     "output_type": "stream",
     "text": [
      "True\n"
     ]
    }
   ],
   "source": [
    "a = 29\n",
    "b = 34\n",
    "\n",
    "\n",
    "print(a < b)"
   ]
  },
  {
   "cell_type": "code",
   "execution_count": 86,
   "id": "0e598a8f",
   "metadata": {},
   "outputs": [
    {
     "name": "stdout",
     "output_type": "stream",
     "text": [
      "False\n"
     ]
    }
   ],
   "source": [
    "a = 29\n",
    "b = 29\n",
    "\n",
    "\n",
    "print(a > b)"
   ]
  },
  {
   "cell_type": "code",
   "execution_count": 87,
   "id": "a956b767",
   "metadata": {},
   "outputs": [
    {
     "name": "stdout",
     "output_type": "stream",
     "text": [
      "True\n"
     ]
    }
   ],
   "source": [
    "a = 29\n",
    "b = 29\n",
    "\n",
    "\n",
    "print(a >= b)"
   ]
  },
  {
   "cell_type": "code",
   "execution_count": 88,
   "id": "62caf3e9",
   "metadata": {},
   "outputs": [
    {
     "name": "stdout",
     "output_type": "stream",
     "text": [
      "False\n"
     ]
    }
   ],
   "source": [
    "a = 29\n",
    "b = 29.65\n",
    "\n",
    "\n",
    "print(a > b)"
   ]
  },
  {
   "cell_type": "code",
   "execution_count": 91,
   "id": "7811c797",
   "metadata": {},
   "outputs": [
    {
     "ename": "TypeError",
     "evalue": "'>' not supported between instances of 'int' and 'str'",
     "output_type": "error",
     "traceback": [
      "\u001b[1;31m---------------------------------------------------------------------------\u001b[0m",
      "\u001b[1;31mTypeError\u001b[0m                                 Traceback (most recent call last)",
      "Cell \u001b[1;32mIn[91], line 5\u001b[0m\n\u001b[0;32m      1\u001b[0m a \u001b[38;5;241m=\u001b[39m \u001b[38;5;241m29\u001b[39m\n\u001b[0;32m      2\u001b[0m b \u001b[38;5;241m=\u001b[39m \u001b[38;5;124m'\u001b[39m\u001b[38;5;124mabc\u001b[39m\u001b[38;5;124m'\u001b[39m\n\u001b[1;32m----> 5\u001b[0m \u001b[38;5;28mprint\u001b[39m(a \u001b[38;5;241m>\u001b[39m b)\n",
      "\u001b[1;31mTypeError\u001b[0m: '>' not supported between instances of 'int' and 'str'"
     ]
    }
   ],
   "source": [
    "a = 29\n",
    "b = 'abc'\n",
    "\n",
    "\n",
    "print(a > b)"
   ]
  },
  {
   "cell_type": "code",
   "execution_count": 92,
   "id": "031f261f",
   "metadata": {},
   "outputs": [
    {
     "ename": "TypeError",
     "evalue": "'>' not supported between instances of 'int' and 'str'",
     "output_type": "error",
     "traceback": [
      "\u001b[1;31m---------------------------------------------------------------------------\u001b[0m",
      "\u001b[1;31mTypeError\u001b[0m                                 Traceback (most recent call last)",
      "Cell \u001b[1;32mIn[92], line 5\u001b[0m\n\u001b[0;32m      1\u001b[0m a \u001b[38;5;241m=\u001b[39m \u001b[38;5;241m29\u001b[39m\n\u001b[0;32m      2\u001b[0m b \u001b[38;5;241m=\u001b[39m \u001b[38;5;124m'\u001b[39m\u001b[38;5;124m10\u001b[39m\u001b[38;5;124m'\u001b[39m\n\u001b[1;32m----> 5\u001b[0m \u001b[38;5;28mprint\u001b[39m(a \u001b[38;5;241m>\u001b[39m b)\n",
      "\u001b[1;31mTypeError\u001b[0m: '>' not supported between instances of 'int' and 'str'"
     ]
    }
   ],
   "source": [
    "a = 29\n",
    "b = '10'\n",
    "\n",
    "\n",
    "print(a > b)"
   ]
  },
  {
   "cell_type": "code",
   "execution_count": 95,
   "id": "993dffcb",
   "metadata": {},
   "outputs": [
    {
     "name": "stdout",
     "output_type": "stream",
     "text": [
      "True\n"
     ]
    }
   ],
   "source": [
    "a = 'abc'\n",
    "b = 'ABC'\n",
    "\n",
    "\n",
    "print(a > b)"
   ]
  },
  {
   "cell_type": "code",
   "execution_count": 96,
   "id": "464297a4",
   "metadata": {},
   "outputs": [
    {
     "name": "stdout",
     "output_type": "stream",
     "text": [
      "True\n"
     ]
    }
   ],
   "source": [
    "a = 'abc' #  97\n",
    "b = 'ABC' #  65\n",
    "\n",
    "\n",
    "print(a > b)"
   ]
  },
  {
   "cell_type": "code",
   "execution_count": 98,
   "id": "a527e6d7",
   "metadata": {},
   "outputs": [
    {
     "name": "stdout",
     "output_type": "stream",
     "text": [
      "False\n"
     ]
    }
   ],
   "source": [
    "a = 'aBc' #  66\n",
    "b = 'abC' #  98\n",
    "\n",
    "\n",
    "print(a > b)"
   ]
  },
  {
   "cell_type": "code",
   "execution_count": 99,
   "id": "a9bf06c3",
   "metadata": {},
   "outputs": [
    {
     "ename": "TypeError",
     "evalue": "'>' not supported between instances of 'int' and 'complex'",
     "output_type": "error",
     "traceback": [
      "\u001b[1;31m---------------------------------------------------------------------------\u001b[0m",
      "\u001b[1;31mTypeError\u001b[0m                                 Traceback (most recent call last)",
      "Cell \u001b[1;32mIn[99], line 5\u001b[0m\n\u001b[0;32m      1\u001b[0m a \u001b[38;5;241m=\u001b[39m \u001b[38;5;241m29\u001b[39m\n\u001b[0;32m      2\u001b[0m b \u001b[38;5;241m=\u001b[39m \u001b[38;5;241m54\u001b[39m\u001b[38;5;241m+\u001b[39m\u001b[38;5;241m7\u001b[39mj\n\u001b[1;32m----> 5\u001b[0m \u001b[38;5;28mprint\u001b[39m(a \u001b[38;5;241m>\u001b[39m b)\n",
      "\u001b[1;31mTypeError\u001b[0m: '>' not supported between instances of 'int' and 'complex'"
     ]
    }
   ],
   "source": [
    "a = 29\n",
    "b = 54+7j\n",
    "\n",
    "\n",
    "print(a > b)"
   ]
  },
  {
   "cell_type": "code",
   "execution_count": 100,
   "id": "bb235ee5",
   "metadata": {},
   "outputs": [
    {
     "ename": "TypeError",
     "evalue": "'>' not supported between instances of 'complex' and 'complex'",
     "output_type": "error",
     "traceback": [
      "\u001b[1;31m---------------------------------------------------------------------------\u001b[0m",
      "\u001b[1;31mTypeError\u001b[0m                                 Traceback (most recent call last)",
      "Cell \u001b[1;32mIn[100], line 5\u001b[0m\n\u001b[0;32m      1\u001b[0m a \u001b[38;5;241m=\u001b[39m \u001b[38;5;241m98\u001b[39m\u001b[38;5;241m+\u001b[39m\u001b[38;5;241m5\u001b[39mj\n\u001b[0;32m      2\u001b[0m b \u001b[38;5;241m=\u001b[39m \u001b[38;5;241m54\u001b[39m\u001b[38;5;241m+\u001b[39m\u001b[38;5;241m7\u001b[39mj\n\u001b[1;32m----> 5\u001b[0m \u001b[38;5;28mprint\u001b[39m(a \u001b[38;5;241m>\u001b[39m b)\n",
      "\u001b[1;31mTypeError\u001b[0m: '>' not supported between instances of 'complex' and 'complex'"
     ]
    }
   ],
   "source": [
    "a = 98+5j\n",
    "b = 54+7j\n",
    "\n",
    "\n",
    "print(a > b)"
   ]
  },
  {
   "cell_type": "code",
   "execution_count": 101,
   "id": "cef7d8f6",
   "metadata": {},
   "outputs": [
    {
     "ename": "TypeError",
     "evalue": "'>' not supported between instances of 'int' and 'NoneType'",
     "output_type": "error",
     "traceback": [
      "\u001b[1;31m---------------------------------------------------------------------------\u001b[0m",
      "\u001b[1;31mTypeError\u001b[0m                                 Traceback (most recent call last)",
      "Cell \u001b[1;32mIn[101], line 5\u001b[0m\n\u001b[0;32m      1\u001b[0m a \u001b[38;5;241m=\u001b[39m \u001b[38;5;241m29\u001b[39m\n\u001b[0;32m      2\u001b[0m b \u001b[38;5;241m=\u001b[39m \u001b[38;5;28;01mNone\u001b[39;00m\n\u001b[1;32m----> 5\u001b[0m \u001b[38;5;28mprint\u001b[39m(a \u001b[38;5;241m>\u001b[39m b)\n",
      "\u001b[1;31mTypeError\u001b[0m: '>' not supported between instances of 'int' and 'NoneType'"
     ]
    }
   ],
   "source": [
    "a = 29\n",
    "b = None\n",
    "\n",
    "\n",
    "print(a > b)"
   ]
  },
  {
   "cell_type": "code",
   "execution_count": 105,
   "id": "eb529bbf",
   "metadata": {},
   "outputs": [
    {
     "name": "stdout",
     "output_type": "stream",
     "text": [
      "True\n"
     ]
    }
   ],
   "source": [
    "a = 29\n",
    "b = True\n",
    "\n",
    "\n",
    "print(a > b)"
   ]
  },
  {
   "cell_type": "code",
   "execution_count": 102,
   "id": "10f91ff0",
   "metadata": {},
   "outputs": [
    {
     "data": {
      "text/plain": [
       "True"
      ]
     },
     "execution_count": 102,
     "metadata": {},
     "output_type": "execute_result"
    }
   ],
   "source": [
    "True == 1"
   ]
  },
  {
   "cell_type": "code",
   "execution_count": 103,
   "id": "c0420759",
   "metadata": {},
   "outputs": [
    {
     "data": {
      "text/plain": [
       "True"
      ]
     },
     "execution_count": 103,
     "metadata": {},
     "output_type": "execute_result"
    }
   ],
   "source": [
    "False == 0"
   ]
  },
  {
   "cell_type": "markdown",
   "id": "1db702c5",
   "metadata": {},
   "source": [
    "# Equality operators\n",
    "\n",
    "== , !="
   ]
  },
  {
   "cell_type": "code",
   "execution_count": 106,
   "id": "e9aa9dfd",
   "metadata": {},
   "outputs": [
    {
     "name": "stdout",
     "output_type": "stream",
     "text": [
      "True\n"
     ]
    }
   ],
   "source": [
    "a = 29\n",
    "b = 29\n",
    "\n",
    "\n",
    "print(a == b)"
   ]
  },
  {
   "cell_type": "code",
   "execution_count": 107,
   "id": "b5ff841e",
   "metadata": {},
   "outputs": [
    {
     "name": "stdout",
     "output_type": "stream",
     "text": [
      "False\n"
     ]
    }
   ],
   "source": [
    "a = 29\n",
    "b = '29'\n",
    "\n",
    "\n",
    "print(a == b)"
   ]
  },
  {
   "cell_type": "code",
   "execution_count": 108,
   "id": "7dfd0a36",
   "metadata": {},
   "outputs": [
    {
     "name": "stdout",
     "output_type": "stream",
     "text": [
      "True\n"
     ]
    }
   ],
   "source": [
    "a = 29\n",
    "b = '29'\n",
    "\n",
    "\n",
    "print(a != b)"
   ]
  },
  {
   "cell_type": "code",
   "execution_count": 110,
   "id": "d91561ab",
   "metadata": {},
   "outputs": [
    {
     "name": "stdout",
     "output_type": "stream",
     "text": [
      "False\n"
     ]
    }
   ],
   "source": [
    "a = 29\n",
    "b = 23+8j\n",
    "\n",
    "\n",
    "print(a == b)"
   ]
  },
  {
   "cell_type": "code",
   "execution_count": 111,
   "id": "9f74e07d",
   "metadata": {},
   "outputs": [
    {
     "name": "stdout",
     "output_type": "stream",
     "text": [
      "False\n"
     ]
    }
   ],
   "source": [
    "a = 29\n",
    "b = [23,45,56,657]\n",
    "\n",
    "\n",
    "print(a == b)"
   ]
  },
  {
   "cell_type": "code",
   "execution_count": null,
   "id": "7bd409a4",
   "metadata": {},
   "outputs": [],
   "source": []
  },
  {
   "cell_type": "code",
   "execution_count": null,
   "id": "c73677ab",
   "metadata": {},
   "outputs": [],
   "source": []
  }
 ],
 "metadata": {
  "kernelspec": {
   "display_name": "Python 3 (ipykernel)",
   "language": "python",
   "name": "python3"
  },
  "language_info": {
   "codemirror_mode": {
    "name": "ipython",
    "version": 3
   },
   "file_extension": ".py",
   "mimetype": "text/x-python",
   "name": "python",
   "nbconvert_exporter": "python",
   "pygments_lexer": "ipython3",
   "version": "3.11.4"
  }
 },
 "nbformat": 4,
 "nbformat_minor": 5
}
