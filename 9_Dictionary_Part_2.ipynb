{
 "cells": [
  {
   "cell_type": "code",
   "execution_count": 10,
   "id": "582df2e8",
   "metadata": {},
   "outputs": [
    {
     "data": {
      "text/plain": [
       "{'emp_1': {'name': 'Israr', 'age': 44, 'salary': 434234324},\n",
       " 'emp_2': {'name': 'Abhishek', 'age': 34, 'salary': 545345},\n",
       " 'emp_3': {'name': 'Dona', 'age': 23, 'salary': 5346546},\n",
       " 'emp_4': {'name': 'Madhumita', 'age': 28, 'salary': 456456}}"
      ]
     },
     "execution_count": 10,
     "metadata": {},
     "output_type": "execute_result"
    }
   ],
   "source": [
    "a = {'emp_1' : {'name' : 'Israr' , 'age':44 , 'salary':434234324} ,\n",
    "    'emp_2' : {'name' : 'Abhishek' , 'age':33 , 'salary':545345} ,\n",
    "    'emp_3' : {'name' : 'Dona' , 'age':23 , 'salary':5346546} ,\n",
    "    'emp_4' : {'name' : 'Madhumita' , 'age':28 , 'salary':456456} }\n",
    "\n",
    "\n",
    "a['emp_2']['age'] = 34\n",
    "\n",
    "a"
   ]
  },
  {
   "cell_type": "code",
   "execution_count": 7,
   "id": "f7be9af4",
   "metadata": {},
   "outputs": [
    {
     "data": {
      "text/plain": [
       "{'emp_1': {'name': 'Israr', 'age': 44, 'salary': 434234324},\n",
       " 'emp_2': {'name': 'Abhishek', 'age': 33, 'salary': 545345},\n",
       " 'emp_3': {'name': 'Dona', 'age': 23, 'salary': 5346546},\n",
       " 'emp_4': {'name': 'Madhumita', 'age': 28, 'salary': 456456},\n",
       " 'emp_5': {'name': 'new_emp', 'age': 65, 'salary': 4356456456}}"
      ]
     },
     "execution_count": 7,
     "metadata": {},
     "output_type": "execute_result"
    }
   ],
   "source": [
    "a = {'emp_1' : {'name' : 'Israr' , 'age':44 , 'salary':434234324} ,\n",
    "    'emp_2' : {'name' : 'Abhishek' , 'age':33 , 'salary':545345} ,\n",
    "    'emp_3' : {'name' : 'Dona' , 'age':23 , 'salary':5346546} ,\n",
    "    'emp_4' : {'name' : 'Madhumita' , 'age':28 , 'salary':456456} }\n",
    "\n",
    "# If the key is not present\n",
    "\n",
    "a['emp_5'] =  {'name' : 'new_emp' , 'age':65 , 'salary':4356456456} \n",
    "\n",
    "a"
   ]
  },
  {
   "cell_type": "code",
   "execution_count": 8,
   "id": "2de71e40",
   "metadata": {},
   "outputs": [
    {
     "data": {
      "text/plain": [
       "{'emp_1': {'name': 'Israr', 'age': 44, 'salary': 434234324},\n",
       " 'emp_2': {'name': 'Abhishek', 'age': 33, 'salary': 545345},\n",
       " 'emp_3': {'name': 'new_emp', 'age': 65, 'salary': 4356456456},\n",
       " 'emp_4': {'name': 'Madhumita', 'age': 28, 'salary': 456456}}"
      ]
     },
     "execution_count": 8,
     "metadata": {},
     "output_type": "execute_result"
    }
   ],
   "source": [
    "a = {'emp_1' : {'name' : 'Israr' , 'age':44 , 'salary':434234324} ,\n",
    "    'emp_2' : {'name' : 'Abhishek' , 'age':33 , 'salary':545345} ,\n",
    "    'emp_3' : {'name' : 'Dona' , 'age':23 , 'salary':5346546} ,\n",
    "    'emp_4' : {'name' : 'Madhumita' , 'age':28 , 'salary':456456} }\n",
    "\n",
    "# If the key is present\n",
    "\n",
    "a['emp_3'] =  {'name' : 'new_emp' , 'age':65 , 'salary':4356456456} \n",
    "\n",
    "a"
   ]
  },
  {
   "cell_type": "code",
   "execution_count": null,
   "id": "7abff744",
   "metadata": {},
   "outputs": [],
   "source": []
  },
  {
   "cell_type": "markdown",
   "id": "7797ca76",
   "metadata": {},
   "source": [
    "# Methods of dictionary"
   ]
  },
  {
   "cell_type": "code",
   "execution_count": 1,
   "id": "8a694a52",
   "metadata": {},
   "outputs": [
    {
     "name": "stdout",
     "output_type": "stream",
     "text": [
      "['__class__', '__class_getitem__', '__contains__', '__delattr__', '__delitem__', '__dir__', '__doc__', '__eq__', '__format__', '__ge__', '__getattribute__', '__getitem__', '__getstate__', '__gt__', '__hash__', '__init__', '__init_subclass__', '__ior__', '__iter__', '__le__', '__len__', '__lt__', '__ne__', '__new__', '__or__', '__reduce__', '__reduce_ex__', '__repr__', '__reversed__', '__ror__', '__setattr__', '__setitem__', '__sizeof__', '__str__', '__subclasshook__', 'clear', 'copy', 'fromkeys', 'get', 'items', 'keys', 'pop', 'popitem', 'setdefault', 'update', 'values']\n"
     ]
    }
   ],
   "source": [
    "print(dir(dict))"
   ]
  },
  {
   "cell_type": "markdown",
   "id": "28bc00c8",
   "metadata": {},
   "source": [
    "# Methods to access the items in our dict\n",
    "\n",
    "\n",
    "- get\n",
    "- setdefault\n",
    "- update"
   ]
  },
  {
   "cell_type": "markdown",
   "id": "3031763d",
   "metadata": {},
   "source": [
    "# get"
   ]
  },
  {
   "cell_type": "code",
   "execution_count": 11,
   "id": "46fd73f6",
   "metadata": {},
   "outputs": [
    {
     "data": {
      "text/plain": [
       "{'name': 'Abhishek', 'age': 33, 'salary': 545345}"
      ]
     },
     "execution_count": 11,
     "metadata": {},
     "output_type": "execute_result"
    }
   ],
   "source": [
    "# If the key is present \n",
    "\n",
    "a = {'emp_1' : {'name' : 'Israr' , 'age':44 , 'salary':434234324} ,\n",
    "    'emp_2' : {'name' : 'Abhishek' , 'age':33 , 'salary':545345} ,\n",
    "    'emp_3' : {'name' : 'Dona' , 'age':23 , 'salary':5346546} ,\n",
    "    'emp_4' : {'name' : 'Madhumita' , 'age':28 , 'salary':456456} }\n",
    "\n",
    "\n",
    "a.get('emp_2')"
   ]
  },
  {
   "cell_type": "code",
   "execution_count": 12,
   "id": "c6cd7d8c",
   "metadata": {},
   "outputs": [
    {
     "name": "stdout",
     "output_type": "stream",
     "text": [
      "None\n"
     ]
    }
   ],
   "source": [
    "# If the key is not present \n",
    "\n",
    "a = {'emp_1' : {'name' : 'Israr' , 'age':44 , 'salary':434234324} ,\n",
    "    'emp_2' : {'name' : 'Abhishek' , 'age':33 , 'salary':545345} ,\n",
    "    'emp_3' : {'name' : 'Dona' , 'age':23 , 'salary':5346546} ,\n",
    "    'emp_4' : {'name' : 'Madhumita' , 'age':28 , 'salary':456456} }\n",
    "\n",
    "\n",
    "print(a.get('emp_8'))"
   ]
  },
  {
   "cell_type": "code",
   "execution_count": 16,
   "id": "b19c8b56",
   "metadata": {},
   "outputs": [
    {
     "name": "stdout",
     "output_type": "stream",
     "text": [
      "The emp you are searching for is not present in the data base\n"
     ]
    }
   ],
   "source": [
    "# If the key is not present \n",
    "\n",
    "a = {'emp_1' : {'name' : 'Israr' , 'age':44 , 'salary':434234324} ,\n",
    "    'emp_2' : {'name' : 'Abhishek' , 'age':33 , 'salary':545345} ,\n",
    "    'emp_3' : {'name' : 'Dona' , 'age':23 , 'salary':5346546} ,\n",
    "    'emp_4' : {'name' : 'Madhumita' , 'age':28 , 'salary':456456} }\n",
    "\n",
    "\n",
    "print(a.get('emp_8' , 'The emp you are searching for is not present in the data base'))"
   ]
  },
  {
   "cell_type": "code",
   "execution_count": 18,
   "id": "889fef36",
   "metadata": {},
   "outputs": [
    {
     "name": "stdout",
     "output_type": "stream",
     "text": [
      "The emp you are searching for is not present in the data base\n"
     ]
    }
   ],
   "source": [
    "a = {'emp_1' : {'name' : 'Israr' , 'age':44 , 'salary':434234324} ,\n",
    "    'emp_2' : {'name' : 'Abhishek' , 'age':33 , 'salary':545345} ,\n",
    "    'emp_3' : {'name' : 'Dona' , 'age':23 , 'salary':5346546} ,\n",
    "    'emp_4' : {'name' : 'Madhumita' , 'age':28 , 'salary':456456},\n",
    "    'emp_8' : {'name' : 'Madhumita' , 'age':28 , 'salary':456456}}\n",
    "\n",
    "\n",
    "print(a.get('emp_9' , 'The emp you are searching for is not present in the data base'))"
   ]
  },
  {
   "cell_type": "code",
   "execution_count": 20,
   "id": "bd6ab0d4",
   "metadata": {},
   "outputs": [
    {
     "data": {
      "text/plain": [
       "23"
      ]
     },
     "execution_count": 20,
     "metadata": {},
     "output_type": "execute_result"
    }
   ],
   "source": [
    "\n",
    "a = {'emp_1' : {'name' : 'Israr' , 'age':44 , 'salary':434234324} ,\n",
    "    'emp_2' : {'name' : 'Abhishek' , 'age':33 , 'salary':545345} ,\n",
    "    'emp_3' : {'name' : 'Dona' , 'age':23 , 'salary':5346546} ,\n",
    "    'emp_4' : {'name' : 'Madhumita' , 'age':28 , 'salary':456456} }\n",
    "\n",
    "\n",
    "a.get('emp_3').get('age')"
   ]
  },
  {
   "cell_type": "code",
   "execution_count": 22,
   "id": "9b6e91e3",
   "metadata": {},
   "outputs": [
    {
     "data": {
      "text/plain": [
       "'custome mess'"
      ]
     },
     "execution_count": 22,
     "metadata": {},
     "output_type": "execute_result"
    }
   ],
   "source": [
    "\n",
    "a = {'emp_1' : {'name' : 'Israr' , 'age':44 , 'salary':434234324} ,\n",
    "    'emp_2' : {'name' : 'Abhishek' , 'age':33 , 'salary':545345} ,\n",
    "    'emp_3' : {'name' : 'Dona' , 'age':23 , 'salary':5346546} ,\n",
    "    'emp_4' : {'name' : 'Madhumita' , 'age':28 , 'salary':456456} }\n",
    "\n",
    "\n",
    "a.get('emp_3').get('pan' , 'custome mess')"
   ]
  },
  {
   "cell_type": "markdown",
   "id": "e7d13c53",
   "metadata": {},
   "source": [
    "# Setdefault "
   ]
  },
  {
   "cell_type": "code",
   "execution_count": 25,
   "id": "1d5814f9",
   "metadata": {},
   "outputs": [
    {
     "data": {
      "text/plain": [
       "{'name': 'Israr', 'age': 44, 'salary': 434234324}"
      ]
     },
     "execution_count": 25,
     "metadata": {},
     "output_type": "execute_result"
    }
   ],
   "source": [
    "# If the key is present \n",
    "\n",
    "\n",
    "a = {'emp_1' : {'name' : 'Israr' , 'age':44 , 'salary':434234324} ,\n",
    "    'emp_2' : {'name' : 'Abhishek' , 'age':33 , 'salary':545345} ,\n",
    "    'emp_3' : {'name' : 'Dona' , 'age':23 , 'salary':5346546} ,\n",
    "    'emp_4' : {'name' : 'Madhumita' , 'age':28 , 'salary':456456} }\n",
    "\n",
    "\n",
    "a.setdefault('emp_1')"
   ]
  },
  {
   "cell_type": "code",
   "execution_count": 26,
   "id": "c6146b8f",
   "metadata": {},
   "outputs": [],
   "source": [
    "# If the key is not present \n",
    "\n",
    "\n",
    "a = {'emp_1' : {'name' : 'Israr' , 'age':44 , 'salary':434234324} ,\n",
    "    'emp_2' : {'name' : 'Abhishek' , 'age':33 , 'salary':545345} ,\n",
    "    'emp_3' : {'name' : 'Dona' , 'age':23 , 'salary':5346546} ,\n",
    "    'emp_4' : {'name' : 'Madhumita' , 'age':28 , 'salary':456456} }\n",
    "\n",
    "\n",
    "a.setdefault('emp_8')"
   ]
  },
  {
   "cell_type": "code",
   "execution_count": 27,
   "id": "b2660a48",
   "metadata": {},
   "outputs": [
    {
     "data": {
      "text/plain": [
       "{'emp_1': {'name': 'Israr', 'age': 44, 'salary': 434234324},\n",
       " 'emp_2': {'name': 'Abhishek', 'age': 33, 'salary': 545345},\n",
       " 'emp_3': {'name': 'Dona', 'age': 23, 'salary': 5346546},\n",
       " 'emp_4': {'name': 'Madhumita', 'age': 28, 'salary': 456456},\n",
       " 'emp_8': None}"
      ]
     },
     "execution_count": 27,
     "metadata": {},
     "output_type": "execute_result"
    }
   ],
   "source": [
    "a"
   ]
  },
  {
   "cell_type": "code",
   "execution_count": 28,
   "id": "30813d4f",
   "metadata": {},
   "outputs": [
    {
     "data": {
      "text/plain": [
       "{'name': 'new_emp', 'age': 28, 'salary': 456456}"
      ]
     },
     "execution_count": 28,
     "metadata": {},
     "output_type": "execute_result"
    }
   ],
   "source": [
    "a = {'emp_1' : {'name' : 'Israr' , 'age':44 , 'salary':434234324} ,\n",
    "    'emp_2' : {'name' : 'Abhishek' , 'age':33 , 'salary':545345} ,\n",
    "    'emp_3' : {'name' : 'Dona' , 'age':23 , 'salary':5346546} ,\n",
    "    'emp_4' : {'name' : 'Madhumita' , 'age':28 , 'salary':456456} }\n",
    "\n",
    "\n",
    "a.setdefault('emp_8' , {'name' : 'new_emp' , 'age':28 , 'salary':456456})"
   ]
  },
  {
   "cell_type": "code",
   "execution_count": 29,
   "id": "06de5a67",
   "metadata": {},
   "outputs": [
    {
     "data": {
      "text/plain": [
       "{'emp_1': {'name': 'Israr', 'age': 44, 'salary': 434234324},\n",
       " 'emp_2': {'name': 'Abhishek', 'age': 33, 'salary': 545345},\n",
       " 'emp_3': {'name': 'Dona', 'age': 23, 'salary': 5346546},\n",
       " 'emp_4': {'name': 'Madhumita', 'age': 28, 'salary': 456456},\n",
       " 'emp_8': {'name': 'new_emp', 'age': 28, 'salary': 456456}}"
      ]
     },
     "execution_count": 29,
     "metadata": {},
     "output_type": "execute_result"
    }
   ],
   "source": [
    "a"
   ]
  },
  {
   "cell_type": "markdown",
   "id": "2b765a0e",
   "metadata": {},
   "source": [
    "# Update"
   ]
  },
  {
   "cell_type": "code",
   "execution_count": 31,
   "id": "18a37889",
   "metadata": {},
   "outputs": [
    {
     "ename": "ValueError",
     "evalue": "dictionary update sequence element #0 has length 1; 2 is required",
     "output_type": "error",
     "traceback": [
      "\u001b[1;31m---------------------------------------------------------------------------\u001b[0m",
      "\u001b[1;31mValueError\u001b[0m                                Traceback (most recent call last)",
      "Cell \u001b[1;32mIn[31], line 7\u001b[0m\n\u001b[0;32m      1\u001b[0m a \u001b[38;5;241m=\u001b[39m {\u001b[38;5;124m'\u001b[39m\u001b[38;5;124memp_1\u001b[39m\u001b[38;5;124m'\u001b[39m : {\u001b[38;5;124m'\u001b[39m\u001b[38;5;124mname\u001b[39m\u001b[38;5;124m'\u001b[39m : \u001b[38;5;124m'\u001b[39m\u001b[38;5;124mIsrar\u001b[39m\u001b[38;5;124m'\u001b[39m , \u001b[38;5;124m'\u001b[39m\u001b[38;5;124mage\u001b[39m\u001b[38;5;124m'\u001b[39m:\u001b[38;5;241m44\u001b[39m , \u001b[38;5;124m'\u001b[39m\u001b[38;5;124msalary\u001b[39m\u001b[38;5;124m'\u001b[39m:\u001b[38;5;241m434234324\u001b[39m} ,\n\u001b[0;32m      2\u001b[0m     \u001b[38;5;124m'\u001b[39m\u001b[38;5;124memp_2\u001b[39m\u001b[38;5;124m'\u001b[39m : {\u001b[38;5;124m'\u001b[39m\u001b[38;5;124mname\u001b[39m\u001b[38;5;124m'\u001b[39m : \u001b[38;5;124m'\u001b[39m\u001b[38;5;124mAbhishek\u001b[39m\u001b[38;5;124m'\u001b[39m , \u001b[38;5;124m'\u001b[39m\u001b[38;5;124mage\u001b[39m\u001b[38;5;124m'\u001b[39m:\u001b[38;5;241m33\u001b[39m , \u001b[38;5;124m'\u001b[39m\u001b[38;5;124msalary\u001b[39m\u001b[38;5;124m'\u001b[39m:\u001b[38;5;241m545345\u001b[39m} ,\n\u001b[0;32m      3\u001b[0m     \u001b[38;5;124m'\u001b[39m\u001b[38;5;124memp_3\u001b[39m\u001b[38;5;124m'\u001b[39m : {\u001b[38;5;124m'\u001b[39m\u001b[38;5;124mname\u001b[39m\u001b[38;5;124m'\u001b[39m : \u001b[38;5;124m'\u001b[39m\u001b[38;5;124mDona\u001b[39m\u001b[38;5;124m'\u001b[39m , \u001b[38;5;124m'\u001b[39m\u001b[38;5;124mage\u001b[39m\u001b[38;5;124m'\u001b[39m:\u001b[38;5;241m23\u001b[39m , \u001b[38;5;124m'\u001b[39m\u001b[38;5;124msalary\u001b[39m\u001b[38;5;124m'\u001b[39m:\u001b[38;5;241m5346546\u001b[39m} ,\n\u001b[0;32m      4\u001b[0m     \u001b[38;5;124m'\u001b[39m\u001b[38;5;124memp_4\u001b[39m\u001b[38;5;124m'\u001b[39m : {\u001b[38;5;124m'\u001b[39m\u001b[38;5;124mname\u001b[39m\u001b[38;5;124m'\u001b[39m : \u001b[38;5;124m'\u001b[39m\u001b[38;5;124mMadhumita\u001b[39m\u001b[38;5;124m'\u001b[39m , \u001b[38;5;124m'\u001b[39m\u001b[38;5;124mage\u001b[39m\u001b[38;5;124m'\u001b[39m:\u001b[38;5;241m28\u001b[39m , \u001b[38;5;124m'\u001b[39m\u001b[38;5;124msalary\u001b[39m\u001b[38;5;124m'\u001b[39m:\u001b[38;5;241m456456\u001b[39m} }\n\u001b[1;32m----> 7\u001b[0m a\u001b[38;5;241m.\u001b[39mupdate(\u001b[38;5;124m'\u001b[39m\u001b[38;5;124memp_2\u001b[39m\u001b[38;5;124m'\u001b[39m)\n",
      "\u001b[1;31mValueError\u001b[0m: dictionary update sequence element #0 has length 1; 2 is required"
     ]
    }
   ],
   "source": [
    "a = {'emp_1' : {'name' : 'Israr' , 'age':44 , 'salary':434234324} ,\n",
    "    'emp_2' : {'name' : 'Abhishek' , 'age':33 , 'salary':545345} ,\n",
    "    'emp_3' : {'name' : 'Dona' , 'age':23 , 'salary':5346546} ,\n",
    "    'emp_4' : {'name' : 'Madhumita' , 'age':28 , 'salary':456456} }\n",
    "\n",
    "\n",
    "a.update('emp_2')"
   ]
  },
  {
   "cell_type": "code",
   "execution_count": null,
   "id": "be2941fb",
   "metadata": {},
   "outputs": [],
   "source": [
    "b = {'emp_1' : {'name' : 'new_emp_1' , 'age':44 , 'salary':434234324} ,\n",
    "    'emp_2' : {'name' : 'new_emp_2' , 'age':33 , 'salary':545345}}"
   ]
  },
  {
   "cell_type": "code",
   "execution_count": 32,
   "id": "62a98ccb",
   "metadata": {},
   "outputs": [],
   "source": [
    "a = {'emp_1' : {'name' : 'Israr' , 'age':44 , 'salary':434234324} ,\n",
    "    'emp_2' : {'name' : 'Abhishek' , 'age':33 , 'salary':545345} ,\n",
    "    'emp_3' : {'name' : 'Dona' , 'age':23 , 'salary':5346546} ,\n",
    "    'emp_4' : {'name' : 'Madhumita' , 'age':28 , 'salary':456456} }\n",
    "\n",
    "b = {'emp_1' : {'name' : 'new_emp_1' , 'age':44 , 'salary':434234324} ,\n",
    "    'emp_2' : {'name' : 'new_emp_2' , 'age':33 , 'salary':545345}}\n",
    "\n",
    "\n",
    "a.update(b)"
   ]
  },
  {
   "cell_type": "code",
   "execution_count": 33,
   "id": "42f67702",
   "metadata": {},
   "outputs": [
    {
     "data": {
      "text/plain": [
       "{'emp_1': {'name': 'new_emp_1', 'age': 44, 'salary': 434234324},\n",
       " 'emp_2': {'name': 'new_emp_2', 'age': 33, 'salary': 545345},\n",
       " 'emp_3': {'name': 'Dona', 'age': 23, 'salary': 5346546},\n",
       " 'emp_4': {'name': 'Madhumita', 'age': 28, 'salary': 456456}}"
      ]
     },
     "execution_count": 33,
     "metadata": {},
     "output_type": "execute_result"
    }
   ],
   "source": [
    "a"
   ]
  },
  {
   "cell_type": "code",
   "execution_count": 34,
   "id": "3630b126",
   "metadata": {},
   "outputs": [],
   "source": [
    "a = {'emp_1' : {'name' : 'Israr' , 'age':44 , 'salary':434234324} ,\n",
    "    'emp_2' : {'name' : 'Abhishek' , 'age':33 , 'salary':545345} ,\n",
    "    'emp_3' : {'name' : 'Dona' , 'age':23 , 'salary':5346546} ,\n",
    "    'emp_4' : {'name' : 'Madhumita' , 'age':28 , 'salary':456456} }\n",
    "\n",
    "b = {'emp_11' : {'name' : 'new_emp_1' , 'age':44 , 'salary':434234324} ,\n",
    "    'emp_12' : {'name' : 'new_emp_2' , 'age':33 , 'salary':545345}}\n",
    "\n",
    "\n",
    "a.update(b)"
   ]
  },
  {
   "cell_type": "code",
   "execution_count": 35,
   "id": "8a060948",
   "metadata": {},
   "outputs": [
    {
     "data": {
      "text/plain": [
       "{'emp_1': {'name': 'Israr', 'age': 44, 'salary': 434234324},\n",
       " 'emp_2': {'name': 'Abhishek', 'age': 33, 'salary': 545345},\n",
       " 'emp_3': {'name': 'Dona', 'age': 23, 'salary': 5346546},\n",
       " 'emp_4': {'name': 'Madhumita', 'age': 28, 'salary': 456456},\n",
       " 'emp_11': {'name': 'new_emp_1', 'age': 44, 'salary': 434234324},\n",
       " 'emp_12': {'name': 'new_emp_2', 'age': 33, 'salary': 545345}}"
      ]
     },
     "execution_count": 35,
     "metadata": {},
     "output_type": "execute_result"
    }
   ],
   "source": [
    "a"
   ]
  },
  {
   "cell_type": "code",
   "execution_count": null,
   "id": "bdd56d1e",
   "metadata": {},
   "outputs": [],
   "source": [
    "# HR\n",
    "\n",
    "- name \n",
    "- age\n",
    "- salary\n",
    "\n",
    "\n",
    "emp_6 ---\n",
    "emp_7 --- \n",
    "emp_8 --> "
   ]
  },
  {
   "cell_type": "code",
   "execution_count": 38,
   "id": "04a47886",
   "metadata": {},
   "outputs": [],
   "source": [
    "emp_data = {'emp_1' : {'name' : 'Israr' , 'age':44 , 'salary':434234324} ,\n",
    "    'emp_2' : {'name' : 'Abhishek' , 'age':33 , 'salary':545345} ,\n",
    "    'emp_3' : {'name' : 'Dona' , 'age':23 , 'salary':5346546} ,\n",
    "    'emp_4' : {'name' : 'Madhumita' , 'age':28 , 'salary':456456} ,\n",
    "    'emp_5' : {'name' : 'John' , 'age':34 , 'salary':456456}}"
   ]
  },
  {
   "cell_type": "markdown",
   "id": "8d0788b9",
   "metadata": {},
   "source": [
    "get \n",
    "\n",
    "- only accessing the existing data\n",
    "- If the key is not present by default it returns None\n",
    "- If the key is not present you can pass your custom message\n",
    "- update as well as insert is not possible\n",
    "\n",
    "setdefault\n",
    "- accessing is possible\n",
    "- can insert any new item\n",
    "- cannot insert multiple items\n",
    "- cannot update the existing item\n",
    "\n",
    "update\n",
    "\n",
    "- cannot access the exising \n",
    "- can insert 1 or multiple items as well\n",
    "- can change the existing items"
   ]
  },
  {
   "cell_type": "code",
   "execution_count": 43,
   "id": "082306f8",
   "metadata": {},
   "outputs": [],
   "source": [
    "emp_data = {'emp_1' : {'name' : 'Israr' , 'age':44 , 'salary':434234324} ,\n",
    "    'emp_2' : {'name' : 'Abhishek' , 'age':33 , 'salary':545345} ,\n",
    "    'emp_3' : {'name' : 'Dona' , 'age':23 , 'salary':5346546} ,\n",
    "    'emp_4' : {'name' : 'Madhumita' , 'age':28 , 'salary':456456} ,\n",
    "    'emp_5' : {'name' : 'John' , 'age':34 , 'salary':456456}}"
   ]
  },
  {
   "cell_type": "code",
   "execution_count": 45,
   "id": "e411896e",
   "metadata": {},
   "outputs": [
    {
     "name": "stdout",
     "output_type": "stream",
     "text": [
      "Enter the name : lmn\n",
      "Enter the age : 65\n",
      "Enter the salary : 34534534\n"
     ]
    },
    {
     "data": {
      "text/plain": [
       "{'emp_1': {'name': 'Israr', 'age': 44, 'salary': 434234324},\n",
       " 'emp_2': {'name': 'Abhishek', 'age': 33, 'salary': 545345},\n",
       " 'emp_3': {'name': 'Dona', 'age': 23, 'salary': 5346546},\n",
       " 'emp_4': {'name': 'Madhumita', 'age': 28, 'salary': 456456},\n",
       " 'emp_5': {'name': 'John', 'age': 34, 'salary': 456456},\n",
       " 'emp_6': {'name': 'xyz', 'age': 43, 'salary': 654645654},\n",
       " 'emp_7': {'name': 'lmn', 'age': 65, 'salary': 34534534}}"
      ]
     },
     "execution_count": 45,
     "metadata": {},
     "output_type": "execute_result"
    }
   ],
   "source": [
    "name = input('Enter the name : ')\n",
    "age = eval(input('Enter the age : '))\n",
    "salary = eval(input('Enter the salary : '))\n",
    "\n",
    "key = f'emp_{len(emp_data) +1}'\n",
    "\n",
    "\n",
    "emp_data.setdefault(key , {'name' : name, 'age':age , 'salary':salary})\n",
    "\n",
    "emp_data"
   ]
  },
  {
   "cell_type": "code",
   "execution_count": 46,
   "id": "c2254d9e",
   "metadata": {},
   "outputs": [
    {
     "name": "stdout",
     "output_type": "stream",
     "text": [
      "Enter the name : pqr\n",
      "Enter the age : 56\n",
      "Enter the salary : 3425345345\n"
     ]
    },
    {
     "data": {
      "text/plain": [
       "{'emp_1': {'name': 'Israr', 'age': 44, 'salary': 434234324},\n",
       " 'emp_2': {'name': 'Abhishek', 'age': 33, 'salary': 545345},\n",
       " 'emp_3': {'name': 'Dona', 'age': 23, 'salary': 5346546},\n",
       " 'emp_4': {'name': 'Madhumita', 'age': 28, 'salary': 456456},\n",
       " 'emp_5': {'name': 'John', 'age': 34, 'salary': 456456},\n",
       " 'emp_6': {'name': 'xyz', 'age': 43, 'salary': 654645654},\n",
       " 'emp_7': {'name': 'lmn', 'age': 65, 'salary': 34534534},\n",
       " 'emp_8': {'name': 'pqr', 'age': 56, 'salary': 3425345345}}"
      ]
     },
     "execution_count": 46,
     "metadata": {},
     "output_type": "execute_result"
    }
   ],
   "source": [
    "name = input('Enter the name : ')\n",
    "age = eval(input('Enter the age : '))\n",
    "salary = eval(input('Enter the salary : '))\n",
    "\n",
    "key = f'emp_{len(emp_data) +1}'\n",
    "\n",
    "\n",
    "emp_data.update({key : {'name' : name, 'age':age , 'salary':salary}})\n",
    "\n",
    "emp_data"
   ]
  },
  {
   "cell_type": "code",
   "execution_count": 50,
   "id": "e9c1c042",
   "metadata": {},
   "outputs": [
    {
     "name": "stdout",
     "output_type": "stream",
     "text": [
      "Enter the name : uyer\n",
      "Enter the age : 345\n",
      "Enter the salary : 45634534534\n",
      "Employee emp_10 added successfully!\n"
     ]
    },
    {
     "data": {
      "text/plain": [
       "{'emp_1': {'name': 'Israr', 'age': 44, 'salary': 434234324},\n",
       " 'emp_2': {'name': 'Abhishek', 'age': 33, 'salary': 545345},\n",
       " 'emp_3': {'name': 'Dona', 'age': 23, 'salary': 5346546},\n",
       " 'emp_4': {'name': 'Madhumita', 'age': 28, 'salary': 456456},\n",
       " 'emp_5': {'name': 'John', 'age': 34, 'salary': 456456},\n",
       " 'emp_6': {'name': 'xyz', 'age': 43, 'salary': 654645654},\n",
       " 'emp_7': {'name': 'lmn', 'age': 65, 'salary': 34534534},\n",
       " 'emp_8': {'name': 'pqr', 'age': 56, 'salary': 3425345345},\n",
       " 'emp_9': {'name': 'tyu', 'age': 34, 'salary': 543534534, 'New': 'details'},\n",
       " 'emp_10': {'name': 'uyer', 'age': 345, 'salary': 45634534534}}"
      ]
     },
     "execution_count": 50,
     "metadata": {},
     "output_type": "execute_result"
    }
   ],
   "source": [
    "name = input('Enter the name : ')\n",
    "age = eval(input('Enter the age : '))\n",
    "salary = eval(input('Enter the salary : '))\n",
    "\n",
    "new_emp_id = f\"emp_{len(emp_data) + 1}\"\n",
    "emp_data[new_emp_id] = {'name': name, 'age': age, 'salary': salary}\n",
    "\n",
    "print(f\"Employee {new_emp_id} added successfully!\")\n",
    "emp_data"
   ]
  },
  {
   "cell_type": "code",
   "execution_count": 65,
   "id": "e0fba4e0",
   "metadata": {},
   "outputs": [
    {
     "data": {
      "text/plain": [
       "{'emp_1': {'name': 'Israr', 'age': 44, 'salary': 434234324},\n",
       " 'emp_2': {'name': 'Abhishek', 'age': 33, 'salary': 545345},\n",
       " 'emp_3': {'name': 'Dona', 'age': 23, 'salary': 5346546},\n",
       " 'emp_4': {'name': 'Madhumita', 'age': 28, 'salary': 456456},\n",
       " 'emp_5': {'name': 'John', 'age': 34, 'salary': 456456},\n",
       " 'emp_6': {'name': 'xyz', 'age': 43, 'salary': 654645654},\n",
       " 'emp_7': {'name': 'lmn', 'age': 65, 'salary': 34534534},\n",
       " 'emp_8': {'name': 'pqr', 'age': 56, 'salary': 3425345345},\n",
       " 'emp_9': {'name': 'tyu', 'age': 34, 'salary': 543534534, 'New': 'details'},\n",
       " 'emp_10': {'name': 'uyer', 'age': 345, 'salary': 45634534534}}"
      ]
     },
     "execution_count": 65,
     "metadata": {},
     "output_type": "execute_result"
    }
   ],
   "source": [
    "emp_data = {'emp_1': {'name': 'Israr', 'age': 44, 'salary': 434234324},\n",
    " 'emp_2': {'name': 'Abhishek', 'age': 33, 'salary': 545345},\n",
    " 'emp_3': {'name': 'Dona', 'age': 23, 'salary': 5346546},\n",
    " 'emp_4': {'name': 'Madhumita', 'age': 28, 'salary': 456456},\n",
    " 'emp_5': {'name': 'John', 'age': 34, 'salary': 456456},\n",
    " 'emp_6': {'name': 'xyz', 'age': 43, 'salary': 654645654},\n",
    " 'emp_7': {'name': 'lmn', 'age': 65, 'salary': 34534534},\n",
    " 'emp_8': {'name': 'pqr', 'age': 56, 'salary': 3425345345},\n",
    " 'emp_9': {'name': 'tyu', 'age': 34, 'salary': 543534534, 'New': 'details'},\n",
    " 'emp_10': {'name': 'uyer', 'age': 345, 'salary': 45634534534}}\n",
    "\n",
    "emp_data"
   ]
  },
  {
   "cell_type": "code",
   "execution_count": 54,
   "id": "47ddd432",
   "metadata": {},
   "outputs": [
    {
     "ename": "KeyError",
     "evalue": "'New'",
     "output_type": "error",
     "traceback": [
      "\u001b[1;31m---------------------------------------------------------------------------\u001b[0m",
      "\u001b[1;31mKeyError\u001b[0m                                  Traceback (most recent call last)",
      "Cell \u001b[1;32mIn[54], line 1\u001b[0m\n\u001b[1;32m----> 1\u001b[0m emp_data[\u001b[38;5;124m'\u001b[39m\u001b[38;5;124memp_8\u001b[39m\u001b[38;5;124m'\u001b[39m][\u001b[38;5;124m'\u001b[39m\u001b[38;5;124mNew\u001b[39m\u001b[38;5;124m'\u001b[39m]\n",
      "\u001b[1;31mKeyError\u001b[0m: 'New'"
     ]
    }
   ],
   "source": [
    "emp_data['emp_8']['New']"
   ]
  },
  {
   "cell_type": "code",
   "execution_count": 58,
   "id": "86dc5d01",
   "metadata": {},
   "outputs": [
    {
     "data": {
      "text/plain": [
       "{'emp_1': {'name': 'Israr', 'age': 44, 'salary': 434234324},\n",
       " 'emp_2': {'name': 'Abhishek', 'age': 33, 'salary': 545345},\n",
       " 'emp_3': {'name': 'Dona', 'age': 23, 'salary': 5346546},\n",
       " 'emp_4': {'name': 'Madhumita', 'age': 28, 'salary': 456456},\n",
       " 'emp_5': {'name': 'John', 'age': 34, 'salary': 456456},\n",
       " 'emp_6': {'name': 'xyz', 'age': 43, 'salary': 654645654},\n",
       " 'emp_7': {'name': 'lmn', 'age': 65, 'salary': 34534534},\n",
       " 'emp_8': {'name': 'pqr', 'age': 56, 'salary': 3425345345},\n",
       " 'emp_9': {'name': 'tyu', 'age': 34, 'salary': 543534534, 'New': 'details'},\n",
       " 'emp_10': {'name': 'uyer', 'age': 345, 'salary': 45634534534}}"
      ]
     },
     "execution_count": 58,
     "metadata": {},
     "output_type": "execute_result"
    }
   ],
   "source": [
    "emp_data"
   ]
  },
  {
   "cell_type": "code",
   "execution_count": 72,
   "id": "8437b25f",
   "metadata": {},
   "outputs": [],
   "source": [
    "for i in emp_data:\n",
    "    emp_data[i].setdefault('New')"
   ]
  },
  {
   "cell_type": "code",
   "execution_count": 63,
   "id": "93f31f66",
   "metadata": {},
   "outputs": [],
   "source": [
    "for i in emp_data:\n",
    "    emp_data[i].update({'New':None})"
   ]
  },
  {
   "cell_type": "code",
   "execution_count": 73,
   "id": "8dd31605",
   "metadata": {},
   "outputs": [
    {
     "data": {
      "text/plain": [
       "{'emp_1': {'name': 'Israr', 'age': 44, 'salary': 434234324, 'New': None},\n",
       " 'emp_2': {'name': 'Abhishek', 'age': 33, 'salary': 545345, 'New': None},\n",
       " 'emp_3': {'name': 'Dona', 'age': 23, 'salary': 5346546, 'New': None},\n",
       " 'emp_4': {'name': 'Madhumita', 'age': 28, 'salary': 456456, 'New': None},\n",
       " 'emp_5': {'name': 'John', 'age': 34, 'salary': 456456, 'New': None},\n",
       " 'emp_6': {'name': 'xyz', 'age': 43, 'salary': 654645654, 'New': None},\n",
       " 'emp_7': {'name': 'lmn', 'age': 65, 'salary': 34534534, 'New': None},\n",
       " 'emp_8': {'name': 'pqr', 'age': 56, 'salary': 3425345345, 'New': None},\n",
       " 'emp_9': {'name': 'tyu', 'age': 34, 'salary': 543534534, 'New': 'details'},\n",
       " 'emp_10': {'name': 'uyer', 'age': 345, 'salary': 45634534534, 'New': None}}"
      ]
     },
     "execution_count": 73,
     "metadata": {},
     "output_type": "execute_result"
    }
   ],
   "source": [
    "emp_data"
   ]
  },
  {
   "cell_type": "code",
   "execution_count": 75,
   "id": "041c5b20",
   "metadata": {},
   "outputs": [],
   "source": [
    "emp_data['emp_4']['New']"
   ]
  },
  {
   "cell_type": "code",
   "execution_count": null,
   "id": "03a9895a",
   "metadata": {},
   "outputs": [],
   "source": [
    "emp_data = {'emp_1': {'name': 'Israr', 'age': 44, 'salary': 434234324},\n",
    " 'emp_2': {'name': 'Abhishek', 'age': 33, 'salary': 545345},\n",
    " 'emp_3': {'name': 'Dona', 'age': 23, 'salary': 5346546},\n",
    " 'emp_4': {'name': 'Madhumita', 'age': 28, 'salary': 456456},\n",
    " 'emp_5': {'name': 'John', 'age': 34, 'salary': 456456},\n",
    " 'emp_6': {'name': 'xyz', 'age': 43, 'salary': 654645654},\n",
    " 'emp_7': {'name': 'lmn', 'age': 65, 'salary': 34534534},\n",
    " 'emp_8': {'name': 'pqr', 'age': 56, 'salary': 3425345345},\n",
    " 'emp_9': {'name': 'tyu', 'age': 34, 'salary': 543534534, 'New': 'details'},\n",
    " 'emp_10': {'name': 'uyer', 'age': 345, 'salary': 45634534534}}\n",
    "\n",
    "emp_data\n",
    "\n",
    "\n",
    "\n",
    "for i in emp_data:\n",
    "    if 'New' not in i:\n",
    "        emp_data[i]['New'] = None\n",
    "\n",
    "print(emp_data)"
   ]
  },
  {
   "cell_type": "code",
   "execution_count": 76,
   "id": "fb85cda5",
   "metadata": {},
   "outputs": [
    {
     "data": {
      "text/plain": [
       "{'emp_1': {'name': 'Israr', 'age': 44, 'salary': 434234324, 'New': None},\n",
       " 'emp_2': {'name': 'Abhishek', 'age': 33, 'salary': 545345, 'New': None},\n",
       " 'emp_3': {'name': 'Dona', 'age': 23, 'salary': 5346546, 'New': None},\n",
       " 'emp_4': {'name': 'Madhumita', 'age': 28, 'salary': 456456, 'New': None},\n",
       " 'emp_5': {'name': 'John', 'age': 34, 'salary': 456456, 'New': None},\n",
       " 'emp_6': {'name': 'xyz', 'age': 43, 'salary': 654645654, 'New': None},\n",
       " 'emp_7': {'name': 'lmn', 'age': 65, 'salary': 34534534, 'New': None},\n",
       " 'emp_8': {'name': 'pqr', 'age': 56, 'salary': 3425345345, 'New': None},\n",
       " 'emp_9': {'name': 'tyu', 'age': 34, 'salary': 543534534, 'New': 'details'},\n",
       " 'emp_10': {'name': 'uyer', 'age': 345, 'salary': 45634534534, 'New': None}}"
      ]
     },
     "execution_count": 76,
     "metadata": {},
     "output_type": "execute_result"
    }
   ],
   "source": [
    "emp_data"
   ]
  },
  {
   "cell_type": "markdown",
   "id": "810a5496",
   "metadata": {},
   "source": [
    "# Methods to remove the items from the dict\n",
    "\n",
    "- pop\n",
    "- popitem"
   ]
  },
  {
   "cell_type": "code",
   "execution_count": 77,
   "id": "08c55da6",
   "metadata": {},
   "outputs": [
    {
     "name": "stdout",
     "output_type": "stream",
     "text": [
      "['__class__', '__class_getitem__', '__contains__', '__delattr__', '__delitem__', '__dir__', '__doc__', '__eq__', '__format__', '__ge__', '__getattribute__', '__getitem__', '__getstate__', '__gt__', '__hash__', '__init__', '__init_subclass__', '__ior__', '__iter__', '__le__', '__len__', '__lt__', '__ne__', '__new__', '__or__', '__reduce__', '__reduce_ex__', '__repr__', '__reversed__', '__ror__', '__setattr__', '__setitem__', '__sizeof__', '__str__', '__subclasshook__', 'clear', 'copy', 'fromkeys', 'get', 'items', 'keys', 'pop', 'popitem', 'setdefault', 'update', 'values']\n"
     ]
    }
   ],
   "source": [
    "print(dir(dict))"
   ]
  },
  {
   "cell_type": "markdown",
   "id": "0accc9a9",
   "metadata": {},
   "source": [
    "# POP\n",
    "\n",
    "\n",
    "- It'll remove the items according to the key\n",
    "- And returns you the value of the removed item"
   ]
  },
  {
   "cell_type": "code",
   "execution_count": 88,
   "id": "ce4cae79",
   "metadata": {},
   "outputs": [
    {
     "data": {
      "text/plain": [
       "{'name': 'John', 'age': 34, 'salary': 456456}"
      ]
     },
     "execution_count": 88,
     "metadata": {},
     "output_type": "execute_result"
    }
   ],
   "source": [
    "emp_data = {'emp_1': {'name': 'Israr', 'age': 44, 'salary': 434234324},\n",
    " 'emp_2': {'name': 'Abhishek', 'age': 33, 'salary': 545345},\n",
    " 'emp_3': {'name': 'Dona', 'age': 23, 'salary': 5346546},\n",
    " 'emp_4': {'name': 'Madhumita', 'age': 28, 'salary': 456456},\n",
    " 'emp_5': {'name': 'John', 'age': 34, 'salary': 456456},\n",
    " 'emp_6': {'name': 'xyz', 'age': 43, 'salary': 654645654},\n",
    " 'emp_7': {'name': 'lmn', 'age': 65, 'salary': 34534534},\n",
    " 'emp_8': {'name': 'pqr', 'age': 56, 'salary': 3425345345},\n",
    " 'emp_9': {'name': 'tyu', 'age': 34, 'salary': 543534534, 'New': 'details'},\n",
    " 'emp_10': {'name': 'uyer', 'age': 345, 'salary': 45634534534}}\n",
    "\n",
    "\n",
    "emp_data.pop('emp_5')"
   ]
  },
  {
   "cell_type": "code",
   "execution_count": 82,
   "id": "5b374958",
   "metadata": {},
   "outputs": [
    {
     "ename": "KeyError",
     "evalue": "'emp_45'",
     "output_type": "error",
     "traceback": [
      "\u001b[1;31m---------------------------------------------------------------------------\u001b[0m",
      "\u001b[1;31mKeyError\u001b[0m                                  Traceback (most recent call last)",
      "Cell \u001b[1;32mIn[82], line 13\u001b[0m\n\u001b[0;32m      1\u001b[0m emp_data \u001b[38;5;241m=\u001b[39m {\u001b[38;5;124m'\u001b[39m\u001b[38;5;124memp_1\u001b[39m\u001b[38;5;124m'\u001b[39m: {\u001b[38;5;124m'\u001b[39m\u001b[38;5;124mname\u001b[39m\u001b[38;5;124m'\u001b[39m: \u001b[38;5;124m'\u001b[39m\u001b[38;5;124mIsrar\u001b[39m\u001b[38;5;124m'\u001b[39m, \u001b[38;5;124m'\u001b[39m\u001b[38;5;124mage\u001b[39m\u001b[38;5;124m'\u001b[39m: \u001b[38;5;241m44\u001b[39m, \u001b[38;5;124m'\u001b[39m\u001b[38;5;124msalary\u001b[39m\u001b[38;5;124m'\u001b[39m: \u001b[38;5;241m434234324\u001b[39m},\n\u001b[0;32m      2\u001b[0m  \u001b[38;5;124m'\u001b[39m\u001b[38;5;124memp_2\u001b[39m\u001b[38;5;124m'\u001b[39m: {\u001b[38;5;124m'\u001b[39m\u001b[38;5;124mname\u001b[39m\u001b[38;5;124m'\u001b[39m: \u001b[38;5;124m'\u001b[39m\u001b[38;5;124mAbhishek\u001b[39m\u001b[38;5;124m'\u001b[39m, \u001b[38;5;124m'\u001b[39m\u001b[38;5;124mage\u001b[39m\u001b[38;5;124m'\u001b[39m: \u001b[38;5;241m33\u001b[39m, \u001b[38;5;124m'\u001b[39m\u001b[38;5;124msalary\u001b[39m\u001b[38;5;124m'\u001b[39m: \u001b[38;5;241m545345\u001b[39m},\n\u001b[0;32m      3\u001b[0m  \u001b[38;5;124m'\u001b[39m\u001b[38;5;124memp_3\u001b[39m\u001b[38;5;124m'\u001b[39m: {\u001b[38;5;124m'\u001b[39m\u001b[38;5;124mname\u001b[39m\u001b[38;5;124m'\u001b[39m: \u001b[38;5;124m'\u001b[39m\u001b[38;5;124mDona\u001b[39m\u001b[38;5;124m'\u001b[39m, \u001b[38;5;124m'\u001b[39m\u001b[38;5;124mage\u001b[39m\u001b[38;5;124m'\u001b[39m: \u001b[38;5;241m23\u001b[39m, \u001b[38;5;124m'\u001b[39m\u001b[38;5;124msalary\u001b[39m\u001b[38;5;124m'\u001b[39m: \u001b[38;5;241m5346546\u001b[39m},\n\u001b[1;32m   (...)\u001b[0m\n\u001b[0;32m      9\u001b[0m  \u001b[38;5;124m'\u001b[39m\u001b[38;5;124memp_9\u001b[39m\u001b[38;5;124m'\u001b[39m: {\u001b[38;5;124m'\u001b[39m\u001b[38;5;124mname\u001b[39m\u001b[38;5;124m'\u001b[39m: \u001b[38;5;124m'\u001b[39m\u001b[38;5;124mtyu\u001b[39m\u001b[38;5;124m'\u001b[39m, \u001b[38;5;124m'\u001b[39m\u001b[38;5;124mage\u001b[39m\u001b[38;5;124m'\u001b[39m: \u001b[38;5;241m34\u001b[39m, \u001b[38;5;124m'\u001b[39m\u001b[38;5;124msalary\u001b[39m\u001b[38;5;124m'\u001b[39m: \u001b[38;5;241m543534534\u001b[39m, \u001b[38;5;124m'\u001b[39m\u001b[38;5;124mNew\u001b[39m\u001b[38;5;124m'\u001b[39m: \u001b[38;5;124m'\u001b[39m\u001b[38;5;124mdetails\u001b[39m\u001b[38;5;124m'\u001b[39m},\n\u001b[0;32m     10\u001b[0m  \u001b[38;5;124m'\u001b[39m\u001b[38;5;124memp_10\u001b[39m\u001b[38;5;124m'\u001b[39m: {\u001b[38;5;124m'\u001b[39m\u001b[38;5;124mname\u001b[39m\u001b[38;5;124m'\u001b[39m: \u001b[38;5;124m'\u001b[39m\u001b[38;5;124muyer\u001b[39m\u001b[38;5;124m'\u001b[39m, \u001b[38;5;124m'\u001b[39m\u001b[38;5;124mage\u001b[39m\u001b[38;5;124m'\u001b[39m: \u001b[38;5;241m345\u001b[39m, \u001b[38;5;124m'\u001b[39m\u001b[38;5;124msalary\u001b[39m\u001b[38;5;124m'\u001b[39m: \u001b[38;5;241m45634534534\u001b[39m}}\n\u001b[1;32m---> 13\u001b[0m emp_data\u001b[38;5;241m.\u001b[39mpop(\u001b[38;5;124m'\u001b[39m\u001b[38;5;124memp_45\u001b[39m\u001b[38;5;124m'\u001b[39m)\n",
      "\u001b[1;31mKeyError\u001b[0m: 'emp_45'"
     ]
    }
   ],
   "source": [
    "emp_data = {'emp_1': {'name': 'Israr', 'age': 44, 'salary': 434234324},\n",
    " 'emp_2': {'name': 'Abhishek', 'age': 33, 'salary': 545345},\n",
    " 'emp_3': {'name': 'Dona', 'age': 23, 'salary': 5346546},\n",
    " 'emp_4': {'name': 'Madhumita', 'age': 28, 'salary': 456456},\n",
    " 'emp_5': {'name': 'John', 'age': 34, 'salary': 456456},\n",
    " 'emp_6': {'name': 'xyz', 'age': 43, 'salary': 654645654},\n",
    " 'emp_7': {'name': 'lmn', 'age': 65, 'salary': 34534534},\n",
    " 'emp_8': {'name': 'pqr', 'age': 56, 'salary': 3425345345},\n",
    " 'emp_9': {'name': 'tyu', 'age': 34, 'salary': 543534534, 'New': 'details'},\n",
    " 'emp_10': {'name': 'uyer', 'age': 345, 'salary': 45634534534}}\n",
    "\n",
    "\n",
    "emp_data.pop('emp_45')"
   ]
  },
  {
   "cell_type": "code",
   "execution_count": 79,
   "id": "4517785f",
   "metadata": {},
   "outputs": [
    {
     "data": {
      "text/plain": [
       "{'emp_1': {'name': 'Israr', 'age': 44, 'salary': 434234324},\n",
       " 'emp_2': {'name': 'Abhishek', 'age': 33, 'salary': 545345},\n",
       " 'emp_3': {'name': 'Dona', 'age': 23, 'salary': 5346546},\n",
       " 'emp_4': {'name': 'Madhumita', 'age': 28, 'salary': 456456},\n",
       " 'emp_6': {'name': 'xyz', 'age': 43, 'salary': 654645654},\n",
       " 'emp_7': {'name': 'lmn', 'age': 65, 'salary': 34534534},\n",
       " 'emp_8': {'name': 'pqr', 'age': 56, 'salary': 3425345345},\n",
       " 'emp_9': {'name': 'tyu', 'age': 34, 'salary': 543534534, 'New': 'details'},\n",
       " 'emp_10': {'name': 'uyer', 'age': 345, 'salary': 45634534534}}"
      ]
     },
     "execution_count": 79,
     "metadata": {},
     "output_type": "execute_result"
    }
   ],
   "source": [
    "emp_data"
   ]
  },
  {
   "cell_type": "markdown",
   "id": "90db0ad2",
   "metadata": {},
   "source": [
    "# popitem"
   ]
  },
  {
   "cell_type": "code",
   "execution_count": 80,
   "id": "3eafb708",
   "metadata": {},
   "outputs": [
    {
     "data": {
      "text/plain": [
       "('emp_10', {'name': 'uyer', 'age': 345, 'salary': 45634534534})"
      ]
     },
     "execution_count": 80,
     "metadata": {},
     "output_type": "execute_result"
    }
   ],
   "source": [
    "emp_data = {'emp_1': {'name': 'Israr', 'age': 44, 'salary': 434234324},\n",
    " 'emp_2': {'name': 'Abhishek', 'age': 33, 'salary': 545345},\n",
    " 'emp_3': {'name': 'Dona', 'age': 23, 'salary': 5346546},\n",
    " 'emp_4': {'name': 'Madhumita', 'age': 28, 'salary': 456456},\n",
    " 'emp_5': {'name': 'John', 'age': 34, 'salary': 456456},\n",
    " 'emp_6': {'name': 'xyz', 'age': 43, 'salary': 654645654},\n",
    " 'emp_7': {'name': 'lmn', 'age': 65, 'salary': 34534534},\n",
    " 'emp_8': {'name': 'pqr', 'age': 56, 'salary': 3425345345},\n",
    " 'emp_9': {'name': 'tyu', 'age': 34, 'salary': 543534534, 'New': 'details'},\n",
    " 'emp_10': {'name': 'uyer', 'age': 345, 'salary': 45634534534}}\n",
    "\n",
    "\n",
    "emp_data.popitem()"
   ]
  },
  {
   "cell_type": "code",
   "execution_count": 81,
   "id": "a9bf2d3d",
   "metadata": {},
   "outputs": [
    {
     "data": {
      "text/plain": [
       "{'emp_1': {'name': 'Israr', 'age': 44, 'salary': 434234324},\n",
       " 'emp_2': {'name': 'Abhishek', 'age': 33, 'salary': 545345},\n",
       " 'emp_3': {'name': 'Dona', 'age': 23, 'salary': 5346546},\n",
       " 'emp_4': {'name': 'Madhumita', 'age': 28, 'salary': 456456},\n",
       " 'emp_5': {'name': 'John', 'age': 34, 'salary': 456456},\n",
       " 'emp_6': {'name': 'xyz', 'age': 43, 'salary': 654645654},\n",
       " 'emp_7': {'name': 'lmn', 'age': 65, 'salary': 34534534},\n",
       " 'emp_8': {'name': 'pqr', 'age': 56, 'salary': 3425345345},\n",
       " 'emp_9': {'name': 'tyu', 'age': 34, 'salary': 543534534, 'New': 'details'}}"
      ]
     },
     "execution_count": 81,
     "metadata": {},
     "output_type": "execute_result"
    }
   ],
   "source": [
    "emp_data"
   ]
  },
  {
   "cell_type": "code",
   "execution_count": 89,
   "id": "edd3be1d",
   "metadata": {},
   "outputs": [],
   "source": [
    "emp_data = {'emp_1': {'name': 'Israr', 'age': 44, 'salary': 434234324},\n",
    " 'emp_2': {'name': 'Abhishek', 'age': 33, 'salary': 545345},\n",
    " 'emp_3': {'name': 'Dona', 'age': 23, 'salary': 5346546},\n",
    " 'emp_4': {'name': 'Madhumita', 'age': 28, 'salary': 456456},\n",
    " 'emp_5': {'name': 'John', 'age': 34, 'salary': 456456},\n",
    " 'emp_6': {'name': 'xyz', 'age': 43, 'salary': 654645654},\n",
    " 'emp_7': {'name': 'lmn', 'age': 65, 'salary': 34534534},\n",
    " 'emp_8': {'name': 'pqr', 'age': 56, 'salary': 3425345345},\n",
    " 'emp_9': {'name': 'tyu', 'age': 34, 'salary': 543534534, 'New': 'details'},\n",
    " 'emp_10': {'name': 'uyer', 'age': 345, 'salary': 45634534534}}\n",
    "\n",
    "\n",
    "ex_emp = {}"
   ]
  },
  {
   "cell_type": "code",
   "execution_count": 95,
   "id": "07947001",
   "metadata": {},
   "outputs": [
    {
     "name": "stdout",
     "output_type": "stream",
     "text": [
      "Enter the emp id : emp_6\n"
     ]
    },
    {
     "data": {
      "text/plain": [
       "{'name': 'xyz', 'age': 43, 'salary': 654645654}"
      ]
     },
     "execution_count": 95,
     "metadata": {},
     "output_type": "execute_result"
    }
   ],
   "source": [
    "a = input('Enter the emp id : ')\n",
    "\n",
    "ex_emp.setdefault(a , emp_data.pop(a))"
   ]
  },
  {
   "cell_type": "code",
   "execution_count": 96,
   "id": "1ad26dfd",
   "metadata": {},
   "outputs": [
    {
     "data": {
      "text/plain": [
       "{'emp_1': {'name': 'Israr', 'age': 44, 'salary': 434234324},\n",
       " 'emp_2': {'name': 'Abhishek', 'age': 33, 'salary': 545345},\n",
       " 'emp_3': {'name': 'Dona', 'age': 23, 'salary': 5346546},\n",
       " 'emp_4': {'name': 'Madhumita', 'age': 28, 'salary': 456456},\n",
       " 'emp_5': {'name': 'John', 'age': 34, 'salary': 456456},\n",
       " 'emp_7': {'name': 'lmn', 'age': 65, 'salary': 34534534},\n",
       " 'emp_9': {'name': 'tyu', 'age': 34, 'salary': 543534534, 'New': 'details'},\n",
       " 'emp_10': {'name': 'uyer', 'age': 345, 'salary': 45634534534}}"
      ]
     },
     "execution_count": 96,
     "metadata": {},
     "output_type": "execute_result"
    }
   ],
   "source": [
    "emp_data"
   ]
  },
  {
   "cell_type": "code",
   "execution_count": 97,
   "id": "e96c4d2e",
   "metadata": {},
   "outputs": [
    {
     "data": {
      "text/plain": [
       "{'emp_8': {'name': 'pqr', 'age': 56, 'salary': 3425345345},\n",
       " 'emp_6': {'name': 'xyz', 'age': 43, 'salary': 654645654}}"
      ]
     },
     "execution_count": 97,
     "metadata": {},
     "output_type": "execute_result"
    }
   ],
   "source": [
    "ex_emp"
   ]
  },
  {
   "cell_type": "code",
   "execution_count": 98,
   "id": "cf34e706",
   "metadata": {},
   "outputs": [
    {
     "name": "stdout",
     "output_type": "stream",
     "text": [
      "['__class__', '__class_getitem__', '__contains__', '__delattr__', '__delitem__', '__dir__', '__doc__', '__eq__', '__format__', '__ge__', '__getattribute__', '__getitem__', '__getstate__', '__gt__', '__hash__', '__init__', '__init_subclass__', '__ior__', '__iter__', '__le__', '__len__', '__lt__', '__ne__', '__new__', '__or__', '__reduce__', '__reduce_ex__', '__repr__', '__reversed__', '__ror__', '__setattr__', '__setitem__', '__sizeof__', '__str__', '__subclasshook__', 'clear', 'copy', 'fromkeys', 'get', 'items', 'keys', 'pop', 'popitem', 'setdefault', 'update', 'values']\n"
     ]
    }
   ],
   "source": [
    "print(dir(dict))"
   ]
  },
  {
   "cell_type": "markdown",
   "id": "67a6f122",
   "metadata": {},
   "source": [
    "# Keys , values , items"
   ]
  },
  {
   "cell_type": "code",
   "execution_count": 103,
   "id": "024756a1",
   "metadata": {},
   "outputs": [
    {
     "name": "stdout",
     "output_type": "stream",
     "text": [
      "emp_1\n",
      "emp_2\n",
      "emp_3\n",
      "emp_4\n",
      "emp_5\n",
      "emp_6\n",
      "emp_7\n",
      "emp_8\n",
      "emp_9\n",
      "emp_10\n"
     ]
    }
   ],
   "source": [
    "emp_data = {'emp_1': {'name': 'Israr', 'age': 44, 'salary': 434234324},\n",
    " 'emp_2': {'name': 'Abhishek', 'age': 33, 'salary': 545345},\n",
    " 'emp_3': {'name': 'Dona', 'age': 23, 'salary': 5346546},\n",
    " 'emp_4': {'name': 'Madhumita', 'age': 28, 'salary': 456456},\n",
    " 'emp_5': {'name': 'John', 'age': 34, 'salary': 456456},\n",
    " 'emp_6': {'name': 'xyz', 'age': 43, 'salary': 654645654},\n",
    " 'emp_7': {'name': 'lmn', 'age': 65, 'salary': 34534534},\n",
    " 'emp_8': {'name': 'pqr', 'age': 56, 'salary': 3425345345},\n",
    " 'emp_9': {'name': 'tyu', 'age': 34, 'salary': 543534534, 'New': 'details'},\n",
    " 'emp_10': {'name': 'uyer', 'age': 345, 'salary': 45634534534}}\n",
    "\n",
    "\n",
    "for i in emp_data.keys():\n",
    "    print(i)"
   ]
  },
  {
   "cell_type": "code",
   "execution_count": 104,
   "id": "6405fb90",
   "metadata": {},
   "outputs": [
    {
     "name": "stdout",
     "output_type": "stream",
     "text": [
      "{'name': 'Israr', 'age': 44, 'salary': 434234324}\n",
      "{'name': 'Abhishek', 'age': 33, 'salary': 545345}\n",
      "{'name': 'Dona', 'age': 23, 'salary': 5346546}\n",
      "{'name': 'Madhumita', 'age': 28, 'salary': 456456}\n",
      "{'name': 'John', 'age': 34, 'salary': 456456}\n",
      "{'name': 'xyz', 'age': 43, 'salary': 654645654}\n",
      "{'name': 'lmn', 'age': 65, 'salary': 34534534}\n",
      "{'name': 'pqr', 'age': 56, 'salary': 3425345345}\n",
      "{'name': 'tyu', 'age': 34, 'salary': 543534534, 'New': 'details'}\n",
      "{'name': 'uyer', 'age': 345, 'salary': 45634534534}\n"
     ]
    }
   ],
   "source": [
    "emp_data = {'emp_1': {'name': 'Israr', 'age': 44, 'salary': 434234324},\n",
    " 'emp_2': {'name': 'Abhishek', 'age': 33, 'salary': 545345},\n",
    " 'emp_3': {'name': 'Dona', 'age': 23, 'salary': 5346546},\n",
    " 'emp_4': {'name': 'Madhumita', 'age': 28, 'salary': 456456},\n",
    " 'emp_5': {'name': 'John', 'age': 34, 'salary': 456456},\n",
    " 'emp_6': {'name': 'xyz', 'age': 43, 'salary': 654645654},\n",
    " 'emp_7': {'name': 'lmn', 'age': 65, 'salary': 34534534},\n",
    " 'emp_8': {'name': 'pqr', 'age': 56, 'salary': 3425345345},\n",
    " 'emp_9': {'name': 'tyu', 'age': 34, 'salary': 543534534, 'New': 'details'},\n",
    " 'emp_10': {'name': 'uyer', 'age': 345, 'salary': 45634534534}}\n",
    "\n",
    "\n",
    "for i in emp_data.values():\n",
    "    print(i)"
   ]
  },
  {
   "cell_type": "code",
   "execution_count": 107,
   "id": "49b71f8d",
   "metadata": {},
   "outputs": [
    {
     "name": "stdout",
     "output_type": "stream",
     "text": [
      "emp_1 {'name': 'Israr', 'age': 44, 'salary': 434234324}\n",
      "emp_2 {'name': 'Abhishek', 'age': 33, 'salary': 545345}\n",
      "emp_3 {'name': 'Dona', 'age': 23, 'salary': 5346546}\n",
      "emp_4 {'name': 'Madhumita', 'age': 28, 'salary': 456456}\n",
      "emp_5 {'name': 'John', 'age': 34, 'salary': 456456}\n",
      "emp_6 {'name': 'xyz', 'age': 43, 'salary': 654645654}\n",
      "emp_7 {'name': 'lmn', 'age': 65, 'salary': 34534534}\n",
      "emp_8 {'name': 'pqr', 'age': 56, 'salary': 3425345345}\n",
      "emp_9 {'name': 'tyu', 'age': 34, 'salary': 543534534, 'New': 'details'}\n",
      "emp_10 {'name': 'uyer', 'age': 345, 'salary': 45634534534}\n"
     ]
    }
   ],
   "source": [
    "emp_data = {'emp_1': {'name': 'Israr', 'age': 44, 'salary': 434234324},\n",
    " 'emp_2': {'name': 'Abhishek', 'age': 33, 'salary': 545345},\n",
    " 'emp_3': {'name': 'Dona', 'age': 23, 'salary': 5346546},\n",
    " 'emp_4': {'name': 'Madhumita', 'age': 28, 'salary': 456456},\n",
    " 'emp_5': {'name': 'John', 'age': 34, 'salary': 456456},\n",
    " 'emp_6': {'name': 'xyz', 'age': 43, 'salary': 654645654},\n",
    " 'emp_7': {'name': 'lmn', 'age': 65, 'salary': 34534534},\n",
    " 'emp_8': {'name': 'pqr', 'age': 56, 'salary': 3425345345},\n",
    " 'emp_9': {'name': 'tyu', 'age': 34, 'salary': 543534534, 'New': 'details'},\n",
    " 'emp_10': {'name': 'uyer', 'age': 345, 'salary': 45634534534}}\n",
    "\n",
    "for i,j in emp_data.items():\n",
    "    print(i , j)"
   ]
  },
  {
   "cell_type": "code",
   "execution_count": 113,
   "id": "8df9b772",
   "metadata": {},
   "outputs": [
    {
     "name": "stdout",
     "output_type": "stream",
     "text": [
      "dict_items([('name', 'lmn'), ('age', 65), ('salary', 34534534)])\n",
      "dict_items([('name', 'pqr'), ('age', 56), ('salary', 3425345345)])\n",
      "dict_items([('name', 'uyer'), ('age', 345), ('salary', 45634534534)])\n"
     ]
    }
   ],
   "source": [
    "emp_data = {'emp_1': {'name': 'Israr', 'age': 44, 'salary': 434234324},\n",
    " 'emp_2': {'name': 'Abhishek', 'age': 33, 'salary': 545345},\n",
    " 'emp_3': {'name': 'Dona', 'age': 23, 'salary': 5346546},\n",
    " 'emp_4': {'name': 'Madhumita', 'age': 28, 'salary': 456456},\n",
    " 'emp_5': {'name': 'John', 'age': 34, 'salary': 456456},\n",
    " 'emp_6': {'name': 'xyz', 'age': 43, 'salary': 654645654},\n",
    " 'emp_7': {'name': 'lmn', 'age': 65, 'salary': 34534534},\n",
    " 'emp_8': {'name': 'pqr', 'age': 56, 'salary': 3425345345},\n",
    " 'emp_9': {'name': 'tyu', 'age': 34, 'salary': 543534534, 'New': 'details'},\n",
    " 'emp_10': {'name': 'uyer', 'age': 345, 'salary': 45634534534}}\n",
    "\n",
    "\n",
    "# Display the complete details of the emp whose age is >50\n",
    "\n",
    "for j in emp_data.values():\n",
    "    if j.get('age') >= 50:\n",
    "        print(j.items())"
   ]
  },
  {
   "cell_type": "code",
   "execution_count": 117,
   "id": "8f7e337c",
   "metadata": {},
   "outputs": [
    {
     "name": "stdout",
     "output_type": "stream",
     "text": [
      "emp_2 Abhishek\n",
      "emp_6 Abharaham\n",
      "emp_9 Abc\n"
     ]
    }
   ],
   "source": [
    "emp_data = {'emp_1': {'name': 'Israr', 'age': 44, 'salary': 434234324},\n",
    " 'emp_2': {'name': 'Abhishek', 'age': 33, 'salary': 545345},\n",
    " 'emp_3': {'name': 'Dona', 'age': 23, 'salary': 5346546},\n",
    " 'emp_4': {'name': 'Madhumita', 'age': 28, 'salary': 456456},\n",
    " 'emp_5': {'name': 'John', 'age': 34, 'salary': 456456},\n",
    " 'emp_6': {'name': 'Abharaham', 'age': 43, 'salary': 654645654},\n",
    " 'emp_7': {'name': 'lmn', 'age': 65, 'salary': 34534534},\n",
    " 'emp_8': {'name': 'pqr', 'age': 56, 'salary': 3425345345},\n",
    " 'emp_9': {'name': 'Abc', 'age': 34, 'salary': 543534534, 'New': 'details'},\n",
    " 'emp_10': {'name': 'uyer', 'age': 345, 'salary': 45634534534}}\n",
    "\n",
    "\n",
    "# print the emp id of those emp whose name are starting with A\n",
    "\n",
    "for i in emp_data.keys():\n",
    "    if emp_data[i]['name'].startswith('A'):\n",
    "        print(i , emp_data[i]['name'])"
   ]
  },
  {
   "cell_type": "code",
   "execution_count": 118,
   "id": "30ce6c65",
   "metadata": {},
   "outputs": [
    {
     "name": "stdout",
     "output_type": "stream",
     "text": [
      "emp_2 Abhishek\n",
      "emp_6 Abharaham\n",
      "emp_9 Abc\n"
     ]
    }
   ],
   "source": [
    "emp_data = {'emp_1': {'name': 'Israr', 'age': 44, 'salary': 434234324},\n",
    " 'emp_2': {'name': 'Abhishek', 'age': 33, 'salary': 545345},\n",
    " 'emp_3': {'name': 'Dona', 'age': 23, 'salary': 5346546},\n",
    " 'emp_4': {'name': 'Madhumita', 'age': 28, 'salary': 456456},\n",
    " 'emp_5': {'name': 'John', 'age': 34, 'salary': 456456},\n",
    " 'emp_6': {'name': 'Abharaham', 'age': 43, 'salary': 654645654},\n",
    " 'emp_7': {'name': 'lmn', 'age': 65, 'salary': 34534534},\n",
    " 'emp_8': {'name': 'pqr', 'age': 56, 'salary': 3425345345},\n",
    " 'emp_9': {'name': 'Abc', 'age': 34, 'salary': 543534534, 'New': 'details'},\n",
    " 'emp_10': {'name': 'uyer', 'age': 345, 'salary': 45634534534}}\n",
    "\n",
    "\n",
    "# print the emp id of those emp whose name are starting with A\n",
    "\n",
    "for i,j in emp_data.items():\n",
    "    if j['name'].startswith('A'):\n",
    "        print(i , j['name'])"
   ]
  },
  {
   "cell_type": "code",
   "execution_count": 120,
   "id": "bae1a2aa",
   "metadata": {},
   "outputs": [
    {
     "name": "stdout",
     "output_type": "stream",
     "text": [
      "['__class__', '__class_getitem__', '__contains__', '__delattr__', '__delitem__', '__dir__', '__doc__', '__eq__', '__format__', '__ge__', '__getattribute__', '__getitem__', '__getstate__', '__gt__', '__hash__', '__init__', '__init_subclass__', '__ior__', '__iter__', '__le__', '__len__', '__lt__', '__ne__', '__new__', '__or__', '__reduce__', '__reduce_ex__', '__repr__', '__reversed__', '__ror__', '__setattr__', '__setitem__', '__sizeof__', '__str__', '__subclasshook__', 'clear', 'copy', 'fromkeys', 'get', 'items', 'keys', 'pop', 'popitem', 'setdefault', 'update', 'values']\n"
     ]
    }
   ],
   "source": [
    "print(dir(dict))"
   ]
  },
  {
   "cell_type": "markdown",
   "id": "22cff77b",
   "metadata": {},
   "source": [
    "# fromkeys"
   ]
  },
  {
   "cell_type": "code",
   "execution_count": 121,
   "id": "58050213",
   "metadata": {},
   "outputs": [
    {
     "ename": "ValueError",
     "evalue": "dictionary update sequence element #0 has length 3; 2 is required",
     "output_type": "error",
     "traceback": [
      "\u001b[1;31m---------------------------------------------------------------------------\u001b[0m",
      "\u001b[1;31mValueError\u001b[0m                                Traceback (most recent call last)",
      "Cell \u001b[1;32mIn[121], line 3\u001b[0m\n\u001b[0;32m      1\u001b[0m lst \u001b[38;5;241m=\u001b[39m [\u001b[38;5;124m'\u001b[39m\u001b[38;5;124mxyz\u001b[39m\u001b[38;5;124m'\u001b[39m , \u001b[38;5;124m'\u001b[39m\u001b[38;5;124mabc\u001b[39m\u001b[38;5;124m'\u001b[39m , \u001b[38;5;124m'\u001b[39m\u001b[38;5;124mpqr\u001b[39m\u001b[38;5;124m'\u001b[39m]\n\u001b[1;32m----> 3\u001b[0m \u001b[38;5;28mdict\u001b[39m(lst)\n",
      "\u001b[1;31mValueError\u001b[0m: dictionary update sequence element #0 has length 3; 2 is required"
     ]
    }
   ],
   "source": [
    "lst = ['xyz' , 'abc' , 'pqr']\n",
    "\n",
    "dict(lst)"
   ]
  },
  {
   "cell_type": "code",
   "execution_count": 122,
   "id": "b2267c0f",
   "metadata": {},
   "outputs": [
    {
     "data": {
      "text/plain": [
       "{1: 'xyz', 2: 'abc', 3: 'pqr'}"
      ]
     },
     "execution_count": 122,
     "metadata": {},
     "output_type": "execute_result"
    }
   ],
   "source": [
    "lst = [[1,'xyz'] , (2, 'abc') , (3,'pqr')]\n",
    "\n",
    "dict(lst)"
   ]
  },
  {
   "cell_type": "code",
   "execution_count": 124,
   "id": "3ee2c29e",
   "metadata": {},
   "outputs": [
    {
     "data": {
      "text/plain": [
       "{'xyz': None, 'abc': None, 'pqr': None}"
      ]
     },
     "execution_count": 124,
     "metadata": {},
     "output_type": "execute_result"
    }
   ],
   "source": [
    "lst = ['xyz' , 'abc' , 'pqr']\n",
    "\n",
    "dict.fromkeys(lst)"
   ]
  },
  {
   "cell_type": "code",
   "execution_count": 127,
   "id": "125d3fe6",
   "metadata": {},
   "outputs": [
    {
     "data": {
      "text/plain": [
       "{'xyz': 0, 'abc': 0, 'pqr': 0}"
      ]
     },
     "execution_count": 127,
     "metadata": {},
     "output_type": "execute_result"
    }
   ],
   "source": [
    "lst = ['xyz' , 'abc' , 'pqr']\n",
    "\n",
    "dict.fromkeys(lst , 0)"
   ]
  },
  {
   "cell_type": "code",
   "execution_count": 128,
   "id": "1431236f",
   "metadata": {},
   "outputs": [
    {
     "data": {
      "text/plain": [
       "{'xyz': 32, 'abc': 34, 'pqr': 54}"
      ]
     },
     "execution_count": 128,
     "metadata": {},
     "output_type": "execute_result"
    }
   ],
   "source": [
    "a = ['xyz' , 'abc' , 'pqr']\n",
    "\n",
    "b = [32,34,54]\n",
    "\n",
    "\n",
    "dict(zip(a,b))"
   ]
  },
  {
   "cell_type": "code",
   "execution_count": 129,
   "id": "5825e573",
   "metadata": {},
   "outputs": [
    {
     "name": "stdout",
     "output_type": "stream",
     "text": [
      "{0: 0, 1: 0, 2: 0, 3: 0, 4: 0, 5: 0, 6: 0, 7: 0, 8: 0, 9: 0, 10: 0, 11: 0, 12: 0, 13: 0, 14: 0, 15: 0, 16: 0, 17: 0, 18: 0, 19: 0, 20: 0, 21: 0, 22: 0, 23: 0, 24: 0, 25: 0, 26: 0, 27: 0, 28: 0, 29: 0, 30: 0, 31: 0, 32: 0, 33: 0, 34: 0, 35: 0, 36: 0, 37: 0, 38: 0, 39: 0, 40: 0, 41: 0, 42: 0, 43: 0, 44: 0, 45: 0, 46: 0, 47: 0, 48: 0, 49: 0, 50: 0, 51: 0, 52: 0, 53: 0, 54: 0, 55: 0, 56: 0, 57: 0, 58: 0, 59: 0, 60: 0, 61: 0, 62: 0, 63: 0, 64: 0, 65: 0, 66: 0, 67: 0, 68: 0, 69: 0, 70: 0, 71: 0, 72: 0, 73: 0, 74: 0, 75: 0, 76: 0, 77: 0, 78: 0, 79: 0, 80: 0, 81: 0, 82: 0, 83: 0, 84: 0, 85: 0, 86: 0, 87: 0, 88: 0, 89: 0, 90: 0, 91: 0, 92: 0, 93: 0, 94: 0, 95: 0, 96: 0, 97: 0, 98: 0, 99: 0, 100: 0}\n"
     ]
    }
   ],
   "source": [
    "d = dict.fromkeys(range(101) , 0)\n",
    "\n",
    "print(d)"
   ]
  },
  {
   "cell_type": "code",
   "execution_count": 130,
   "id": "b1b23b62",
   "metadata": {},
   "outputs": [],
   "source": [
    "emp_data = {'emp_1': {'name': 'Israr', 'age': 44, 'salary': 434234324},\n",
    " 'emp_2': {'name': 'Abhishek', 'age': 33, 'salary': 545345},\n",
    " 'emp_3': {'name': 'Dona', 'age': 23, 'salary': 5346546},\n",
    " 'emp_4': {'name': 'Madhumita', 'age': 28, 'salary': 456456},\n",
    " 'emp_5': {'name': 'John', 'age': 34, 'salary': 456456},\n",
    " 'emp_6': {'name': 'Abharaham', 'age': 43, 'salary': 654645654},\n",
    " 'emp_7': {'name': 'lmn', 'age': 65, 'salary': 34534534},\n",
    " 'emp_8': {'name': 'pqr', 'age': 56, 'salary': 3425345345},\n",
    " 'emp_9': {'name': 'Abc', 'age': 34, 'salary': 543534534, 'New': 'details'},\n",
    " 'emp_10': {'name': 'uyer', 'age': 345, 'salary': 45634534534}}\n",
    "\n",
    "\n",
    "emp_data.clear()"
   ]
  },
  {
   "cell_type": "code",
   "execution_count": 131,
   "id": "15425b7b",
   "metadata": {},
   "outputs": [
    {
     "data": {
      "text/plain": [
       "{}"
      ]
     },
     "execution_count": 131,
     "metadata": {},
     "output_type": "execute_result"
    }
   ],
   "source": [
    "emp_data"
   ]
  },
  {
   "cell_type": "code",
   "execution_count": 132,
   "id": "1881dec9",
   "metadata": {},
   "outputs": [],
   "source": [
    "emp_data = {'emp_1': {'name': 'Israr', 'age': 44, 'salary': 434234324},\n",
    " 'emp_2': {'name': 'Abhishek', 'age': 33, 'salary': 545345},\n",
    " 'emp_3': {'name': 'Dona', 'age': 23, 'salary': 5346546},\n",
    " 'emp_4': {'name': 'Madhumita', 'age': 28, 'salary': 456456},\n",
    " 'emp_5': {'name': 'John', 'age': 34, 'salary': 456456},\n",
    " 'emp_6': {'name': 'Abharaham', 'age': 43, 'salary': 654645654},\n",
    " 'emp_7': {'name': 'lmn', 'age': 65, 'salary': 34534534},\n",
    " 'emp_8': {'name': 'pqr', 'age': 56, 'salary': 3425345345},\n",
    " 'emp_9': {'name': 'Abc', 'age': 34, 'salary': 543534534, 'New': 'details'},\n",
    " 'emp_10': {'name': 'uyer', 'age': 345, 'salary': 45634534534}}\n",
    "\n",
    "\n",
    "del emp_data"
   ]
  },
  {
   "cell_type": "code",
   "execution_count": 133,
   "id": "9d8bcf67",
   "metadata": {},
   "outputs": [
    {
     "ename": "NameError",
     "evalue": "name 'emp_data' is not defined",
     "output_type": "error",
     "traceback": [
      "\u001b[1;31m---------------------------------------------------------------------------\u001b[0m",
      "\u001b[1;31mNameError\u001b[0m                                 Traceback (most recent call last)",
      "Cell \u001b[1;32mIn[133], line 1\u001b[0m\n\u001b[1;32m----> 1\u001b[0m emp_data\n",
      "\u001b[1;31mNameError\u001b[0m: name 'emp_data' is not defined"
     ]
    }
   ],
   "source": [
    "emp_data"
   ]
  },
  {
   "cell_type": "code",
   "execution_count": 150,
   "id": "7710949c",
   "metadata": {},
   "outputs": [
    {
     "name": "stdout",
     "output_type": "stream",
     "text": [
      "1500686813312\n",
      "1500686813888\n"
     ]
    }
   ],
   "source": [
    "emp_data = {'name': 'Israr', 'age': 44, 'salary': 434234324}\n",
    "\n",
    "\n",
    "back = emp_data.copy()\n",
    "\n",
    "print(id(emp_data))\n",
    "print(id(back))"
   ]
  },
  {
   "cell_type": "code",
   "execution_count": 144,
   "id": "53de2a0b",
   "metadata": {},
   "outputs": [
    {
     "name": "stdout",
     "output_type": "stream",
     "text": [
      "1500687065600\n",
      "1500687072384\n"
     ]
    }
   ],
   "source": [
    "emp_data = {'emp_1': {'name': 'Israr', 'age': 44, 'salary': 434234324},\n",
    " 'emp_2': {'name': 'Abhishek', 'age': 33, 'salary': 545345},\n",
    " 'emp_3': {'name': 'Dona', 'age': 23, 'salary': 5346546},\n",
    " 'emp_4': {'name': 'Madhumita', 'age': 28, 'salary': 456456},\n",
    " 'emp_5': {'name': 'John', 'age': 34, 'salary': 456456},\n",
    " 'emp_6': {'name': 'Abharaham', 'age': 43, 'salary': 654645654},\n",
    " 'emp_7': {'name': 'lmn', 'age': 65, 'salary': 34534534},\n",
    " 'emp_8': {'name': 'pqr', 'age': 56, 'salary': 3425345345},\n",
    " 'emp_9': {'name': 'Abc', 'age': 34, 'salary': 543534534, 'New': 'details'},\n",
    " 'emp_10': {'name': 'uyer', 'age': 345, 'salary': 45634534534}}\n",
    "\n",
    "\n",
    "back = emp_data.copy()\n",
    "\n",
    "print(id(emp_data))\n",
    "print(id(back))"
   ]
  },
  {
   "cell_type": "code",
   "execution_count": 145,
   "id": "cc02a339",
   "metadata": {},
   "outputs": [
    {
     "data": {
      "text/plain": [
       "{'emp_1': {'name': 'Israr', 'age': 44, 'salary': 434234324},\n",
       " 'emp_2': {'name': 'Abhishek', 'age': 33, 'salary': 545345},\n",
       " 'emp_3': {'name': 'Dona', 'age': 23, 'salary': 5346546},\n",
       " 'emp_4': {'name': 'Madhumita', 'age': 28, 'salary': 456456},\n",
       " 'emp_5': {'name': 'John', 'age': 34, 'salary': 456456},\n",
       " 'emp_6': {'name': 'Abharaham', 'age': 43, 'salary': 654645654},\n",
       " 'emp_7': {'name': 'lmn', 'age': 65, 'salary': 34534534},\n",
       " 'emp_8': {'name': 'pqr', 'age': 56, 'salary': 3425345345},\n",
       " 'emp_9': {'name': 'Abc', 'age': 34, 'salary': 543534534, 'New': 'details'},\n",
       " 'emp_10': {'name': 'uyer', 'age': 345, 'salary': 45634534534}}"
      ]
     },
     "execution_count": 145,
     "metadata": {},
     "output_type": "execute_result"
    }
   ],
   "source": [
    "back"
   ]
  },
  {
   "cell_type": "code",
   "execution_count": 146,
   "id": "5d05fcd4",
   "metadata": {},
   "outputs": [
    {
     "data": {
      "text/plain": [
       "{'emp_1': {'name': 'Israr', 'age': 44, 'salary': 434234324},\n",
       " 'emp_2': {'name': 'Abhishek', 'age': 33, 'salary': 545345},\n",
       " 'emp_3': {'name': 'Dona', 'age': 23, 'salary': 5346546},\n",
       " 'emp_4': {'name': 'Madhumita', 'age': 28, 'salary': 456456},\n",
       " 'emp_5': {'name': 'John', 'age': 34, 'salary': 456456},\n",
       " 'emp_6': {'name': 'Abharaham', 'age': 43, 'salary': 654645654},\n",
       " 'emp_7': {'name': 'lmn', 'age': 65, 'salary': 34534534},\n",
       " 'emp_8': {'name': 'pqr', 'age': 56, 'salary': 3425345345},\n",
       " 'emp_9': {'name': 'Abc', 'age': 34, 'salary': 543534534, 'New': 'details'},\n",
       " 'emp_10': {'name': 'uyer', 'age': 345, 'salary': 45634534534}}"
      ]
     },
     "execution_count": 146,
     "metadata": {},
     "output_type": "execute_result"
    }
   ],
   "source": [
    "emp_data"
   ]
  },
  {
   "cell_type": "code",
   "execution_count": 147,
   "id": "8b885489",
   "metadata": {},
   "outputs": [],
   "source": [
    "emp_data['emp_7']['age'] = 9999999"
   ]
  },
  {
   "cell_type": "code",
   "execution_count": 148,
   "id": "36692759",
   "metadata": {},
   "outputs": [
    {
     "data": {
      "text/plain": [
       "{'emp_1': {'name': 'Israr', 'age': 44, 'salary': 434234324},\n",
       " 'emp_2': {'name': 'Abhishek', 'age': 33, 'salary': 545345},\n",
       " 'emp_3': {'name': 'Dona', 'age': 23, 'salary': 5346546},\n",
       " 'emp_4': {'name': 'Madhumita', 'age': 28, 'salary': 456456},\n",
       " 'emp_5': {'name': 'John', 'age': 34, 'salary': 456456},\n",
       " 'emp_6': {'name': 'Abharaham', 'age': 43, 'salary': 654645654},\n",
       " 'emp_7': {'name': 'lmn', 'age': 9999999, 'salary': 34534534},\n",
       " 'emp_8': {'name': 'pqr', 'age': 56, 'salary': 3425345345},\n",
       " 'emp_9': {'name': 'Abc', 'age': 34, 'salary': 543534534, 'New': 'details'},\n",
       " 'emp_10': {'name': 'uyer', 'age': 345, 'salary': 45634534534}}"
      ]
     },
     "execution_count": 148,
     "metadata": {},
     "output_type": "execute_result"
    }
   ],
   "source": [
    "emp_data"
   ]
  },
  {
   "cell_type": "code",
   "execution_count": 149,
   "id": "d2266e65",
   "metadata": {},
   "outputs": [
    {
     "data": {
      "text/plain": [
       "{'emp_1': {'name': 'Israr', 'age': 44, 'salary': 434234324},\n",
       " 'emp_2': {'name': 'Abhishek', 'age': 33, 'salary': 545345},\n",
       " 'emp_3': {'name': 'Dona', 'age': 23, 'salary': 5346546},\n",
       " 'emp_4': {'name': 'Madhumita', 'age': 28, 'salary': 456456},\n",
       " 'emp_5': {'name': 'John', 'age': 34, 'salary': 456456},\n",
       " 'emp_6': {'name': 'Abharaham', 'age': 43, 'salary': 654645654},\n",
       " 'emp_7': {'name': 'lmn', 'age': 9999999, 'salary': 34534534},\n",
       " 'emp_8': {'name': 'pqr', 'age': 56, 'salary': 3425345345},\n",
       " 'emp_9': {'name': 'Abc', 'age': 34, 'salary': 543534534, 'New': 'details'},\n",
       " 'emp_10': {'name': 'uyer', 'age': 345, 'salary': 45634534534}}"
      ]
     },
     "execution_count": 149,
     "metadata": {},
     "output_type": "execute_result"
    }
   ],
   "source": [
    "back"
   ]
  },
  {
   "cell_type": "markdown",
   "id": "300e2f80",
   "metadata": {},
   "source": [
    "# Conditional statements"
   ]
  },
  {
   "cell_type": "code",
   "execution_count": null,
   "id": "2268a2c5",
   "metadata": {},
   "outputs": [],
   "source": []
  }
 ],
 "metadata": {
  "kernelspec": {
   "display_name": "Python 3 (ipykernel)",
   "language": "python",
   "name": "python3"
  },
  "language_info": {
   "codemirror_mode": {
    "name": "ipython",
    "version": 3
   },
   "file_extension": ".py",
   "mimetype": "text/x-python",
   "name": "python",
   "nbconvert_exporter": "python",
   "pygments_lexer": "ipython3",
   "version": "3.11.4"
  }
 },
 "nbformat": 4,
 "nbformat_minor": 5
}
