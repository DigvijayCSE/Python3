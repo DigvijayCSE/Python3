{
 "cells": [
  {
   "cell_type": "markdown",
   "id": "4633db78",
   "metadata": {},
   "source": [
    "# Functions - DRY"
   ]
  },
  {
   "cell_type": "code",
   "execution_count": 2,
   "id": "fdf0c67a",
   "metadata": {},
   "outputs": [
    {
     "name": "stdout",
     "output_type": "stream",
     "text": [
      "Not a palindrom\n",
      "30\n",
      "Palindrom\n",
      "50\n"
     ]
    }
   ],
   "source": [
    "# Task1\n",
    "x = 'abc'\n",
    "\n",
    "if x == x[::-1]:\n",
    "    print('Palindrom')\n",
    "else:\n",
    "    print('Not a palindrom')\n",
    "\n",
    "# Task2\n",
    "n1 = 10\n",
    "n2 = 20\n",
    "\n",
    "print(n1 + n2)\n",
    "# Task3 \n",
    "\n",
    "x = 'level'\n",
    "\n",
    "if x == x[::-1]:\n",
    "    print('Palindrom')\n",
    "else:\n",
    "    print('Not a palindrom')\n",
    "\n",
    "# Task4\n",
    "n1 = 30\n",
    "n2 = 20\n",
    "\n",
    "print(n1 + n2)"
   ]
  },
  {
   "cell_type": "markdown",
   "id": "19aa9039",
   "metadata": {},
   "source": [
    "# Best practice\n",
    "\n",
    "1. should be in as many min lines as possible\n",
    "2. Should be understandable"
   ]
  },
  {
   "cell_type": "markdown",
   "id": "11dda076",
   "metadata": {},
   "source": [
    "# Functions\n",
    "\n",
    "- function defination --> we define our code\n",
    "- function call ---> where we execute the code\n",
    "\n",
    "function defination\n",
    "\n",
    "def function_name(parameters):\n",
    "    stat1\n",
    "    stat2\n",
    "    stat3\n",
    "    return stat4\n",
    "\n",
    "\n",
    "function call\n",
    "\n",
    "function_name(arguments)\n",
    "\n",
    "# Things that are optional\n",
    "- parameters ---> If parameter are ther then arguments will be there and vice versa\n",
    "- return --> If not used by default it return None"
   ]
  },
  {
   "cell_type": "code",
   "execution_count": 3,
   "id": "dae96f55",
   "metadata": {},
   "outputs": [
    {
     "name": "stdout",
     "output_type": "stream",
     "text": [
      "50\n"
     ]
    }
   ],
   "source": [
    "n1 = 30\n",
    "n2 = 20\n",
    "\n",
    "print(n1 + n2)"
   ]
  },
  {
   "cell_type": "code",
   "execution_count": 4,
   "id": "3c45b95a",
   "metadata": {},
   "outputs": [],
   "source": [
    "# Function defination\n",
    "\n",
    "def adder():\n",
    "    print(30+20)"
   ]
  },
  {
   "cell_type": "code",
   "execution_count": 7,
   "id": "b16af3e9",
   "metadata": {},
   "outputs": [
    {
     "name": "stdout",
     "output_type": "stream",
     "text": [
      "50\n",
      "50\n",
      "50\n",
      "50\n"
     ]
    }
   ],
   "source": [
    "# Function call\n",
    "\n",
    "adder()\n",
    "adder()\n",
    "adder()\n",
    "adder()"
   ]
  },
  {
   "cell_type": "code",
   "execution_count": 14,
   "id": "06b888d8",
   "metadata": {},
   "outputs": [],
   "source": [
    "def adder(a,b):\n",
    "    print(a + b)"
   ]
  },
  {
   "cell_type": "code",
   "execution_count": 12,
   "id": "57f36533",
   "metadata": {},
   "outputs": [
    {
     "name": "stdout",
     "output_type": "stream",
     "text": [
      "50\n",
      "40\n",
      "30\n"
     ]
    }
   ],
   "source": [
    "adder(30 , 20)\n",
    "adder(30 , 10)\n",
    "adder(10 , 20)"
   ]
  },
  {
   "cell_type": "code",
   "execution_count": 15,
   "id": "cfb6f7c3",
   "metadata": {},
   "outputs": [],
   "source": [
    "def palindrom(x):\n",
    "    if x == x[::-1]:\n",
    "        print('Palindrom')\n",
    "    else:\n",
    "        print('Not a palindrom')"
   ]
  },
  {
   "cell_type": "code",
   "execution_count": 17,
   "id": "a533d538",
   "metadata": {},
   "outputs": [
    {
     "name": "stdout",
     "output_type": "stream",
     "text": [
      "Palindrom\n",
      "Not a palindrom\n"
     ]
    }
   ],
   "source": [
    "palindrom('level')\n",
    "palindrom('python')"
   ]
  },
  {
   "cell_type": "code",
   "execution_count": 22,
   "id": "e8ed5457",
   "metadata": {},
   "outputs": [
    {
     "name": "stdout",
     "output_type": "stream",
     "text": [
      "Not a palindrom\n",
      "30\n",
      "Not a palindrom\n",
      "300\n"
     ]
    }
   ],
   "source": [
    "# Task1\n",
    "palindrom('abc')\n",
    "\n",
    "# Task2\n",
    "adder(10 ,20)\n",
    "# Task3 \n",
    "\n",
    "palindrom('xyz')\n",
    "\n",
    "# Task4\n",
    "adder(100 ,200)"
   ]
  },
  {
   "cell_type": "markdown",
   "id": "b9b9a10d",
   "metadata": {},
   "source": [
    "# Type of arguments\n",
    "\n",
    "4 Types of args\n",
    "\n",
    "1. positional arguments\n",
    "2. keyword arguments\n",
    "3. default arguments\n",
    "4. variable length arguments"
   ]
  },
  {
   "cell_type": "markdown",
   "id": "13e4926f",
   "metadata": {},
   "source": [
    "# positional arguments\n",
    "\n",
    "    - The order is important\n",
    "    - the num of args should match with the number of parameters"
   ]
  },
  {
   "cell_type": "code",
   "execution_count": 24,
   "id": "41d52a9f",
   "metadata": {},
   "outputs": [
    {
     "name": "stdout",
     "output_type": "stream",
     "text": [
      "Name :  xyz\n",
      "Age :  34\n",
      "Salary :  345345345\n"
     ]
    }
   ],
   "source": [
    "def emp_info(name , age , salary):\n",
    "    print('Name : ', name)\n",
    "    print('Age : ', age)\n",
    "    print('Salary : ', salary)\n",
    "    \n",
    "emp_info('xyz' , 34 , 345345345)"
   ]
  },
  {
   "cell_type": "code",
   "execution_count": 25,
   "id": "20b908a0",
   "metadata": {},
   "outputs": [
    {
     "name": "stdout",
     "output_type": "stream",
     "text": [
      "Name :  34\n",
      "Age :  xyz\n",
      "Salary :  345345345\n"
     ]
    }
   ],
   "source": [
    "def emp_info(name , age , salary):\n",
    "    print('Name : ', name)\n",
    "    print('Age : ', age)\n",
    "    print('Salary : ', salary)\n",
    "    \n",
    "emp_info(34 , 'xyz' , 345345345)"
   ]
  },
  {
   "cell_type": "code",
   "execution_count": 26,
   "id": "94960c53",
   "metadata": {},
   "outputs": [
    {
     "ename": "TypeError",
     "evalue": "emp_info() missing 1 required positional argument: 'salary'",
     "output_type": "error",
     "traceback": [
      "\u001b[1;31m---------------------------------------------------------------------------\u001b[0m",
      "\u001b[1;31mTypeError\u001b[0m                                 Traceback (most recent call last)",
      "Cell \u001b[1;32mIn[26], line 6\u001b[0m\n\u001b[0;32m      3\u001b[0m     \u001b[38;5;28mprint\u001b[39m(\u001b[38;5;124m'\u001b[39m\u001b[38;5;124mAge : \u001b[39m\u001b[38;5;124m'\u001b[39m, age)\n\u001b[0;32m      4\u001b[0m     \u001b[38;5;28mprint\u001b[39m(\u001b[38;5;124m'\u001b[39m\u001b[38;5;124mSalary : \u001b[39m\u001b[38;5;124m'\u001b[39m, salary)\n\u001b[1;32m----> 6\u001b[0m emp_info(\u001b[38;5;124m'\u001b[39m\u001b[38;5;124mxyz\u001b[39m\u001b[38;5;124m'\u001b[39m , \u001b[38;5;241m345345345\u001b[39m)\n",
      "\u001b[1;31mTypeError\u001b[0m: emp_info() missing 1 required positional argument: 'salary'"
     ]
    }
   ],
   "source": [
    "def emp_info(name , age , salary):\n",
    "    print('Name : ', name)\n",
    "    print('Age : ', age)\n",
    "    print('Salary : ', salary)\n",
    "    \n",
    "emp_info('xyz' , 345345345)"
   ]
  },
  {
   "cell_type": "markdown",
   "id": "4df873d5",
   "metadata": {},
   "source": [
    "# Keyword args"
   ]
  },
  {
   "cell_type": "code",
   "execution_count": 27,
   "id": "a4965f59",
   "metadata": {},
   "outputs": [
    {
     "name": "stdout",
     "output_type": "stream",
     "text": [
      "Name :  xyz\n",
      "Age :  34\n",
      "Salary :  345345345\n"
     ]
    }
   ],
   "source": [
    "def emp_info(name , age , salary):\n",
    "    print('Name : ', name)\n",
    "    print('Age : ', age)\n",
    "    print('Salary : ', salary)\n",
    "    \n",
    "emp_info(name = 'xyz' , age = 34 , salary = 345345345)"
   ]
  },
  {
   "cell_type": "code",
   "execution_count": 28,
   "id": "0b89f2ac",
   "metadata": {},
   "outputs": [
    {
     "name": "stdout",
     "output_type": "stream",
     "text": [
      "Name :  xyz\n",
      "Age :  34\n",
      "Salary :  345345345\n"
     ]
    }
   ],
   "source": [
    "def emp_info(name , age , salary):\n",
    "    print('Name : ', name)\n",
    "    print('Age : ', age)\n",
    "    print('Salary : ', salary)\n",
    "    \n",
    "emp_info( age = 34 , salary = 345345345 , name = 'xyz')"
   ]
  },
  {
   "cell_type": "code",
   "execution_count": 29,
   "id": "5e841f6f",
   "metadata": {},
   "outputs": [
    {
     "ename": "SyntaxError",
     "evalue": "positional argument follows keyword argument (752483231.py, line 6)",
     "output_type": "error",
     "traceback": [
      "\u001b[1;36m  Cell \u001b[1;32mIn[29], line 6\u001b[1;36m\u001b[0m\n\u001b[1;33m    emp_info( age = 34 , salary = 345345345 , 'xyz')\u001b[0m\n\u001b[1;37m                                                   ^\u001b[0m\n\u001b[1;31mSyntaxError\u001b[0m\u001b[1;31m:\u001b[0m positional argument follows keyword argument\n"
     ]
    }
   ],
   "source": [
    "def emp_info(name , age , salary):\n",
    "    print('Name : ', name)\n",
    "    print('Age : ', age)\n",
    "    print('Salary : ', salary)\n",
    "    \n",
    "emp_info( age = 34 , salary = 345345345 , 'xyz')"
   ]
  },
  {
   "cell_type": "markdown",
   "id": "6aa22f68",
   "metadata": {},
   "source": [
    "### Note:- If you are using mix match of positional and keyword args then positional argument follows keyword argument"
   ]
  },
  {
   "cell_type": "code",
   "execution_count": 31,
   "id": "97849a47",
   "metadata": {},
   "outputs": [
    {
     "name": "stdout",
     "output_type": "stream",
     "text": [
      "Name :  xyz\n",
      "Age :  34\n",
      "Salary :  345345345\n"
     ]
    }
   ],
   "source": [
    "def emp_info(name , age , salary):\n",
    "    print('Name : ', name)\n",
    "    print('Age : ', age)\n",
    "    print('Salary : ', salary)\n",
    "    \n",
    "emp_info('xyz' ,  34 , salary = 345345345)"
   ]
  },
  {
   "cell_type": "code",
   "execution_count": 32,
   "id": "df9fe0ae",
   "metadata": {},
   "outputs": [
    {
     "ename": "TypeError",
     "evalue": "emp_info() got multiple values for argument 'name'",
     "output_type": "error",
     "traceback": [
      "\u001b[1;31m---------------------------------------------------------------------------\u001b[0m",
      "\u001b[1;31mTypeError\u001b[0m                                 Traceback (most recent call last)",
      "Cell \u001b[1;32mIn[32], line 6\u001b[0m\n\u001b[0;32m      3\u001b[0m     \u001b[38;5;28mprint\u001b[39m(\u001b[38;5;124m'\u001b[39m\u001b[38;5;124mAge : \u001b[39m\u001b[38;5;124m'\u001b[39m, age)\n\u001b[0;32m      4\u001b[0m     \u001b[38;5;28mprint\u001b[39m(\u001b[38;5;124m'\u001b[39m\u001b[38;5;124mSalary : \u001b[39m\u001b[38;5;124m'\u001b[39m, salary)\n\u001b[1;32m----> 6\u001b[0m emp_info(\u001b[38;5;241m34\u001b[39m , name \u001b[38;5;241m=\u001b[39m \u001b[38;5;124m'\u001b[39m\u001b[38;5;124mxyz\u001b[39m\u001b[38;5;124m'\u001b[39m , salary \u001b[38;5;241m=\u001b[39m \u001b[38;5;241m345345345\u001b[39m)\n",
      "\u001b[1;31mTypeError\u001b[0m: emp_info() got multiple values for argument 'name'"
     ]
    }
   ],
   "source": [
    "def emp_info(name , age , salary):\n",
    "    print('Name : ', name)\n",
    "    print('Age : ', age)\n",
    "    print('Salary : ', salary)\n",
    "    \n",
    "emp_info(34 , name = 'xyz' , salary = 345345345)"
   ]
  },
  {
   "cell_type": "code",
   "execution_count": 33,
   "id": "dc2c3c13",
   "metadata": {},
   "outputs": [
    {
     "name": "stdout",
     "output_type": "stream",
     "text": [
      "Name :  xyz\n",
      "Age :  34\n",
      "Salary :  345345345\n"
     ]
    }
   ],
   "source": [
    "def emp_info(name , age , salary):\n",
    "    print('Name : ', name)\n",
    "    print('Age : ', age)\n",
    "    print('Salary : ', salary)\n",
    "    \n",
    "emp_info(age = 34 , name = 'xyz' , salary = 345345345)"
   ]
  },
  {
   "cell_type": "markdown",
   "id": "57847df3",
   "metadata": {},
   "source": [
    "# Default arguments"
   ]
  },
  {
   "cell_type": "code",
   "execution_count": 34,
   "id": "d11fcfdc",
   "metadata": {},
   "outputs": [
    {
     "name": "stdout",
     "output_type": "stream",
     "text": [
      "Name :  xyz\n",
      "Age :  34\n",
      "Salary :  345345345\n",
      "LOC :  bangalore\n",
      "pin :  65465654\n"
     ]
    }
   ],
   "source": [
    "def emp_info(name , age , salary , loc = 'bangalore' , pin = 65465654):\n",
    "    print('Name : ', name)\n",
    "    print('Age : ', age)\n",
    "    print('Salary : ', salary)\n",
    "    print('LOC : ', loc)\n",
    "    print('pin : ', pin)\n",
    "    \n",
    "emp_info('xyz' ,  34 , 345345345)"
   ]
  },
  {
   "cell_type": "code",
   "execution_count": 35,
   "id": "d07902bc",
   "metadata": {},
   "outputs": [
    {
     "name": "stdout",
     "output_type": "stream",
     "text": [
      "Name :  xyz\n",
      "Age :  34\n",
      "Salary :  345345345\n",
      "LOC :  Goa\n",
      "pin :  345345\n"
     ]
    }
   ],
   "source": [
    "def emp_info(name , age , salary , loc = 'bangalore' , pin = 65465654):\n",
    "    print('Name : ', name)\n",
    "    print('Age : ', age)\n",
    "    print('Salary : ', salary)\n",
    "    print('LOC : ', loc)\n",
    "    print('pin : ', pin)\n",
    "    \n",
    "emp_info('xyz' ,  34 , 345345345 , 'Goa' , 345345)"
   ]
  },
  {
   "cell_type": "code",
   "execution_count": 36,
   "id": "9855ae62",
   "metadata": {},
   "outputs": [
    {
     "name": "stdout",
     "output_type": "stream",
     "text": [
      "Name :  xyz\n",
      "Age :  34\n",
      "Salary :  345345345\n",
      "LOC :  bangalore\n",
      "pin :  345345\n"
     ]
    }
   ],
   "source": [
    "def emp_info(name , age , salary , loc = 'bangalore' , pin = 65465654):\n",
    "    print('Name : ', name)\n",
    "    print('Age : ', age)\n",
    "    print('Salary : ', salary)\n",
    "    print('LOC : ', loc)\n",
    "    print('pin : ', pin)\n",
    "    \n",
    "emp_info('xyz' ,  34 , 345345345 , pin= 345345)"
   ]
  },
  {
   "cell_type": "code",
   "execution_count": 37,
   "id": "b9fdb04d",
   "metadata": {},
   "outputs": [
    {
     "ename": "SyntaxError",
     "evalue": "non-default argument follows default argument (460903168.py, line 1)",
     "output_type": "error",
     "traceback": [
      "\u001b[1;36m  Cell \u001b[1;32mIn[37], line 1\u001b[1;36m\u001b[0m\n\u001b[1;33m    def emp_info(loc = 'bangalore' , pin = 65465654 ,name , age , salary ):\u001b[0m\n\u001b[1;37m                                                     ^\u001b[0m\n\u001b[1;31mSyntaxError\u001b[0m\u001b[1;31m:\u001b[0m non-default argument follows default argument\n"
     ]
    }
   ],
   "source": [
    "def emp_info(loc = 'bangalore' , pin = 65465654 ,name , age , salary ):\n",
    "    print('Name : ', name)\n",
    "    print('Age : ', age)\n",
    "    print('Salary : ', salary)\n",
    "    print('LOC : ', loc)\n",
    "    print('pin : ', pin)\n",
    "    \n",
    "emp_info('xyz' ,  34 , 345345345 , pin= 345345)"
   ]
  },
  {
   "cell_type": "code",
   "execution_count": 39,
   "id": "d3840dd2",
   "metadata": {},
   "outputs": [
    {
     "name": "stdout",
     "output_type": "stream",
     "text": [
      "Name :  xyz\n",
      "Age :  34\n",
      "Salary :  345345345\n",
      "LOC :  Goa\n",
      "pin :  345345\n"
     ]
    }
   ],
   "source": [
    "def emp_info(name , age , salary , loc = 'bangalore' , pin = 65465654):\n",
    "    print('Name : ', name)\n",
    "    print('Age : ', age)\n",
    "    print('Salary : ', salary)\n",
    "    print('LOC : ', loc)\n",
    "    print('pin : ', pin)\n",
    "    \n",
    "emp_info('xyz' ,  34 , 345345345 , 'Goa' , 345345)"
   ]
  },
  {
   "cell_type": "code",
   "execution_count": 43,
   "id": "fa5bd997",
   "metadata": {},
   "outputs": [
    {
     "name": "stdout",
     "output_type": "stream",
     "text": [
      "Name :  xyz\n",
      "Age :  34\n",
      "Salary :  345345345\n",
      "LOC :  goa\n",
      "pin :  65465654\n"
     ]
    }
   ],
   "source": [
    "def emp_info(name , age , salary,/ , loc = 'bangalore',* , pin = 65465654):\n",
    "    print('Name : ', name)\n",
    "    print('Age : ', age)\n",
    "    print('Salary : ', salary)\n",
    "    print('LOC : ', loc)\n",
    "    print('pin : ', pin)\n",
    "    \n",
    "emp_info('xyz' ,  34 , 345345345 , 'goa' )"
   ]
  },
  {
   "cell_type": "code",
   "execution_count": 44,
   "id": "bf8a67a3",
   "metadata": {},
   "outputs": [
    {
     "name": "stdout",
     "output_type": "stream",
     "text": [
      "Name :  xyz\n",
      "Age :  34\n",
      "Salary :  345345345\n",
      "LOC :  goa\n",
      "pin :  65465654\n"
     ]
    }
   ],
   "source": [
    "def emp_info(name , age , salary,/ , loc = 'bangalore',* , pin = 65465654):\n",
    "    print('Name : ', name)\n",
    "    print('Age : ', age)\n",
    "    print('Salary : ', salary)\n",
    "    print('LOC : ', loc)\n",
    "    print('pin : ', pin)\n",
    "    \n",
    "emp_info('xyz' ,  34 , 345345345 , loc ='goa' )"
   ]
  },
  {
   "cell_type": "code",
   "execution_count": 48,
   "id": "28dea8c2",
   "metadata": {},
   "outputs": [
    {
     "name": "stdout",
     "output_type": "stream",
     "text": [
      "Name :  xyz\n",
      "Age :  34\n",
      "Salary :  345345345\n",
      "LOC :  goa\n",
      "pin :  34534\n"
     ]
    }
   ],
   "source": [
    "def emp_info(name , age , salary,/ , loc = 'bangalore',* , pin = 65465654):\n",
    "    print('Name : ', name)\n",
    "    print('Age : ', age)\n",
    "    print('Salary : ', salary)\n",
    "    print('LOC : ', loc)\n",
    "    print('pin : ', pin)\n",
    "    \n",
    "emp_info('xyz' ,  34 , 345345345 ,'goa' ,  pin = 34534 )"
   ]
  },
  {
   "cell_type": "markdown",
   "id": "81c854d9",
   "metadata": {},
   "source": [
    "# Variable length arguments\n",
    "\n",
    "*args --> take the variable length positional arguments and store it in form of a tuple\n",
    "\n",
    "\n",
    "**kwargs --> take the variable length keyword arguments and store it in form of a dict"
   ]
  },
  {
   "cell_type": "code",
   "execution_count": 54,
   "id": "25b2762c",
   "metadata": {},
   "outputs": [],
   "source": [
    "def adder(a,b):\n",
    "    print(a + b)"
   ]
  },
  {
   "cell_type": "code",
   "execution_count": 58,
   "id": "5a9d30e4",
   "metadata": {},
   "outputs": [
    {
     "name": "stdout",
     "output_type": "stream",
     "text": [
      "30\n"
     ]
    }
   ],
   "source": [
    "adder(10 ,20)"
   ]
  },
  {
   "cell_type": "code",
   "execution_count": 59,
   "id": "c5dac95f",
   "metadata": {},
   "outputs": [],
   "source": [
    "def adder(*args):\n",
    "    print(args , type(args))"
   ]
  },
  {
   "cell_type": "code",
   "execution_count": 61,
   "id": "0c931c02",
   "metadata": {},
   "outputs": [
    {
     "name": "stdout",
     "output_type": "stream",
     "text": [
      "(10, 20, 30, 40, 50, 60) <class 'tuple'>\n"
     ]
    }
   ],
   "source": [
    "adder(10 ,20,30,40,50,60)"
   ]
  },
  {
   "cell_type": "code",
   "execution_count": 62,
   "id": "5f562f95",
   "metadata": {},
   "outputs": [],
   "source": [
    "def adder(*a):\n",
    "    print(a , type(a))"
   ]
  },
  {
   "cell_type": "code",
   "execution_count": 63,
   "id": "a549b44e",
   "metadata": {},
   "outputs": [
    {
     "name": "stdout",
     "output_type": "stream",
     "text": [
      "(10, 20, 30, 40, 50, 60) <class 'tuple'>\n"
     ]
    }
   ],
   "source": [
    "adder(10 ,20,30,40,50,60)"
   ]
  },
  {
   "cell_type": "code",
   "execution_count": 64,
   "id": "949b0f0d",
   "metadata": {},
   "outputs": [],
   "source": [
    "def adder(**kwargs):\n",
    "    print(kwargs , type(kwargs))"
   ]
  },
  {
   "cell_type": "code",
   "execution_count": 65,
   "id": "6f70b2da",
   "metadata": {},
   "outputs": [
    {
     "name": "stdout",
     "output_type": "stream",
     "text": [
      "{'name': 'xyz', 'age': 67, 'sal': 78687687} <class 'dict'>\n"
     ]
    }
   ],
   "source": [
    "adder(name = 'xyz' , age = 67 , sal = 78687687)"
   ]
  },
  {
   "cell_type": "code",
   "execution_count": 66,
   "id": "03f9c8ba",
   "metadata": {},
   "outputs": [],
   "source": [
    "def adder(*args , **kwargs):\n",
    "    print(args , type(args))\n",
    "    print(kwargs , type(kwargs))"
   ]
  },
  {
   "cell_type": "code",
   "execution_count": 68,
   "id": "f79f7ab1",
   "metadata": {},
   "outputs": [
    {
     "name": "stdout",
     "output_type": "stream",
     "text": [
      "(10, 20, 30, 40, 50, 60) <class 'tuple'>\n",
      "{'name': 'xyz'} <class 'dict'>\n"
     ]
    }
   ],
   "source": [
    "adder(10 ,20,30,40,50,60 , name = 'xyz')"
   ]
  },
  {
   "cell_type": "code",
   "execution_count": 71,
   "id": "49ad4a4d",
   "metadata": {},
   "outputs": [],
   "source": [
    "emp_data = {'emp_1' : {'name' : 'Israr' , 'age':44 , 'salary':434234324} ,\n",
    "    'emp_2' : {'name' : 'Abhishek' , 'age':33 , 'salary':545345} ,\n",
    "    'emp_3' : {'name' : 'Dona' , 'age':23 , 'salary':5346546} ,\n",
    "    'emp_4' : {'name' : 'Madhumita' , 'age':28 , 'salary':456456} ,\n",
    "    'emp_5' : {'name' : 'John' , 'age':34 , 'salary':456456}}"
   ]
  },
  {
   "cell_type": "code",
   "execution_count": 77,
   "id": "da545201",
   "metadata": {},
   "outputs": [],
   "source": [
    "def emp_adder(name , age , salary , **kwargs):\n",
    "    key = f'emp_{len(emp_data) +1}'\n",
    "    d = {'name' : name, 'age':age , 'salary':salary}\n",
    "    d.update(kwargs)\n",
    "    emp_data.setdefault(key , d)"
   ]
  },
  {
   "cell_type": "code",
   "execution_count": 79,
   "id": "289ca007",
   "metadata": {},
   "outputs": [
    {
     "data": {
      "text/plain": [
       "{'emp_1': {'name': 'Israr', 'age': 44, 'salary': 434234324},\n",
       " 'emp_2': {'name': 'Abhishek', 'age': 33, 'salary': 545345},\n",
       " 'emp_3': {'name': 'Dona', 'age': 23, 'salary': 5346546},\n",
       " 'emp_4': {'name': 'Madhumita', 'age': 28, 'salary': 456456},\n",
       " 'emp_5': {'name': 'John', 'age': 34, 'salary': 456456},\n",
       " 'emp_6': {'name': 'xyz', 'age': 23, 'salary': 5345345345},\n",
       " 'emp_7': {'name': 'abc', 'age': 25, 'salary': 5345345345},\n",
       " 'emp_8': {'name': 'new_emp', 'age': 25, 'salary': 5345345345},\n",
       " 'emp_9': {'name': 'new_emp', 'age': 25, 'salary': 5345345345, 'pan': 23432},\n",
       " 'emp_10': {'name': 'new_emp',\n",
       "  'age': 25,\n",
       "  'salary': 5345345345,\n",
       "  'pan': 23432,\n",
       "  'adhar': 234234}}"
      ]
     },
     "execution_count": 79,
     "metadata": {},
     "output_type": "execute_result"
    }
   ],
   "source": [
    "emp_adder('new_emp' , 25 , 5345345345 ,pan = 23432,adhar = 234234)\n",
    "\n",
    "emp_data"
   ]
  },
  {
   "cell_type": "code",
   "execution_count": 81,
   "id": "65efde71",
   "metadata": {},
   "outputs": [],
   "source": [
    "def emp_adder(name , age , salary , **kwargs):\n",
    "    '''This is a function\n",
    "    used to insert an emp details \n",
    "    in emp_data'''\n",
    "    key = f'emp_{len(emp_data) +1}'\n",
    "    d = {'name' : name, 'age':age , 'salary':salary}\n",
    "    d.update(kwargs)\n",
    "    emp_data.setdefault(key , d)"
   ]
  },
  {
   "cell_type": "code",
   "execution_count": null,
   "id": "8611c2e6",
   "metadata": {},
   "outputs": [],
   "source": [
    "emp_adder()"
   ]
  },
  {
   "cell_type": "markdown",
   "id": "64001e0f",
   "metadata": {},
   "source": [
    "# Return \n",
    "\n",
    "- If not used by default every function returns None\n",
    "- You can return any data type \n",
    "- You can execute return only once"
   ]
  },
  {
   "cell_type": "code",
   "execution_count": 82,
   "id": "278c0da8",
   "metadata": {},
   "outputs": [],
   "source": [
    "def adder(a,b):\n",
    "    c = a+b\n",
    "    print(c)"
   ]
  },
  {
   "cell_type": "code",
   "execution_count": 84,
   "id": "ca40ff8f",
   "metadata": {},
   "outputs": [
    {
     "name": "stdout",
     "output_type": "stream",
     "text": [
      "30\n"
     ]
    }
   ],
   "source": [
    "re = adder(10,20)"
   ]
  },
  {
   "cell_type": "code",
   "execution_count": 85,
   "id": "8dc34a2d",
   "metadata": {},
   "outputs": [
    {
     "name": "stdout",
     "output_type": "stream",
     "text": [
      "None\n"
     ]
    }
   ],
   "source": [
    "print(re)"
   ]
  },
  {
   "cell_type": "code",
   "execution_count": 86,
   "id": "7039695a",
   "metadata": {},
   "outputs": [],
   "source": [
    "def adder(a,b):\n",
    "    c = a+b\n",
    "    return c"
   ]
  },
  {
   "cell_type": "code",
   "execution_count": 87,
   "id": "09f548b7",
   "metadata": {},
   "outputs": [],
   "source": [
    "re = adder(10,20)"
   ]
  },
  {
   "cell_type": "code",
   "execution_count": 88,
   "id": "5527356e",
   "metadata": {},
   "outputs": [
    {
     "name": "stdout",
     "output_type": "stream",
     "text": [
      "30\n"
     ]
    }
   ],
   "source": [
    "print(re)"
   ]
  },
  {
   "cell_type": "code",
   "execution_count": 91,
   "id": "7029ac96",
   "metadata": {},
   "outputs": [
    {
     "name": "stdout",
     "output_type": "stream",
     "text": [
      "[2, 3, 43]\n"
     ]
    }
   ],
   "source": [
    "def adder(a,b):\n",
    "    c = a+b\n",
    "    return [2,3,43]\n",
    "\n",
    "re = adder(10,20)\n",
    "print(re)"
   ]
  },
  {
   "cell_type": "code",
   "execution_count": 94,
   "id": "47f7f1db",
   "metadata": {},
   "outputs": [
    {
     "name": "stdout",
     "output_type": "stream",
     "text": [
      "30\n"
     ]
    }
   ],
   "source": [
    "def adder(a,b):\n",
    "    c = a+b\n",
    "    d = a-b\n",
    "    return c\n",
    "    return d\n",
    "\n",
    "re = adder(10,20)\n",
    "print(re)"
   ]
  },
  {
   "cell_type": "code",
   "execution_count": 95,
   "id": "5e8e9722",
   "metadata": {},
   "outputs": [
    {
     "name": "stdout",
     "output_type": "stream",
     "text": [
      "(30, -10)\n"
     ]
    }
   ],
   "source": [
    "def adder(a,b):\n",
    "    c = a+b\n",
    "    d = a-b\n",
    "    return c,d\n",
    "\n",
    "re = adder(10,20)\n",
    "print(re)"
   ]
  },
  {
   "cell_type": "code",
   "execution_count": 96,
   "id": "9a5b21b6",
   "metadata": {},
   "outputs": [],
   "source": [
    "def palindrom(x):\n",
    "    if x == x[::-1]:\n",
    "        return ('Palindrom')\n",
    "    else:\n",
    "        return ('Not a palindrom')"
   ]
  },
  {
   "cell_type": "code",
   "execution_count": 97,
   "id": "ad2d487d",
   "metadata": {},
   "outputs": [
    {
     "data": {
      "text/plain": [
       "'Palindrom'"
      ]
     },
     "execution_count": 97,
     "metadata": {},
     "output_type": "execute_result"
    }
   ],
   "source": [
    "palindrom('level')"
   ]
  },
  {
   "cell_type": "code",
   "execution_count": 98,
   "id": "0064e3db",
   "metadata": {},
   "outputs": [
    {
     "data": {
      "text/plain": [
       "'Not a palindrom'"
      ]
     },
     "execution_count": 98,
     "metadata": {},
     "output_type": "execute_result"
    }
   ],
   "source": [
    "palindrom('python')"
   ]
  },
  {
   "cell_type": "markdown",
   "id": "6ab08cda",
   "metadata": {},
   "source": [
    "# Global and local variables"
   ]
  },
  {
   "cell_type": "code",
   "execution_count": 100,
   "id": "17e08ad3",
   "metadata": {},
   "outputs": [
    {
     "name": "stdout",
     "output_type": "stream",
     "text": [
      "30\n",
      "-10\n",
      "30\n",
      "40\n"
     ]
    },
    {
     "ename": "NameError",
     "evalue": "name 'c' is not defined",
     "output_type": "error",
     "traceback": [
      "\u001b[1;31m---------------------------------------------------------------------------\u001b[0m",
      "\u001b[1;31mNameError\u001b[0m                                 Traceback (most recent call last)",
      "Cell \u001b[1;32mIn[100], line 14\u001b[0m\n\u001b[0;32m     12\u001b[0m \u001b[38;5;28mprint\u001b[39m(x)\n\u001b[0;32m     13\u001b[0m \u001b[38;5;28mprint\u001b[39m(y)\n\u001b[1;32m---> 14\u001b[0m \u001b[38;5;28mprint\u001b[39m(c)\n\u001b[0;32m     15\u001b[0m \u001b[38;5;28mprint\u001b[39m(d)\n",
      "\u001b[1;31mNameError\u001b[0m: name 'c' is not defined"
     ]
    }
   ],
   "source": [
    "x = 30\n",
    "y = 40\n",
    "\n",
    "def adder(a,b):\n",
    "    c = a+b\n",
    "    d = a-b\n",
    "    print(c) \n",
    "    print(d)\n",
    "\n",
    "adder(10,20)\n",
    "\n",
    "print(x)\n",
    "print(y)\n",
    "print(c)\n",
    "print(d)"
   ]
  },
  {
   "cell_type": "code",
   "execution_count": 102,
   "id": "50d4f2f5",
   "metadata": {},
   "outputs": [
    {
     "name": "stdout",
     "output_type": "stream",
     "text": [
      "30\n",
      "-10\n",
      "30\n",
      "40\n",
      "30\n",
      "-10\n"
     ]
    }
   ],
   "source": [
    "x = 30\n",
    "y = 40\n",
    "\n",
    "def adder(a,b):\n",
    "    global c\n",
    "    c = a+b\n",
    "    global d\n",
    "    d = a-b\n",
    "    print(c) \n",
    "    print(d)\n",
    "\n",
    "adder(10,20)\n",
    "\n",
    "print(x)\n",
    "print(y)\n",
    "print(c)\n",
    "print(d)"
   ]
  },
  {
   "cell_type": "code",
   "execution_count": 2,
   "id": "7834ecf2",
   "metadata": {},
   "outputs": [],
   "source": [
    "lst = [23,34,45,67,32,564,56,657,234,564,564,567,768,3,23,34,564]"
   ]
  },
  {
   "cell_type": "code",
   "execution_count": 109,
   "id": "a450f518",
   "metadata": {},
   "outputs": [],
   "source": [
    "def function(l):\n",
    "    e_list = []\n",
    "    o_list = []\n",
    "    for i in l:\n",
    "        if i%2==0:\n",
    "            e_list.append(i)\n",
    "        else:\n",
    "            o_list.append(i)\n",
    "            \n",
    "    return e_list , o_list"
   ]
  },
  {
   "cell_type": "code",
   "execution_count": 111,
   "id": "471e1811",
   "metadata": {},
   "outputs": [],
   "source": [
    "e_list , o_list = function(lst)"
   ]
  },
  {
   "cell_type": "code",
   "execution_count": 112,
   "id": "3740f9cb",
   "metadata": {},
   "outputs": [
    {
     "data": {
      "text/plain": [
       "[34, 32, 564, 56, 234, 564, 564, 768, 34, 564]"
      ]
     },
     "execution_count": 112,
     "metadata": {},
     "output_type": "execute_result"
    }
   ],
   "source": [
    "e_list"
   ]
  },
  {
   "cell_type": "code",
   "execution_count": 113,
   "id": "adf9e82e",
   "metadata": {},
   "outputs": [
    {
     "data": {
      "text/plain": [
       "[23, 45, 67, 657, 567, 3, 23]"
      ]
     },
     "execution_count": 113,
     "metadata": {},
     "output_type": "execute_result"
    }
   ],
   "source": [
    "o_list"
   ]
  },
  {
   "cell_type": "code",
   "execution_count": 5,
   "id": "8d073daa",
   "metadata": {},
   "outputs": [],
   "source": [
    "def function(l):\n",
    "    global e_list\n",
    "    e_list = []\n",
    "    global o_list\n",
    "    o_list = []\n",
    "    for i in l:\n",
    "        if i%2==0:\n",
    "            e_list.append(i)\n",
    "        else:\n",
    "            o_list.append(i)\n",
    "            \n",
    "function(lst)"
   ]
  },
  {
   "cell_type": "code",
   "execution_count": 6,
   "id": "0cc0f609",
   "metadata": {},
   "outputs": [
    {
     "data": {
      "text/plain": [
       "[34, 32, 564, 56, 234, 564, 564, 768, 34, 564]"
      ]
     },
     "execution_count": 6,
     "metadata": {},
     "output_type": "execute_result"
    }
   ],
   "source": [
    "e_list"
   ]
  },
  {
   "cell_type": "code",
   "execution_count": 7,
   "id": "43f2de79",
   "metadata": {},
   "outputs": [
    {
     "data": {
      "text/plain": [
       "[23, 45, 67, 657, 567, 3, 23]"
      ]
     },
     "execution_count": 7,
     "metadata": {},
     "output_type": "execute_result"
    }
   ],
   "source": [
    "o_list"
   ]
  },
  {
   "cell_type": "code",
   "execution_count": 8,
   "id": "64bd16fa",
   "metadata": {},
   "outputs": [
    {
     "name": "stdout",
     "output_type": "stream",
     "text": [
      "[34, 32, 564, 56, 234, 564, 564, 768, 34, 564]\n",
      "[23, 45, 67, 657, 567, 3, 23]\n"
     ]
    }
   ],
   "source": [
    "lst = [23,34,45,67,32,564,56,657,234,564,564,567,768,3,23,34,564]\n",
    "even=[]\n",
    "odd=[]\n",
    "def checkEvenOrOdd(lst):    \n",
    "    for x in lst:        \n",
    "        if x % 2 == 0:\n",
    "            even.append(x)\n",
    "        else:\n",
    "            odd.append(x)\n",
    "        \n",
    "checkEvenOrOdd(lst)\n",
    "print(even)\n",
    "print(odd)"
   ]
  },
  {
   "cell_type": "markdown",
   "id": "910aec6f",
   "metadata": {},
   "source": [
    "# Recursive function\n",
    "\n",
    "- A function calling itself is called as recursive function"
   ]
  },
  {
   "cell_type": "code",
   "execution_count": 9,
   "id": "4d8c54d6",
   "metadata": {},
   "outputs": [],
   "source": [
    "def function():\n",
    "    a = eval(input('Enter a value : '))\n",
    "    if a == 0:\n",
    "        return 'Outside the function'\n",
    "    else:\n",
    "        return function()"
   ]
  },
  {
   "cell_type": "code",
   "execution_count": 11,
   "id": "bc621008",
   "metadata": {},
   "outputs": [],
   "source": [
    "function()"
   ]
  },
  {
   "cell_type": "code",
   "execution_count": 16,
   "id": "206e8c9b",
   "metadata": {},
   "outputs": [
    {
     "name": "stdout",
     "output_type": "stream",
     "text": [
      "Enter the amount : 324\n",
      "Current balance : 324\n",
      "Dou you want to repeat again : 324\n"
     ]
    },
    {
     "data": {
      "text/plain": [
       "'Have a nice day'"
      ]
     },
     "execution_count": 16,
     "metadata": {},
     "output_type": "execute_result"
    }
   ],
   "source": [
    "deposit=0\n",
    "\n",
    "def funct():\n",
    "    amt=int(input('Enter the amount : '))\n",
    "    global deposit\n",
    "    deposit+=amt\n",
    "    print(f\"Current balance : {deposit}\")\n",
    "    a= input('Dou you want to repeat again : ').upper()\n",
    "    if(a=='Y'):\n",
    "        return funct()\n",
    "    else:\n",
    "        return ('Have a nice day')\n",
    "      \n",
    "        \n",
    "funct()"
   ]
  },
  {
   "cell_type": "code",
   "execution_count": 17,
   "id": "d680c451",
   "metadata": {},
   "outputs": [
    {
     "data": {
      "text/plain": [
       "324"
      ]
     },
     "execution_count": 17,
     "metadata": {},
     "output_type": "execute_result"
    }
   ],
   "source": [
    "deposit"
   ]
  },
  {
   "cell_type": "markdown",
   "id": "9a25dcd0",
   "metadata": {},
   "source": [
    "# Lamda"
   ]
  },
  {
   "cell_type": "code",
   "execution_count": null,
   "id": "18c7cd67",
   "metadata": {},
   "outputs": [],
   "source": []
  }
 ],
 "metadata": {
  "kernelspec": {
   "display_name": "Python 3 (ipykernel)",
   "language": "python",
   "name": "python3"
  },
  "language_info": {
   "codemirror_mode": {
    "name": "ipython",
    "version": 3
   },
   "file_extension": ".py",
   "mimetype": "text/x-python",
   "name": "python",
   "nbconvert_exporter": "python",
   "pygments_lexer": "ipython3",
   "version": "3.11.4"
  }
 },
 "nbformat": 4,
 "nbformat_minor": 5
}
