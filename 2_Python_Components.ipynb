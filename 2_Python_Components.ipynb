{
 "cells": [
  {
   "cell_type": "markdown",
   "id": "fafa886b",
   "metadata": {},
   "source": [
    "# Python components\n",
    "\n",
    "- Identifier rules\n",
    "- data types\n",
    "- Blocks and Indentation\n",
    "- comments"
   ]
  },
  {
   "cell_type": "markdown",
   "id": "948ccaa3",
   "metadata": {},
   "source": [
    "# Identifier rules\n",
    "\n",
    "- Allowed char are A-Z , a-z , 0-9 , _\n",
    "- Special char are not allowed\n",
    "- You cannot start with a number\n",
    "- Python is an case sensitive lang\n",
    "- You cannot use reserved word\n",
    "- Built in function you should not use it"
   ]
  },
  {
   "cell_type": "code",
   "execution_count": null,
   "id": "a941fdf6",
   "metadata": {},
   "outputs": [],
   "source": [
    "a = 10\n",
    "\n",
    "a --> Variable\n",
    "\n",
    "= --> op\n",
    "\n",
    "10 --> Value (int)"
   ]
  },
  {
   "cell_type": "code",
   "execution_count": 1,
   "id": "6dd185f5",
   "metadata": {},
   "outputs": [],
   "source": [
    "DATA_sci_1234 = 120"
   ]
  },
  {
   "cell_type": "code",
   "execution_count": 2,
   "id": "00415413",
   "metadata": {},
   "outputs": [
    {
     "ename": "SyntaxError",
     "evalue": "cannot assign to expression here. Maybe you meant '==' instead of '='? (1548597700.py, line 1)",
     "output_type": "error",
     "traceback": [
      "\u001b[1;36m  Cell \u001b[1;32mIn[2], line 1\u001b[1;36m\u001b[0m\n\u001b[1;33m    DATA@sci_1234 = 120\u001b[0m\n\u001b[1;37m    ^\u001b[0m\n\u001b[1;31mSyntaxError\u001b[0m\u001b[1;31m:\u001b[0m cannot assign to expression here. Maybe you meant '==' instead of '='?\n"
     ]
    }
   ],
   "source": [
    "DATA@sci_1234 = 120"
   ]
  },
  {
   "cell_type": "code",
   "execution_count": 3,
   "id": "ee12cddb",
   "metadata": {},
   "outputs": [
    {
     "ename": "SyntaxError",
     "evalue": "invalid syntax (1525116834.py, line 1)",
     "output_type": "error",
     "traceback": [
      "\u001b[1;36m  Cell \u001b[1;32mIn[3], line 1\u001b[1;36m\u001b[0m\n\u001b[1;33m    DATA sci_1234 = 120\u001b[0m\n\u001b[1;37m         ^\u001b[0m\n\u001b[1;31mSyntaxError\u001b[0m\u001b[1;31m:\u001b[0m invalid syntax\n"
     ]
    }
   ],
   "source": [
    "DATA sci_1234 = 120"
   ]
  },
  {
   "cell_type": "code",
   "execution_count": 4,
   "id": "3c3f8c68",
   "metadata": {},
   "outputs": [
    {
     "ename": "SyntaxError",
     "evalue": "invalid syntax (1046104222.py, line 1)",
     "output_type": "error",
     "traceback": [
      "\u001b[1;36m  Cell \u001b[1;32mIn[4], line 1\u001b[1;36m\u001b[0m\n\u001b[1;33m    DATA_sci_1234& = 120\u001b[0m\n\u001b[1;37m                   ^\u001b[0m\n\u001b[1;31mSyntaxError\u001b[0m\u001b[1;31m:\u001b[0m invalid syntax\n"
     ]
    }
   ],
   "source": [
    "DATA_sci_1234& = 120"
   ]
  },
  {
   "cell_type": "code",
   "execution_count": 5,
   "id": "6522ac28",
   "metadata": {},
   "outputs": [],
   "source": [
    "DATA_sci_1234 = 120"
   ]
  },
  {
   "cell_type": "code",
   "execution_count": 6,
   "id": "af8c411a",
   "metadata": {},
   "outputs": [
    {
     "ename": "SyntaxError",
     "evalue": "invalid decimal literal (2589264602.py, line 1)",
     "output_type": "error",
     "traceback": [
      "\u001b[1;36m  Cell \u001b[1;32mIn[6], line 1\u001b[1;36m\u001b[0m\n\u001b[1;33m    1234_DATA_sci = 120\u001b[0m\n\u001b[1;37m        ^\u001b[0m\n\u001b[1;31mSyntaxError\u001b[0m\u001b[1;31m:\u001b[0m invalid decimal literal\n"
     ]
    }
   ],
   "source": [
    "1234_DATA_sci = 120"
   ]
  },
  {
   "cell_type": "code",
   "execution_count": 7,
   "id": "22aeabb9",
   "metadata": {},
   "outputs": [],
   "source": [
    "_1234_DATA_sci = 120"
   ]
  },
  {
   "cell_type": "code",
   "execution_count": 9,
   "id": "7ab8f1ba",
   "metadata": {},
   "outputs": [
    {
     "name": "stdout",
     "output_type": "stream",
     "text": [
      "10\n"
     ]
    }
   ],
   "source": [
    "a = 10\n",
    "\n",
    "A = 20\n",
    "\n",
    "print(a)"
   ]
  },
  {
   "cell_type": "code",
   "execution_count": 10,
   "id": "07cbee41",
   "metadata": {},
   "outputs": [
    {
     "data": {
      "text/plain": [
       "10"
      ]
     },
     "execution_count": 10,
     "metadata": {},
     "output_type": "execute_result"
    }
   ],
   "source": [
    "a"
   ]
  },
  {
   "cell_type": "code",
   "execution_count": 11,
   "id": "658cb112",
   "metadata": {},
   "outputs": [
    {
     "data": {
      "text/plain": [
       "20"
      ]
     },
     "execution_count": 11,
     "metadata": {},
     "output_type": "execute_result"
    }
   ],
   "source": [
    "A"
   ]
  },
  {
   "cell_type": "code",
   "execution_count": 12,
   "id": "c29a7a6c",
   "metadata": {},
   "outputs": [],
   "source": [
    "python = 10\n",
    "\n",
    "Python = 20\n"
   ]
  },
  {
   "cell_type": "code",
   "execution_count": 13,
   "id": "fac3dbed",
   "metadata": {},
   "outputs": [
    {
     "name": "stdout",
     "output_type": "stream",
     "text": [
      "10\n"
     ]
    }
   ],
   "source": [
    "print(python)"
   ]
  },
  {
   "cell_type": "code",
   "execution_count": 14,
   "id": "9a6ef841",
   "metadata": {},
   "outputs": [
    {
     "ename": "SyntaxError",
     "evalue": "cannot assign to True (1488504101.py, line 1)",
     "output_type": "error",
     "traceback": [
      "\u001b[1;36m  Cell \u001b[1;32mIn[14], line 1\u001b[1;36m\u001b[0m\n\u001b[1;33m    True = 100\u001b[0m\n\u001b[1;37m    ^\u001b[0m\n\u001b[1;31mSyntaxError\u001b[0m\u001b[1;31m:\u001b[0m cannot assign to True\n"
     ]
    }
   ],
   "source": [
    "True = 100"
   ]
  },
  {
   "cell_type": "code",
   "execution_count": 15,
   "id": "40428c11",
   "metadata": {},
   "outputs": [
    {
     "ename": "SyntaxError",
     "evalue": "invalid syntax (2644998005.py, line 1)",
     "output_type": "error",
     "traceback": [
      "\u001b[1;36m  Cell \u001b[1;32mIn[15], line 1\u001b[1;36m\u001b[0m\n\u001b[1;33m    if = 20\u001b[0m\n\u001b[1;37m       ^\u001b[0m\n\u001b[1;31mSyntaxError\u001b[0m\u001b[1;31m:\u001b[0m invalid syntax\n"
     ]
    }
   ],
   "source": [
    "if = 20"
   ]
  },
  {
   "cell_type": "code",
   "execution_count": 16,
   "id": "edb265cc",
   "metadata": {},
   "outputs": [
    {
     "name": "stdout",
     "output_type": "stream",
     "text": [
      "['False', 'None', 'True', 'and', 'as', 'assert', 'async', 'await', 'break', 'class', 'continue', 'def', 'del', 'elif', 'else', 'except', 'finally', 'for', 'from', 'global', 'if', 'import', 'in', 'is', 'lambda', 'nonlocal', 'not', 'or', 'pass', 'raise', 'return', 'try', 'while', 'with', 'yield']\n"
     ]
    }
   ],
   "source": [
    "import keyword\n",
    "\n",
    "print(keyword.kwlist)"
   ]
  },
  {
   "cell_type": "code",
   "execution_count": 17,
   "id": "258d6f15",
   "metadata": {},
   "outputs": [
    {
     "ename": "SyntaxError",
     "evalue": "invalid syntax (1765607377.py, line 1)",
     "output_type": "error",
     "traceback": [
      "\u001b[1;36m  Cell \u001b[1;32mIn[17], line 1\u001b[1;36m\u001b[0m\n\u001b[1;33m    break = 100\u001b[0m\n\u001b[1;37m          ^\u001b[0m\n\u001b[1;31mSyntaxError\u001b[0m\u001b[1;31m:\u001b[0m invalid syntax\n"
     ]
    }
   ],
   "source": [
    "break = 100"
   ]
  },
  {
   "cell_type": "code",
   "execution_count": 18,
   "id": "3e3bb0ab",
   "metadata": {},
   "outputs": [],
   "source": [
    "If = 10"
   ]
  },
  {
   "cell_type": "code",
   "execution_count": 20,
   "id": "eda79c2a",
   "metadata": {},
   "outputs": [],
   "source": [
    "true = 100"
   ]
  },
  {
   "cell_type": "code",
   "execution_count": 21,
   "id": "6f607c6d",
   "metadata": {},
   "outputs": [
    {
     "ename": "SyntaxError",
     "evalue": "invalid syntax (390041413.py, line 1)",
     "output_type": "error",
     "traceback": [
      "\u001b[1;36m  Cell \u001b[1;32mIn[21], line 1\u001b[1;36m\u001b[0m\n\u001b[1;33m    global = 10\u001b[0m\n\u001b[1;37m           ^\u001b[0m\n\u001b[1;31mSyntaxError\u001b[0m\u001b[1;31m:\u001b[0m invalid syntax\n"
     ]
    }
   ],
   "source": [
    "global = 10"
   ]
  },
  {
   "cell_type": "code",
   "execution_count": 22,
   "id": "8dcdfb03",
   "metadata": {},
   "outputs": [
    {
     "name": "stdout",
     "output_type": "stream",
     "text": [
      "['ArithmeticError', 'AssertionError', 'AttributeError', 'BaseException', 'BaseExceptionGroup', 'BlockingIOError', 'BrokenPipeError', 'BufferError', 'BytesWarning', 'ChildProcessError', 'ConnectionAbortedError', 'ConnectionError', 'ConnectionRefusedError', 'ConnectionResetError', 'DeprecationWarning', 'EOFError', 'Ellipsis', 'EncodingWarning', 'EnvironmentError', 'Exception', 'ExceptionGroup', 'False', 'FileExistsError', 'FileNotFoundError', 'FloatingPointError', 'FutureWarning', 'GeneratorExit', 'IOError', 'ImportError', 'ImportWarning', 'IndentationError', 'IndexError', 'InterruptedError', 'IsADirectoryError', 'KeyError', 'KeyboardInterrupt', 'LookupError', 'MemoryError', 'ModuleNotFoundError', 'NameError', 'None', 'NotADirectoryError', 'NotImplemented', 'NotImplementedError', 'OSError', 'OverflowError', 'PendingDeprecationWarning', 'PermissionError', 'ProcessLookupError', 'RecursionError', 'ReferenceError', 'ResourceWarning', 'RuntimeError', 'RuntimeWarning', 'StopAsyncIteration', 'StopIteration', 'SyntaxError', 'SyntaxWarning', 'SystemError', 'SystemExit', 'TabError', 'TimeoutError', 'True', 'TypeError', 'UnboundLocalError', 'UnicodeDecodeError', 'UnicodeEncodeError', 'UnicodeError', 'UnicodeTranslateError', 'UnicodeWarning', 'UserWarning', 'ValueError', 'Warning', 'WindowsError', 'ZeroDivisionError', '__IPYTHON__', '__build_class__', '__debug__', '__doc__', '__import__', '__loader__', '__name__', '__package__', '__spec__', 'abs', 'aiter', 'all', 'anext', 'any', 'ascii', 'bin', 'bool', 'breakpoint', 'bytearray', 'bytes', 'callable', 'chr', 'classmethod', 'compile', 'complex', 'copyright', 'credits', 'delattr', 'dict', 'dir', 'display', 'divmod', 'enumerate', 'eval', 'exec', 'execfile', 'filter', 'float', 'format', 'frozenset', 'get_ipython', 'getattr', 'globals', 'hasattr', 'hash', 'help', 'hex', 'id', 'input', 'int', 'isinstance', 'issubclass', 'iter', 'len', 'license', 'list', 'locals', 'map', 'max', 'memoryview', 'min', 'next', 'object', 'oct', 'open', 'ord', 'pow', 'print', 'property', 'range', 'repr', 'reversed', 'round', 'runfile', 'set', 'setattr', 'slice', 'sorted', 'staticmethod', 'str', 'sum', 'super', 'tuple', 'type', 'vars', 'zip']\n"
     ]
    }
   ],
   "source": [
    "print(dir(__builtins__))"
   ]
  },
  {
   "cell_type": "code",
   "execution_count": 23,
   "id": "8d0f60ef",
   "metadata": {},
   "outputs": [
    {
     "name": "stdout",
     "output_type": "stream",
     "text": [
      "30\n"
     ]
    }
   ],
   "source": [
    "a = 10\n",
    "b = 20\n",
    "\n",
    "print(a + b)"
   ]
  },
  {
   "cell_type": "code",
   "execution_count": 24,
   "id": "ec595899",
   "metadata": {},
   "outputs": [],
   "source": [
    "print = 100"
   ]
  },
  {
   "cell_type": "code",
   "execution_count": 26,
   "id": "c2c5e6e1",
   "metadata": {},
   "outputs": [
    {
     "data": {
      "text/plain": [
       "101"
      ]
     },
     "execution_count": 26,
     "metadata": {},
     "output_type": "execute_result"
    }
   ],
   "source": [
    "print + 1"
   ]
  },
  {
   "cell_type": "code",
   "execution_count": 27,
   "id": "39a9743d",
   "metadata": {},
   "outputs": [
    {
     "ename": "TypeError",
     "evalue": "'int' object is not callable",
     "output_type": "error",
     "traceback": [
      "\u001b[1;31m---------------------------------------------------------------------------\u001b[0m",
      "\u001b[1;31mTypeError\u001b[0m                                 Traceback (most recent call last)",
      "Cell \u001b[1;32mIn[27], line 4\u001b[0m\n\u001b[0;32m      1\u001b[0m a \u001b[38;5;241m=\u001b[39m \u001b[38;5;241m10\u001b[39m\n\u001b[0;32m      2\u001b[0m b \u001b[38;5;241m=\u001b[39m \u001b[38;5;241m20\u001b[39m\n\u001b[1;32m----> 4\u001b[0m \u001b[38;5;28mprint\u001b[39m(a \u001b[38;5;241m+\u001b[39m b)\n",
      "\u001b[1;31mTypeError\u001b[0m: 'int' object is not callable"
     ]
    }
   ],
   "source": [
    "a = 10\n",
    "b = 20\n",
    "\n",
    "print(a + b)"
   ]
  },
  {
   "cell_type": "code",
   "execution_count": 1,
   "id": "7bfc2805",
   "metadata": {},
   "outputs": [
    {
     "name": "stdout",
     "output_type": "stream",
     "text": [
      "30\n"
     ]
    }
   ],
   "source": [
    "a = 10\n",
    "b = 20\n",
    "\n",
    "print(a + b)"
   ]
  },
  {
   "cell_type": "code",
   "execution_count": 2,
   "id": "b3319949",
   "metadata": {},
   "outputs": [
    {
     "name": "stdout",
     "output_type": "stream",
     "text": [
      "30\n"
     ]
    }
   ],
   "source": [
    "a = 10\n",
    "b = 20\n",
    "\n",
    "sum = a+b\n",
    "\n",
    "\n",
    "print(sum)"
   ]
  },
  {
   "cell_type": "code",
   "execution_count": 1,
   "id": "e8bb3c4e",
   "metadata": {},
   "outputs": [
    {
     "data": {
      "text/plain": [
       "10"
      ]
     },
     "execution_count": 1,
     "metadata": {},
     "output_type": "execute_result"
    }
   ],
   "source": [
    "sum([1,2,3,4])"
   ]
  },
  {
   "cell_type": "code",
   "execution_count": 3,
   "id": "774b8e50",
   "metadata": {},
   "outputs": [
    {
     "ename": "TypeError",
     "evalue": "'int' object is not callable",
     "output_type": "error",
     "traceback": [
      "\u001b[1;31m---------------------------------------------------------------------------\u001b[0m",
      "\u001b[1;31mTypeError\u001b[0m                                 Traceback (most recent call last)",
      "Cell \u001b[1;32mIn[3], line 1\u001b[0m\n\u001b[1;32m----> 1\u001b[0m \u001b[38;5;28msum\u001b[39m([\u001b[38;5;241m1\u001b[39m,\u001b[38;5;241m2\u001b[39m,\u001b[38;5;241m3\u001b[39m,\u001b[38;5;241m4\u001b[39m])\n",
      "\u001b[1;31mTypeError\u001b[0m: 'int' object is not callable"
     ]
    }
   ],
   "source": [
    "sum([1,2,3,4])"
   ]
  },
  {
   "cell_type": "code",
   "execution_count": 5,
   "id": "33da51ce",
   "metadata": {},
   "outputs": [],
   "source": [
    "my_var = 10"
   ]
  },
  {
   "cell_type": "code",
   "execution_count": null,
   "id": "f2825cfa",
   "metadata": {},
   "outputs": [],
   "source": [
    "abc  = 1\n",
    "1bc = 0 (starts with a number)\n",
    "abc1_ = 1\n",
    "abc__@ = 0 (Cannot contain an special char)\n",
    "sum = 1 (But you should not use it because it is one of the built in function)\n",
    "if = 0 (It is an keyword)\n",
    "If = 1 \n",
    "False =  0 (It is an keyword)\n",
    "type = 1 (But you should not use it because it is one of the built in function)\n",
    "false = 1\n",
    "@info = 0 (special char)\n",
    "abc@123 = 0  (special char)\n",
    "print = 1 (But you should not use it because it is one of the built in function)"
   ]
  },
  {
   "cell_type": "code",
   "execution_count": null,
   "id": "a3c3dd0b",
   "metadata": {},
   "outputs": [],
   "source": [
    "global --> keyword"
   ]
  },
  {
   "cell_type": "code",
   "execution_count": null,
   "id": "27534ea5",
   "metadata": {},
   "outputs": [],
   "source": [
    "max --> built in function"
   ]
  },
  {
   "cell_type": "code",
   "execution_count": null,
   "id": "c2ea20d9",
   "metadata": {},
   "outputs": [],
   "source": [
    "global_ = 3425"
   ]
  },
  {
   "cell_type": "code",
   "execution_count": null,
   "id": "8e8ab871",
   "metadata": {},
   "outputs": [],
   "source": [
    "@info = 34"
   ]
  },
  {
   "cell_type": "markdown",
   "id": "076bd119",
   "metadata": {},
   "source": [
    "# Data types\n",
    "\n",
    "1. Fundamental (basic)\n",
    "- int -> Any number without a decimal point eg -99 , 0 , 99\n",
    "- float  -> Any number with a decimal point eg -99.00 , 0.324 , 99.45\n",
    "- complex\n",
    "- bool\n",
    "- string --> anything written inside '..' . \"..\" , '''..''' , \"\"\"..\"\"\"\n",
    "- None\n",
    "\n",
    "2. derived \n",
    "- list\n",
    "- tuple\n",
    "- set\n",
    "- dictionary"
   ]
  },
  {
   "cell_type": "code",
   "execution_count": 13,
   "id": "fe8aa85a",
   "metadata": {},
   "outputs": [
    {
     "name": "stdout",
     "output_type": "stream",
     "text": [
      "-99 <class 'int'>\n"
     ]
    }
   ],
   "source": [
    "a = -99\n",
    "\n",
    "\n",
    "print(a , type(a))"
   ]
  },
  {
   "cell_type": "code",
   "execution_count": 15,
   "id": "66bdbfbf",
   "metadata": {},
   "outputs": [
    {
     "name": "stdout",
     "output_type": "stream",
     "text": [
      "999.0 <class 'float'>\n"
     ]
    }
   ],
   "source": [
    "a = 999.0000000\n",
    "\n",
    "\n",
    "print(a , type(a))"
   ]
  },
  {
   "cell_type": "code",
   "execution_count": 17,
   "id": "4841f2ff",
   "metadata": {},
   "outputs": [
    {
     "name": "stdout",
     "output_type": "stream",
     "text": [
      "(34+54j) <class 'complex'>\n",
      "34.0\n",
      "54.0\n"
     ]
    }
   ],
   "source": [
    "a = 34+54j\n",
    "\n",
    "\n",
    "print(a , type(a))\n",
    "print(a.real)\n",
    "print(a.imag)"
   ]
  },
  {
   "cell_type": "code",
   "execution_count": null,
   "id": "71a5e300",
   "metadata": {},
   "outputs": [],
   "source": [
    "a + bj\n",
    "a + bi\n",
    "\n",
    "\n",
    "where a is the real number and b is the imag"
   ]
  },
  {
   "cell_type": "code",
   "execution_count": 19,
   "id": "e72e97a9",
   "metadata": {},
   "outputs": [
    {
     "name": "stdout",
     "output_type": "stream",
     "text": [
      "False <class 'bool'>\n"
     ]
    }
   ],
   "source": [
    "a = False\n",
    "\n",
    "\n",
    "print(a , type(a))"
   ]
  },
  {
   "cell_type": "code",
   "execution_count": 20,
   "id": "bfae21ee",
   "metadata": {},
   "outputs": [
    {
     "name": "stdout",
     "output_type": "stream",
     "text": [
      "None <class 'NoneType'>\n"
     ]
    }
   ],
   "source": [
    "a = None\n",
    "\n",
    "\n",
    "print(a , type(a))"
   ]
  },
  {
   "cell_type": "code",
   "execution_count": null,
   "id": "5cd714e0",
   "metadata": {},
   "outputs": [],
   "source": [
    " emp_name   emp_salary     emp_age\n",
    "    \n",
    "    xyz        345345      23\n",
    "    abc         None       25\n",
    "    pqr        32455432    None"
   ]
  },
  {
   "cell_type": "code",
   "execution_count": 23,
   "id": "468c4292",
   "metadata": {},
   "outputs": [
    {
     "data": {
      "text/plain": [
       "3.0"
      ]
     },
     "execution_count": 23,
     "metadata": {},
     "output_type": "execute_result"
    }
   ],
   "source": [
    "a = [1,2,3,4,5]\n",
    "\n",
    "15 / 5"
   ]
  },
  {
   "cell_type": "code",
   "execution_count": 26,
   "id": "aad7f4e0",
   "metadata": {},
   "outputs": [
    {
     "data": {
      "text/plain": [
       "2.4"
      ]
     },
     "execution_count": 26,
     "metadata": {},
     "output_type": "execute_result"
    }
   ],
   "source": [
    "a = [1,2,0,4,5]\n",
    "\n",
    "\n",
    "12 / 5"
   ]
  },
  {
   "cell_type": "code",
   "execution_count": 27,
   "id": "cba19399",
   "metadata": {},
   "outputs": [
    {
     "data": {
      "text/plain": [
       "3.0"
      ]
     },
     "execution_count": 27,
     "metadata": {},
     "output_type": "execute_result"
    }
   ],
   "source": [
    "a = [1,2, None ,4,5]\n",
    "\n",
    "\n",
    "12 / 4"
   ]
  },
  {
   "cell_type": "code",
   "execution_count": null,
   "id": "ac7fa3a9",
   "metadata": {},
   "outputs": [],
   "source": [
    "# String\n",
    "\n",
    "anything written inside '..' . \"..\" , '''..''' , \"\"\"..\"\"\""
   ]
  },
  {
   "cell_type": "code",
   "execution_count": 40,
   "id": "94f6e59c",
   "metadata": {},
   "outputs": [
    {
     "name": "stdout",
     "output_type": "stream",
     "text": [
      "45 <class 'str'>\n"
     ]
    }
   ],
   "source": [
    "a = '45'\n",
    "\n",
    "\n",
    "print(a , type(a))"
   ]
  },
  {
   "cell_type": "code",
   "execution_count": 41,
   "id": "c205da0a",
   "metadata": {},
   "outputs": [
    {
     "name": "stdout",
     "output_type": "stream",
     "text": [
      "python is a programing lang <class 'str'>\n"
     ]
    }
   ],
   "source": [
    "a = 'python is a programing lang'\n",
    "\n",
    "\n",
    "print(a , type(a))"
   ]
  },
  {
   "cell_type": "code",
   "execution_count": 42,
   "id": "ce986d1d",
   "metadata": {},
   "outputs": [
    {
     "name": "stdout",
     "output_type": "stream",
     "text": [
      "python is a programing lang <class 'str'>\n"
     ]
    }
   ],
   "source": [
    "a = \"python is a programing lang\"\n",
    "\n",
    "\n",
    "print(a , type(a))"
   ]
  },
  {
   "cell_type": "code",
   "execution_count": 43,
   "id": "ecce5e01",
   "metadata": {},
   "outputs": [
    {
     "name": "stdout",
     "output_type": "stream",
     "text": [
      "python is a programing lang <class 'str'>\n"
     ]
    }
   ],
   "source": [
    "a = '''python is a programing lang'''\n",
    "\n",
    "\n",
    "print(a , type(a))"
   ]
  },
  {
   "cell_type": "code",
   "execution_count": 44,
   "id": "f97136cf",
   "metadata": {},
   "outputs": [
    {
     "name": "stdout",
     "output_type": "stream",
     "text": [
      "python is a programing lang <class 'str'>\n"
     ]
    }
   ],
   "source": [
    "a = \"\"\"python is a programing lang\"\"\"\n",
    "\n",
    "\n",
    "print(a , type(a))"
   ]
  },
  {
   "cell_type": "code",
   "execution_count": 45,
   "id": "0647bcc2",
   "metadata": {},
   "outputs": [
    {
     "ename": "SyntaxError",
     "evalue": "unterminated string literal (detected at line 1) (2324368872.py, line 1)",
     "output_type": "error",
     "traceback": [
      "\u001b[1;36m  Cell \u001b[1;32mIn[45], line 1\u001b[1;36m\u001b[0m\n\u001b[1;33m    a = 'This is python's class'\u001b[0m\n\u001b[1;37m                               ^\u001b[0m\n\u001b[1;31mSyntaxError\u001b[0m\u001b[1;31m:\u001b[0m unterminated string literal (detected at line 1)\n"
     ]
    }
   ],
   "source": [
    "a = 'This is python's class'\n",
    "\n",
    "\n",
    "print(a , type(a))"
   ]
  },
  {
   "cell_type": "code",
   "execution_count": 46,
   "id": "9d2bf6a7",
   "metadata": {},
   "outputs": [
    {
     "name": "stdout",
     "output_type": "stream",
     "text": [
      "This is python's class <class 'str'>\n"
     ]
    }
   ],
   "source": [
    "a = \"This is python's class\"\n",
    "\n",
    "\n",
    "print(a , type(a))"
   ]
  },
  {
   "cell_type": "code",
   "execution_count": 47,
   "id": "9883a315",
   "metadata": {},
   "outputs": [
    {
     "ename": "SyntaxError",
     "evalue": "unterminated string literal (detected at line 1) (1616020889.py, line 1)",
     "output_type": "error",
     "traceback": [
      "\u001b[1;36m  Cell \u001b[1;32mIn[47], line 1\u001b[1;36m\u001b[0m\n\u001b[1;33m    a = \"This\u001b[0m\n\u001b[1;37m        ^\u001b[0m\n\u001b[1;31mSyntaxError\u001b[0m\u001b[1;31m:\u001b[0m unterminated string literal (detected at line 1)\n"
     ]
    }
   ],
   "source": [
    "a = \"This \n",
    "is \n",
    "python's \n",
    "class\"\n",
    "\n",
    "\n",
    "print(a , type(a))"
   ]
  },
  {
   "cell_type": "code",
   "execution_count": 48,
   "id": "d2ac2f48",
   "metadata": {},
   "outputs": [
    {
     "name": "stdout",
     "output_type": "stream",
     "text": [
      "This \n",
      "is \n",
      "python's \n",
      "class <class 'str'>\n"
     ]
    }
   ],
   "source": [
    "a = '''This \n",
    "is \n",
    "python's \n",
    "class'''\n",
    "\n",
    "\n",
    "print(a , type(a))"
   ]
  },
  {
   "cell_type": "code",
   "execution_count": 49,
   "id": "a2c8ec51",
   "metadata": {},
   "outputs": [
    {
     "name": "stdout",
     "output_type": "stream",
     "text": [
      "This \n",
      "is \n",
      "python's \n",
      "class <class 'str'>\n"
     ]
    }
   ],
   "source": [
    "a = \"\"\"This \n",
    "is \n",
    "python's \n",
    "class\"\"\"\n",
    "\n",
    "\n",
    "print(a , type(a))"
   ]
  },
  {
   "cell_type": "markdown",
   "id": "81c91c84",
   "metadata": {},
   "source": [
    "# List\n",
    "\n",
    "- Anything written inside [] and each elements are seperated by , \n",
    "- It is an mutable data type"
   ]
  },
  {
   "cell_type": "code",
   "execution_count": 50,
   "id": "2f03c6bf",
   "metadata": {},
   "outputs": [
    {
     "name": "stdout",
     "output_type": "stream",
     "text": [
      "[23, 324, 342, 534, 354] <class 'list'>\n"
     ]
    }
   ],
   "source": [
    "a = [23,324,342,534,354]\n",
    "\n",
    "\n",
    "print(a , type(a))"
   ]
  },
  {
   "cell_type": "code",
   "execution_count": 52,
   "id": "f0785be8",
   "metadata": {},
   "outputs": [
    {
     "data": {
      "text/plain": [
       "[999999999999999, 324, 342, 534, 354]"
      ]
     },
     "execution_count": 52,
     "metadata": {},
     "output_type": "execute_result"
    }
   ],
   "source": [
    "a = [23,324,342,534,354]\n",
    "\n",
    "\n",
    "a[0] = 999999999999999\n",
    "\n",
    "\n",
    "a"
   ]
  },
  {
   "cell_type": "markdown",
   "id": "2cfcab01",
   "metadata": {},
   "source": [
    "# tuple\n",
    "\n",
    "- Anything written inside () and each elements are seperated by , \n",
    "- it is an immutable data type"
   ]
  },
  {
   "cell_type": "code",
   "execution_count": 51,
   "id": "bba1ac5e",
   "metadata": {},
   "outputs": [
    {
     "name": "stdout",
     "output_type": "stream",
     "text": [
      "(23, 324, 342, 534, 354) <class 'tuple'>\n"
     ]
    }
   ],
   "source": [
    "a = (23,324,342,534,354)\n",
    "\n",
    "\n",
    "print(a , type(a))"
   ]
  },
  {
   "cell_type": "code",
   "execution_count": 53,
   "id": "a175710e",
   "metadata": {},
   "outputs": [
    {
     "ename": "TypeError",
     "evalue": "'tuple' object does not support item assignment",
     "output_type": "error",
     "traceback": [
      "\u001b[1;31m---------------------------------------------------------------------------\u001b[0m",
      "\u001b[1;31mTypeError\u001b[0m                                 Traceback (most recent call last)",
      "Cell \u001b[1;32mIn[53], line 4\u001b[0m\n\u001b[0;32m      1\u001b[0m a \u001b[38;5;241m=\u001b[39m (\u001b[38;5;241m23\u001b[39m,\u001b[38;5;241m324\u001b[39m,\u001b[38;5;241m342\u001b[39m,\u001b[38;5;241m534\u001b[39m,\u001b[38;5;241m354\u001b[39m)\n\u001b[1;32m----> 4\u001b[0m a[\u001b[38;5;241m0\u001b[39m] \u001b[38;5;241m=\u001b[39m \u001b[38;5;241m999999999999999\u001b[39m\n\u001b[0;32m      7\u001b[0m a\n",
      "\u001b[1;31mTypeError\u001b[0m: 'tuple' object does not support item assignment"
     ]
    }
   ],
   "source": [
    "a = (23,324,342,534,354)\n",
    "\n",
    "\n",
    "a[0] = 999999999999999\n",
    "\n",
    "\n",
    "a"
   ]
  },
  {
   "cell_type": "code",
   "execution_count": null,
   "id": "15cc44ee",
   "metadata": {},
   "outputs": [],
   "source": [
    " emp_name   emp_salary     emp_age   adhar     pan\n",
    "    \n",
    "    xyz         345345       23       324    34j34\n",
    "    abc         433453       25       453    345j\n",
    "    pqr        32455432      43       345    23jk34"
   ]
  },
  {
   "cell_type": "code",
   "execution_count": 54,
   "id": "2bb147d7",
   "metadata": {},
   "outputs": [],
   "source": [
    "PI = 3.14"
   ]
  },
  {
   "cell_type": "code",
   "execution_count": 55,
   "id": "b433292f",
   "metadata": {},
   "outputs": [],
   "source": [
    "PI = 565"
   ]
  },
  {
   "cell_type": "code",
   "execution_count": 56,
   "id": "ed14e8ff",
   "metadata": {},
   "outputs": [
    {
     "data": {
      "text/plain": [
       "565"
      ]
     },
     "execution_count": 56,
     "metadata": {},
     "output_type": "execute_result"
    }
   ],
   "source": [
    "PI"
   ]
  },
  {
   "cell_type": "markdown",
   "id": "39d2206a",
   "metadata": {},
   "source": [
    "# Set\n",
    "\n",
    "- Anything written inside {} and each elements are seperated by ,"
   ]
  },
  {
   "cell_type": "code",
   "execution_count": 57,
   "id": "9a4ae149",
   "metadata": {},
   "outputs": [
    {
     "name": "stdout",
     "output_type": "stream",
     "text": [
      "{1, 2, 3, 4, 5} <class 'set'>\n"
     ]
    }
   ],
   "source": [
    "a = {1,2,3,4,5}\n",
    "\n",
    "\n",
    "print(a , type(a))"
   ]
  },
  {
   "cell_type": "code",
   "execution_count": 58,
   "id": "4b4c9b73",
   "metadata": {},
   "outputs": [
    {
     "name": "stdout",
     "output_type": "stream",
     "text": [
      "{2, 3, 4, 5, 12} <class 'set'>\n"
     ]
    }
   ],
   "source": [
    "a = {12,2,3,4,5,12,12,12,12,12,12,12}\n",
    "\n",
    "\n",
    "print(a , type(a))"
   ]
  },
  {
   "cell_type": "code",
   "execution_count": 59,
   "id": "5cfa0680",
   "metadata": {},
   "outputs": [
    {
     "name": "stdout",
     "output_type": "stream",
     "text": [
      "{34, 213, 54, 56, 123} <class 'set'>\n"
     ]
    }
   ],
   "source": [
    "a = {34,54,213,54,123,34,56,34,34,34}\n",
    "\n",
    "\n",
    "print(a , type(a))"
   ]
  },
  {
   "cell_type": "markdown",
   "id": "bdc5c1d2",
   "metadata": {},
   "source": [
    "# Dictionary\n",
    "\n",
    "- Type of brackets are {}\n",
    "- Each itenms are seperated by ,\n",
    "- A key and its value are seperated by :\n",
    "- A key should be unique\n",
    "- Wheras value be duplicated"
   ]
  },
  {
   "cell_type": "code",
   "execution_count": 60,
   "id": "ae809c07",
   "metadata": {},
   "outputs": [
    {
     "name": "stdout",
     "output_type": "stream",
     "text": [
      "{'name': 'xyz', 'age': 34, 'salary': 3454353} <class 'dict'>\n"
     ]
    }
   ],
   "source": [
    "a = {'name' : 'xyz' , 'age' :34 , 'salary':3454353}\n",
    "\n",
    "\n",
    "print(a , type(a))"
   ]
  },
  {
   "cell_type": "code",
   "execution_count": 61,
   "id": "d5dddcc4",
   "metadata": {},
   "outputs": [
    {
     "data": {
      "text/plain": [
       "3"
      ]
     },
     "execution_count": 61,
     "metadata": {},
     "output_type": "execute_result"
    }
   ],
   "source": [
    "len(a)"
   ]
  },
  {
   "cell_type": "code",
   "execution_count": 62,
   "id": "7c4f56d4",
   "metadata": {},
   "outputs": [
    {
     "name": "stdout",
     "output_type": "stream",
     "text": [
      "['xyz', 34, 3454353] <class 'list'>\n"
     ]
    }
   ],
   "source": [
    "a = ['xyz' , 34 , 3454353]\n",
    "\n",
    "\n",
    "print(a , type(a))"
   ]
  },
  {
   "cell_type": "code",
   "execution_count": 63,
   "id": "b8490378",
   "metadata": {},
   "outputs": [
    {
     "name": "stdout",
     "output_type": "stream",
     "text": [
      "xyz Name\n",
      "34 Age\n",
      "3454353 Salary\n"
     ]
    }
   ],
   "source": [
    "a = ['xyz' , 34 , 3454353]\n",
    "\n",
    "\n",
    "print(a[0] , 'Name')\n",
    "print(a[1] , 'Age')\n",
    "print(a[2] , 'Salary')"
   ]
  },
  {
   "cell_type": "code",
   "execution_count": 65,
   "id": "ae55a257",
   "metadata": {},
   "outputs": [
    {
     "name": "stdout",
     "output_type": "stream",
     "text": [
      "34 Name\n",
      "3454353 Age\n",
      "xyz Salary\n"
     ]
    }
   ],
   "source": [
    "a = [34 , 3454353 , 'xyz']\n",
    "\n",
    "\n",
    "print(a[0] , 'Name')\n",
    "print(a[1] , 'Age')\n",
    "print(a[2] , 'Salary')"
   ]
  },
  {
   "cell_type": "code",
   "execution_count": 66,
   "id": "154915c6",
   "metadata": {},
   "outputs": [
    {
     "name": "stdout",
     "output_type": "stream",
     "text": [
      "xyz Name\n",
      "34 Age\n",
      "3454353 Salary\n"
     ]
    }
   ],
   "source": [
    "a = {'name' : 'xyz' , 'age' :34 , 'salary':3454353}\n",
    "\n",
    "print(a['name'] , 'Name')\n",
    "print(a['age'] , 'Age')\n",
    "print(a['salary'] , 'Salary')"
   ]
  },
  {
   "cell_type": "code",
   "execution_count": 67,
   "id": "875e1582",
   "metadata": {},
   "outputs": [
    {
     "name": "stdout",
     "output_type": "stream",
     "text": [
      "xyz Name\n",
      "34 Age\n",
      "3454353 Salary\n"
     ]
    }
   ],
   "source": [
    "a = { 'age' :34 , 'salary':3454353 , 'name' : 'xyz'}\n",
    "\n",
    "print(a['name'] , 'Name')\n",
    "print(a['age'] , 'Age')\n",
    "print(a['salary'] , 'Salary')"
   ]
  },
  {
   "cell_type": "code",
   "execution_count": 94,
   "id": "07d5e2fb",
   "metadata": {},
   "outputs": [
    {
     "data": {
      "text/plain": [
       "{'name': 'xyz', 'age': 34, 'salary': 3454353, None: 'xyz'}"
      ]
     },
     "execution_count": 94,
     "metadata": {},
     "output_type": "execute_result"
    }
   ],
   "source": [
    "a = {'name' : 'xyz' , 'age' :34 , 'salary':3454353 , None : 'xyz'}\n",
    "\n",
    "a"
   ]
  },
  {
   "cell_type": "markdown",
   "id": "9b968ccb",
   "metadata": {},
   "source": [
    "# Comments\n",
    "\n",
    "- To explain the code\n",
    "- To stop the execution of spme part of code"
   ]
  },
  {
   "cell_type": "code",
   "execution_count": 96,
   "id": "45720d5e",
   "metadata": {},
   "outputs": [
    {
     "data": {
      "text/plain": [
       "16"
      ]
     },
     "execution_count": 96,
     "metadata": {},
     "output_type": "execute_result"
    }
   ],
   "source": [
    "pi = 3.14\n",
    "r = 4\n",
    "\n",
    "A = r * r\n",
    "\n",
    "\n",
    "A"
   ]
  },
  {
   "cell_type": "code",
   "execution_count": 101,
   "id": "6039912d",
   "metadata": {},
   "outputs": [
    {
     "data": {
      "text/plain": [
       "16"
      ]
     },
     "execution_count": 101,
     "metadata": {},
     "output_type": "execute_result"
    }
   ],
   "source": [
    "\"\"\"\n",
    "This is a part\n",
    "where I am calculating \n",
    "the Area of a circle\n",
    "\"\"\"\n",
    "\n",
    "pi = 3.14 # This is the value taken for the next program\n",
    "r = 4 # Side of a squre\n",
    "\n",
    "A = r * r # Area of a square\n",
    "\n",
    "A"
   ]
  },
  {
   "cell_type": "code",
   "execution_count": 99,
   "id": "027fa52f",
   "metadata": {},
   "outputs": [
    {
     "name": "stdout",
     "output_type": "stream",
     "text": [
      "10\n",
      "30\n"
     ]
    }
   ],
   "source": [
    "a=10\n",
    "b = 20\n",
    "c = 30\n",
    "d = 40\n",
    "\n",
    "\n",
    "print(a)\n",
    "# print(b)\n",
    "# print(d)\n",
    "print(c)"
   ]
  },
  {
   "cell_type": "code",
   "execution_count": 100,
   "id": "69e1cda3",
   "metadata": {},
   "outputs": [
    {
     "name": "stdout",
     "output_type": "stream",
     "text": [
      "10\n",
      "30\n"
     ]
    }
   ],
   "source": [
    "a=10\n",
    "b = 20\n",
    "c = 30\n",
    "d = 40\n",
    "\n",
    "\n",
    "print(a)\n",
    "'''print(b)\n",
    "print(d) '''\n",
    "print(c)"
   ]
  },
  {
   "cell_type": "markdown",
   "id": "f5eedacc",
   "metadata": {},
   "source": [
    "# Range\n",
    "\n",
    "syntax\n",
    "\n",
    "range(start , stop , step)\n",
    "\n",
    "\n",
    "- start = 0\n",
    "- step = 1\n",
    "\n",
    "start --> Inclusive\n",
    "stop --> Exclusive"
   ]
  },
  {
   "cell_type": "code",
   "execution_count": 104,
   "id": "130acf07",
   "metadata": {},
   "outputs": [
    {
     "data": {
      "text/plain": [
       "[5, 6, 7, 8, 9]"
      ]
     },
     "execution_count": 104,
     "metadata": {},
     "output_type": "execute_result"
    }
   ],
   "source": [
    "list(range(5,10))"
   ]
  },
  {
   "cell_type": "code",
   "execution_count": 105,
   "id": "0be1f825",
   "metadata": {},
   "outputs": [
    {
     "data": {
      "text/plain": [
       "[5, 7, 9]"
      ]
     },
     "execution_count": 105,
     "metadata": {},
     "output_type": "execute_result"
    }
   ],
   "source": [
    "list(range(5,10 , 2))"
   ]
  },
  {
   "cell_type": "code",
   "execution_count": 106,
   "id": "81ebc7dc",
   "metadata": {},
   "outputs": [
    {
     "data": {
      "text/plain": [
       "[0, 1, 2, 3, 4, 5, 6, 7, 8, 9]"
      ]
     },
     "execution_count": 106,
     "metadata": {},
     "output_type": "execute_result"
    }
   ],
   "source": [
    "list(range(10))"
   ]
  },
  {
   "cell_type": "code",
   "execution_count": 107,
   "id": "e854e3f4",
   "metadata": {},
   "outputs": [
    {
     "data": {
      "text/plain": [
       "[10, 20, 30, 40, 50, 60, 70, 80, 90, 100]"
      ]
     },
     "execution_count": 107,
     "metadata": {},
     "output_type": "execute_result"
    }
   ],
   "source": [
    "list(range(10 , 101 , 10))"
   ]
  },
  {
   "cell_type": "code",
   "execution_count": 108,
   "id": "79c33cba",
   "metadata": {},
   "outputs": [
    {
     "data": {
      "text/plain": [
       "[2, 4, 6, 8, 10, 12, 14, 16, 18, 20]"
      ]
     },
     "execution_count": 108,
     "metadata": {},
     "output_type": "execute_result"
    }
   ],
   "source": [
    "list(range(2,21,2))"
   ]
  },
  {
   "cell_type": "code",
   "execution_count": 109,
   "id": "e5f0ef68",
   "metadata": {},
   "outputs": [
    {
     "data": {
      "text/plain": [
       "[0, 1, 2, 3, 4, 5, 6, 7, 8, 9]"
      ]
     },
     "execution_count": 109,
     "metadata": {},
     "output_type": "execute_result"
    }
   ],
   "source": [
    "list(range(10))"
   ]
  },
  {
   "cell_type": "code",
   "execution_count": 110,
   "id": "dd901a84",
   "metadata": {},
   "outputs": [
    {
     "data": {
      "text/plain": [
       "[10, 9, 8, 7, 6, 5, 4, 3, 2, 1]"
      ]
     },
     "execution_count": 110,
     "metadata": {},
     "output_type": "execute_result"
    }
   ],
   "source": [
    "list(range(10 , 0 , -1))"
   ]
  },
  {
   "cell_type": "code",
   "execution_count": 112,
   "id": "fc45a2a2",
   "metadata": {},
   "outputs": [
    {
     "data": {
      "text/plain": [
       "[-1, -2, -3, -4, -5, -6, -7, -8, -9, -10]"
      ]
     },
     "execution_count": 112,
     "metadata": {},
     "output_type": "execute_result"
    }
   ],
   "source": [
    "list(range(-1 , -11 , -1))"
   ]
  },
  {
   "cell_type": "code",
   "execution_count": null,
   "id": "080a72e1",
   "metadata": {},
   "outputs": [],
   "source": [
    "odd 1-10\n",
    "\n",
    "\n",
    "1,3,5,7,9"
   ]
  },
  {
   "cell_type": "code",
   "execution_count": 113,
   "id": "8766b0e2",
   "metadata": {},
   "outputs": [
    {
     "data": {
      "text/plain": [
       "[1, 3, 5, 7, 9]"
      ]
     },
     "execution_count": 113,
     "metadata": {},
     "output_type": "execute_result"
    }
   ],
   "source": [
    "list(range(1,10,2))"
   ]
  },
  {
   "cell_type": "code",
   "execution_count": 115,
   "id": "8c8e7248",
   "metadata": {},
   "outputs": [
    {
     "data": {
      "text/plain": [
       "[50, 45, 40, 35, 30, 25, 20, 15, 10, 5]"
      ]
     },
     "execution_count": 115,
     "metadata": {},
     "output_type": "execute_result"
    }
   ],
   "source": [
    "# Table of 5 --> 50,45,40 .....,5\n",
    "\n",
    "list(range(50 , 0 , -5))"
   ]
  },
  {
   "cell_type": "code",
   "execution_count": 118,
   "id": "a6e0e9ca",
   "metadata": {},
   "outputs": [
    {
     "data": {
      "text/plain": [
       "3"
      ]
     },
     "execution_count": 118,
     "metadata": {},
     "output_type": "execute_result"
    }
   ],
   "source": [
    "len(a)"
   ]
  },
  {
   "cell_type": "code",
   "execution_count": 123,
   "id": "db12da83",
   "metadata": {},
   "outputs": [
    {
     "data": {
      "text/plain": [
       "[0, 1, 2]"
      ]
     },
     "execution_count": 123,
     "metadata": {},
     "output_type": "execute_result"
    }
   ],
   "source": [
    "list(range(3))"
   ]
  },
  {
   "cell_type": "code",
   "execution_count": null,
   "id": "e9e5de5c",
   "metadata": {},
   "outputs": [],
   "source": [
    "# Blocks and Indentation\n",
    "\n",
    "stat1\n",
    "stat2\n",
    "if condition:\n",
    "    stat3\n",
    "    stat4\n",
    "    stat5\n",
    "stat6    "
   ]
  },
  {
   "cell_type": "code",
   "execution_count": 124,
   "id": "a83f8a2b",
   "metadata": {},
   "outputs": [
    {
     "name": "stdout",
     "output_type": "stream",
     "text": [
      "hello world\n"
     ]
    }
   ],
   "source": [
    "a = 20\n",
    "b = 10\n",
    "\n",
    "if a < b:\n",
    "    print('Python')\n",
    "    print('SQL')\n",
    "    print('Java')\n",
    "print('hello world')"
   ]
  },
  {
   "cell_type": "code",
   "execution_count": 125,
   "id": "4465180e",
   "metadata": {},
   "outputs": [
    {
     "name": "stdout",
     "output_type": "stream",
     "text": [
      "Java\n",
      "hello world\n"
     ]
    }
   ],
   "source": [
    "a = 20\n",
    "b = 10\n",
    "\n",
    "if a < b:\n",
    "    print('Python')\n",
    "    print('SQL')\n",
    "print('Java')\n",
    "print('hello world')"
   ]
  },
  {
   "cell_type": "code",
   "execution_count": 129,
   "id": "d4d02136",
   "metadata": {},
   "outputs": [
    {
     "name": "stdout",
     "output_type": "stream",
     "text": [
      "SQL\n",
      "Java\n",
      "hello world\n"
     ]
    }
   ],
   "source": [
    "a = 20\n",
    "b = 10\n",
    "\n",
    "if a < b:\n",
    "                                                print('Python')\n",
    "    \n",
    "    \n",
    "print('SQL')\n",
    "print('Java')\n",
    "print('hello world')"
   ]
  },
  {
   "cell_type": "code",
   "execution_count": 131,
   "id": "1552939f",
   "metadata": {},
   "outputs": [
    {
     "ename": "IndentationError",
     "evalue": "unindent does not match any outer indentation level (<tokenize>, line 6)",
     "output_type": "error",
     "traceback": [
      "\u001b[1;36m  File \u001b[1;32m<tokenize>:6\u001b[1;36m\u001b[0m\n\u001b[1;33m    print('SQL')\u001b[0m\n\u001b[1;37m    ^\u001b[0m\n\u001b[1;31mIndentationError\u001b[0m\u001b[1;31m:\u001b[0m unindent does not match any outer indentation level\n"
     ]
    }
   ],
   "source": [
    "a = 20\n",
    "b = 10\n",
    "\n",
    "if a < b:\n",
    "                                                print('Python')\n",
    "    print('SQL')\n",
    "    \n",
    "print('Java')\n",
    "print('hello world')"
   ]
  },
  {
   "cell_type": "code",
   "execution_count": 132,
   "id": "48a0bda9",
   "metadata": {},
   "outputs": [
    {
     "name": "stdout",
     "output_type": "stream",
     "text": [
      "Java\n",
      "hello world\n"
     ]
    }
   ],
   "source": [
    "a = 20\n",
    "b = 10\n",
    "\n",
    "if a < b:\n",
    "                                                print('Python')\n",
    "                                                print('SQL')\n",
    "    \n",
    "print('Java')\n",
    "print('hello world')"
   ]
  },
  {
   "cell_type": "code",
   "execution_count": 135,
   "id": "f329dd24",
   "metadata": {},
   "outputs": [
    {
     "name": "stdout",
     "output_type": "stream",
     "text": [
      "Python\n",
      "hello world\n"
     ]
    }
   ],
   "source": [
    "a = 20\n",
    "b = 10\n",
    "\n",
    "if a > b:\n",
    "    print('Python')\n",
    "    if a == b:\n",
    "        print('SQL')\n",
    "        print('Java')\n",
    "print('hello world')"
   ]
  },
  {
   "cell_type": "code",
   "execution_count": 136,
   "id": "50347ff6",
   "metadata": {},
   "outputs": [
    {
     "name": "stdout",
     "output_type": "stream",
     "text": [
      "Python\n",
      "hello world\n"
     ]
    }
   ],
   "source": [
    "a = 20\n",
    "b = 10\n",
    "\n",
    "if a > b:\n",
    "    print('Python')\n",
    "    if a == b:\n",
    "        print('SQL')\n",
    "        print('Java')\n",
    "print('hello world')"
   ]
  },
  {
   "cell_type": "code",
   "execution_count": null,
   "id": "f3f4ec6d",
   "metadata": {},
   "outputs": [],
   "source": [
    "# Type casting, Input function , Data type integers"
   ]
  },
  {
   "cell_type": "code",
   "execution_count": null,
   "id": "e7dfeee9",
   "metadata": {},
   "outputs": [],
   "source": []
  }
 ],
 "metadata": {
  "kernelspec": {
   "display_name": "Python 3 (ipykernel)",
   "language": "python",
   "name": "python3"
  },
  "language_info": {
   "codemirror_mode": {
    "name": "ipython",
    "version": 3
   },
   "file_extension": ".py",
   "mimetype": "text/x-python",
   "name": "python",
   "nbconvert_exporter": "python",
   "pygments_lexer": "ipython3",
   "version": "3.11.4"
  }
 },
 "nbformat": 4,
 "nbformat_minor": 5
}
